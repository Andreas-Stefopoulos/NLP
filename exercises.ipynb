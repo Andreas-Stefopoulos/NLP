{
 "cells": [
  {
   "cell_type": "code",
   "execution_count": 1,
   "id": "b0138c18",
   "metadata": {},
   "outputs": [],
   "source": [
    "import nltk\n",
    "import os\n",
    "import pandas as pd\n",
    "import nltk.data\n",
    "import warnings\n",
    "from collections import Counter\n",
    "warnings.simplefilter(action='ignore', category=FutureWarning)"
   ]
  },
  {
   "cell_type": "code",
   "execution_count": 2,
   "id": "c37f448e",
   "metadata": {},
   "outputs": [
    {
     "data": {
      "text/plain": [
       "'C:\\\\Users\\\\Admin'"
      ]
     },
     "execution_count": 2,
     "metadata": {},
     "output_type": "execute_result"
    }
   ],
   "source": [
    "os.getcwd()"
   ]
  },
  {
   "cell_type": "code",
   "execution_count": 3,
   "id": "b670e8ee",
   "metadata": {},
   "outputs": [
    {
     "name": "stdout",
     "output_type": "stream",
     "text": [
      "C:\\Users\\Admin\\Desktop\\nlp\n"
     ]
    }
   ],
   "source": [
    "cd C:\\Users\\Admin\\Desktop\\nlp"
   ]
  },
  {
   "cell_type": "code",
   "execution_count": 4,
   "id": "c5e0c4c8",
   "metadata": {},
   "outputs": [],
   "source": [
    "#nltk.download()\n",
    "#nltk.download('punkt')\n",
    "#nltk.download('averaged_perceptron_tagger')\n",
    "#nltk.download('tagsets')\n",
    "#nltk.download('universal_tagset')"
   ]
  },
  {
   "cell_type": "code",
   "execution_count": 5,
   "id": "19d96b1b",
   "metadata": {},
   "outputs": [
    {
     "data": {
      "text/plain": [
       "['C:\\\\Users\\\\Admin/nltk_data',\n",
       " 'C:\\\\Users\\\\Admin\\\\anaconda3\\\\envs\\\\nlp\\\\nltk_data',\n",
       " 'C:\\\\Users\\\\Admin\\\\anaconda3\\\\envs\\\\nlp\\\\share\\\\nltk_data',\n",
       " 'C:\\\\Users\\\\Admin\\\\anaconda3\\\\envs\\\\nlp\\\\lib\\\\nltk_data',\n",
       " 'C:\\\\Users\\\\Admin\\\\AppData\\\\Roaming\\\\nltk_data',\n",
       " 'C:\\\\nltk_data',\n",
       " 'D:\\\\nltk_data',\n",
       " 'E:\\\\nltk_data']"
      ]
     },
     "execution_count": 5,
     "metadata": {},
     "output_type": "execute_result"
    }
   ],
   "source": [
    "nltk.data.path"
   ]
  },
  {
   "cell_type": "code",
   "execution_count": 6,
   "id": "231ffa9b",
   "metadata": {
    "scrolled": true
   },
   "outputs": [
    {
     "name": "stdout",
     "output_type": "stream",
     "text": [
      "                                                                           Return of the Coronavirus: 2019-nCoV\n",
      "0    Lisa E. Gralinski and Vineet D. Menachery                                                                 \n",
      "1    Abstract: The emergence of a novel coronavirus (2019-nCoV) has awakened the echoes of SARS-CoV            \n",
      "2    from nearly two decades ago. Yet, with technological advances and important lessons gained from           \n",
      "3    previous outbreaks, perhaps the world is better equipped to deal with the most recent emergent            \n",
      "4    group 2B coronavirus.                                                                                     \n",
      "5    Keywords: 2019-nCoV; novel CoV; Wuhan; Wuhan pneumonia; coronavirus; emerging viruses;                    \n",
      "6    SARS-CoV; MERS-CoV                                                                                        \n",
      "7    1. Emergence                                                                                              \n",
      "8    The third zoonotic human coronavirus (CoV) of the century emerged in December 2019, with                  \n",
      "9    a cluster of patients with connections to Huanan South China Seafood Market in Wuhan, Hubei               \n",
      "10   Province, China. Similar to severe acute respiratory syndrome coronavirus (SARS-CoV) and Middle           \n",
      "11   East respiratory syndrome coronavirus (MERS-CoV) infections, patients exhibited symptoms of viral         \n",
      "12   pneumonia including fever, diﬃculty breathing, and bilateral lung inﬁltration in the most severe          \n",
      "13   cases [1]. News reports of patients with an unknown pneumonia were ﬁrst identiﬁed on 31st December        \n",
      "14   with the Wuhan Municipal Health Commission saying they were monitoring the situation closely              \n",
      "15   (Figure 1). On 1st January 2020, the seafood market was closed and decontaminated while countries         \n",
      "16   with travel links to Wuhan went on high alert for potential travelers with unexplained respiratory        \n",
      "17   disease. After extensive speculation about a causative agent, the Chinese Center for Disease Control      \n",
      "18   and Prevention (CDC) conﬁrmed a report by the Wall Street Journal and announced identiﬁcation             \n",
      "19   of a novel CoV on 9th January [2]. The novel CoV (2019-nCoV) was isolated from a single patient           \n",
      "20   and subsequently veriﬁed in 16 additional patients [3]. While not yet conﬁrmed to induce the viral        \n",
      "21   pneumonia, 2019-nCoV was quickly predicted as the likely causative agent.                                 \n",
      "22   The ﬁrst sequence of 2019-nCoV was posted online one day after its conﬁrmation on behalf of               \n",
      "23   Dr. Yong-Zhen Zhang and scientists at Fudan University, Shanghai [4]. Subsequently, ﬁve additional        \n",
      "24   2019-nCoV sequences were deposited on the GSAID database on 11th January from institutes across           \n",
      "25   China (Chinese CDC, Wuhan Institute of Virology and Chinese Academy of Medical Sciences &                 \n",
      "26   Peking Union Medical College) and allowed researchers around the world to begin analyzing the new         \n",
      "27   CoV [5]. By 17th January, there were 62 conﬁrmed cases in China and importantly, three exported           \n",
      "28   cases of infected travelers who were diagnosed in Thailand (2) and Japan (1) [6]. The sequences of        \n",
      "29   these exported cases and several additional 2019-nCoV isolated in China have also been deposited          \n",
      "30   on the GSAID database [5]. Diagnostic tests have subsequently been developed and some are being           \n",
      "31   used on suspect cases identiﬁed in other locations including Vietnam, Singapore, and Hong Kong [7].       \n",
      "32   To date there have been twenty-six fatalities associated with 2019-nCoV infection, many of these cases    \n",
      "33   had signiﬁcant co-morbidities and were older in age (>50). A range of disease has been observed           \n",
      "34   highlighted by fever, dry cough, shortness of breath, and leukopenia; patients have included mild cases   \n",
      "35   needing supportive care to severe cases requiring extracorporeal membrane oxygenation; however,           \n",
      "36   compared to SARS-CoV (10% mortality) and MERS-CoV (35% mortality), the 2019-nCoV appears to be            \n",
      "37   less virulent at this point with the exception of the elderly and those with underlying health conditions.\n",
      "38   Initial monitoring of case close contacts had not revealed any further 2019-nCoV cases. However,          \n",
      "39   modeling analysis based on oﬃcial case numbers and international spread suggested that there may          \n",
      "40   be cases going undetected [8]. On 19th January, these fears were seemingly conﬁrmed as an additional      \n",
      "41   136 cases were added from further surveys raising the total in Wuhan to 198 infected patients [9].        \n",
      "42   Among the 198 total cases in Wuhan, 170 remained in hospitals, 126 mostly with mild symptoms,             \n",
      "43   35 in serious condition, and 9 in critical condition. The expanded numbers and extended range of          \n",
      "44   onset dates (12 December 2019–18 January 2020) suggested likely human to human transmission or            \n",
      "45   ongoing transmission from a market or other primary sources. On 20th January, the outbreak was            \n",
      "46   further expanded to other parts of China (Beijing, Shanghai, & Shenzhen) as well as another exported      \n",
      "47   cases to South Korea. As of January 24, the total case number has expanded to at least 870 total cases    \n",
      "48   with 26 deaths across 25 provinces in China and 19 exported cases in 10 countries [10]. Public health     \n",
      "49   authorities have quarantined travel from Wuhan to limit the spread of the virus and reports indicate      \n",
      "50   other Chinese cities have also been isolated [11]. With the heavy travel season for lunar New Year        \n",
      "51   underway in Asia, major concerns exist for the 2019-nCoV outbreak to continue and spread.                 \n",
      "52   2. Origins of 2019-nCoV                                                                                   \n",
      "53   The source of the 2019-nCoV is still unknown, although the initial cases have been associated with        \n",
      "54   the Huanan South China Seafood Market. While many of the early patients worked in or visited the          \n",
      "55   market, none of the exported cases had contact with the market, suggesting either human to human          \n",
      "56   transmission or a more widespread animal source [6]. In addition to seafood, it is reported on social     \n",
      "57   media that snakes, birds and other small mammals including marmots and bats were sold at the              \n",
      "58   Huanan South China Seafood Market. The WHO reported that environmental samples taken from the             \n",
      "59   marketplace have come back positive for the novel coronavirus, but no speciﬁc animal association          \n",
      "60   has been identiﬁed [6]. An initial report suggested that snakes might be the possible source based        \n",
      "61   on codon usage [12], but the assertion has been disputed by others [13]. Researchers are currently        \n",
      "62   working to identify the source of 2019-nCoV including possible intermediate animal vectors.               \n",
      "63   A zoonotic reservoir harkens back to the emergence of both SARS- and MERS-CoV. SARS-CoV,                  \n",
      "64   the ﬁrst highly pathogenic human CoV, emerged in 2002 with transmission from animals to humans            \n",
      "65   occurring in wet markets. Surveillance eﬀorts found SARS-CoV viral RNA in both palm civets and            \n",
      "66   raccoon dogs sold in these wet markets [14]; however, SARS-CoV was not found in the wild, suggesting      \n",
      "67   that those species served as intermediary reservoir as the virus adapted to more eﬃciently infect         \n",
      "68   humans. Further surveillance eﬀorts identiﬁed highly related CoVs in bat species [15]. More recent        \n",
      "69   work has demonstrated that several bat CoVs are capable of infecting human cells without a need for       \n",
      "70   intermediate adaptation [16,17]. Additionally, human serology data shows recognition of bat CoV           \n",
      "71   proteins and indicates that low-level zoonotic transmission of SARS-like bat coronaviruses occurs         \n",
      "72   outside of recognized outbreaks [18]. MERS-CoV is also a zoonotic virus with possible origins in          \n",
      "73   bats [19,20], although camels are endemically infected and camel contact is frequently reported during    \n",
      "74   primary MERS-CoV cases [21]. For SARS-CoV, strict quarantine and the culling of live markets in SE        \n",
      "75   Asia played a major role in ending the outbreak. With the cultural importance of camels, a similar        \n",
      "76   approach for MERS-CoV was not an option and periodic outbreaks continue in the Middle East. These         \n",
      "77   lessons from SARS and MERS highlight the importance of rapidly ﬁnding the source for 2019-nCoV in         \n",
      "78   order to stem the ongoing outbreak.                                                                       \n",
      "79   3. Susceptible Populations                                                                                \n",
      "80   With limited patient data, it is diﬃcult to make robust declarations about populations that               \n",
      "81   may be most susceptible to 2019-nCoV. However, disease severity following SARS- and MERS-CoV              \n",
      "82   corresponded strongly to underlying host conditions including age, biological sex, and overall            \n",
      "83   health [22]. Early patient reports from 2019-nCoV ﬁnd similar trends. Severe illness with 2019-nCoV has   \n",
      "84   been associated with elderly patients (>60 years old), including twenty-six lethal cases. These ﬁndings   \n",
      "85   correspond to increased severity and death in people over the age of 50 following both SARS and           \n",
      "86   MERS-CoV infection [23,24]. Similarly, the underlying health of the patient likely plays a critical       \n",
      "87   role in overall susceptibility. For the 2019-nCoV, limited comorbidity data is available; however,        \n",
      "88   the twenty-six patients that have succumbed to the novel CoV had signiﬁcant health conditions             \n",
      "89   including hypertension, diabetes, heart and/or kidney function issues that may have made them more        \n",
      "90   susceptible. For the MERS-CoV outbreak, smoking, hypertension, diabetes, cardiovascular disease,          \n",
      "91   and/or other chronic illnesses have been present in the majority of deaths and correspond to ﬁndings in   \n",
      "92   animal models [25]. The results indicate vigilance is necessary for these vulnerable patients following   \n",
      "93   2019-nCoV infection.                                                                                      \n",
      "94   4. Insights from the 2019-nCoV Sequence                                                                   \n",
      "95   The rapid sequencing of the nearly 30,000 nucleotide 2019-nCoV genome by Dr. Zhang’s group at             \n",
      "96   Fudan University and several other groups in China illustrate the dedication and increased capacity       \n",
      "97   of the scientiﬁc infrastructure in China [4,5]. For SARS-CoV, the causative agent was unknown for         \n",
      "98   months and subsequently took over four weeks until a full genome was released [26]. Similarly,            \n",
      "99   MERS-CoV was only identiﬁed after several months of testing and a full-length genome available            \n",
      "100  about a month later [27]. In contrast, time from the ﬁrst date of patient onset (12 December 2019) to     \n",
      "101  the report of several 2019-nCoV full-length genomes took less than one month. Combined with the           \n",
      "102  immense pressure of an ongoing outbreak with an unknown agent, the eﬀort of these scientists should       \n",
      "103  be considered nothing less than remarkable.                                                               \n",
      "104  Building from the sequence, the nucleotide alignment quickly distinguished the novel virus as a           \n",
      "105  group 2B CoV, distinct from the SARS-CoV strains [4,5]. Examining the whole genome, 2019-nCoV             \n",
      "106  maintains ~80% nucleotide identity to the original SARS epidemic viruses. Its closest whole genome        \n",
      "107  relatives are two bat SARS-like CoVs (ZC45 and ZXC21) that shared ~89% sequence identity with             \n",
      "108  2019-nCoV; these CoV sequences were deposited in early 2018 from Zhejiang province in R. sinicus          \n",
      "109  bats in China. Comparing across the deposited 2019-nCoV strains ﬁnds > 99.5% conservation; the lack       \n",
      "110  of diversity suggests a common lineage and source with emergence not likely having occurred that          \n",
      "111  long ago [28,29]. A recent report has subsequently identiﬁed a bat CoV sequence, RaTG3, with 92%          \n",
      "112  sequence identity with the novel virus which argues for bat origins for the 2019-nCoV [30].               \n",
      "113  We next shifted analysis to the nucleocapsid (N) protein, the most abundant protein produced in           \n",
      "114  CoVs. Generally, the N protein is well conserved across CoV families including group 2B [31]. The N       \n",
      "115  protein for 2019-nCoV is no exception with ~90% amino acid identity to the SARS-CoV N protein. While      \n",
      "116  less conserved than other group 2B CoVs like HKU3-CoV and SHC014-CoV, 2019-nCoV antibodies                \n",
      "117  against the N protein would likely recognize and bind the SARS-CoV N protein as well. N antibodies        \n",
      "118  do not provide immunity to 2019-nCoV infection, but the cross reactivity with SARS-CoV N protein          \n",
      "119  would allow a serum based assay to determine exposure to the novel CoV in asymptomatic cases. While       \n",
      "120  previous studies have found serum reactivity to group 2B virus N proteins in Chinese populations [18],    \n",
      "121  exposure to 2019-nCoV should increase the dilution factor substantially if exposure/infection had         \n",
      "122  occurred. Importantly, this information may provide insights about susceptibly and potential routes of    \n",
      "123  spread through asymptomatic carriers.                                                                     \n",
      "124  Examining further, we next compared the spike proteins, the critical glycoprotein responsible             \n",
      "125  for virus binding and entry. Overall, the 2019-nCoV spike protein has roughly 75% amino acid              \n",
      "126  identity with SARS-CoV, which is less conserved than other group 2B CoVs including HKU3-CoV [31].         \n",
      "127  However, narrowing analysis to the spike receptor binding domain (RBD) of SARS-CoV (amino acids           \n",
      "128  318–518), the 2019-nCoV RBD is 73% conserved relative to the epidemic RBD. This conservation              \n",
      "129  level places the 2019-nCoV RBD between HKU3-4 (62.7% conservation), a bat virus that cannot use           \n",
      "130  human ACE2, and rSHC014 (80.8%), the most divergent bat CoV spike known to use human ACE2 for             \n",
      "131  entry [16,32]. Importantly, the key binding residues for SARS-CoV have been identiﬁed [33]; among         \n",
      "132  these fourteen residues predicted to interact directly with human ACE2, the receptor for SARS-CoV,        \n",
      "133  eight amino acids are conserved in 2019-nCoV. Notably, several of these residues are also conserved       \n",
      "134  relative to WIV1- and WIV16-CoV, two bat strains closely related to SARS-CoV and known to use             \n",
      "135  human ACE2 [17,34]. Initial structural modeling suggest that the 2019-nCoV may be able to use human       \n",
      "136  ACE2 as a receptor, although its aﬃnity m be reduced relative to the epidemic SARS-CoV strains [35].      \n",
      "137  A subsequent report demonstrated that the receptor binding domain of 2019-nCoV was capable of             \n",
      "138  binding ACE2 in the context of the SARS-CoV spike protein [36]. In addition, another rapid report         \n",
      "139  links demonstrates 2019-nCoV uses ACE2 receptors from human, bat, civets, and swine [30]. Together,       \n",
      "140  the modeling, pseudotyping, and infection data provide strong evidence for human ACE2 being the           \n",
      "141  receptor for 2019-nCoV.                                                                                   \n",
      "142  5. Achieving Koch Postulates                                                                              \n",
      "143  Traditional identiﬁcation of a microbe as the causative agent of disease requires fulﬁllment of           \n",
      "144  Koch’s postulates, modiﬁed by Rivers for viral diseases [37]. At the present time, the 2019-nCoV          \n",
      "145  has been isolated from patients, detected by speciﬁc assays in patients, and cultured in host cells       \n",
      "146  (one available sequence is identiﬁed as a passage isolate), starting to fulﬁll these criteria. Given the  \n",
      "147  recentness of the 2019-nCoV outbreak, at this point there is no animal model available to fulﬁll the      \n",
      "148  remaining criteria: 1) testing the capability of 2019-nCoV to cause respiratory disease in a related      \n",
      "149  species, 2) re-isolating the virus from the experimentally infected animal and 3) detection of a speciﬁc  \n",
      "150  immune response. These eﬀorts will surely be an area of intense research in the coming months both in     \n",
      "151  China and in CoV research laboratories around the world.                                                  \n",
      "152  Notably, generating small animal models of coronavirus disease can be diﬃcult. While SARS-CoV             \n",
      "153  readily infected laboratory mice, it does not cause signiﬁcant disease unless the virus is passaged to    \n",
      "154  adapt to the mouse host [38]. Infection of primates produces a more mild disease than that observed in    \n",
      "155  humans, although fever and pulmonary inﬂammation were noted [39,40]. MERS-CoV is incapable                \n",
      "156  of infecting rodent cells without engineering changes in critical residues of the receptor protein,       \n",
      "157  DPP4 [41,42]. However, MERS-CoV does infect non-human primates [43]. As such, MERS mouse                  \n",
      "158  models of disease required a great deal of time to develop and are limited in the types of manipulations  \n",
      "159  that can be performed [41]. At this point, the infectious capability of the 2019-nCoV for diﬀerent species\n",
      "160  and diﬀerent cell types is unknown. Early reports suggest that the virus can utilize human, bat, swine,   \n",
      "161  and civet ACE2 [30]; notably, the group found mouse Ace2 was not permissive for 2019-nCoV infection       \n",
      "162  Dissemination of virus stocks and/or de novo generation of the virus through reverse genetics systems     \n",
      "163  will enable this research allowing for animal testing and subsequent completion of Koch’s postulates      \n",
      "164  for the new virus.                                                                                        \n",
      "165  6. Threat for Spread: Human to Human, Health Care Workers, and Super Spreaders                            \n",
      "166  While the Huanan seafood market in Wuhan has been associated with the majority of cases, many             \n",
      "167  of the recent cases do not have a direct connection [9]. This fact suggests a secondary source of infectio\n",
      "168  either human to human transmission or possibly infected animals in another market in Wuhan. Both          \n",
      "169  possibilities represent major concerns and indicate the outbreak has the potential to expand rapidly.     \n",
      "170  For human to human transmission, there was limited data in the initial set of cases; one family cluster   \n",
      "171  is of three men who all work in the market. Similarly, a husband and wife are among the patients, with    \n",
      "172  the wife claiming no contact with the market. In these cases, direct human to human infection may         \n",
      "173  have been possible; alternatively, a contaminated fomite from the market may also be responsible as       \n",
      "174  surfaces all around the market were found to test positive 2019-nCoV. However, the major increase         \n",
      "175  in the number of cases, the lack of direct connection to the Wuhan market for many cases, and the         \n",
      "176  infection of health care works all suggest human to human spread is likely [9,44]. Importantly, until the \n",
      "177  source of the virus is found, it will be diﬃcult to distinguish zoonotic versus human to human spread.    \n",
      "178  In the early part of the outbreak, the absence of infection in health care workers argued for ineﬃcient   \n",
      "179  human to human spread and distinguished 2019-nCoV from both SARS-CoV and MERS-CoV. In                     \n",
      "180  the two prior CoV epidemics, health care settings served as a major transmission point fueling both       \n",
      "181  outbreaks. Based on WHO data, 1 in 10 MERS-CoV cases have been found to be health care workers;           \n",
      "182  these patients generally have reduced disease and death likely due to younger age and absence of          \n",
      "183  existing health conditions. The recent reports of numerous infected health care workers in Wuhan          \n",
      "184  indicate human to human infection can occur with 2019-nCoV and may be the product of a super              \n",
      "185  spreading patient [44]. However, while large swaths of healthcare workers are not getting sick as seen    \n",
      "186  with SARS and MERS-CoV, it may be too early to rule out their potential exposure to the novel CoV as      \n",
      "187  their disease may be asymptomatic. While not described during the SARS-CoV outbreak, asymptomatic         \n",
      "188  cases ranged from 12.5% to 25% in some MERS-CoV studies [45]. A similar phenomenon may be                 \n",
      "189  occurring with 2019-nCoV and would make stopping the outbreak even more diﬃcult to contain.               \n",
      "190  Another parameter to consider is the possibility of super spreading in the context of 2019-nCoV.          \n",
      "191  Super spreading is the ampliﬁed transmission of a virus by individuals in a population and has been       \n",
      "192  suggested by at least one news report [44]. Both SARS- and MERS-CoV outbreaks had documented              \n",
      "193  evidence of super spreading patients [46]. In general, both epidemic CoVs maintain a low R0, the          \n",
      "194  rate spread from an individual infected patient. However, roughly 10% of SARS- and MERS-CoV               \n",
      "195  > 10. These cases seeded a signiﬁcant                                                                     \n",
      "196  patients have been associated with super spreading and an R0                                              \n",
      "197  portion of the epidemic around the world. Notably, neither mutations in the viruses nor severity of       \n",
      "198  disease were found to be associated with super spreading, implying that host factors contribute to the    \n",
      "199  phenotype [47]. For 2019-nCoV, contact tracing to date suggest limited human to human spread and a        \n",
      "200  low R0. However, the recent increase in cases, both in and outside Wuhan could signal the existence of    \n",
      "201  super-spreading individuals fueling the outbreak. Alternatively, super spreading could occur from the     \n",
      "202  zoonotic source which has been seen in other disease outbreaks [10]. In any event, the possibility of     \n",
      "203  super spreading may continue to play a role in this ongoing 2019-nCoV outbreak.                           \n",
      "204  7. Emerging Diseases in the Age of Social Media                                                           \n",
      "205  News of the 2019-nCoV came to widespread attention through the internet. Over the years,                  \n",
      "206  websites like FluTrackers.com, ProMED (promedmail.org), and others have permitted the collection of       \n",
      "207  disease information from around the world and facilitated dissemination to interested parties. In 2012,   \n",
      "208  MERS-CoV ﬁrst drew attention as a “novel coronavirus” entioned on ProMED Mail and subsequently            \n",
      "209  through conversation on twitter between science journalists, virologists, and public health experts.      \n",
      "210  Eight years later, a more connected network quickly dissected statements from the Wuhan Municipal         \n",
      "211  Health Commission and speculated about possible causes. Early during an outbreak, it can be diﬃcult       \n",
      "212  to distinguish between rumors with elements of truth versus baseless fear mongering. This fact can        \n",
      "213  be exacerbated by language barriers and oﬀ the record sources. However, in this case, speculation of      \n",
      "214  a novel coronavirus was fed by carefully worded statements that speciﬁcally excluding some virus          \n",
      "215  families (inﬂuenza, adenovirus), but only excluded SARS-CoV and MERS-CoV for coronaviruses.               \n",
      "216  Coupled with memories of the SARS outbreak, many worried that the truth may be held back. When            \n",
      "217  the agent was ﬁnally conﬁrmed as a CoV, the world acted with both worry and relief: the outbreak          \n",
      "218  would not be hidden.                                                                                      \n",
      "219  While far from perfect, the government response to 2019-nCoV provides a stark contrast to the             \n",
      "220  SARS outbreak at the beginning of the century. The rapid release of 2019-nCoV sequences permitted the     \n",
      "221  research community to quickly become engaged, providing analysis and developing diagnostic tests.         \n",
      "222  Both the Chinese CDC and the Wuhan Municipal Health Commission have posted regular updates                \n",
      "223  of conﬁrmed case numbers and patient statuses enabling public health authorities to monitor the           \n",
      "224  situation in real time. Researchers from around the world have connected on social media to compare       \n",
      "225  updated sequence information and highlight key unknowns about the outbreak. While not always              \n",
      "226  provided in a timely manner, the ability to share news updates and data in real time with researchers     \n",
      "227  and public health oﬃcials around the world signals a major change in the response to outbreaks. This      \n",
      "228  connectivity has facilitated awareness as well as new collaborations and a rapid response by the global   \n",
      "229  research community. While there are many unknowns with 2019-nCoV, the world is engaged and                \n",
      "230  prepared to battle the newest emergent virus strain. Perhaps this means the lessons from the SARS         \n",
      "231  outbreak have truly been learned.                                                                         \n",
      "232  Author Contributions: L.E.G. and V.D.M. prepared this manuscript. All authors have read and agreed to the \n",
      "233  published version of the manuscript.                                                                      \n",
      "234  Funding: This research received no external funding.                                                      \n",
      "235  Conﬂicts of Interest: The authors declare no conﬂict of interest.                                         \n",
      "236  © 2020 by the authors. Licensee MDPI, Basel, Switzerland. This article is an open access                  \n",
      "237  article distributed under the terms and conditions of the Creative Commons Attribution                    \n",
      "238  (CC BY) license (http://creativecommons.org/licenses/by/4.0/).                                            \n"
     ]
    }
   ],
   "source": [
    "text = pd.read_fwf(r'C:\\Users\\Admin\\Desktop\\nlp\\exercises\\viruses-12-00135-v2.txt')\n",
    "pd.set_option('display.max_rows', 99999)\n",
    "pd.options.display.max_seq_items = 2000\n",
    "pd.set_option('display.max_colwidth', -1)\n",
    "text = str(text)\n",
    "print(text)"
   ]
  },
  {
   "cell_type": "code",
   "execution_count": 7,
   "id": "1bf915c0",
   "metadata": {},
   "outputs": [
    {
     "name": "stdout",
     "output_type": "stream",
     "text": [
      "['Return', 'of', 'the', 'Coronavirus', ':', '2019-nCoV', '0', 'Lisa', 'E.', 'Gralinski', 'and', 'Vineet', 'D.', 'Menachery', '1', 'Abstract', ':', 'The', 'emergence', 'of', 'a', 'novel', 'coronavirus', '(', '2019-nCoV', ')', 'has', 'awakened', 'the', 'echoes', 'of', 'SARS-CoV', '2', 'from', 'nearly', 'two', 'decades', 'ago', '.', 'Yet', ',', 'with', 'technological', 'advances', 'and', 'important', 'lessons', 'gained', 'from', '3', 'previous', 'outbreaks', ',', 'perhaps', 'the', 'world', 'is', 'better', 'equipped', 'to', 'deal', 'with', 'the', 'most', 'recent', 'emergent', '4', 'group', '2B', 'coronavirus', '.', '5', 'Keywords', ':', '2019-nCoV', ';', 'novel', 'CoV', ';', 'Wuhan', ';', 'Wuhan', 'pneumonia', ';', 'coronavirus', ';', 'emerging', 'viruses', ';', '6', 'SARS-CoV', ';', 'MERS-CoV', '7', '1', '.', 'Emergence', '8', 'The', 'third', 'zoonotic', 'human', 'coronavirus', '(', 'CoV', ')', 'of', 'the', 'century', 'emerged', 'in', 'December', '2019', ',', 'with', '9', 'a', 'cluster', 'of', 'patients', 'with', 'connections', 'to', 'Huanan', 'South', 'China', 'Seafood', 'Market', 'in', 'Wuhan', ',', 'Hubei', '10', 'Province', ',', 'China', '.', 'Similar', 'to', 'severe', 'acute', 'respiratory', 'syndrome', 'coronavirus', '(', 'SARS-CoV', ')', 'and', 'Middle', '11', 'East', 'respiratory', 'syndrome', 'coronavirus', '(', 'MERS-CoV', ')', 'infections', ',', 'patients', 'exhibited', 'symptoms', 'of', 'viral', '12', 'pneumonia', 'including', 'fever', ',', 'diﬃculty', 'breathing', ',', 'and', 'bilateral', 'lung', 'inﬁltration', 'in', 'the', 'most', 'severe', '13', 'cases', '[', '1', ']', '.', 'News', 'reports', 'of', 'patients', 'with', 'an', 'unknown', 'pneumonia', 'were', 'ﬁrst', 'identiﬁed', 'on', '31st', 'December', '14', 'with', 'the', 'Wuhan', 'Municipal', 'Health', 'Commission', 'saying', 'they', 'were', 'monitoring', 'the', 'situation', 'closely', '15', '(', 'Figure', '1', ')', '.', 'On', '1st', 'January', '2020', ',', 'the', 'seafood', 'market', 'was', 'closed', 'and', 'decontaminated', 'while', 'countries', '16', 'with', 'travel', 'links', 'to', 'Wuhan', 'went', 'on', 'high', 'alert', 'for', 'potential', 'travelers', 'with', 'unexplained', 'respiratory', '17', 'disease', '.', 'After', 'extensive', 'speculation', 'about', 'a', 'causative', 'agent', ',', 'the', 'Chinese', 'Center', 'for', 'Disease', 'Control', '18', 'and', 'Prevention', '(', 'CDC', ')', 'conﬁrmed', 'a', 'report', 'by', 'the', 'Wall', 'Street', 'Journal', 'and', 'announced', 'identiﬁcation', '19', 'of', 'a', 'novel', 'CoV', 'on', '9th', 'January', '[', '2', ']', '.', 'The', 'novel', 'CoV', '(', '2019-nCoV', ')', 'was', 'isolated', 'from', 'a', 'single', 'patient', '20', 'and', 'subsequently', 'veriﬁed', 'in', '16', 'additional', 'patients', '[', '3', ']', '.', 'While', 'not', 'yet', 'conﬁrmed', 'to', 'induce', 'the', 'viral', '21', 'pneumonia', ',', '2019-nCoV', 'was', 'quickly', 'predicted', 'as', 'the', 'likely', 'causative', 'agent', '.', '22', 'The', 'ﬁrst', 'sequence', 'of', '2019-nCoV', 'was', 'posted', 'online', 'one', 'day', 'after', 'its', 'conﬁrmation', 'on', 'behalf', 'of', '23', 'Dr.', 'Yong-Zhen', 'Zhang', 'and', 'scientists', 'at', 'Fudan', 'University', ',', 'Shanghai', '[', '4', ']', '.', 'Subsequently', ',', 'ﬁve', 'additional', '24', '2019-nCoV', 'sequences', 'were', 'deposited', 'on', 'the', 'GSAID', 'database', 'on', '11th', 'January', 'from', 'institutes', 'across', '25', 'China', '(', 'Chinese', 'CDC', ',', 'Wuhan', 'Institute', 'of', 'Virology', 'and', 'Chinese', 'Academy', 'of', 'Medical', 'Sciences', '&', '26', 'Peking', 'Union', 'Medical', 'College', ')', 'and', 'allowed', 'researchers', 'around', 'the', 'world', 'to', 'begin', 'analyzing', 'the', 'new', '27', 'CoV', '[', '5', ']', '.', 'By', '17th', 'January', ',', 'there', 'were', '62', 'conﬁrmed', 'cases', 'in', 'China', 'and', 'importantly', ',', 'three', 'exported', '28', 'cases', 'of', 'infected', 'travelers', 'who', 'were', 'diagnosed', 'in', 'Thailand', '(', '2', ')', 'and', 'Japan', '(', '1', ')', '[', '6', ']', '.', 'The', 'sequences', 'of', '29', 'these', 'exported', 'cases', 'and', 'several', 'additional', '2019-nCoV', 'isolated', 'in', 'China', 'have', 'also', 'been', 'deposited', '30', 'on', 'the', 'GSAID', 'database', '[', '5', ']', '.', 'Diagnostic', 'tests', 'have', 'subsequently', 'been', 'developed', 'and', 'some', 'are', 'being', '31', 'used', 'on', 'suspect', 'cases', 'identiﬁed', 'in', 'other', 'locations', 'including', 'Vietnam', ',', 'Singapore', ',', 'and', 'Hong', 'Kong', '[', '7', ']', '.', '32', 'To', 'date', 'there', 'have', 'been', 'twenty-six', 'fatalities', 'associated', 'with', '2019-nCoV', 'infection', ',', 'many', 'of', 'these', 'cases', '33', 'had', 'signiﬁcant', 'co-morbidities', 'and', 'were', 'older', 'in', 'age', '(', '>', '50', ')', '.', 'A', 'range', 'of', 'disease', 'has', 'been', 'observed', '34', 'highlighted', 'by', 'fever', ',', 'dry', 'cough', ',', 'shortness', 'of', 'breath', ',', 'and', 'leukopenia', ';', 'patients', 'have', 'included', 'mild', 'cases', '35', 'needing', 'supportive', 'care', 'to', 'severe', 'cases', 'requiring', 'extracorporeal', 'membrane', 'oxygenation', ';', 'however', ',', '36', 'compared', 'to', 'SARS-CoV', '(', '10', '%', 'mortality', ')', 'and', 'MERS-CoV', '(', '35', '%', 'mortality', ')', ',', 'the', '2019-nCoV', 'appears', 'to', 'be', '37', 'less', 'virulent', 'at', 'this', 'point', 'with', 'the', 'exception', 'of', 'the', 'elderly', 'and', 'those', 'with', 'underlying', 'health', 'conditions', '.', '38', 'Initial', 'monitoring', 'of', 'case', 'close', 'contacts', 'had', 'not', 'revealed', 'any', 'further', '2019-nCoV', 'cases', '.', 'However', ',', '39', 'modeling', 'analysis', 'based', 'on', 'oﬃcial', 'case', 'numbers', 'and', 'international', 'spread', 'suggested', 'that', 'there', 'may', '40', 'be', 'cases', 'going', 'undetected', '[', '8', ']', '.', 'On', '19th', 'January', ',', 'these', 'fears', 'were', 'seemingly', 'conﬁrmed', 'as', 'an', 'additional', '41', '136', 'cases', 'were', 'added', 'from', 'further', 'surveys', 'raising', 'the', 'total', 'in', 'Wuhan', 'to', '198', 'infected', 'patients', '[', '9', ']', '.', '42', 'Among', 'the', '198', 'total', 'cases', 'in', 'Wuhan', ',', '170', 'remained', 'in', 'hospitals', ',', '126', 'mostly', 'with', 'mild', 'symptoms', ',', '43', '35', 'in', 'serious', 'condition', ',', 'and', '9', 'in', 'critical', 'condition', '.', 'The', 'expanded', 'numbers', 'and', 'extended', 'range', 'of', '44', 'onset', 'dates', '(', '12', 'December', '2019–18', 'January', '2020', ')', 'suggested', 'likely', 'human', 'to', 'human', 'transmission', 'or', '45', 'ongoing', 'transmission', 'from', 'a', 'market', 'or', 'other', 'primary', 'sources', '.', 'On', '20th', 'January', ',', 'the', 'outbreak', 'was', '46', 'further', 'expanded', 'to', 'other', 'parts', 'of', 'China', '(', 'Beijing', ',', 'Shanghai', ',', '&', 'Shenzhen', ')', 'as', 'well', 'as', 'another', 'exported', '47', 'cases', 'to', 'South', 'Korea', '.', 'As', 'of', 'January', '24', ',', 'the', 'total', 'case', 'number', 'has', 'expanded', 'to', 'at', 'least', '870', 'total', 'cases', '48', 'with', '26', 'deaths', 'across', '25', 'provinces', 'in', 'China', 'and', '19', 'exported', 'cases', 'in', '10', 'countries', '[', '10', ']', '.', 'Public', 'health', '49', 'authorities', 'have', 'quarantined', 'travel', 'from', 'Wuhan', 'to', 'limit', 'the', 'spread', 'of', 'the', 'virus', 'and', 'reports', 'indicate', '50', 'other', 'Chinese', 'cities', 'have', 'also', 'been', 'isolated', '[', '11', ']', '.', 'With', 'the', 'heavy', 'travel', 'season', 'for', 'lunar', 'New', 'Year', '51', 'underway', 'in', 'Asia', ',', 'major', 'concerns', 'exist', 'for', 'the', '2019-nCoV', 'outbreak', 'to', 'continue', 'and', 'spread', '.', '52', '2', '.', 'Origins', 'of', '2019-nCoV', '53', 'The', 'source', 'of', 'the', '2019-nCoV', 'is', 'still', 'unknown', ',', 'although', 'the', 'initial', 'cases', 'have', 'been', 'associated', 'with', '54', 'the', 'Huanan', 'South', 'China', 'Seafood', 'Market', '.', 'While', 'many', 'of', 'the', 'early', 'patients', 'worked', 'in', 'or', 'visited', 'the', '55', 'market', ',', 'none', 'of', 'the', 'exported', 'cases', 'had', 'contact', 'with', 'the', 'market', ',', 'suggesting', 'either', 'human', 'to', 'human', '56', 'transmission', 'or', 'a', 'more', 'widespread', 'animal', 'source', '[', '6', ']', '.', 'In', 'addition', 'to', 'seafood', ',', 'it', 'is', 'reported', 'on', 'social', '57', 'media', 'that', 'snakes', ',', 'birds', 'and', 'other', 'small', 'mammals', 'including', 'marmots', 'and', 'bats', 'were', 'sold', 'at', 'the', '58', 'Huanan', 'South', 'China', 'Seafood', 'Market', '.', 'The', 'WHO', 'reported', 'that', 'environmental', 'samples', 'taken', 'from', 'the', '59', 'marketplace', 'have', 'come', 'back', 'positive', 'for', 'the', 'novel', 'coronavirus', ',', 'but', 'no', 'speciﬁc', 'animal', 'association', '60', 'has', 'been', 'identiﬁed', '[', '6', ']', '.', 'An', 'initial', 'report', 'suggested', 'that', 'snakes', 'might', 'be', 'the', 'possible', 'source', 'based', '61', 'on', 'codon', 'usage', '[', '12', ']', ',', 'but', 'the', 'assertion', 'has', 'been', 'disputed', 'by', 'others', '[', '13', ']', '.', 'Researchers', 'are', 'currently', '62', 'working', 'to', 'identify', 'the', 'source', 'of', '2019-nCoV', 'including', 'possible', 'intermediate', 'animal', 'vectors', '.', '63', 'A', 'zoonotic', 'reservoir', 'harkens', 'back', 'to', 'the', 'emergence', 'of', 'both', 'SARS-', 'and', 'MERS-CoV', '.', 'SARS-CoV', ',', '64', 'the', 'ﬁrst', 'highly', 'pathogenic', 'human', 'CoV', ',', 'emerged', 'in', '2002', 'with', 'transmission', 'from', 'animals', 'to', 'humans', '65', 'occurring', 'in', 'wet', 'markets', '.', 'Surveillance', 'eﬀorts', 'found', 'SARS-CoV', 'viral', 'RNA', 'in', 'both', 'palm', 'civets', 'and', '66', 'raccoon', 'dogs', 'sold', 'in', 'these', 'wet', 'markets', '[', '14', ']', ';', 'however', ',', 'SARS-CoV', 'was', 'not', 'found', 'in', 'the', 'wild', ',', 'suggesting', '67', 'that', 'those', 'species', 'served', 'as', 'intermediary', 'reservoir', 'as', 'the', 'virus', 'adapted', 'to', 'more', 'eﬃciently', 'infect', '68', 'humans', '.', 'Further', 'surveillance', 'eﬀorts', 'identiﬁed', 'highly', 'related', 'CoVs', 'in', 'bat', 'species', '[', '15', ']', '.', 'More', 'recent', '69', 'work', 'has', 'demonstrated', 'that', 'several', 'bat', 'CoVs', 'are', 'capable', 'of', 'infecting', 'human', 'cells', 'without', 'a', 'need', 'for', '70', 'intermediate', 'adaptation', '[', '16,17', ']', '.', 'Additionally', ',', 'human', 'serology', 'data', 'shows', 'recognition', 'of', 'bat', 'CoV', '71', 'proteins', 'and', 'indicates', 'that', 'low-level', 'zoonotic', 'transmission', 'of', 'SARS-like', 'bat', 'coronaviruses', 'occurs', '72', 'outside', 'of', 'recognized', 'outbreaks', '[', '18', ']', '.', 'MERS-CoV', 'is', 'also', 'a', 'zoonotic', 'virus', 'with', 'possible', 'origins', 'in', '73', 'bats', '[', '19,20', ']', ',', 'although', 'camels', 'are', 'endemically', 'infected', 'and', 'camel', 'contact', 'is', 'frequently', 'reported', 'during', '74', 'primary', 'MERS-CoV', 'cases', '[', '21', ']', '.', 'For', 'SARS-CoV', ',', 'strict', 'quarantine', 'and', 'the', 'culling', 'of', 'live', 'markets', 'in', 'SE', '75', 'Asia', 'played', 'a', 'major', 'role', 'in', 'ending', 'the', 'outbreak', '.', 'With', 'the', 'cultural', 'importance', 'of', 'camels', ',', 'a', 'similar', '76', 'approach', 'for', 'MERS-CoV', 'was', 'not', 'an', 'option', 'and', 'periodic', 'outbreaks', 'continue', 'in', 'the', 'Middle', 'East', '.', 'These', '77', 'lessons', 'from', 'SARS', 'and', 'MERS', 'highlight', 'the', 'importance', 'of', 'rapidly', 'ﬁnding', 'the', 'source', 'for', '2019-nCoV', 'in', '78', 'order', 'to', 'stem', 'the', 'ongoing', 'outbreak', '.', '79', '3', '.', 'Susceptible', 'Populations', '80', 'With', 'limited', 'patient', 'data', ',', 'it', 'is', 'diﬃcult', 'to', 'make', 'robust', 'declarations', 'about', 'populations', 'that', '81', 'may', 'be', 'most', 'susceptible', 'to', '2019-nCoV', '.', 'However', ',', 'disease', 'severity', 'following', 'SARS-', 'and', 'MERS-CoV', '82', 'corresponded', 'strongly', 'to', 'underlying', 'host', 'conditions', 'including', 'age', ',', 'biological', 'sex', ',', 'and', 'overall', '83', 'health', '[', '22', ']', '.', 'Early', 'patient', 'reports', 'from', '2019-nCoV', 'ﬁnd', 'similar', 'trends', '.', 'Severe', 'illness', 'with', '2019-nCoV', 'has', '84', 'been', 'associated', 'with', 'elderly', 'patients', '(', '>', '60', 'years', 'old', ')', ',', 'including', 'twenty-six', 'lethal', 'cases', '.', 'These', 'ﬁndings', '85', 'correspond', 'to', 'increased', 'severity', 'and', 'death', 'in', 'people', 'over', 'the', 'age', 'of', '50', 'following', 'both', 'SARS', 'and', '86', 'MERS-CoV', 'infection', '[', '23,24', ']', '.', 'Similarly', ',', 'the', 'underlying', 'health', 'of', 'the', 'patient', 'likely', 'plays', 'a', 'critical', '87', 'role', 'in', 'overall', 'susceptibility', '.', 'For', 'the', '2019-nCoV', ',', 'limited', 'comorbidity', 'data', 'is', 'available', ';', 'however', ',', '88', 'the', 'twenty-six', 'patients', 'that', 'have', 'succumbed', 'to', 'the', 'novel', 'CoV', 'had', 'signiﬁcant', 'health', 'conditions', '89', 'including', 'hypertension', ',', 'diabetes', ',', 'heart', 'and/or', 'kidney', 'function', 'issues', 'that', 'may', 'have', 'made', 'them', 'more', '90', 'susceptible', '.', 'For', 'the', 'MERS-CoV', 'outbreak', ',', 'smoking', ',', 'hypertension', ',', 'diabetes', ',', 'cardiovascular', 'disease', ',', '91', 'and/or', 'other', 'chronic', 'illnesses', 'have', 'been', 'present', 'in', 'the', 'majority', 'of', 'deaths', 'and', 'correspond', 'to', 'ﬁndings', 'in', '92', 'animal', 'models', '[', '25', ']', '.', 'The', 'results', 'indicate', 'vigilance', 'is', 'necessary', 'for', 'these', 'vulnerable', 'patients', 'following', '93', '2019-nCoV', 'infection', '.', '94', '4', '.', 'Insights', 'from', 'the', '2019-nCoV', 'Sequence', '95', 'The', 'rapid', 'sequencing', 'of', 'the', 'nearly', '30,000', 'nucleotide', '2019-nCoV', 'genome', 'by', 'Dr.', 'Zhang', '’', 's', 'group', 'at', '96', 'Fudan', 'University', 'and', 'several', 'other', 'groups', 'in', 'China', 'illustrate', 'the', 'dedication', 'and', 'increased', 'capacity', '97', 'of', 'the', 'scientiﬁc', 'infrastructure', 'in', 'China', '[', '4,5', ']', '.', 'For', 'SARS-CoV', ',', 'the', 'causative', 'agent', 'was', 'unknown', 'for', '98', 'months', 'and', 'subsequently', 'took', 'over', 'four', 'weeks', 'until', 'a', 'full', 'genome', 'was', 'released', '[', '26', ']', '.', 'Similarly', ',', '99', 'MERS-CoV', 'was', 'only', 'identiﬁed', 'after', 'several', 'months', 'of', 'testing', 'and', 'a', 'full-length', 'genome', 'available', '100', 'about', 'a', 'month', 'later', '[', '27', ']', '.', 'In', 'contrast', ',', 'time', 'from', 'the', 'ﬁrst', 'date', 'of', 'patient', 'onset', '(', '12', 'December', '2019', ')', 'to', '101', 'the', 'report', 'of', 'several', '2019-nCoV', 'full-length', 'genomes', 'took', 'less', 'than', 'one', 'month', '.', 'Combined', 'with', 'the', '102', 'immense', 'pressure', 'of', 'an', 'ongoing', 'outbreak', 'with', 'an', 'unknown', 'agent', ',', 'the', 'eﬀort', 'of', 'these', 'scientists', 'should', '103', 'be', 'considered', 'nothing', 'less', 'than', 'remarkable', '.', '104', 'Building', 'from', 'the', 'sequence', ',', 'the', 'nucleotide', 'alignment', 'quickly', 'distinguished', 'the', 'novel', 'virus', 'as', 'a', '105', 'group', '2B', 'CoV', ',', 'distinct', 'from', 'the', 'SARS-CoV', 'strains', '[', '4,5', ']', '.', 'Examining', 'the', 'whole', 'genome', ',', '2019-nCoV', '106', 'maintains', '~80', '%', 'nucleotide', 'identity', 'to', 'the', 'original', 'SARS', 'epidemic', 'viruses', '.', 'Its', 'closest', 'whole', 'genome', '107', 'relatives', 'are', 'two', 'bat', 'SARS-like', 'CoVs', '(', 'ZC45', 'and', 'ZXC21', ')', 'that', 'shared', '~89', '%', 'sequence', 'identity', 'with', '108', '2019-nCoV', ';', 'these', 'CoV', 'sequences', 'were', 'deposited', 'in', 'early', '2018', 'from', 'Zhejiang', 'province', 'in', 'R.', 'sinicus', '109', 'bats', 'in', 'China', '.', 'Comparing', 'across', 'the', 'deposited', '2019-nCoV', 'strains', 'ﬁnds', '>', '99.5', '%', 'conservation', ';', 'the', 'lack', '110', 'of', 'diversity', 'suggests', 'a', 'common', 'lineage', 'and', 'source', 'with', 'emergence', 'not', 'likely', 'having', 'occurred', 'that', '111', 'long', 'ago', '[', '28,29', ']', '.', 'A', 'recent', 'report', 'has', 'subsequently', 'identiﬁed', 'a', 'bat', 'CoV', 'sequence', ',', 'RaTG3', ',', 'with', '92', '%', '112', 'sequence', 'identity', 'with', 'the', 'novel', 'virus', 'which', 'argues', 'for', 'bat', 'origins', 'for', 'the', '2019-nCoV', '[', '30', ']', '.', '113', 'We', 'next', 'shifted', 'analysis', 'to', 'the', 'nucleocapsid', '(', 'N', ')', 'protein', ',', 'the', 'most', 'abundant', 'protein', 'produced', 'in', '114', 'CoVs', '.', 'Generally', ',', 'the', 'N', 'protein', 'is', 'well', 'conserved', 'across', 'CoV', 'families', 'including', 'group', '2B', '[', '31', ']', '.', 'The', 'N', '115', 'protein', 'for', '2019-nCoV', 'is', 'no', 'exception', 'with', '~90', '%', 'amino', 'acid', 'identity', 'to', 'the', 'SARS-CoV', 'N', 'protein', '.', 'While', '116', 'less', 'conserved', 'than', 'other', 'group', '2B', 'CoVs', 'like', 'HKU3-CoV', 'and', 'SHC014-CoV', ',', '2019-nCoV', 'antibodies', '117', 'against', 'the', 'N', 'protein', 'would', 'likely', 'recognize', 'and', 'bind', 'the', 'SARS-CoV', 'N', 'protein', 'as', 'well', '.', 'N', 'antibodies', '118', 'do', 'not', 'provide', 'immunity', 'to', '2019-nCoV', 'infection', ',', 'but', 'the', 'cross', 'reactivity', 'with', 'SARS-CoV', 'N', 'protein', '119', 'would', 'allow', 'a', 'serum', 'based', 'assay', 'to', 'determine', 'exposure', 'to', 'the', 'novel', 'CoV', 'in', 'asymptomatic', 'cases', '.', 'While', '120', 'previous', 'studies', 'have', 'found', 'serum', 'reactivity', 'to', 'group', '2B', 'virus', 'N', 'proteins', 'in', 'Chinese', 'populations', '[', '18', ']', ',', '121', 'exposure', 'to', '2019-nCoV', 'should', 'increase', 'the', 'dilution', 'factor', 'substantially', 'if', 'exposure/infection', 'had', '122', 'occurred', '.', 'Importantly', ',', 'this', 'information', 'may', 'provide', 'insights', 'about', 'susceptibly', 'and', 'potential', 'routes', 'of', '123', 'spread', 'through', 'asymptomatic', 'carriers', '.', '124', 'Examining', 'further', ',', 'we', 'next', 'compared', 'the', 'spike', 'proteins', ',', 'the', 'critical', 'glycoprotein', 'responsible', '125', 'for', 'virus', 'binding', 'and', 'entry', '.', 'Overall', ',', 'the', '2019-nCoV', 'spike', 'protein', 'has', 'roughly', '75', '%', 'amino', 'acid', '126', 'identity', 'with', 'SARS-CoV', ',', 'which', 'is', 'less', 'conserved', 'than', 'other', 'group', '2B', 'CoVs', 'including', 'HKU3-CoV', '[', '31', ']', '.', '127', 'However', ',', 'narrowing', 'analysis', 'to', 'the', 'spike', 'receptor', 'binding', 'domain', '(', 'RBD', ')', 'of', 'SARS-CoV', '(', 'amino', 'acids', '128', '318–518', ')', ',', 'the', '2019-nCoV', 'RBD', 'is', '73', '%', 'conserved', 'relative', 'to', 'the', 'epidemic', 'RBD', '.', 'This', 'conservation', '129', 'level', 'places', 'the', '2019-nCoV', 'RBD', 'between', 'HKU3-4', '(', '62.7', '%', 'conservation', ')', ',', 'a', 'bat', 'virus', 'that', 'can', 'not', 'use', '130', 'human', 'ACE2', ',', 'and', 'rSHC014', '(', '80.8', '%', ')', ',', 'the', 'most', 'divergent', 'bat', 'CoV', 'spike', 'known', 'to', 'use', 'human', 'ACE2', 'for', '131', 'entry', '[', '16,32', ']', '.', 'Importantly', ',', 'the', 'key', 'binding', 'residues', 'for', 'SARS-CoV', 'have', 'been', 'identiﬁed', '[', '33', ']', ';', 'among', '132', 'these', 'fourteen', 'residues', 'predicted', 'to', 'interact', 'directly', 'with', 'human', 'ACE2', ',', 'the', 'receptor', 'for', 'SARS-CoV', ',', '133', 'eight', 'amino', 'acids', 'are', 'conserved', 'in', '2019-nCoV', '.', 'Notably', ',', 'several', 'of', 'these', 'residues', 'are', 'also', 'conserved', '134', 'relative', 'to', 'WIV1-', 'and', 'WIV16-CoV', ',', 'two', 'bat', 'strains', 'closely', 'related', 'to', 'SARS-CoV', 'and', 'known', 'to', 'use', '135', 'human', 'ACE2', '[', '17,34', ']', '.', 'Initial', 'structural', 'modeling', 'suggest', 'that', 'the', '2019-nCoV', 'may', 'be', 'able', 'to', 'use', 'human', '136', 'ACE2', 'as', 'a', 'receptor', ',', 'although', 'its', 'aﬃnity', 'm', 'be', 'reduced', 'relative', 'to', 'the', 'epidemic', 'SARS-CoV', 'strains', '[', '35', ']', '.', '137', 'A', 'subsequent', 'report', 'demonstrated', 'that', 'the', 'receptor', 'binding', 'domain', 'of', '2019-nCoV', 'was', 'capable', 'of', '138', 'binding', 'ACE2', 'in', 'the', 'context', 'of', 'the', 'SARS-CoV', 'spike', 'protein', '[', '36', ']', '.', 'In', 'addition', ',', 'another', 'rapid', 'report', '139', 'links', 'demonstrates', '2019-nCoV', 'uses', 'ACE2', 'receptors', 'from', 'human', ',', 'bat', ',', 'civets', ',', 'and', 'swine', '[', '30', ']', '.', 'Together', ',', '140', 'the', 'modeling', ',', 'pseudotyping', ',', 'and', 'infection', 'data', 'provide', 'strong', 'evidence', 'for', 'human', 'ACE2', 'being', 'the', '141', 'receptor', 'for', '2019-nCoV', '.', '142', '5', '.', 'Achieving', 'Koch', 'Postulates', '143', 'Traditional', 'identiﬁcation', 'of', 'a', 'microbe', 'as', 'the', 'causative', 'agent', 'of', 'disease', 'requires', 'fulﬁllment', 'of', '144', 'Koch', '’', 's', 'postulates', ',', 'modiﬁed', 'by', 'Rivers', 'for', 'viral', 'diseases', '[', '37', ']', '.', 'At', 'the', 'present', 'time', ',', 'the', '2019-nCoV', '145', 'has', 'been', 'isolated', 'from', 'patients', ',', 'detected', 'by', 'speciﬁc', 'assays', 'in', 'patients', ',', 'and', 'cultured', 'in', 'host', 'cells', '146', '(', 'one', 'available', 'sequence', 'is', 'identiﬁed', 'as', 'a', 'passage', 'isolate', ')', ',', 'starting', 'to', 'fulﬁll', 'these', 'criteria', '.', 'Given', 'the', '147', 'recentness', 'of', 'the', '2019-nCoV', 'outbreak', ',', 'at', 'this', 'point', 'there', 'is', 'no', 'animal', 'model', 'available', 'to', 'fulﬁll', 'the', '148', 'remaining', 'criteria', ':', '1', ')', 'testing', 'the', 'capability', 'of', '2019-nCoV', 'to', 'cause', 'respiratory', 'disease', 'in', 'a', 'related', '149', 'species', ',', '2', ')', 're-isolating', 'the', 'virus', 'from', 'the', 'experimentally', 'infected', 'animal', 'and', '3', ')', 'detection', 'of', 'a', 'speciﬁc', '150', 'immune', 'response', '.', 'These', 'eﬀorts', 'will', 'surely', 'be', 'an', 'area', 'of', 'intense', 'research', 'in', 'the', 'coming', 'months', 'both', 'in', '151', 'China', 'and', 'in', 'CoV', 'research', 'laboratories', 'around', 'the', 'world', '.', '152', 'Notably', ',', 'generating', 'small', 'animal', 'models', 'of', 'coronavirus', 'disease', 'can', 'be', 'diﬃcult', '.', 'While', 'SARS-CoV', '153', 'readily', 'infected', 'laboratory', 'mice', ',', 'it', 'does', 'not', 'cause', 'signiﬁcant', 'disease', 'unless', 'the', 'virus', 'is', 'passaged', 'to', '154', 'adapt', 'to', 'the', 'mouse', 'host', '[', '38', ']', '.', 'Infection', 'of', 'primates', 'produces', 'a', 'more', 'mild', 'disease', 'than', 'that', 'observed', 'in', '155', 'humans', ',', 'although', 'fever', 'and', 'pulmonary', 'inﬂammation', 'were', 'noted', '[', '39,40', ']', '.', 'MERS-CoV', 'is', 'incapable', '156', 'of', 'infecting', 'rodent', 'cells', 'without', 'engineering', 'changes', 'in', 'critical', 'residues', 'of', 'the', 'receptor', 'protein', ',', '157', 'DPP4', '[', '41,42', ']', '.', 'However', ',', 'MERS-CoV', 'does', 'infect', 'non-human', 'primates', '[', '43', ']', '.', 'As', 'such', ',', 'MERS', 'mouse', '158', 'models', 'of', 'disease', 'required', 'a', 'great', 'deal', 'of', 'time', 'to', 'develop', 'and', 'are', 'limited', 'in', 'the', 'types', 'of', 'manipulations', '159', 'that', 'can', 'be', 'performed', '[', '41', ']', '.', 'At', 'this', 'point', ',', 'the', 'infectious', 'capability', 'of', 'the', '2019-nCoV', 'for', 'diﬀerent', 'species', '160', 'and', 'diﬀerent', 'cell', 'types', 'is', 'unknown', '.', 'Early', 'reports', 'suggest', 'that', 'the', 'virus', 'can', 'utilize', 'human', ',', 'bat', ',', 'swine', ',', '161', 'and', 'civet', 'ACE2', '[', '30', ']', ';', 'notably', ',', 'the', 'group', 'found', 'mouse', 'Ace2', 'was', 'not', 'permissive', 'for', '2019-nCoV', 'infection', '162', 'Dissemination', 'of', 'virus', 'stocks', 'and/or', 'de', 'novo', 'generation', 'of', 'the', 'virus', 'through', 'reverse', 'genetics', 'systems', '163', 'will', 'enable', 'this', 'research', 'allowing', 'for', 'animal', 'testing', 'and', 'subsequent', 'completion', 'of', 'Koch', '’', 's', 'postulates', '164', 'for', 'the', 'new', 'virus', '.', '165', '6', '.', 'Threat', 'for', 'Spread', ':', 'Human', 'to', 'Human', ',', 'Health', 'Care', 'Workers', ',', 'and', 'Super', 'Spreaders', '166', 'While', 'the', 'Huanan', 'seafood', 'market', 'in', 'Wuhan', 'has', 'been', 'associated', 'with', 'the', 'majority', 'of', 'cases', ',', 'many', '167', 'of', 'the', 'recent', 'cases', 'do', 'not', 'have', 'a', 'direct', 'connection', '[', '9', ']', '.', 'This', 'fact', 'suggests', 'a', 'secondary', 'source', 'of', 'infectio', '168', 'either', 'human', 'to', 'human', 'transmission', 'or', 'possibly', 'infected', 'animals', 'in', 'another', 'market', 'in', 'Wuhan', '.', 'Both', '169', 'possibilities', 'represent', 'major', 'concerns', 'and', 'indicate', 'the', 'outbreak', 'has', 'the', 'potential', 'to', 'expand', 'rapidly', '.', '170', 'For', 'human', 'to', 'human', 'transmission', ',', 'there', 'was', 'limited', 'data', 'in', 'the', 'initial', 'set', 'of', 'cases', ';', 'one', 'family', 'cluster', '171', 'is', 'of', 'three', 'men', 'who', 'all', 'work', 'in', 'the', 'market', '.', 'Similarly', ',', 'a', 'husband', 'and', 'wife', 'are', 'among', 'the', 'patients', ',', 'with', '172', 'the', 'wife', 'claiming', 'no', 'contact', 'with', 'the', 'market', '.', 'In', 'these', 'cases', ',', 'direct', 'human', 'to', 'human', 'infection', 'may', '173', 'have', 'been', 'possible', ';', 'alternatively', ',', 'a', 'contaminated', 'fomite', 'from', 'the', 'market', 'may', 'also', 'be', 'responsible', 'as', '174', 'surfaces', 'all', 'around', 'the', 'market', 'were', 'found', 'to', 'test', 'positive', '2019-nCoV', '.', 'However', ',', 'the', 'major', 'increase', '175', 'in', 'the', 'number', 'of', 'cases', ',', 'the', 'lack', 'of', 'direct', 'connection', 'to', 'the', 'Wuhan', 'market', 'for', 'many', 'cases', ',', 'and', 'the', '176', 'infection', 'of', 'health', 'care', 'works', 'all', 'suggest', 'human', 'to', 'human', 'spread', 'is', 'likely', '[', '9,44', ']', '.', 'Importantly', ',', 'until', 'the', '177', 'source', 'of', 'the', 'virus', 'is', 'found', ',', 'it', 'will', 'be', 'diﬃcult', 'to', 'distinguish', 'zoonotic', 'versus', 'human', 'to', 'human', 'spread', '.', '178', 'In', 'the', 'early', 'part', 'of', 'the', 'outbreak', ',', 'the', 'absence', 'of', 'infection', 'in', 'health', 'care', 'workers', 'argued', 'for', 'ineﬃcient', '179', 'human', 'to', 'human', 'spread', 'and', 'distinguished', '2019-nCoV', 'from', 'both', 'SARS-CoV', 'and', 'MERS-CoV', '.', 'In', '180', 'the', 'two', 'prior', 'CoV', 'epidemics', ',', 'health', 'care', 'settings', 'served', 'as', 'a', 'major', 'transmission', 'point', 'fueling', 'both', '181', 'outbreaks', '.', 'Based', 'on', 'WHO', 'data', ',', '1', 'in', '10', 'MERS-CoV', 'cases', 'have', 'been', 'found', 'to', 'be', 'health', 'care', 'workers', ';', '182', 'these', 'patients', 'generally', 'have', 'reduced', 'disease', 'and', 'death', 'likely', 'due', 'to', 'younger', 'age', 'and', 'absence', 'of', '183', 'existing', 'health', 'conditions', '.', 'The', 'recent', 'reports', 'of', 'numerous', 'infected', 'health', 'care', 'workers', 'in', 'Wuhan', '184', 'indicate', 'human', 'to', 'human', 'infection', 'can', 'occur', 'with', '2019-nCoV', 'and', 'may', 'be', 'the', 'product', 'of', 'a', 'super', '185', 'spreading', 'patient', '[', '44', ']', '.', 'However', ',', 'while', 'large', 'swaths', 'of', 'healthcare', 'workers', 'are', 'not', 'getting', 'sick', 'as', 'seen', '186', 'with', 'SARS', 'and', 'MERS-CoV', ',', 'it', 'may', 'be', 'too', 'early', 'to', 'rule', 'out', 'their', 'potential', 'exposure', 'to', 'the', 'novel', 'CoV', 'as', '187', 'their', 'disease', 'may', 'be', 'asymptomatic', '.', 'While', 'not', 'described', 'during', 'the', 'SARS-CoV', 'outbreak', ',', 'asymptomatic', '188', 'cases', 'ranged', 'from', '12.5', '%', 'to', '25', '%', 'in', 'some', 'MERS-CoV', 'studies', '[', '45', ']', '.', 'A', 'similar', 'phenomenon', 'may', 'be', '189', 'occurring', 'with', '2019-nCoV', 'and', 'would', 'make', 'stopping', 'the', 'outbreak', 'even', 'more', 'diﬃcult', 'to', 'contain', '.', '190', 'Another', 'parameter', 'to', 'consider', 'is', 'the', 'possibility', 'of', 'super', 'spreading', 'in', 'the', 'context', 'of', '2019-nCoV', '.', '191', 'Super', 'spreading', 'is', 'the', 'ampliﬁed', 'transmission', 'of', 'a', 'virus', 'by', 'individuals', 'in', 'a', 'population', 'and', 'has', 'been', '192', 'suggested', 'by', 'at', 'least', 'one', 'news', 'report', '[', '44', ']', '.', 'Both', 'SARS-', 'and', 'MERS-CoV', 'outbreaks', 'had', 'documented', '193', 'evidence', 'of', 'super', 'spreading', 'patients', '[', '46', ']', '.', 'In', 'general', ',', 'both', 'epidemic', 'CoVs', 'maintain', 'a', 'low', 'R0', ',', 'the', '194', 'rate', 'spread', 'from', 'an', 'individual', 'infected', 'patient', '.', 'However', ',', 'roughly', '10', '%', 'of', 'SARS-', 'and', 'MERS-CoV', '195', '>', '10', '.', 'These', 'cases', 'seeded', 'a', 'signiﬁcant', '196', 'patients', 'have', 'been', 'associated', 'with', 'super', 'spreading', 'and', 'an', 'R0', '197', 'portion', 'of', 'the', 'epidemic', 'around', 'the', 'world', '.', 'Notably', ',', 'neither', 'mutations', 'in', 'the', 'viruses', 'nor', 'severity', 'of', '198', 'disease', 'were', 'found', 'to', 'be', 'associated', 'with', 'super', 'spreading', ',', 'implying', 'that', 'host', 'factors', 'contribute', 'to', 'the', '199', 'phenotype', '[', '47', ']', '.', 'For', '2019-nCoV', ',', 'contact', 'tracing', 'to', 'date', 'suggest', 'limited', 'human', 'to', 'human', 'spread', 'and', 'a', '200', 'low', 'R0', '.', 'However', ',', 'the', 'recent', 'increase', 'in', 'cases', ',', 'both', 'in', 'and', 'outside', 'Wuhan', 'could', 'signal', 'the', 'existence', 'of', '201', 'super-spreading', 'individuals', 'fueling', 'the', 'outbreak', '.', 'Alternatively', ',', 'super', 'spreading', 'could', 'occur', 'from', 'the', '202', 'zoonotic', 'source', 'which', 'has', 'been', 'seen', 'in', 'other', 'disease', 'outbreaks', '[', '10', ']', '.', 'In', 'any', 'event', ',', 'the', 'possibility', 'of', '203', 'super', 'spreading', 'may', 'continue', 'to', 'play', 'a', 'role', 'in', 'this', 'ongoing', '2019-nCoV', 'outbreak', '.', '204', '7', '.', 'Emerging', 'Diseases', 'in', 'the', 'Age', 'of', 'Social', 'Media', '205', 'News', 'of', 'the', '2019-nCoV', 'came', 'to', 'widespread', 'attention', 'through', 'the', 'internet', '.', 'Over', 'the', 'years', ',', '206', 'websites', 'like', 'FluTrackers.com', ',', 'ProMED', '(', 'promedmail.org', ')', ',', 'and', 'others', 'have', 'permitted', 'the', 'collection', 'of', '207', 'disease', 'information', 'from', 'around', 'the', 'world', 'and', 'facilitated', 'dissemination', 'to', 'interested', 'parties', '.', 'In', '2012', ',', '208', 'MERS-CoV', 'ﬁrst', 'drew', 'attention', 'as', 'a', '“', 'novel', 'coronavirus', '”', 'entioned', 'on', 'ProMED', 'Mail', 'and', 'subsequently', '209', 'through', 'conversation', 'on', 'twitter', 'between', 'science', 'journalists', ',', 'virologists', ',', 'and', 'public', 'health', 'experts', '.', '210', 'Eight', 'years', 'later', ',', 'a', 'more', 'connected', 'network', 'quickly', 'dissected', 'statements', 'from', 'the', 'Wuhan', 'Municipal', '211', 'Health', 'Commission', 'and', 'speculated', 'about', 'possible', 'causes', '.', 'Early', 'during', 'an', 'outbreak', ',', 'it', 'can', 'be', 'diﬃcult', '212', 'to', 'distinguish', 'between', 'rumors', 'with', 'elements', 'of', 'truth', 'versus', 'baseless', 'fear', 'mongering', '.', 'This', 'fact', 'can', '213', 'be', 'exacerbated', 'by', 'language', 'barriers', 'and', 'oﬀ', 'the', 'record', 'sources', '.', 'However', ',', 'in', 'this', 'case', ',', 'speculation', 'of', '214', 'a', 'novel', 'coronavirus', 'was', 'fed', 'by', 'carefully', 'worded', 'statements', 'that', 'speciﬁcally', 'excluding', 'some', 'virus', '215', 'families', '(', 'inﬂuenza', ',', 'adenovirus', ')', ',', 'but', 'only', 'excluded', 'SARS-CoV', 'and', 'MERS-CoV', 'for', 'coronaviruses', '.', '216', 'Coupled', 'with', 'memories', 'of', 'the', 'SARS', 'outbreak', ',', 'many', 'worried', 'that', 'the', 'truth', 'may', 'be', 'held', 'back', '.', 'When', '217', 'the', 'agent', 'was', 'ﬁnally', 'conﬁrmed', 'as', 'a', 'CoV', ',', 'the', 'world', 'acted', 'with', 'both', 'worry', 'and', 'relief', ':', 'the', 'outbreak', '218', 'would', 'not', 'be', 'hidden', '.', '219', 'While', 'far', 'from', 'perfect', ',', 'the', 'government', 'response', 'to', '2019-nCoV', 'provides', 'a', 'stark', 'contrast', 'to', 'the', '220', 'SARS', 'outbreak', 'at', 'the', 'beginning', 'of', 'the', 'century', '.', 'The', 'rapid', 'release', 'of', '2019-nCoV', 'sequences', 'permitted', 'the', '221', 'research', 'community', 'to', 'quickly', 'become', 'engaged', ',', 'providing', 'analysis', 'and', 'developing', 'diagnostic', 'tests', '.', '222', 'Both', 'the', 'Chinese', 'CDC', 'and', 'the', 'Wuhan', 'Municipal', 'Health', 'Commission', 'have', 'posted', 'regular', 'updates', '223', 'of', 'conﬁrmed', 'case', 'numbers', 'and', 'patient', 'statuses', 'enabling', 'public', 'health', 'authorities', 'to', 'monitor', 'the', '224', 'situation', 'in', 'real', 'time', '.', 'Researchers', 'from', 'around', 'the', 'world', 'have', 'connected', 'on', 'social', 'media', 'to', 'compare', '225', 'updated', 'sequence', 'information', 'and', 'highlight', 'key', 'unknowns', 'about', 'the', 'outbreak', '.', 'While', 'not', 'always', '226', 'provided', 'in', 'a', 'timely', 'manner', ',', 'the', 'ability', 'to', 'share', 'news', 'updates', 'and', 'data', 'in', 'real', 'time', 'with', 'researchers', '227', 'and', 'public', 'health', 'oﬃcials', 'around', 'the', 'world', 'signals', 'a', 'major', 'change', 'in', 'the', 'response', 'to', 'outbreaks', '.', 'This', '228', 'connectivity', 'has', 'facilitated', 'awareness', 'as', 'well', 'as', 'new', 'collaborations', 'and', 'a', 'rapid', 'response', 'by', 'the', 'global', '229', 'research', 'community', '.', 'While', 'there', 'are', 'many', 'unknowns', 'with', '2019-nCoV', ',', 'the', 'world', 'is', 'engaged', 'and', '230', 'prepared', 'to', 'battle', 'the', 'newest', 'emergent', 'virus', 'strain', '.', 'Perhaps', 'this', 'means', 'the', 'lessons', 'from', 'the', 'SARS', '231', 'outbreak', 'have', 'truly', 'been', 'learned', '.', '232', 'Author', 'Contributions', ':', 'L.E.G', '.', 'and', 'V.D.M', '.', 'prepared', 'this', 'manuscript', '.', 'All', 'authors', 'have', 'read', 'and', 'agreed', 'to', 'the', '233', 'published', 'version', 'of', 'the', 'manuscript', '.', '234', 'Funding', ':', 'This', 'research', 'received', 'no', 'external', 'funding', '.', '235', 'Conﬂicts', 'of', 'Interest', ':', 'The', 'authors', 'declare', 'no', 'conﬂict', 'of', 'interest', '.', '236', '©', '2020', 'by', 'the', 'authors', '.', 'Licensee', 'MDPI', ',', 'Basel', ',', 'Switzerland', '.', 'This', 'article', 'is', 'an', 'open', 'access', '237', 'article', 'distributed', 'under', 'the', 'terms', 'and', 'conditions', 'of', 'the', 'Creative', 'Commons', 'Attribution', '238', '(', 'CC', 'BY', ')', 'license', '(', 'http', ':', '//creativecommons.org/licenses/by/4.0/', ')', '.']\n"
     ]
    }
   ],
   "source": [
    "tokens1 = nltk.word_tokenize(text, \"english\")\n",
    "print(tokens1)"
   ]
  },
  {
   "cell_type": "code",
   "execution_count": 8,
   "id": "0be8e7c7",
   "metadata": {},
   "outputs": [
    {
     "name": "stdout",
     "output_type": "stream",
     "text": [
      "[('Return', 'NN'), ('of', 'IN'), ('the', 'DT'), ('Coronavirus', 'NNP'), (':', ':'), ('2019-nCoV', 'JJ'), ('0', 'CD'), ('Lisa', 'NNP'), ('E.', 'NNP'), ('Gralinski', 'NNP'), ('and', 'CC'), ('Vineet', 'NNP'), ('D.', 'NNP'), ('Menachery', 'NNP'), ('1', 'CD'), ('Abstract', 'NNP'), (':', ':'), ('The', 'DT'), ('emergence', 'NN'), ('of', 'IN'), ('a', 'DT'), ('novel', 'JJ'), ('coronavirus', 'NN'), ('(', '('), ('2019-nCoV', 'JJ'), (')', ')'), ('has', 'VBZ'), ('awakened', 'VBN'), ('the', 'DT'), ('echoes', 'NNS'), ('of', 'IN'), ('SARS-CoV', 'JJ'), ('2', 'CD'), ('from', 'IN'), ('nearly', 'RB'), ('two', 'CD'), ('decades', 'NNS'), ('ago', 'RB'), ('.', '.'), ('Yet', 'CC'), (',', ','), ('with', 'IN'), ('technological', 'JJ'), ('advances', 'NNS'), ('and', 'CC'), ('important', 'JJ'), ('lessons', 'NNS'), ('gained', 'VBD'), ('from', 'IN'), ('3', 'CD'), ('previous', 'JJ'), ('outbreaks', 'NNS'), (',', ','), ('perhaps', 'RB'), ('the', 'DT'), ('world', 'NN'), ('is', 'VBZ'), ('better', 'RBR'), ('equipped', 'VBN'), ('to', 'TO'), ('deal', 'VB'), ('with', 'IN'), ('the', 'DT'), ('most', 'RBS'), ('recent', 'JJ'), ('emergent', 'NN'), ('4', 'CD'), ('group', 'NN'), ('2B', 'CD'), ('coronavirus', 'NN'), ('.', '.'), ('5', 'CD'), ('Keywords', 'NNS'), (':', ':'), ('2019-nCoV', 'JJ'), (';', ':'), ('novel', 'JJ'), ('CoV', 'NNP'), (';', ':'), ('Wuhan', 'NNP'), (';', ':'), ('Wuhan', 'NNP'), ('pneumonia', 'NN'), (';', ':'), ('coronavirus', 'NN'), (';', ':'), ('emerging', 'VBG'), ('viruses', 'NNS'), (';', ':'), ('6', 'CD'), ('SARS-CoV', 'JJ'), (';', ':'), ('MERS-CoV', 'JJ'), ('7', 'CD'), ('1', 'CD'), ('.', '.'), ('Emergence', 'NN'), ('8', 'CD'), ('The', 'DT'), ('third', 'JJ'), ('zoonotic', 'JJ'), ('human', 'JJ'), ('coronavirus', 'NN'), ('(', '('), ('CoV', 'NNP'), (')', ')'), ('of', 'IN'), ('the', 'DT'), ('century', 'NN'), ('emerged', 'VBD'), ('in', 'IN'), ('December', 'NNP'), ('2019', 'CD'), (',', ','), ('with', 'IN'), ('9', 'CD'), ('a', 'DT'), ('cluster', 'NN'), ('of', 'IN'), ('patients', 'NNS'), ('with', 'IN'), ('connections', 'NNS'), ('to', 'TO'), ('Huanan', 'NNP'), ('South', 'NNP'), ('China', 'NNP'), ('Seafood', 'NNP'), ('Market', 'NNP'), ('in', 'IN'), ('Wuhan', 'NNP'), (',', ','), ('Hubei', 'NNP'), ('10', 'CD'), ('Province', 'NNP'), (',', ','), ('China', 'NNP'), ('.', '.'), ('Similar', 'NNP'), ('to', 'TO'), ('severe', 'VB'), ('acute', 'JJ'), ('respiratory', 'JJ'), ('syndrome', 'NN'), ('coronavirus', 'NN'), ('(', '('), ('SARS-CoV', 'NNP'), (')', ')'), ('and', 'CC'), ('Middle', 'NNP'), ('11', 'CD'), ('East', 'NNP'), ('respiratory', 'JJ'), ('syndrome', 'NN'), ('coronavirus', 'NN'), ('(', '('), ('MERS-CoV', 'NNP'), (')', ')'), ('infections', 'NNS'), (',', ','), ('patients', 'NNS'), ('exhibited', 'VBD'), ('symptoms', 'NNS'), ('of', 'IN'), ('viral', 'JJ'), ('12', 'CD'), ('pneumonia', 'NN'), ('including', 'VBG'), ('fever', 'NN'), (',', ','), ('diﬃculty', 'NN'), ('breathing', 'NN'), (',', ','), ('and', 'CC'), ('bilateral', 'JJ'), ('lung', 'NN'), ('inﬁltration', 'NN'), ('in', 'IN'), ('the', 'DT'), ('most', 'RBS'), ('severe', 'JJ'), ('13', 'CD'), ('cases', 'NNS'), ('[', 'VBP'), ('1', 'CD'), (']', 'NN'), ('.', '.'), ('News', 'NNP'), ('reports', 'NNS'), ('of', 'IN'), ('patients', 'NNS'), ('with', 'IN'), ('an', 'DT'), ('unknown', 'JJ'), ('pneumonia', 'NN'), ('were', 'VBD'), ('ﬁrst', 'JJ'), ('identiﬁed', 'NN'), ('on', 'IN'), ('31st', 'CD'), ('December', 'NNP'), ('14', 'CD'), ('with', 'IN'), ('the', 'DT'), ('Wuhan', 'NNP'), ('Municipal', 'NNP'), ('Health', 'NNP'), ('Commission', 'NNP'), ('saying', 'VBG'), ('they', 'PRP'), ('were', 'VBD'), ('monitoring', 'VBG'), ('the', 'DT'), ('situation', 'NN'), ('closely', 'RB'), ('15', 'CD'), ('(', '('), ('Figure', 'NNP'), ('1', 'CD'), (')', ')'), ('.', '.'), ('On', 'IN'), ('1st', 'CD'), ('January', 'NNP'), ('2020', 'CD'), (',', ','), ('the', 'DT'), ('seafood', 'NN'), ('market', 'NN'), ('was', 'VBD'), ('closed', 'VBN'), ('and', 'CC'), ('decontaminated', 'VBN'), ('while', 'IN'), ('countries', 'NNS'), ('16', 'CD'), ('with', 'IN'), ('travel', 'JJ'), ('links', 'NNS'), ('to', 'TO'), ('Wuhan', 'NNP'), ('went', 'VBD'), ('on', 'IN'), ('high', 'JJ'), ('alert', 'NN'), ('for', 'IN'), ('potential', 'JJ'), ('travelers', 'NNS'), ('with', 'IN'), ('unexplained', 'JJ'), ('respiratory', 'NN'), ('17', 'CD'), ('disease', 'NN'), ('.', '.'), ('After', 'IN'), ('extensive', 'JJ'), ('speculation', 'NN'), ('about', 'IN'), ('a', 'DT'), ('causative', 'JJ'), ('agent', 'NN'), (',', ','), ('the', 'DT'), ('Chinese', 'NNP'), ('Center', 'NNP'), ('for', 'IN'), ('Disease', 'NNP'), ('Control', 'NNP'), ('18', 'CD'), ('and', 'CC'), ('Prevention', 'NNP'), ('(', '('), ('CDC', 'NNP'), (')', ')'), ('conﬁrmed', 'VBD'), ('a', 'DT'), ('report', 'NN'), ('by', 'IN'), ('the', 'DT'), ('Wall', 'NNP'), ('Street', 'NNP'), ('Journal', 'NNP'), ('and', 'CC'), ('announced', 'VBD'), ('identiﬁcation', 'NN'), ('19', 'CD'), ('of', 'IN'), ('a', 'DT'), ('novel', 'JJ'), ('CoV', 'NNP'), ('on', 'IN'), ('9th', 'CD'), ('January', 'NNP'), ('[', 'VBD'), ('2', 'CD'), (']', 'NN'), ('.', '.'), ('The', 'DT'), ('novel', 'JJ'), ('CoV', 'NNP'), ('(', '('), ('2019-nCoV', 'JJ'), (')', ')'), ('was', 'VBD'), ('isolated', 'VBN'), ('from', 'IN'), ('a', 'DT'), ('single', 'JJ'), ('patient', 'NN'), ('20', 'CD'), ('and', 'CC'), ('subsequently', 'RB'), ('veriﬁed', 'NNS'), ('in', 'IN'), ('16', 'CD'), ('additional', 'JJ'), ('patients', 'NNS'), ('[', 'VBP'), ('3', 'CD'), (']', 'NNS'), ('.', '.'), ('While', 'IN'), ('not', 'RB'), ('yet', 'RB'), ('conﬁrmed', 'VBN'), ('to', 'TO'), ('induce', 'VB'), ('the', 'DT'), ('viral', 'JJ'), ('21', 'CD'), ('pneumonia', 'NN'), (',', ','), ('2019-nCoV', 'JJ'), ('was', 'VBD'), ('quickly', 'RB'), ('predicted', 'VBN'), ('as', 'IN'), ('the', 'DT'), ('likely', 'JJ'), ('causative', 'JJ'), ('agent', 'NN'), ('.', '.'), ('22', 'CD'), ('The', 'DT'), ('ﬁrst', 'JJ'), ('sequence', 'NN'), ('of', 'IN'), ('2019-nCoV', 'JJ'), ('was', 'VBD'), ('posted', 'VBN'), ('online', 'JJ'), ('one', 'CD'), ('day', 'NN'), ('after', 'IN'), ('its', 'PRP$'), ('conﬁrmation', 'NN'), ('on', 'IN'), ('behalf', 'NN'), ('of', 'IN'), ('23', 'CD'), ('Dr.', 'NNP'), ('Yong-Zhen', 'NNP'), ('Zhang', 'NNP'), ('and', 'CC'), ('scientists', 'NNS'), ('at', 'IN'), ('Fudan', 'NNP'), ('University', 'NNP'), (',', ','), ('Shanghai', 'NNP'), ('[', 'VBZ'), ('4', 'CD'), (']', 'NN'), ('.', '.'), ('Subsequently', 'RB'), (',', ','), ('ﬁve', 'NNP'), ('additional', 'JJ'), ('24', 'CD'), ('2019-nCoV', 'JJ'), ('sequences', 'NNS'), ('were', 'VBD'), ('deposited', 'VBN'), ('on', 'IN'), ('the', 'DT'), ('GSAID', 'NNP'), ('database', 'NN'), ('on', 'IN'), ('11th', 'CD'), ('January', 'NNP'), ('from', 'IN'), ('institutes', 'NNS'), ('across', 'IN'), ('25', 'CD'), ('China', 'NNP'), ('(', '('), ('Chinese', 'JJ'), ('CDC', 'NNP'), (',', ','), ('Wuhan', 'NNP'), ('Institute', 'NNP'), ('of', 'IN'), ('Virology', 'NNP'), ('and', 'CC'), ('Chinese', 'NNP'), ('Academy', 'NNP'), ('of', 'IN'), ('Medical', 'NNP'), ('Sciences', 'NNP'), ('&', 'CC'), ('26', 'CD'), ('Peking', 'NNP'), ('Union', 'NNP'), ('Medical', 'NNP'), ('College', 'NNP'), (')', ')'), ('and', 'CC'), ('allowed', 'VBN'), ('researchers', 'NNS'), ('around', 'IN'), ('the', 'DT'), ('world', 'NN'), ('to', 'TO'), ('begin', 'VB'), ('analyzing', 'VBG'), ('the', 'DT'), ('new', 'JJ'), ('27', 'CD'), ('CoV', 'NNP'), ('[', 'VBD'), ('5', 'CD'), (']', 'NN'), ('.', '.'), ('By', 'IN'), ('17th', 'CD'), ('January', 'NNP'), (',', ','), ('there', 'EX'), ('were', 'VBD'), ('62', 'CD'), ('conﬁrmed', 'JJ'), ('cases', 'NNS'), ('in', 'IN'), ('China', 'NNP'), ('and', 'CC'), ('importantly', 'RB'), (',', ','), ('three', 'CD'), ('exported', 'VBD'), ('28', 'CD'), ('cases', 'NNS'), ('of', 'IN'), ('infected', 'JJ'), ('travelers', 'NNS'), ('who', 'WP'), ('were', 'VBD'), ('diagnosed', 'VBN'), ('in', 'IN'), ('Thailand', 'NNP'), ('(', '('), ('2', 'CD'), (')', ')'), ('and', 'CC'), ('Japan', 'NNP'), ('(', '('), ('1', 'CD'), (')', ')'), ('[', 'VBD'), ('6', 'CD'), (']', 'NN'), ('.', '.'), ('The', 'DT'), ('sequences', 'NNS'), ('of', 'IN'), ('29', 'CD'), ('these', 'DT'), ('exported', 'VBN'), ('cases', 'NNS'), ('and', 'CC'), ('several', 'JJ'), ('additional', 'JJ'), ('2019-nCoV', 'JJ'), ('isolated', 'VBN'), ('in', 'IN'), ('China', 'NNP'), ('have', 'VBP'), ('also', 'RB'), ('been', 'VBN'), ('deposited', 'VBN'), ('30', 'CD'), ('on', 'IN'), ('the', 'DT'), ('GSAID', 'NNP'), ('database', 'NN'), ('[', 'VBD'), ('5', 'CD'), (']', 'NN'), ('.', '.'), ('Diagnostic', 'JJ'), ('tests', 'NNS'), ('have', 'VBP'), ('subsequently', 'RB'), ('been', 'VBN'), ('developed', 'VBN'), ('and', 'CC'), ('some', 'DT'), ('are', 'VBP'), ('being', 'VBG'), ('31', 'CD'), ('used', 'VBN'), ('on', 'IN'), ('suspect', 'JJ'), ('cases', 'NNS'), ('identiﬁed', 'VBP'), ('in', 'IN'), ('other', 'JJ'), ('locations', 'NNS'), ('including', 'VBG'), ('Vietnam', 'NNP'), (',', ','), ('Singapore', 'NNP'), (',', ','), ('and', 'CC'), ('Hong', 'NNP'), ('Kong', 'NNP'), ('[', 'VBD'), ('7', 'CD'), (']', 'NNP'), ('.', '.'), ('32', 'CD'), ('To', 'TO'), ('date', 'NN'), ('there', 'RB'), ('have', 'VBP'), ('been', 'VBN'), ('twenty-six', 'JJ'), ('fatalities', 'NNS'), ('associated', 'VBN'), ('with', 'IN'), ('2019-nCoV', 'JJ'), ('infection', 'NN'), (',', ','), ('many', 'JJ'), ('of', 'IN'), ('these', 'DT'), ('cases', 'NNS'), ('33', 'CD'), ('had', 'VBD'), ('signiﬁcant', 'VBN'), ('co-morbidities', 'NNS'), ('and', 'CC'), ('were', 'VBD'), ('older', 'JJR'), ('in', 'IN'), ('age', 'NN'), ('(', '('), ('>', 'JJ'), ('50', 'CD'), (')', ')'), ('.', '.'), ('A', 'DT'), ('range', 'NN'), ('of', 'IN'), ('disease', 'NN'), ('has', 'VBZ'), ('been', 'VBN'), ('observed', 'VBN'), ('34', 'CD'), ('highlighted', 'VBN'), ('by', 'IN'), ('fever', 'NN'), (',', ','), ('dry', 'JJ'), ('cough', 'NN'), (',', ','), ('shortness', 'NN'), ('of', 'IN'), ('breath', 'NN'), (',', ','), ('and', 'CC'), ('leukopenia', 'NN'), (';', ':'), ('patients', 'NNS'), ('have', 'VBP'), ('included', 'VBN'), ('mild', 'JJ'), ('cases', 'NNS'), ('35', 'CD'), ('needing', 'VBG'), ('supportive', 'JJ'), ('care', 'NN'), ('to', 'TO'), ('severe', 'VB'), ('cases', 'NNS'), ('requiring', 'VBG'), ('extracorporeal', 'JJ'), ('membrane', 'NN'), ('oxygenation', 'NN'), (';', ':'), ('however', 'RB'), (',', ','), ('36', 'CD'), ('compared', 'VBN'), ('to', 'TO'), ('SARS-CoV', 'NNP'), ('(', '('), ('10', 'CD'), ('%', 'NN'), ('mortality', 'NN'), (')', ')'), ('and', 'CC'), ('MERS-CoV', 'NNP'), ('(', '('), ('35', 'CD'), ('%', 'NN'), ('mortality', 'NN'), (')', ')'), (',', ','), ('the', 'DT'), ('2019-nCoV', 'JJ'), ('appears', 'VBZ'), ('to', 'TO'), ('be', 'VB'), ('37', 'CD'), ('less', 'JJR'), ('virulent', 'NN'), ('at', 'IN'), ('this', 'DT'), ('point', 'NN'), ('with', 'IN'), ('the', 'DT'), ('exception', 'NN'), ('of', 'IN'), ('the', 'DT'), ('elderly', 'JJ'), ('and', 'CC'), ('those', 'DT'), ('with', 'IN'), ('underlying', 'JJ'), ('health', 'NN'), ('conditions', 'NNS'), ('.', '.'), ('38', 'CD'), ('Initial', 'JJ'), ('monitoring', 'NN'), ('of', 'IN'), ('case', 'NN'), ('close', 'JJ'), ('contacts', 'NNS'), ('had', 'VBD'), ('not', 'RB'), ('revealed', 'VBN'), ('any', 'DT'), ('further', 'JJ'), ('2019-nCoV', 'JJ'), ('cases', 'NNS'), ('.', '.'), ('However', 'RB'), (',', ','), ('39', 'CD'), ('modeling', 'VBG'), ('analysis', 'NN'), ('based', 'VBN'), ('on', 'IN'), ('oﬃcial', 'JJ'), ('case', 'NN'), ('numbers', 'NNS'), ('and', 'CC'), ('international', 'JJ'), ('spread', 'NN'), ('suggested', 'VBD'), ('that', 'IN'), ('there', 'EX'), ('may', 'MD'), ('40', 'CD'), ('be', 'VB'), ('cases', 'NNS'), ('going', 'VBG'), ('undetected', 'JJ'), ('[', '$'), ('8', 'CD'), (']', 'NNP'), ('.', '.'), ('On', 'IN'), ('19th', 'CD'), ('January', 'NNP'), (',', ','), ('these', 'DT'), ('fears', 'NNS'), ('were', 'VBD'), ('seemingly', 'RB'), ('conﬁrmed', 'VBN'), ('as', 'IN'), ('an', 'DT'), ('additional', 'JJ'), ('41', 'CD'), ('136', 'CD'), ('cases', 'NNS'), ('were', 'VBD'), ('added', 'VBN'), ('from', 'IN'), ('further', 'JJ'), ('surveys', 'NNS'), ('raising', 'VBG'), ('the', 'DT'), ('total', 'NN'), ('in', 'IN'), ('Wuhan', 'NNP'), ('to', 'TO'), ('198', 'CD'), ('infected', 'JJ'), ('patients', 'NNS'), ('[', 'VBP'), ('9', 'CD'), (']', 'NNP'), ('.', '.'), ('42', 'CD'), ('Among', 'IN'), ('the', 'DT'), ('198', 'CD'), ('total', 'JJ'), ('cases', 'NNS'), ('in', 'IN'), ('Wuhan', 'NNP'), (',', ','), ('170', 'CD'), ('remained', 'VBD'), ('in', 'IN'), ('hospitals', 'NNS'), (',', ','), ('126', 'CD'), ('mostly', 'RB'), ('with', 'IN'), ('mild', 'NN'), ('symptoms', 'NNS'), (',', ','), ('43', 'CD'), ('35', 'CD'), ('in', 'IN'), ('serious', 'JJ'), ('condition', 'NN'), (',', ','), ('and', 'CC'), ('9', 'CD'), ('in', 'IN'), ('critical', 'JJ'), ('condition', 'NN'), ('.', '.'), ('The', 'DT'), ('expanded', 'JJ'), ('numbers', 'NNS'), ('and', 'CC'), ('extended', 'JJ'), ('range', 'NN'), ('of', 'IN'), ('44', 'CD'), ('onset', 'NN'), ('dates', 'NNS'), ('(', '('), ('12', 'CD'), ('December', 'NNP'), ('2019–18', 'CD'), ('January', 'NNP'), ('2020', 'CD'), (')', ')'), ('suggested', 'VBD'), ('likely', 'JJ'), ('human', 'JJ'), ('to', 'TO'), ('human', 'JJ'), ('transmission', 'NN'), ('or', 'CC'), ('45', 'CD'), ('ongoing', 'JJ'), ('transmission', 'NN'), ('from', 'IN'), ('a', 'DT'), ('market', 'NN'), ('or', 'CC'), ('other', 'JJ'), ('primary', 'JJ'), ('sources', 'NNS'), ('.', '.'), ('On', 'IN'), ('20th', 'CD'), ('January', 'NNP'), (',', ','), ('the', 'DT'), ('outbreak', 'NN'), ('was', 'VBD'), ('46', 'CD'), ('further', 'RB'), ('expanded', 'VBN'), ('to', 'TO'), ('other', 'JJ'), ('parts', 'NNS'), ('of', 'IN'), ('China', 'NNP'), ('(', '('), ('Beijing', 'NNP'), (',', ','), ('Shanghai', 'NNP'), (',', ','), ('&', 'CC'), ('Shenzhen', 'NNP'), (')', ')'), ('as', 'RB'), ('well', 'RB'), ('as', 'IN'), ('another', 'DT'), ('exported', 'VBD'), ('47', 'CD'), ('cases', 'NNS'), ('to', 'TO'), ('South', 'NNP'), ('Korea', 'NNP'), ('.', '.'), ('As', 'IN'), ('of', 'IN'), ('January', 'NNP'), ('24', 'CD'), (',', ','), ('the', 'DT'), ('total', 'JJ'), ('case', 'NN'), ('number', 'NN'), ('has', 'VBZ'), ('expanded', 'VBN'), ('to', 'TO'), ('at', 'IN'), ('least', 'JJS'), ('870', 'CD'), ('total', 'JJ'), ('cases', 'NNS'), ('48', 'CD'), ('with', 'IN'), ('26', 'CD'), ('deaths', 'NNS'), ('across', 'IN'), ('25', 'CD'), ('provinces', 'NNS'), ('in', 'IN'), ('China', 'NNP'), ('and', 'CC'), ('19', 'CD'), ('exported', 'JJ'), ('cases', 'NNS'), ('in', 'IN'), ('10', 'CD'), ('countries', 'NNS'), ('[', 'VBP'), ('10', 'CD'), (']', 'NN'), ('.', '.'), ('Public', 'NNP'), ('health', 'NN'), ('49', 'CD'), ('authorities', 'NNS'), ('have', 'VBP'), ('quarantined', 'VBN'), ('travel', 'NN'), ('from', 'IN'), ('Wuhan', 'NNP'), ('to', 'TO'), ('limit', 'VB'), ('the', 'DT'), ('spread', 'NN'), ('of', 'IN'), ('the', 'DT'), ('virus', 'NN'), ('and', 'CC'), ('reports', 'NNS'), ('indicate', 'VBP'), ('50', 'CD'), ('other', 'JJ'), ('Chinese', 'JJ'), ('cities', 'NNS'), ('have', 'VBP'), ('also', 'RB'), ('been', 'VBN'), ('isolated', 'VBN'), ('[', 'JJ'), ('11', 'CD'), (']', 'NN'), ('.', '.'), ('With', 'IN'), ('the', 'DT'), ('heavy', 'JJ'), ('travel', 'NN'), ('season', 'NN'), ('for', 'IN'), ('lunar', 'NN'), ('New', 'NNP'), ('Year', 'NNP'), ('51', 'CD'), ('underway', 'NN'), ('in', 'IN'), ('Asia', 'NNP'), (',', ','), ('major', 'JJ'), ('concerns', 'NNS'), ('exist', 'VBP'), ('for', 'IN'), ('the', 'DT'), ('2019-nCoV', 'JJ'), ('outbreak', 'NN'), ('to', 'TO'), ('continue', 'VB'), ('and', 'CC'), ('spread', 'VB'), ('.', '.'), ('52', 'CD'), ('2', 'CD'), ('.', '.'), ('Origins', 'NNS'), ('of', 'IN'), ('2019-nCoV', 'JJ'), ('53', 'CD'), ('The', 'DT'), ('source', 'NN'), ('of', 'IN'), ('the', 'DT'), ('2019-nCoV', 'JJ'), ('is', 'VBZ'), ('still', 'RB'), ('unknown', 'JJ'), (',', ','), ('although', 'IN'), ('the', 'DT'), ('initial', 'JJ'), ('cases', 'NNS'), ('have', 'VBP'), ('been', 'VBN'), ('associated', 'VBN'), ('with', 'IN'), ('54', 'CD'), ('the', 'DT'), ('Huanan', 'NNP'), ('South', 'NNP'), ('China', 'NNP'), ('Seafood', 'NNP'), ('Market', 'NNP'), ('.', '.'), ('While', 'IN'), ('many', 'JJ'), ('of', 'IN'), ('the', 'DT'), ('early', 'JJ'), ('patients', 'NNS'), ('worked', 'VBN'), ('in', 'IN'), ('or', 'CC'), ('visited', 'VBD'), ('the', 'DT'), ('55', 'CD'), ('market', 'NN'), (',', ','), ('none', 'NN'), ('of', 'IN'), ('the', 'DT'), ('exported', 'JJ'), ('cases', 'NNS'), ('had', 'VBD'), ('contact', 'NN'), ('with', 'IN'), ('the', 'DT'), ('market', 'NN'), (',', ','), ('suggesting', 'VBG'), ('either', 'CC'), ('human', 'JJ'), ('to', 'TO'), ('human', 'JJ'), ('56', 'CD'), ('transmission', 'NN'), ('or', 'CC'), ('a', 'DT'), ('more', 'RBR'), ('widespread', 'JJ'), ('animal', 'NN'), ('source', 'NN'), ('[', 'VBD'), ('6', 'CD'), (']', 'NN'), ('.', '.'), ('In', 'IN'), ('addition', 'NN'), ('to', 'TO'), ('seafood', 'NN'), (',', ','), ('it', 'PRP'), ('is', 'VBZ'), ('reported', 'VBN'), ('on', 'IN'), ('social', 'JJ'), ('57', 'CD'), ('media', 'NNS'), ('that', 'WDT'), ('snakes', 'NNS'), (',', ','), ('birds', 'NNS'), ('and', 'CC'), ('other', 'JJ'), ('small', 'JJ'), ('mammals', 'NNS'), ('including', 'VBG'), ('marmots', 'NNS'), ('and', 'CC'), ('bats', 'NNS'), ('were', 'VBD'), ('sold', 'VBN'), ('at', 'IN'), ('the', 'DT'), ('58', 'CD'), ('Huanan', 'NNP'), ('South', 'NNP'), ('China', 'NNP'), ('Seafood', 'NNP'), ('Market', 'NNP'), ('.', '.'), ('The', 'DT'), ('WHO', 'NNP'), ('reported', 'VBD'), ('that', 'IN'), ('environmental', 'JJ'), ('samples', 'NNS'), ('taken', 'VBN'), ('from', 'IN'), ('the', 'DT'), ('59', 'CD'), ('marketplace', 'NN'), ('have', 'VBP'), ('come', 'VBN'), ('back', 'RP'), ('positive', 'JJ'), ('for', 'IN'), ('the', 'DT'), ('novel', 'JJ'), ('coronavirus', 'NN'), (',', ','), ('but', 'CC'), ('no', 'DT'), ('speciﬁc', 'NN'), ('animal', 'NN'), ('association', 'NN'), ('60', 'CD'), ('has', 'VBZ'), ('been', 'VBN'), ('identiﬁed', 'JJ'), ('[', '$'), ('6', 'CD'), (']', 'NNP'), ('.', '.'), ('An', 'DT'), ('initial', 'JJ'), ('report', 'NN'), ('suggested', 'VBD'), ('that', 'IN'), ('snakes', 'NNS'), ('might', 'MD'), ('be', 'VB'), ('the', 'DT'), ('possible', 'JJ'), ('source', 'NN'), ('based', 'VBN'), ('61', 'CD'), ('on', 'IN'), ('codon', 'NN'), ('usage', 'NN'), ('[', 'VBD'), ('12', 'CD'), (']', 'NN'), (',', ','), ('but', 'CC'), ('the', 'DT'), ('assertion', 'NN'), ('has', 'VBZ'), ('been', 'VBN'), ('disputed', 'VBN'), ('by', 'IN'), ('others', 'NNS'), ('[', 'VBP'), ('13', 'CD'), (']', 'NN'), ('.', '.'), ('Researchers', 'NNS'), ('are', 'VBP'), ('currently', 'RB'), ('62', 'CD'), ('working', 'VBG'), ('to', 'TO'), ('identify', 'VB'), ('the', 'DT'), ('source', 'NN'), ('of', 'IN'), ('2019-nCoV', 'JJ'), ('including', 'VBG'), ('possible', 'JJ'), ('intermediate', 'JJ'), ('animal', 'NN'), ('vectors', 'NNS'), ('.', '.'), ('63', 'CD'), ('A', 'NNP'), ('zoonotic', 'JJ'), ('reservoir', 'NN'), ('harkens', 'VBZ'), ('back', 'RB'), ('to', 'TO'), ('the', 'DT'), ('emergence', 'NN'), ('of', 'IN'), ('both', 'DT'), ('SARS-', 'NNP'), ('and', 'CC'), ('MERS-CoV', 'NNP'), ('.', '.'), ('SARS-CoV', 'NNP'), (',', ','), ('64', 'CD'), ('the', 'DT'), ('ﬁrst', 'NNP'), ('highly', 'RB'), ('pathogenic', 'JJ'), ('human', 'JJ'), ('CoV', 'NNP'), (',', ','), ('emerged', 'VBD'), ('in', 'IN'), ('2002', 'CD'), ('with', 'IN'), ('transmission', 'NN'), ('from', 'IN'), ('animals', 'NNS'), ('to', 'TO'), ('humans', 'NNS'), ('65', 'CD'), ('occurring', 'VBG'), ('in', 'IN'), ('wet', 'NN'), ('markets', 'NNS'), ('.', '.'), ('Surveillance', 'NN'), ('eﬀorts', 'NNS'), ('found', 'VBD'), ('SARS-CoV', 'NNP'), ('viral', 'JJ'), ('RNA', 'NNP'), ('in', 'IN'), ('both', 'DT'), ('palm', 'JJ'), ('civets', 'NNS'), ('and', 'CC'), ('66', 'CD'), ('raccoon', 'NN'), ('dogs', 'NNS'), ('sold', 'VBN'), ('in', 'IN'), ('these', 'DT'), ('wet', 'JJ'), ('markets', 'NNS'), ('[', 'VBP'), ('14', 'CD'), (']', 'NN'), (';', ':'), ('however', 'RB'), (',', ','), ('SARS-CoV', 'NNP'), ('was', 'VBD'), ('not', 'RB'), ('found', 'VBN'), ('in', 'IN'), ('the', 'DT'), ('wild', 'NN'), (',', ','), ('suggesting', 'VBG'), ('67', 'CD'), ('that', 'IN'), ('those', 'DT'), ('species', 'NNS'), ('served', 'VBD'), ('as', 'IN'), ('intermediary', 'JJ'), ('reservoir', 'NN'), ('as', 'IN'), ('the', 'DT'), ('virus', 'NN'), ('adapted', 'VBD'), ('to', 'TO'), ('more', 'RBR'), ('eﬃciently', 'RB'), ('infect', 'JJ'), ('68', 'CD'), ('humans', 'NNS'), ('.', '.'), ('Further', 'JJ'), ('surveillance', 'NN'), ('eﬀorts', 'NNS'), ('identiﬁed', 'VBP'), ('highly', 'RB'), ('related', 'JJ'), ('CoVs', 'NNP'), ('in', 'IN'), ('bat', 'NN'), ('species', 'NNS'), ('[', 'VBP'), ('15', 'CD'), (']', 'NN'), ('.', '.'), ('More', 'JJR'), ('recent', 'JJ'), ('69', 'CD'), ('work', 'NN'), ('has', 'VBZ'), ('demonstrated', 'VBN'), ('that', 'IN'), ('several', 'JJ'), ('bat', 'NN'), ('CoVs', 'NNP'), ('are', 'VBP'), ('capable', 'JJ'), ('of', 'IN'), ('infecting', 'VBG'), ('human', 'JJ'), ('cells', 'NNS'), ('without', 'IN'), ('a', 'DT'), ('need', 'NN'), ('for', 'IN'), ('70', 'CD'), ('intermediate', 'JJ'), ('adaptation', 'NN'), ('[', 'VBD'), ('16,17', 'CD'), (']', 'NN'), ('.', '.'), ('Additionally', 'RB'), (',', ','), ('human', 'JJ'), ('serology', 'NN'), ('data', 'NNS'), ('shows', 'VBZ'), ('recognition', 'NN'), ('of', 'IN'), ('bat', 'NN'), ('CoV', 'NNP'), ('71', 'CD'), ('proteins', 'NNS'), ('and', 'CC'), ('indicates', 'VBZ'), ('that', 'IN'), ('low-level', 'JJ'), ('zoonotic', 'JJ'), ('transmission', 'NN'), ('of', 'IN'), ('SARS-like', 'NNP'), ('bat', 'NN'), ('coronaviruses', 'VBZ'), ('occurs', 'VBZ'), ('72', 'CD'), ('outside', 'NN'), ('of', 'IN'), ('recognized', 'VBN'), ('outbreaks', 'NNS'), ('[', '$'), ('18', 'CD'), (']', 'NNP'), ('.', '.'), ('MERS-CoV', 'NNP'), ('is', 'VBZ'), ('also', 'RB'), ('a', 'DT'), ('zoonotic', 'JJ'), ('virus', 'NN'), ('with', 'IN'), ('possible', 'JJ'), ('origins', 'NNS'), ('in', 'IN'), ('73', 'CD'), ('bats', 'NNS'), ('[', 'VBP'), ('19,20', 'CD'), (']', 'NN'), (',', ','), ('although', 'IN'), ('camels', 'NNS'), ('are', 'VBP'), ('endemically', 'RB'), ('infected', 'VBN'), ('and', 'CC'), ('camel', 'JJ'), ('contact', 'NN'), ('is', 'VBZ'), ('frequently', 'RB'), ('reported', 'VBN'), ('during', 'IN'), ('74', 'CD'), ('primary', 'JJ'), ('MERS-CoV', 'JJ'), ('cases', 'NNS'), ('[', 'VBP'), ('21', 'CD'), (']', 'NN'), ('.', '.'), ('For', 'IN'), ('SARS-CoV', 'NNP'), (',', ','), ('strict', 'JJ'), ('quarantine', 'NN'), ('and', 'CC'), ('the', 'DT'), ('culling', 'NN'), ('of', 'IN'), ('live', 'JJ'), ('markets', 'NNS'), ('in', 'IN'), ('SE', 'NNP'), ('75', 'CD'), ('Asia', 'NNP'), ('played', 'VBD'), ('a', 'DT'), ('major', 'JJ'), ('role', 'NN'), ('in', 'IN'), ('ending', 'VBG'), ('the', 'DT'), ('outbreak', 'NN'), ('.', '.'), ('With', 'IN'), ('the', 'DT'), ('cultural', 'JJ'), ('importance', 'NN'), ('of', 'IN'), ('camels', 'NNS'), (',', ','), ('a', 'DT'), ('similar', 'JJ'), ('76', 'CD'), ('approach', 'NN'), ('for', 'IN'), ('MERS-CoV', 'NNP'), ('was', 'VBD'), ('not', 'RB'), ('an', 'DT'), ('option', 'NN'), ('and', 'CC'), ('periodic', 'JJ'), ('outbreaks', 'NNS'), ('continue', 'VBP'), ('in', 'IN'), ('the', 'DT'), ('Middle', 'NNP'), ('East', 'NNP'), ('.', '.'), ('These', 'DT'), ('77', 'CD'), ('lessons', 'NNS'), ('from', 'IN'), ('SARS', 'NNP'), ('and', 'CC'), ('MERS', 'NNP'), ('highlight', 'VBD'), ('the', 'DT'), ('importance', 'NN'), ('of', 'IN'), ('rapidly', 'RB'), ('ﬁnding', 'VBG'), ('the', 'DT'), ('source', 'NN'), ('for', 'IN'), ('2019-nCoV', 'JJ'), ('in', 'IN'), ('78', 'CD'), ('order', 'NN'), ('to', 'TO'), ('stem', 'VB'), ('the', 'DT'), ('ongoing', 'JJ'), ('outbreak', 'NN'), ('.', '.'), ('79', 'CD'), ('3', 'CD'), ('.', '.'), ('Susceptible', 'JJ'), ('Populations', 'NNS'), ('80', 'CD'), ('With', 'IN'), ('limited', 'JJ'), ('patient', 'NN'), ('data', 'NNS'), (',', ','), ('it', 'PRP'), ('is', 'VBZ'), ('diﬃcult', 'JJ'), ('to', 'TO'), ('make', 'VB'), ('robust', 'JJ'), ('declarations', 'NNS'), ('about', 'IN'), ('populations', 'NNS'), ('that', 'IN'), ('81', 'CD'), ('may', 'MD'), ('be', 'VB'), ('most', 'RBS'), ('susceptible', 'JJ'), ('to', 'TO'), ('2019-nCoV', 'JJ'), ('.', '.'), ('However', 'RB'), (',', ','), ('disease', 'JJ'), ('severity', 'NN'), ('following', 'VBG'), ('SARS-', 'JJ'), ('and', 'CC'), ('MERS-CoV', 'JJ'), ('82', 'CD'), ('corresponded', 'VBD'), ('strongly', 'RB'), ('to', 'TO'), ('underlying', 'VBG'), ('host', 'NN'), ('conditions', 'NNS'), ('including', 'VBG'), ('age', 'NN'), (',', ','), ('biological', 'JJ'), ('sex', 'NN'), (',', ','), ('and', 'CC'), ('overall', 'JJ'), ('83', 'CD'), ('health', 'NN'), ('[', 'NN'), ('22', 'CD'), (']', 'NN'), ('.', '.'), ('Early', 'JJ'), ('patient', 'NN'), ('reports', 'NNS'), ('from', 'IN'), ('2019-nCoV', 'JJ'), ('ﬁnd', 'NNP'), ('similar', 'JJ'), ('trends', 'NNS'), ('.', '.'), ('Severe', 'NNP'), ('illness', 'NN'), ('with', 'IN'), ('2019-nCoV', 'JJ'), ('has', 'VBZ'), ('84', 'CD'), ('been', 'VBN'), ('associated', 'VBN'), ('with', 'IN'), ('elderly', 'JJ'), ('patients', 'NNS'), ('(', '('), ('>', 'JJ'), ('60', 'CD'), ('years', 'NNS'), ('old', 'JJ'), (')', ')'), (',', ','), ('including', 'VBG'), ('twenty-six', 'JJ'), ('lethal', 'JJ'), ('cases', 'NNS'), ('.', '.'), ('These', 'DT'), ('ﬁndings', 'NNS'), ('85', 'CD'), ('correspond', 'NN'), ('to', 'TO'), ('increased', 'VBN'), ('severity', 'NN'), ('and', 'CC'), ('death', 'NN'), ('in', 'IN'), ('people', 'NNS'), ('over', 'IN'), ('the', 'DT'), ('age', 'NN'), ('of', 'IN'), ('50', 'CD'), ('following', 'VBG'), ('both', 'DT'), ('SARS', 'NNP'), ('and', 'CC'), ('86', 'CD'), ('MERS-CoV', 'JJ'), ('infection', 'NN'), ('[', 'VBD'), ('23,24', 'CD'), (']', 'NN'), ('.', '.'), ('Similarly', 'RB'), (',', ','), ('the', 'DT'), ('underlying', 'VBG'), ('health', 'NN'), ('of', 'IN'), ('the', 'DT'), ('patient', 'NN'), ('likely', 'RB'), ('plays', 'VBZ'), ('a', 'DT'), ('critical', 'JJ'), ('87', 'CD'), ('role', 'NN'), ('in', 'IN'), ('overall', 'JJ'), ('susceptibility', 'NN'), ('.', '.'), ('For', 'IN'), ('the', 'DT'), ('2019-nCoV', 'JJ'), (',', ','), ('limited', 'JJ'), ('comorbidity', 'NN'), ('data', 'NNS'), ('is', 'VBZ'), ('available', 'JJ'), (';', ':'), ('however', 'RB'), (',', ','), ('88', 'CD'), ('the', 'DT'), ('twenty-six', 'JJ'), ('patients', 'NNS'), ('that', 'WDT'), ('have', 'VBP'), ('succumbed', 'VBN'), ('to', 'TO'), ('the', 'DT'), ('novel', 'JJ'), ('CoV', 'NNP'), ('had', 'VBD'), ('signiﬁcant', 'JJ'), ('health', 'NN'), ('conditions', 'NNS'), ('89', 'CD'), ('including', 'VBG'), ('hypertension', 'NN'), (',', ','), ('diabetes', 'VBZ'), (',', ','), ('heart', 'NN'), ('and/or', 'NN'), ('kidney', 'NN'), ('function', 'NN'), ('issues', 'NNS'), ('that', 'WDT'), ('may', 'MD'), ('have', 'VB'), ('made', 'VBN'), ('them', 'PRP'), ('more', 'RBR'), ('90', 'CD'), ('susceptible', 'JJ'), ('.', '.'), ('For', 'IN'), ('the', 'DT'), ('MERS-CoV', 'NNP'), ('outbreak', 'NN'), (',', ','), ('smoking', 'NN'), (',', ','), ('hypertension', 'NN'), (',', ','), ('diabetes', 'VBZ'), (',', ','), ('cardiovascular', 'JJ'), ('disease', 'NN'), (',', ','), ('91', 'CD'), ('and/or', 'NN'), ('other', 'JJ'), ('chronic', 'JJ'), ('illnesses', 'NNS'), ('have', 'VBP'), ('been', 'VBN'), ('present', 'JJ'), ('in', 'IN'), ('the', 'DT'), ('majority', 'NN'), ('of', 'IN'), ('deaths', 'NNS'), ('and', 'CC'), ('correspond', 'NN'), ('to', 'TO'), ('ﬁndings', 'NNS'), ('in', 'IN'), ('92', 'CD'), ('animal', 'JJ'), ('models', 'NNS'), ('[', 'VBP'), ('25', 'CD'), (']', 'NN'), ('.', '.'), ('The', 'DT'), ('results', 'NNS'), ('indicate', 'JJ'), ('vigilance', 'NN'), ('is', 'VBZ'), ('necessary', 'JJ'), ('for', 'IN'), ('these', 'DT'), ('vulnerable', 'JJ'), ('patients', 'NNS'), ('following', 'VBG'), ('93', 'CD'), ('2019-nCoV', 'JJ'), ('infection', 'NN'), ('.', '.'), ('94', 'CD'), ('4', 'CD'), ('.', '.'), ('Insights', 'NNS'), ('from', 'IN'), ('the', 'DT'), ('2019-nCoV', 'JJ'), ('Sequence', 'NNP'), ('95', 'CD'), ('The', 'DT'), ('rapid', 'JJ'), ('sequencing', 'NN'), ('of', 'IN'), ('the', 'DT'), ('nearly', 'RB'), ('30,000', 'CD'), ('nucleotide', 'JJ'), ('2019-nCoV', 'JJ'), ('genome', 'NN'), ('by', 'IN'), ('Dr.', 'NNP'), ('Zhang', 'NNP'), ('’', 'NNP'), ('s', 'VBD'), ('group', 'NN'), ('at', 'IN'), ('96', 'CD'), ('Fudan', 'NNP'), ('University', 'NNP'), ('and', 'CC'), ('several', 'JJ'), ('other', 'JJ'), ('groups', 'NNS'), ('in', 'IN'), ('China', 'NNP'), ('illustrate', 'VBP'), ('the', 'DT'), ('dedication', 'NN'), ('and', 'CC'), ('increased', 'VBD'), ('capacity', 'NN'), ('97', 'CD'), ('of', 'IN'), ('the', 'DT'), ('scientiﬁc', 'JJ'), ('infrastructure', 'NN'), ('in', 'IN'), ('China', 'NNP'), ('[', 'NNP'), ('4,5', 'CD'), (']', 'NNP'), ('.', '.'), ('For', 'IN'), ('SARS-CoV', 'NNP'), (',', ','), ('the', 'DT'), ('causative', 'JJ'), ('agent', 'NN'), ('was', 'VBD'), ('unknown', 'JJ'), ('for', 'IN'), ('98', 'CD'), ('months', 'NNS'), ('and', 'CC'), ('subsequently', 'RB'), ('took', 'VBD'), ('over', 'RP'), ('four', 'CD'), ('weeks', 'NNS'), ('until', 'IN'), ('a', 'DT'), ('full', 'JJ'), ('genome', 'NN'), ('was', 'VBD'), ('released', 'VBN'), ('[', 'JJ'), ('26', 'CD'), (']', 'NN'), ('.', '.'), ('Similarly', 'RB'), (',', ','), ('99', 'CD'), ('MERS-CoV', 'NN'), ('was', 'VBD'), ('only', 'RB'), ('identiﬁed', 'RB'), ('after', 'IN'), ('several', 'JJ'), ('months', 'NNS'), ('of', 'IN'), ('testing', 'VBG'), ('and', 'CC'), ('a', 'DT'), ('full-length', 'JJ'), ('genome', 'NN'), ('available', 'JJ'), ('100', 'CD'), ('about', 'IN'), ('a', 'DT'), ('month', 'NN'), ('later', 'RB'), ('[', 'VBD'), ('27', 'CD'), (']', 'NN'), ('.', '.'), ('In', 'IN'), ('contrast', 'NN'), (',', ','), ('time', 'NN'), ('from', 'IN'), ('the', 'DT'), ('ﬁrst', 'NNP'), ('date', 'NN'), ('of', 'IN'), ('patient', 'JJ'), ('onset', 'NN'), ('(', '('), ('12', 'CD'), ('December', 'NNP'), ('2019', 'CD'), (')', ')'), ('to', 'TO'), ('101', 'CD'), ('the', 'DT'), ('report', 'NN'), ('of', 'IN'), ('several', 'JJ'), ('2019-nCoV', 'JJ'), ('full-length', 'JJ'), ('genomes', 'NNS'), ('took', 'VBD'), ('less', 'JJR'), ('than', 'IN'), ('one', 'CD'), ('month', 'NN'), ('.', '.'), ('Combined', 'VBN'), ('with', 'IN'), ('the', 'DT'), ('102', 'CD'), ('immense', 'JJ'), ('pressure', 'NN'), ('of', 'IN'), ('an', 'DT'), ('ongoing', 'JJ'), ('outbreak', 'NN'), ('with', 'IN'), ('an', 'DT'), ('unknown', 'JJ'), ('agent', 'NN'), (',', ','), ('the', 'DT'), ('eﬀort', 'NN'), ('of', 'IN'), ('these', 'DT'), ('scientists', 'NNS'), ('should', 'MD'), ('103', 'CD'), ('be', 'VB'), ('considered', 'VBN'), ('nothing', 'NN'), ('less', 'JJR'), ('than', 'IN'), ('remarkable', 'JJ'), ('.', '.'), ('104', 'CD'), ('Building', 'NN'), ('from', 'IN'), ('the', 'DT'), ('sequence', 'NN'), (',', ','), ('the', 'DT'), ('nucleotide', 'JJ'), ('alignment', 'JJ'), ('quickly', 'RB'), ('distinguished', 'VBD'), ('the', 'DT'), ('novel', 'JJ'), ('virus', 'NN'), ('as', 'IN'), ('a', 'DT'), ('105', 'CD'), ('group', 'NN'), ('2B', 'CD'), ('CoV', 'NNP'), (',', ','), ('distinct', 'NN'), ('from', 'IN'), ('the', 'DT'), ('SARS-CoV', 'NNP'), ('strains', 'NNS'), ('[', 'VBP'), ('4,5', 'CD'), (']', 'NN'), ('.', '.'), ('Examining', 'VBG'), ('the', 'DT'), ('whole', 'JJ'), ('genome', 'NN'), (',', ','), ('2019-nCoV', 'JJ'), ('106', 'CD'), ('maintains', 'NNS'), ('~80', 'CD'), ('%', 'NN'), ('nucleotide', 'JJ'), ('identity', 'NN'), ('to', 'TO'), ('the', 'DT'), ('original', 'JJ'), ('SARS', 'NNP'), ('epidemic', 'JJ'), ('viruses', 'NNS'), ('.', '.'), ('Its', 'PRP$'), ('closest', 'JJS'), ('whole', 'JJ'), ('genome', 'NN'), ('107', 'CD'), ('relatives', 'NNS'), ('are', 'VBP'), ('two', 'CD'), ('bat', 'IN'), ('SARS-like', 'JJ'), ('CoVs', 'NNP'), ('(', '('), ('ZC45', 'NNP'), ('and', 'CC'), ('ZXC21', 'NNP'), (')', ')'), ('that', 'WDT'), ('shared', 'VBD'), ('~89', 'NNP'), ('%', 'NN'), ('sequence', 'NN'), ('identity', 'NN'), ('with', 'IN'), ('108', 'CD'), ('2019-nCoV', 'JJ'), (';', ':'), ('these', 'DT'), ('CoV', 'NNP'), ('sequences', 'NNS'), ('were', 'VBD'), ('deposited', 'VBN'), ('in', 'IN'), ('early', 'JJ'), ('2018', 'CD'), ('from', 'IN'), ('Zhejiang', 'NNP'), ('province', 'NN'), ('in', 'IN'), ('R.', 'NNP'), ('sinicus', 'VBD'), ('109', 'CD'), ('bats', 'NNS'), ('in', 'IN'), ('China', 'NNP'), ('.', '.'), ('Comparing', 'VBG'), ('across', 'IN'), ('the', 'DT'), ('deposited', 'JJ'), ('2019-nCoV', 'JJ'), ('strains', 'NNS'), ('ﬁnds', 'VBZ'), ('>', 'JJ'), ('99.5', 'CD'), ('%', 'NN'), ('conservation', 'NN'), (';', ':'), ('the', 'DT'), ('lack', 'NN'), ('110', 'CD'), ('of', 'IN'), ('diversity', 'NN'), ('suggests', 'VBZ'), ('a', 'DT'), ('common', 'JJ'), ('lineage', 'NN'), ('and', 'CC'), ('source', 'NN'), ('with', 'IN'), ('emergence', 'NN'), ('not', 'RB'), ('likely', 'JJ'), ('having', 'VBG'), ('occurred', 'VBD'), ('that', 'IN'), ('111', 'CD'), ('long', 'RB'), ('ago', 'RB'), ('[', 'JJ'), ('28,29', 'CD'), (']', 'NN'), ('.', '.'), ('A', 'DT'), ('recent', 'JJ'), ('report', 'NN'), ('has', 'VBZ'), ('subsequently', 'RB'), ('identiﬁed', 'VBN'), ('a', 'DT'), ('bat', 'NN'), ('CoV', 'NNP'), ('sequence', 'NN'), (',', ','), ('RaTG3', 'NNP'), (',', ','), ('with', 'IN'), ('92', 'CD'), ('%', 'NN'), ('112', 'CD'), ('sequence', 'NN'), ('identity', 'NN'), ('with', 'IN'), ('the', 'DT'), ('novel', 'NN'), ('virus', 'NN'), ('which', 'WDT'), ('argues', 'VBZ'), ('for', 'IN'), ('bat', 'NN'), ('origins', 'NNS'), ('for', 'IN'), ('the', 'DT'), ('2019-nCoV', 'JJ'), ('[', 'NN'), ('30', 'CD'), (']', 'NN'), ('.', '.'), ('113', 'CD'), ('We', 'PRP'), ('next', 'JJ'), ('shifted', 'VBD'), ('analysis', 'NN'), ('to', 'TO'), ('the', 'DT'), ('nucleocapsid', 'NN'), ('(', '('), ('N', 'NNP'), (')', ')'), ('protein', 'NN'), (',', ','), ('the', 'DT'), ('most', 'RBS'), ('abundant', 'JJ'), ('protein', 'NN'), ('produced', 'VBD'), ('in', 'IN'), ('114', 'CD'), ('CoVs', 'NNP'), ('.', '.'), ('Generally', 'NNP'), (',', ','), ('the', 'DT'), ('N', 'NNP'), ('protein', 'NN'), ('is', 'VBZ'), ('well', 'RB'), ('conserved', 'VBN'), ('across', 'IN'), ('CoV', 'NNP'), ('families', 'NNS'), ('including', 'VBG'), ('group', 'NN'), ('2B', 'CD'), ('[', '$'), ('31', 'CD'), (']', 'NNP'), ('.', '.'), ('The', 'DT'), ('N', 'NNP'), ('115', 'CD'), ('protein', 'NN'), ('for', 'IN'), ('2019-nCoV', 'JJ'), ('is', 'VBZ'), ('no', 'DT'), ('exception', 'NN'), ('with', 'IN'), ('~90', 'NNP'), ('%', 'NN'), ('amino', 'NN'), ('acid', 'NN'), ('identity', 'NN'), ('to', 'TO'), ('the', 'DT'), ('SARS-CoV', 'NNP'), ('N', 'NNP'), ('protein', 'NN'), ('.', '.'), ('While', 'IN'), ('116', 'CD'), ('less', 'JJR'), ('conserved', 'VBN'), ('than', 'IN'), ('other', 'JJ'), ('group', 'NN'), ('2B', 'CD'), ('CoVs', 'NNP'), ('like', 'IN'), ('HKU3-CoV', 'NNP'), ('and', 'CC'), ('SHC014-CoV', 'NNP'), (',', ','), ('2019-nCoV', 'JJ'), ('antibodies', 'NNS'), ('117', 'CD'), ('against', 'IN'), ('the', 'DT'), ('N', 'NNP'), ('protein', 'NN'), ('would', 'MD'), ('likely', 'RB'), ('recognize', 'VB'), ('and', 'CC'), ('bind', 'VB'), ('the', 'DT'), ('SARS-CoV', 'NNP'), ('N', 'NNP'), ('protein', 'NN'), ('as', 'RB'), ('well', 'RB'), ('.', '.'), ('N', 'NNP'), ('antibodies', 'VBZ'), ('118', 'CD'), ('do', 'NN'), ('not', 'RB'), ('provide', 'VB'), ('immunity', 'NN'), ('to', 'TO'), ('2019-nCoV', 'JJ'), ('infection', 'NN'), (',', ','), ('but', 'CC'), ('the', 'DT'), ('cross', 'NN'), ('reactivity', 'NN'), ('with', 'IN'), ('SARS-CoV', 'NNP'), ('N', 'NNP'), ('protein', 'VBZ'), ('119', 'CD'), ('would', 'MD'), ('allow', 'VB'), ('a', 'DT'), ('serum', 'NN'), ('based', 'VBN'), ('assay', 'NN'), ('to', 'TO'), ('determine', 'VB'), ('exposure', 'NN'), ('to', 'TO'), ('the', 'DT'), ('novel', 'JJ'), ('CoV', 'NNP'), ('in', 'IN'), ('asymptomatic', 'JJ'), ('cases', 'NNS'), ('.', '.'), ('While', 'IN'), ('120', 'CD'), ('previous', 'JJ'), ('studies', 'NNS'), ('have', 'VBP'), ('found', 'VBN'), ('serum', 'JJ'), ('reactivity', 'NN'), ('to', 'TO'), ('group', 'NN'), ('2B', 'CD'), ('virus', 'NN'), ('N', 'NNP'), ('proteins', 'VBZ'), ('in', 'IN'), ('Chinese', 'JJ'), ('populations', 'NNS'), ('[', 'VBP'), ('18', 'CD'), (']', 'NN'), (',', ','), ('121', 'CD'), ('exposure', 'NN'), ('to', 'TO'), ('2019-nCoV', 'JJ'), ('should', 'MD'), ('increase', 'VB'), ('the', 'DT'), ('dilution', 'NN'), ('factor', 'NN'), ('substantially', 'RB'), ('if', 'IN'), ('exposure/infection', 'NN'), ('had', 'VBD'), ('122', 'CD'), ('occurred', 'VBN'), ('.', '.'), ('Importantly', 'RB'), (',', ','), ('this', 'DT'), ('information', 'NN'), ('may', 'MD'), ('provide', 'VB'), ('insights', 'NNS'), ('about', 'IN'), ('susceptibly', 'RB'), ('and', 'CC'), ('potential', 'JJ'), ('routes', 'NNS'), ('of', 'IN'), ('123', 'CD'), ('spread', 'NN'), ('through', 'IN'), ('asymptomatic', 'JJ'), ('carriers', 'NNS'), ('.', '.'), ('124', 'CD'), ('Examining', 'VBG'), ('further', 'RB'), (',', ','), ('we', 'PRP'), ('next', 'JJ'), ('compared', 'VBN'), ('the', 'DT'), ('spike', 'NN'), ('proteins', 'NNS'), (',', ','), ('the', 'DT'), ('critical', 'JJ'), ('glycoprotein', 'NN'), ('responsible', 'JJ'), ('125', 'CD'), ('for', 'IN'), ('virus', 'NN'), ('binding', 'NN'), ('and', 'CC'), ('entry', 'NN'), ('.', '.'), ('Overall', 'UH'), (',', ','), ('the', 'DT'), ('2019-nCoV', 'JJ'), ('spike', 'NN'), ('protein', 'NN'), ('has', 'VBZ'), ('roughly', 'RB'), ('75', 'CD'), ('%', 'NN'), ('amino', 'NN'), ('acid', 'VBZ'), ('126', 'CD'), ('identity', 'NN'), ('with', 'IN'), ('SARS-CoV', 'NNP'), (',', ','), ('which', 'WDT'), ('is', 'VBZ'), ('less', 'RBR'), ('conserved', 'VBN'), ('than', 'IN'), ('other', 'JJ'), ('group', 'NN'), ('2B', 'CD'), ('CoVs', 'NNP'), ('including', 'VBG'), ('HKU3-CoV', 'NNP'), ('[', 'NN'), ('31', 'CD'), (']', 'NN'), ('.', '.'), ('127', 'CD'), ('However', 'RB'), (',', ','), ('narrowing', 'VBG'), ('analysis', 'NN'), ('to', 'TO'), ('the', 'DT'), ('spike', 'NN'), ('receptor', 'NN'), ('binding', 'VBG'), ('domain', 'NN'), ('(', '('), ('RBD', 'NNP'), (')', ')'), ('of', 'IN'), ('SARS-CoV', 'NNP'), ('(', '('), ('amino', 'JJ'), ('acids', 'NNS'), ('128', 'CD'), ('318–518', 'CD'), (')', ')'), (',', ','), ('the', 'DT'), ('2019-nCoV', 'JJ'), ('RBD', 'NNP'), ('is', 'VBZ'), ('73', 'CD'), ('%', 'NN'), ('conserved', 'VBD'), ('relative', 'JJ'), ('to', 'TO'), ('the', 'DT'), ('epidemic', 'JJ'), ('RBD', 'NNP'), ('.', '.'), ('This', 'DT'), ('conservation', 'NN'), ('129', 'CD'), ('level', 'NN'), ('places', 'NNS'), ('the', 'DT'), ('2019-nCoV', 'JJ'), ('RBD', 'NNP'), ('between', 'IN'), ('HKU3-4', 'NNP'), ('(', '('), ('62.7', 'CD'), ('%', 'NN'), ('conservation', 'NN'), (')', ')'), (',', ','), ('a', 'DT'), ('bat', 'NN'), ('virus', 'NN'), ('that', 'WDT'), ('can', 'MD'), ('not', 'RB'), ('use', 'VB'), ('130', 'CD'), ('human', 'JJ'), ('ACE2', 'NNP'), (',', ','), ('and', 'CC'), ('rSHC014', 'NN'), ('(', '('), ('80.8', 'CD'), ('%', 'NN'), (')', ')'), (',', ','), ('the', 'DT'), ('most', 'RBS'), ('divergent', 'JJ'), ('bat', 'NN'), ('CoV', 'NNP'), ('spike', 'NN'), ('known', 'VBN'), ('to', 'TO'), ('use', 'VB'), ('human', 'JJ'), ('ACE2', 'NNP'), ('for', 'IN'), ('131', 'CD'), ('entry', 'NN'), ('[', 'VBD'), ('16,32', 'CD'), (']', 'NN'), ('.', '.'), ('Importantly', 'RB'), (',', ','), ('the', 'DT'), ('key', 'JJ'), ('binding', 'NN'), ('residues', 'NNS'), ('for', 'IN'), ('SARS-CoV', 'NNP'), ('have', 'VBP'), ('been', 'VBN'), ('identiﬁed', 'JJ'), ('[', '$'), ('33', 'CD'), (']', 'NNP'), (';', ':'), ('among', 'IN'), ('132', 'CD'), ('these', 'DT'), ('fourteen', 'JJ'), ('residues', 'NNS'), ('predicted', 'VBN'), ('to', 'TO'), ('interact', 'VB'), ('directly', 'RB'), ('with', 'IN'), ('human', 'JJ'), ('ACE2', 'NNP'), (',', ','), ('the', 'DT'), ('receptor', 'NN'), ('for', 'IN'), ('SARS-CoV', 'NNP'), (',', ','), ('133', 'CD'), ('eight', 'CD'), ('amino', 'NN'), ('acids', 'NNS'), ('are', 'VBP'), ('conserved', 'VBN'), ('in', 'IN'), ('2019-nCoV', 'JJ'), ('.', '.'), ('Notably', 'RB'), (',', ','), ('several', 'JJ'), ('of', 'IN'), ('these', 'DT'), ('residues', 'NNS'), ('are', 'VBP'), ('also', 'RB'), ('conserved', 'VBN'), ('134', 'CD'), ('relative', 'JJ'), ('to', 'TO'), ('WIV1-', 'JJ'), ('and', 'CC'), ('WIV16-CoV', 'JJ'), (',', ','), ('two', 'CD'), ('bat', 'NN'), ('strains', 'NNS'), ('closely', 'RB'), ('related', 'VBN'), ('to', 'TO'), ('SARS-CoV', 'NNP'), ('and', 'CC'), ('known', 'VBN'), ('to', 'TO'), ('use', 'VB'), ('135', 'CD'), ('human', 'JJ'), ('ACE2', 'NNP'), ('[', 'NNP'), ('17,34', 'CD'), (']', 'NNP'), ('.', '.'), ('Initial', 'JJ'), ('structural', 'JJ'), ('modeling', 'NN'), ('suggest', 'NN'), ('that', 'IN'), ('the', 'DT'), ('2019-nCoV', 'JJ'), ('may', 'MD'), ('be', 'VB'), ('able', 'JJ'), ('to', 'TO'), ('use', 'VB'), ('human', 'JJ'), ('136', 'CD'), ('ACE2', 'NNP'), ('as', 'IN'), ('a', 'DT'), ('receptor', 'NN'), (',', ','), ('although', 'IN'), ('its', 'PRP$'), ('aﬃnity', 'NN'), ('m', 'NN'), ('be', 'VB'), ('reduced', 'VBN'), ('relative', 'JJ'), ('to', 'TO'), ('the', 'DT'), ('epidemic', 'JJ'), ('SARS-CoV', 'JJ'), ('strains', 'NNS'), ('[', 'VBP'), ('35', 'CD'), (']', 'NNP'), ('.', '.'), ('137', 'CD'), ('A', 'NNP'), ('subsequent', 'JJ'), ('report', 'NN'), ('demonstrated', 'VBD'), ('that', 'IN'), ('the', 'DT'), ('receptor', 'NN'), ('binding', 'VBG'), ('domain', 'NN'), ('of', 'IN'), ('2019-nCoV', 'JJ'), ('was', 'VBD'), ('capable', 'JJ'), ('of', 'IN'), ('138', 'CD'), ('binding', 'VBG'), ('ACE2', 'NNP'), ('in', 'IN'), ('the', 'DT'), ('context', 'NN'), ('of', 'IN'), ('the', 'DT'), ('SARS-CoV', 'NNP'), ('spike', 'NN'), ('protein', 'NN'), ('[', 'VBD'), ('36', 'CD'), (']', 'NN'), ('.', '.'), ('In', 'IN'), ('addition', 'NN'), (',', ','), ('another', 'DT'), ('rapid', 'JJ'), ('report', 'NN'), ('139', 'CD'), ('links', 'NNS'), ('demonstrates', 'VBZ'), ('2019-nCoV', 'JJ'), ('uses', 'NNS'), ('ACE2', 'VBP'), ('receptors', 'NNS'), ('from', 'IN'), ('human', 'JJ'), (',', ','), ('bat', 'NN'), (',', ','), ('civets', 'NNS'), (',', ','), ('and', 'CC'), ('swine', 'VB'), ('[', '$'), ('30', 'CD'), (']', 'NNP'), ('.', '.'), ('Together', 'NNP'), (',', ','), ('140', 'CD'), ('the', 'DT'), ('modeling', 'NN'), (',', ','), ('pseudotyping', 'NN'), (',', ','), ('and', 'CC'), ('infection', 'NN'), ('data', 'NNS'), ('provide', 'VBP'), ('strong', 'JJ'), ('evidence', 'NN'), ('for', 'IN'), ('human', 'JJ'), ('ACE2', 'NNP'), ('being', 'VBG'), ('the', 'DT'), ('141', 'CD'), ('receptor', 'NN'), ('for', 'IN'), ('2019-nCoV', 'JJ'), ('.', '.'), ('142', 'CD'), ('5', 'CD'), ('.', '.'), ('Achieving', 'VBG'), ('Koch', 'NNP'), ('Postulates', 'VBZ'), ('143', 'CD'), ('Traditional', 'JJ'), ('identiﬁcation', 'NN'), ('of', 'IN'), ('a', 'DT'), ('microbe', 'NN'), ('as', 'IN'), ('the', 'DT'), ('causative', 'JJ'), ('agent', 'NN'), ('of', 'IN'), ('disease', 'NN'), ('requires', 'VBZ'), ('fulﬁllment', 'NN'), ('of', 'IN'), ('144', 'CD'), ('Koch', 'NNP'), ('’', 'NNP'), ('s', 'NN'), ('postulates', 'NNS'), (',', ','), ('modiﬁed', 'NN'), ('by', 'IN'), ('Rivers', 'NNP'), ('for', 'IN'), ('viral', 'JJ'), ('diseases', 'NNS'), ('[', 'VBP'), ('37', 'CD'), (']', 'NN'), ('.', '.'), ('At', 'IN'), ('the', 'DT'), ('present', 'JJ'), ('time', 'NN'), (',', ','), ('the', 'DT'), ('2019-nCoV', 'JJ'), ('145', 'CD'), ('has', 'VBZ'), ('been', 'VBN'), ('isolated', 'VBN'), ('from', 'IN'), ('patients', 'NNS'), (',', ','), ('detected', 'VBN'), ('by', 'IN'), ('speciﬁc', 'NN'), ('assays', 'NNS'), ('in', 'IN'), ('patients', 'NNS'), (',', ','), ('and', 'CC'), ('cultured', 'VBD'), ('in', 'IN'), ('host', 'NN'), ('cells', 'NNS'), ('146', 'CD'), ('(', '('), ('one', 'CD'), ('available', 'JJ'), ('sequence', 'NN'), ('is', 'VBZ'), ('identiﬁed', 'JJ'), ('as', 'IN'), ('a', 'DT'), ('passage', 'NN'), ('isolate', 'NN'), (')', ')'), (',', ','), ('starting', 'VBG'), ('to', 'TO'), ('fulﬁll', 'VB'), ('these', 'DT'), ('criteria', 'NNS'), ('.', '.'), ('Given', 'VBN'), ('the', 'DT'), ('147', 'CD'), ('recentness', 'NN'), ('of', 'IN'), ('the', 'DT'), ('2019-nCoV', 'JJ'), ('outbreak', 'NN'), (',', ','), ('at', 'IN'), ('this', 'DT'), ('point', 'NN'), ('there', 'EX'), ('is', 'VBZ'), ('no', 'DT'), ('animal', 'JJ'), ('model', 'NN'), ('available', 'JJ'), ('to', 'TO'), ('fulﬁll', 'VB'), ('the', 'DT'), ('148', 'CD'), ('remaining', 'VBG'), ('criteria', 'NNS'), (':', ':'), ('1', 'CD'), (')', ')'), ('testing', 'VBG'), ('the', 'DT'), ('capability', 'NN'), ('of', 'IN'), ('2019-nCoV', 'JJ'), ('to', 'TO'), ('cause', 'VB'), ('respiratory', 'JJ'), ('disease', 'NN'), ('in', 'IN'), ('a', 'DT'), ('related', 'JJ'), ('149', 'CD'), ('species', 'NNS'), (',', ','), ('2', 'CD'), (')', ')'), ('re-isolating', 'VBG'), ('the', 'DT'), ('virus', 'NN'), ('from', 'IN'), ('the', 'DT'), ('experimentally', 'RB'), ('infected', 'VBN'), ('animal', 'NN'), ('and', 'CC'), ('3', 'CD'), (')', ')'), ('detection', 'NN'), ('of', 'IN'), ('a', 'DT'), ('speciﬁc', 'JJ'), ('150', 'CD'), ('immune', 'JJ'), ('response', 'NN'), ('.', '.'), ('These', 'DT'), ('eﬀorts', 'NNS'), ('will', 'MD'), ('surely', 'RB'), ('be', 'VB'), ('an', 'DT'), ('area', 'NN'), ('of', 'IN'), ('intense', 'JJ'), ('research', 'NN'), ('in', 'IN'), ('the', 'DT'), ('coming', 'JJ'), ('months', 'NNS'), ('both', 'DT'), ('in', 'IN'), ('151', 'CD'), ('China', 'NNP'), ('and', 'CC'), ('in', 'IN'), ('CoV', 'NNP'), ('research', 'NN'), ('laboratories', 'VBZ'), ('around', 'IN'), ('the', 'DT'), ('world', 'NN'), ('.', '.'), ('152', 'CD'), ('Notably', 'RB'), (',', ','), ('generating', 'VBG'), ('small', 'JJ'), ('animal', 'JJ'), ('models', 'NNS'), ('of', 'IN'), ('coronavirus', 'JJ'), ('disease', 'NN'), ('can', 'MD'), ('be', 'VB'), ('diﬃcult', 'VBN'), ('.', '.'), ('While', 'IN'), ('SARS-CoV', 'JJ'), ('153', 'CD'), ('readily', 'RB'), ('infected', 'JJ'), ('laboratory', 'NN'), ('mice', 'NN'), (',', ','), ('it', 'PRP'), ('does', 'VBZ'), ('not', 'RB'), ('cause', 'VB'), ('signiﬁcant', 'JJ'), ('disease', 'NN'), ('unless', 'IN'), ('the', 'DT'), ('virus', 'NN'), ('is', 'VBZ'), ('passaged', 'VBN'), ('to', 'TO'), ('154', 'CD'), ('adapt', 'NN'), ('to', 'TO'), ('the', 'DT'), ('mouse', 'NN'), ('host', 'NN'), ('[', '$'), ('38', 'CD'), (']', 'NNP'), ('.', '.'), ('Infection', 'NN'), ('of', 'IN'), ('primates', 'NNS'), ('produces', 'VBZ'), ('a', 'DT'), ('more', 'RBR'), ('mild', 'JJ'), ('disease', 'NN'), ('than', 'IN'), ('that', 'DT'), ('observed', 'VBD'), ('in', 'IN'), ('155', 'CD'), ('humans', 'NNS'), (',', ','), ('although', 'IN'), ('fever', 'NN'), ('and', 'CC'), ('pulmonary', 'JJ'), ('inﬂammation', 'NN'), ('were', 'VBD'), ('noted', 'VBN'), ('[', 'JJ'), ('39,40', 'CD'), (']', 'NN'), ('.', '.'), ('MERS-CoV', 'NNP'), ('is', 'VBZ'), ('incapable', 'JJ'), ('156', 'CD'), ('of', 'IN'), ('infecting', 'VBG'), ('rodent', 'NN'), ('cells', 'NNS'), ('without', 'IN'), ('engineering', 'NN'), ('changes', 'NNS'), ('in', 'IN'), ('critical', 'JJ'), ('residues', 'NNS'), ('of', 'IN'), ('the', 'DT'), ('receptor', 'NN'), ('protein', 'NN'), (',', ','), ('157', 'CD'), ('DPP4', 'NNP'), ('[', 'VBD'), ('41,42', 'CD'), (']', 'NN'), ('.', '.'), ('However', 'RB'), (',', ','), ('MERS-CoV', 'NNP'), ('does', 'VBZ'), ('infect', 'VB'), ('non-human', 'JJ'), ('primates', 'NNS'), ('[', 'VBP'), ('43', 'CD'), (']', 'NN'), ('.', '.'), ('As', 'IN'), ('such', 'JJ'), (',', ','), ('MERS', 'NNP'), ('mouse', 'VBP'), ('158', 'CD'), ('models', 'NNS'), ('of', 'IN'), ('disease', 'NN'), ('required', 'VBN'), ('a', 'DT'), ('great', 'JJ'), ('deal', 'NN'), ('of', 'IN'), ('time', 'NN'), ('to', 'TO'), ('develop', 'VB'), ('and', 'CC'), ('are', 'VBP'), ('limited', 'VBN'), ('in', 'IN'), ('the', 'DT'), ('types', 'NNS'), ('of', 'IN'), ('manipulations', 'NNS'), ('159', 'CD'), ('that', 'WDT'), ('can', 'MD'), ('be', 'VB'), ('performed', 'VBN'), ('[', 'JJ'), ('41', 'CD'), (']', 'NN'), ('.', '.'), ('At', 'IN'), ('this', 'DT'), ('point', 'NN'), (',', ','), ('the', 'DT'), ('infectious', 'JJ'), ('capability', 'NN'), ('of', 'IN'), ('the', 'DT'), ('2019-nCoV', 'JJ'), ('for', 'IN'), ('diﬀerent', 'JJ'), ('species', 'NNS'), ('160', 'CD'), ('and', 'CC'), ('diﬀerent', 'NN'), ('cell', 'NN'), ('types', 'NNS'), ('is', 'VBZ'), ('unknown', 'JJ'), ('.', '.'), ('Early', 'JJ'), ('reports', 'NNS'), ('suggest', 'VBP'), ('that', 'IN'), ('the', 'DT'), ('virus', 'NN'), ('can', 'MD'), ('utilize', 'VB'), ('human', 'JJ'), (',', ','), ('bat', 'NN'), (',', ','), ('swine', 'NN'), (',', ','), ('161', 'CD'), ('and', 'CC'), ('civet', 'VB'), ('ACE2', 'NNP'), ('[', 'NNP'), ('30', 'CD'), (']', 'NNP'), (';', ':'), ('notably', 'RB'), (',', ','), ('the', 'DT'), ('group', 'NN'), ('found', 'VBD'), ('mouse', 'RB'), ('Ace2', 'NNP'), ('was', 'VBD'), ('not', 'RB'), ('permissive', 'JJ'), ('for', 'IN'), ('2019-nCoV', 'JJ'), ('infection', 'NN'), ('162', 'CD'), ('Dissemination', 'NN'), ('of', 'IN'), ('virus', 'NN'), ('stocks', 'NNS'), ('and/or', 'VBP'), ('de', 'IN'), ('novo', 'FW'), ('generation', 'NN'), ('of', 'IN'), ('the', 'DT'), ('virus', 'NN'), ('through', 'IN'), ('reverse', 'NN'), ('genetics', 'NNS'), ('systems', 'NNS'), ('163', 'CD'), ('will', 'MD'), ('enable', 'VB'), ('this', 'DT'), ('research', 'NN'), ('allowing', 'VBG'), ('for', 'IN'), ('animal', 'JJ'), ('testing', 'NN'), ('and', 'CC'), ('subsequent', 'JJ'), ('completion', 'NN'), ('of', 'IN'), ('Koch', 'NNP'), ('’', 'NNP'), ('s', 'NN'), ('postulates', 'VBZ'), ('164', 'CD'), ('for', 'IN'), ('the', 'DT'), ('new', 'JJ'), ('virus', 'NN'), ('.', '.'), ('165', 'CD'), ('6', 'CD'), ('.', '.'), ('Threat', 'NN'), ('for', 'IN'), ('Spread', 'NN'), (':', ':'), ('Human', 'NNP'), ('to', 'TO'), ('Human', 'NNP'), (',', ','), ('Health', 'NNP'), ('Care', 'NNP'), ('Workers', 'NNP'), (',', ','), ('and', 'CC'), ('Super', 'NNP'), ('Spreaders', 'NNP'), ('166', 'CD'), ('While', 'IN'), ('the', 'DT'), ('Huanan', 'NNP'), ('seafood', 'NN'), ('market', 'NN'), ('in', 'IN'), ('Wuhan', 'NNP'), ('has', 'VBZ'), ('been', 'VBN'), ('associated', 'VBN'), ('with', 'IN'), ('the', 'DT'), ('majority', 'NN'), ('of', 'IN'), ('cases', 'NNS'), (',', ','), ('many', 'JJ'), ('167', 'CD'), ('of', 'IN'), ('the', 'DT'), ('recent', 'JJ'), ('cases', 'NNS'), ('do', 'VBP'), ('not', 'RB'), ('have', 'VB'), ('a', 'DT'), ('direct', 'JJ'), ('connection', 'NN'), ('[', 'VBZ'), ('9', 'CD'), (']', 'NN'), ('.', '.'), ('This', 'DT'), ('fact', 'NN'), ('suggests', 'VBZ'), ('a', 'DT'), ('secondary', 'JJ'), ('source', 'NN'), ('of', 'IN'), ('infectio', 'NN'), ('168', 'CD'), ('either', 'CC'), ('human', 'JJ'), ('to', 'TO'), ('human', 'JJ'), ('transmission', 'NN'), ('or', 'CC'), ('possibly', 'RB'), ('infected', 'JJ'), ('animals', 'NNS'), ('in', 'IN'), ('another', 'DT'), ('market', 'NN'), ('in', 'IN'), ('Wuhan', 'NNP'), ('.', '.'), ('Both', 'DT'), ('169', 'CD'), ('possibilities', 'NNS'), ('represent', 'VBP'), ('major', 'JJ'), ('concerns', 'NNS'), ('and', 'CC'), ('indicate', 'VB'), ('the', 'DT'), ('outbreak', 'NN'), ('has', 'VBZ'), ('the', 'DT'), ('potential', 'JJ'), ('to', 'TO'), ('expand', 'VB'), ('rapidly', 'RB'), ('.', '.'), ('170', 'CD'), ('For', 'IN'), ('human', 'JJ'), ('to', 'TO'), ('human', 'JJ'), ('transmission', 'NN'), (',', ','), ('there', 'EX'), ('was', 'VBD'), ('limited', 'VBN'), ('data', 'NNS'), ('in', 'IN'), ('the', 'DT'), ('initial', 'JJ'), ('set', 'NN'), ('of', 'IN'), ('cases', 'NNS'), (';', ':'), ('one', 'CD'), ('family', 'NN'), ('cluster', 'NN'), ('171', 'CD'), ('is', 'VBZ'), ('of', 'IN'), ('three', 'CD'), ('men', 'NNS'), ('who', 'WP'), ('all', 'DT'), ('work', 'NN'), ('in', 'IN'), ('the', 'DT'), ('market', 'NN'), ('.', '.'), ('Similarly', 'RB'), (',', ','), ('a', 'DT'), ('husband', 'NN'), ('and', 'CC'), ('wife', 'NN'), ('are', 'VBP'), ('among', 'IN'), ('the', 'DT'), ('patients', 'NNS'), (',', ','), ('with', 'IN'), ('172', 'CD'), ('the', 'DT'), ('wife', 'NN'), ('claiming', 'VBG'), ('no', 'DT'), ('contact', 'NN'), ('with', 'IN'), ('the', 'DT'), ('market', 'NN'), ('.', '.'), ('In', 'IN'), ('these', 'DT'), ('cases', 'NNS'), (',', ','), ('direct', 'JJ'), ('human', 'NN'), ('to', 'TO'), ('human', 'JJ'), ('infection', 'NN'), ('may', 'MD'), ('173', 'CD'), ('have', 'VBP'), ('been', 'VBN'), ('possible', 'JJ'), (';', ':'), ('alternatively', 'RB'), (',', ','), ('a', 'DT'), ('contaminated', 'VBN'), ('fomite', 'NN'), ('from', 'IN'), ('the', 'DT'), ('market', 'NN'), ('may', 'MD'), ('also', 'RB'), ('be', 'VB'), ('responsible', 'JJ'), ('as', 'IN'), ('174', 'CD'), ('surfaces', 'NNS'), ('all', 'DT'), ('around', 'IN'), ('the', 'DT'), ('market', 'NN'), ('were', 'VBD'), ('found', 'VBN'), ('to', 'TO'), ('test', 'VB'), ('positive', 'JJ'), ('2019-nCoV', 'JJ'), ('.', '.'), ('However', 'RB'), (',', ','), ('the', 'DT'), ('major', 'JJ'), ('increase', 'NN'), ('175', 'CD'), ('in', 'IN'), ('the', 'DT'), ('number', 'NN'), ('of', 'IN'), ('cases', 'NNS'), (',', ','), ('the', 'DT'), ('lack', 'NN'), ('of', 'IN'), ('direct', 'JJ'), ('connection', 'NN'), ('to', 'TO'), ('the', 'DT'), ('Wuhan', 'NNP'), ('market', 'NN'), ('for', 'IN'), ('many', 'JJ'), ('cases', 'NNS'), (',', ','), ('and', 'CC'), ('the', 'DT'), ('176', 'CD'), ('infection', 'NN'), ('of', 'IN'), ('health', 'NN'), ('care', 'NN'), ('works', 'VBZ'), ('all', 'DT'), ('suggest', 'VBP'), ('human', 'JJ'), ('to', 'TO'), ('human', 'JJ'), ('spread', 'NN'), ('is', 'VBZ'), ('likely', 'JJ'), ('[', 'JJ'), ('9,44', 'CD'), (']', 'NN'), ('.', '.'), ('Importantly', 'RB'), (',', ','), ('until', 'IN'), ('the', 'DT'), ('177', 'CD'), ('source', 'NN'), ('of', 'IN'), ('the', 'DT'), ('virus', 'NN'), ('is', 'VBZ'), ('found', 'VBN'), (',', ','), ('it', 'PRP'), ('will', 'MD'), ('be', 'VB'), ('diﬃcult', 'VBN'), ('to', 'TO'), ('distinguish', 'VB'), ('zoonotic', 'JJ'), ('versus', 'NN'), ('human', 'NN'), ('to', 'TO'), ('human', 'JJ'), ('spread', 'NN'), ('.', '.'), ('178', 'CD'), ('In', 'IN'), ('the', 'DT'), ('early', 'JJ'), ('part', 'NN'), ('of', 'IN'), ('the', 'DT'), ('outbreak', 'NN'), (',', ','), ('the', 'DT'), ('absence', 'NN'), ('of', 'IN'), ('infection', 'NN'), ('in', 'IN'), ('health', 'NN'), ('care', 'NN'), ('workers', 'NNS'), ('argued', 'VBD'), ('for', 'IN'), ('ineﬃcient', 'NN'), ('179', 'CD'), ('human', 'NN'), ('to', 'TO'), ('human', 'JJ'), ('spread', 'NN'), ('and', 'CC'), ('distinguished', 'VBD'), ('2019-nCoV', 'CD'), ('from', 'IN'), ('both', 'DT'), ('SARS-CoV', 'NNP'), ('and', 'CC'), ('MERS-CoV', 'NNP'), ('.', '.'), ('In', 'IN'), ('180', 'CD'), ('the', 'DT'), ('two', 'CD'), ('prior', 'JJ'), ('CoV', 'NNP'), ('epidemics', 'NNS'), (',', ','), ('health', 'NN'), ('care', 'NN'), ('settings', 'NNS'), ('served', 'VBD'), ('as', 'IN'), ('a', 'DT'), ('major', 'JJ'), ('transmission', 'NN'), ('point', 'NN'), ('fueling', 'VBG'), ('both', 'DT'), ('181', 'CD'), ('outbreaks', 'NNS'), ('.', '.'), ('Based', 'VBN'), ('on', 'IN'), ('WHO', 'NNP'), ('data', 'NNS'), (',', ','), ('1', 'CD'), ('in', 'IN'), ('10', 'CD'), ('MERS-CoV', 'JJ'), ('cases', 'NNS'), ('have', 'VBP'), ('been', 'VBN'), ('found', 'VBN'), ('to', 'TO'), ('be', 'VB'), ('health', 'NN'), ('care', 'NN'), ('workers', 'NNS'), (';', ':'), ('182', 'CD'), ('these', 'DT'), ('patients', 'NNS'), ('generally', 'RB'), ('have', 'VBP'), ('reduced', 'VBN'), ('disease', 'NN'), ('and', 'CC'), ('death', 'NN'), ('likely', 'RB'), ('due', 'JJ'), ('to', 'TO'), ('younger', 'JJR'), ('age', 'NN'), ('and', 'CC'), ('absence', 'NN'), ('of', 'IN'), ('183', 'CD'), ('existing', 'VBG'), ('health', 'NN'), ('conditions', 'NNS'), ('.', '.'), ('The', 'DT'), ('recent', 'JJ'), ('reports', 'NNS'), ('of', 'IN'), ('numerous', 'JJ'), ('infected', 'JJ'), ('health', 'NN'), ('care', 'NN'), ('workers', 'NNS'), ('in', 'IN'), ('Wuhan', 'NNP'), ('184', 'CD'), ('indicate', 'NN'), ('human', 'NN'), ('to', 'TO'), ('human', 'JJ'), ('infection', 'NN'), ('can', 'MD'), ('occur', 'VB'), ('with', 'IN'), ('2019-nCoV', 'JJ'), ('and', 'CC'), ('may', 'MD'), ('be', 'VB'), ('the', 'DT'), ('product', 'NN'), ('of', 'IN'), ('a', 'DT'), ('super', 'JJ'), ('185', 'CD'), ('spreading', 'VBG'), ('patient', 'NN'), ('[', '$'), ('44', 'CD'), (']', 'NN'), ('.', '.'), ('However', 'RB'), (',', ','), ('while', 'IN'), ('large', 'JJ'), ('swaths', 'NNS'), ('of', 'IN'), ('healthcare', 'JJ'), ('workers', 'NNS'), ('are', 'VBP'), ('not', 'RB'), ('getting', 'VBG'), ('sick', 'JJ'), ('as', 'IN'), ('seen', 'VBN'), ('186', 'CD'), ('with', 'IN'), ('SARS', 'NNP'), ('and', 'CC'), ('MERS-CoV', 'NNP'), (',', ','), ('it', 'PRP'), ('may', 'MD'), ('be', 'VB'), ('too', 'RB'), ('early', 'JJ'), ('to', 'TO'), ('rule', 'VB'), ('out', 'RP'), ('their', 'PRP$'), ('potential', 'JJ'), ('exposure', 'NN'), ('to', 'TO'), ('the', 'DT'), ('novel', 'JJ'), ('CoV', 'NNP'), ('as', 'IN'), ('187', 'CD'), ('their', 'PRP$'), ('disease', 'NN'), ('may', 'MD'), ('be', 'VB'), ('asymptomatic', 'JJ'), ('.', '.'), ('While', 'IN'), ('not', 'RB'), ('described', 'VBN'), ('during', 'IN'), ('the', 'DT'), ('SARS-CoV', 'NNP'), ('outbreak', 'NN'), (',', ','), ('asymptomatic', 'JJ'), ('188', 'CD'), ('cases', 'NNS'), ('ranged', 'VBD'), ('from', 'IN'), ('12.5', 'CD'), ('%', 'NN'), ('to', 'TO'), ('25', 'CD'), ('%', 'NN'), ('in', 'IN'), ('some', 'DT'), ('MERS-CoV', 'JJ'), ('studies', 'NNS'), ('[', 'VBP'), ('45', 'CD'), (']', 'NN'), ('.', '.'), ('A', 'DT'), ('similar', 'JJ'), ('phenomenon', 'NN'), ('may', 'MD'), ('be', 'VB'), ('189', 'CD'), ('occurring', 'VBG'), ('with', 'IN'), ('2019-nCoV', 'JJ'), ('and', 'CC'), ('would', 'MD'), ('make', 'VB'), ('stopping', 'VBG'), ('the', 'DT'), ('outbreak', 'NN'), ('even', 'RB'), ('more', 'RBR'), ('diﬃcult', 'NN'), ('to', 'TO'), ('contain', 'VB'), ('.', '.'), ('190', 'CD'), ('Another', 'DT'), ('parameter', 'NN'), ('to', 'TO'), ('consider', 'VB'), ('is', 'VBZ'), ('the', 'DT'), ('possibility', 'NN'), ('of', 'IN'), ('super', 'JJ'), ('spreading', 'NN'), ('in', 'IN'), ('the', 'DT'), ('context', 'NN'), ('of', 'IN'), ('2019-nCoV', 'JJ'), ('.', '.'), ('191', 'CD'), ('Super', 'NNP'), ('spreading', 'NN'), ('is', 'VBZ'), ('the', 'DT'), ('ampliﬁed', 'JJ'), ('transmission', 'NN'), ('of', 'IN'), ('a', 'DT'), ('virus', 'NN'), ('by', 'IN'), ('individuals', 'NNS'), ('in', 'IN'), ('a', 'DT'), ('population', 'NN'), ('and', 'CC'), ('has', 'VBZ'), ('been', 'VBN'), ('192', 'CD'), ('suggested', 'VBN'), ('by', 'IN'), ('at', 'IN'), ('least', 'JJS'), ('one', 'CD'), ('news', 'NN'), ('report', 'NN'), ('[', 'VBD'), ('44', 'CD'), (']', 'NN'), ('.', '.'), ('Both', 'DT'), ('SARS-', 'JJ'), ('and', 'CC'), ('MERS-CoV', 'JJ'), ('outbreaks', 'NNS'), ('had', 'VBD'), ('documented', 'VBN'), ('193', 'CD'), ('evidence', 'NN'), ('of', 'IN'), ('super', 'JJ'), ('spreading', 'VBG'), ('patients', 'NNS'), ('[', '$'), ('46', 'CD'), (']', 'NNP'), ('.', '.'), ('In', 'IN'), ('general', 'JJ'), (',', ','), ('both', 'DT'), ('epidemic', 'JJ'), ('CoVs', 'NNP'), ('maintain', 'VBP'), ('a', 'DT'), ('low', 'JJ'), ('R0', 'NNP'), (',', ','), ('the', 'DT'), ('194', 'CD'), ('rate', 'NN'), ('spread', 'NN'), ('from', 'IN'), ('an', 'DT'), ('individual', 'JJ'), ('infected', 'JJ'), ('patient', 'NN'), ('.', '.'), ('However', 'RB'), (',', ','), ('roughly', 'RB'), ('10', 'CD'), ('%', 'NN'), ('of', 'IN'), ('SARS-', 'NNP'), ('and', 'CC'), ('MERS-CoV', 'NNP'), ('195', 'CD'), ('>', 'NN'), ('10', 'CD'), ('.', '.'), ('These', 'DT'), ('cases', 'NNS'), ('seeded', 'VBD'), ('a', 'DT'), ('signiﬁcant', 'JJ'), ('196', 'CD'), ('patients', 'NNS'), ('have', 'VBP'), ('been', 'VBN'), ('associated', 'VBN'), ('with', 'IN'), ('super', 'JJ'), ('spreading', 'NN'), ('and', 'CC'), ('an', 'DT'), ('R0', 'NNP'), ('197', 'CD'), ('portion', 'NN'), ('of', 'IN'), ('the', 'DT'), ('epidemic', 'JJ'), ('around', 'IN'), ('the', 'DT'), ('world', 'NN'), ('.', '.'), ('Notably', 'RB'), (',', ','), ('neither', 'DT'), ('mutations', 'NNS'), ('in', 'IN'), ('the', 'DT'), ('viruses', 'NNS'), ('nor', 'CC'), ('severity', 'NN'), ('of', 'IN'), ('198', 'CD'), ('disease', 'NN'), ('were', 'VBD'), ('found', 'VBN'), ('to', 'TO'), ('be', 'VB'), ('associated', 'VBN'), ('with', 'IN'), ('super', 'JJ'), ('spreading', 'NN'), (',', ','), ('implying', 'VBG'), ('that', 'IN'), ('host', 'NN'), ('factors', 'NNS'), ('contribute', 'VBP'), ('to', 'TO'), ('the', 'DT'), ('199', 'CD'), ('phenotype', 'NN'), ('[', 'NN'), ('47', 'CD'), (']', 'NN'), ('.', '.'), ('For', 'IN'), ('2019-nCoV', 'JJ'), (',', ','), ('contact', 'JJ'), ('tracing', 'VBG'), ('to', 'TO'), ('date', 'NN'), ('suggest', 'NN'), ('limited', 'VBD'), ('human', 'JJ'), ('to', 'TO'), ('human', 'JJ'), ('spread', 'NN'), ('and', 'CC'), ('a', 'DT'), ('200', 'CD'), ('low', 'JJ'), ('R0', 'NNP'), ('.', '.'), ('However', 'RB'), (',', ','), ('the', 'DT'), ('recent', 'JJ'), ('increase', 'NN'), ('in', 'IN'), ('cases', 'NNS'), (',', ','), ('both', 'DT'), ('in', 'IN'), ('and', 'CC'), ('outside', 'IN'), ('Wuhan', 'NNP'), ('could', 'MD'), ('signal', 'VB'), ('the', 'DT'), ('existence', 'NN'), ('of', 'IN'), ('201', 'CD'), ('super-spreading', 'JJ'), ('individuals', 'NNS'), ('fueling', 'VBG'), ('the', 'DT'), ('outbreak', 'NN'), ('.', '.'), ('Alternatively', 'RB'), (',', ','), ('super', 'JJR'), ('spreading', 'NN'), ('could', 'MD'), ('occur', 'VB'), ('from', 'IN'), ('the', 'DT'), ('202', 'CD'), ('zoonotic', 'NNP'), ('source', 'NN'), ('which', 'WDT'), ('has', 'VBZ'), ('been', 'VBN'), ('seen', 'VBN'), ('in', 'IN'), ('other', 'JJ'), ('disease', 'NN'), ('outbreaks', 'NNS'), ('[', 'VBP'), ('10', 'CD'), (']', 'NN'), ('.', '.'), ('In', 'IN'), ('any', 'DT'), ('event', 'NN'), (',', ','), ('the', 'DT'), ('possibility', 'NN'), ('of', 'IN'), ('203', 'CD'), ('super', 'JJ'), ('spreading', 'NN'), ('may', 'MD'), ('continue', 'VB'), ('to', 'TO'), ('play', 'VB'), ('a', 'DT'), ('role', 'NN'), ('in', 'IN'), ('this', 'DT'), ('ongoing', 'JJ'), ('2019-nCoV', 'JJ'), ('outbreak', 'NN'), ('.', '.'), ('204', 'CD'), ('7', 'CD'), ('.', '.'), ('Emerging', 'VBG'), ('Diseases', 'NNS'), ('in', 'IN'), ('the', 'DT'), ('Age', 'NNP'), ('of', 'IN'), ('Social', 'NNP'), ('Media', 'NNP'), ('205', 'CD'), ('News', 'NNP'), ('of', 'IN'), ('the', 'DT'), ('2019-nCoV', 'JJ'), ('came', 'VBD'), ('to', 'TO'), ('widespread', 'JJ'), ('attention', 'NN'), ('through', 'IN'), ('the', 'DT'), ('internet', 'NN'), ('.', '.'), ('Over', 'IN'), ('the', 'DT'), ('years', 'NNS'), (',', ','), ('206', 'CD'), ('websites', 'NNS'), ('like', 'IN'), ('FluTrackers.com', 'NNP'), (',', ','), ('ProMED', 'NNP'), ('(', '('), ('promedmail.org', 'NN'), (')', ')'), (',', ','), ('and', 'CC'), ('others', 'NNS'), ('have', 'VBP'), ('permitted', 'VBN'), ('the', 'DT'), ('collection', 'NN'), ('of', 'IN'), ('207', 'CD'), ('disease', 'NN'), ('information', 'NN'), ('from', 'IN'), ('around', 'IN'), ('the', 'DT'), ('world', 'NN'), ('and', 'CC'), ('facilitated', 'JJ'), ('dissemination', 'NN'), ('to', 'TO'), ('interested', 'JJ'), ('parties', 'NNS'), ('.', '.'), ('In', 'IN'), ('2012', 'CD'), (',', ','), ('208', 'CD'), ('MERS-CoV', 'JJ'), ('ﬁrst', 'NNP'), ('drew', 'VBD'), ('attention', 'NN'), ('as', 'IN'), ('a', 'DT'), ('“', 'NNP'), ('novel', 'NN'), ('coronavirus', 'NN'), ('”', 'NNP'), ('entioned', 'VBD'), ('on', 'IN'), ('ProMED', 'NNP'), ('Mail', 'NNP'), ('and', 'CC'), ('subsequently', 'RB'), ('209', 'CD'), ('through', 'IN'), ('conversation', 'NN'), ('on', 'IN'), ('twitter', 'NN'), ('between', 'IN'), ('science', 'NN'), ('journalists', 'NNS'), (',', ','), ('virologists', 'NNS'), (',', ','), ('and', 'CC'), ('public', 'JJ'), ('health', 'NN'), ('experts', 'NNS'), ('.', '.'), ('210', 'CD'), ('Eight', 'CD'), ('years', 'NNS'), ('later', 'RB'), (',', ','), ('a', 'DT'), ('more', 'RBR'), ('connected', 'JJ'), ('network', 'NN'), ('quickly', 'RB'), ('dissected', 'VBD'), ('statements', 'NNS'), ('from', 'IN'), ('the', 'DT'), ('Wuhan', 'NNP'), ('Municipal', 'NNP'), ('211', 'CD'), ('Health', 'NNP'), ('Commission', 'NNP'), ('and', 'CC'), ('speculated', 'VBD'), ('about', 'IN'), ('possible', 'JJ'), ('causes', 'NNS'), ('.', '.'), ('Early', 'JJ'), ('during', 'IN'), ('an', 'DT'), ('outbreak', 'NN'), (',', ','), ('it', 'PRP'), ('can', 'MD'), ('be', 'VB'), ('diﬃcult', 'RB'), ('212', 'CD'), ('to', 'TO'), ('distinguish', 'VB'), ('between', 'IN'), ('rumors', 'NNS'), ('with', 'IN'), ('elements', 'NNS'), ('of', 'IN'), ('truth', 'NN'), ('versus', 'IN'), ('baseless', 'JJ'), ('fear', 'NN'), ('mongering', 'NN'), ('.', '.'), ('This', 'DT'), ('fact', 'NN'), ('can', 'MD'), ('213', 'CD'), ('be', 'VB'), ('exacerbated', 'VBN'), ('by', 'IN'), ('language', 'NN'), ('barriers', 'NNS'), ('and', 'CC'), ('oﬀ', 'VBZ'), ('the', 'DT'), ('record', 'NN'), ('sources', 'NNS'), ('.', '.'), ('However', 'RB'), (',', ','), ('in', 'IN'), ('this', 'DT'), ('case', 'NN'), (',', ','), ('speculation', 'NN'), ('of', 'IN'), ('214', 'CD'), ('a', 'DT'), ('novel', 'JJ'), ('coronavirus', 'NN'), ('was', 'VBD'), ('fed', 'VBN'), ('by', 'IN'), ('carefully', 'RB'), ('worded', 'VBN'), ('statements', 'NNS'), ('that', 'WDT'), ('speciﬁcally', 'RB'), ('excluding', 'VBG'), ('some', 'DT'), ('virus', 'NN'), ('215', 'CD'), ('families', 'NNS'), ('(', '('), ('inﬂuenza', 'NN'), (',', ','), ('adenovirus', 'NN'), (')', ')'), (',', ','), ('but', 'CC'), ('only', 'RB'), ('excluded', 'VBD'), ('SARS-CoV', 'NNP'), ('and', 'CC'), ('MERS-CoV', 'NNP'), ('for', 'IN'), ('coronaviruses', 'NNS'), ('.', '.'), ('216', 'CD'), ('Coupled', 'VBN'), ('with', 'IN'), ('memories', 'NNS'), ('of', 'IN'), ('the', 'DT'), ('SARS', 'NNP'), ('outbreak', 'NN'), (',', ','), ('many', 'JJ'), ('worried', 'VBD'), ('that', 'IN'), ('the', 'DT'), ('truth', 'NN'), ('may', 'MD'), ('be', 'VB'), ('held', 'VBN'), ('back', 'RB'), ('.', '.'), ('When', 'WRB'), ('217', 'CD'), ('the', 'DT'), ('agent', 'NN'), ('was', 'VBD'), ('ﬁnally', 'RB'), ('conﬁrmed', 'VBN'), ('as', 'IN'), ('a', 'DT'), ('CoV', 'NNP'), (',', ','), ('the', 'DT'), ('world', 'NN'), ('acted', 'VBD'), ('with', 'IN'), ('both', 'DT'), ('worry', 'NN'), ('and', 'CC'), ('relief', 'NN'), (':', ':'), ('the', 'DT'), ('outbreak', 'NN'), ('218', 'CD'), ('would', 'MD'), ('not', 'RB'), ('be', 'VB'), ('hidden', 'VBN'), ('.', '.'), ('219', 'CD'), ('While', 'IN'), ('far', 'RB'), ('from', 'IN'), ('perfect', 'JJ'), (',', ','), ('the', 'DT'), ('government', 'NN'), ('response', 'NN'), ('to', 'TO'), ('2019-nCoV', 'JJ'), ('provides', 'VBZ'), ('a', 'DT'), ('stark', 'JJ'), ('contrast', 'NN'), ('to', 'TO'), ('the', 'DT'), ('220', 'CD'), ('SARS', 'NNP'), ('outbreak', 'NN'), ('at', 'IN'), ('the', 'DT'), ('beginning', 'NN'), ('of', 'IN'), ('the', 'DT'), ('century', 'NN'), ('.', '.'), ('The', 'DT'), ('rapid', 'JJ'), ('release', 'NN'), ('of', 'IN'), ('2019-nCoV', 'JJ'), ('sequences', 'NNS'), ('permitted', 'VBD'), ('the', 'DT'), ('221', 'CD'), ('research', 'NN'), ('community', 'NN'), ('to', 'TO'), ('quickly', 'RB'), ('become', 'VB'), ('engaged', 'JJ'), (',', ','), ('providing', 'VBG'), ('analysis', 'NN'), ('and', 'CC'), ('developing', 'VBG'), ('diagnostic', 'JJ'), ('tests', 'NNS'), ('.', '.'), ('222', 'CD'), ('Both', 'CC'), ('the', 'DT'), ('Chinese', 'NNPS'), ('CDC', 'NNP'), ('and', 'CC'), ('the', 'DT'), ('Wuhan', 'NNP'), ('Municipal', 'NNP'), ('Health', 'NNP'), ('Commission', 'NNP'), ('have', 'VBP'), ('posted', 'VBN'), ('regular', 'JJ'), ('updates', 'NNS'), ('223', 'CD'), ('of', 'IN'), ('conﬁrmed', 'JJ'), ('case', 'NN'), ('numbers', 'NNS'), ('and', 'CC'), ('patient', 'JJ'), ('statuses', 'NNS'), ('enabling', 'VBG'), ('public', 'JJ'), ('health', 'NN'), ('authorities', 'NNS'), ('to', 'TO'), ('monitor', 'VB'), ('the', 'DT'), ('224', 'CD'), ('situation', 'NN'), ('in', 'IN'), ('real', 'JJ'), ('time', 'NN'), ('.', '.'), ('Researchers', 'NNS'), ('from', 'IN'), ('around', 'IN'), ('the', 'DT'), ('world', 'NN'), ('have', 'VBP'), ('connected', 'VBN'), ('on', 'IN'), ('social', 'JJ'), ('media', 'NNS'), ('to', 'TO'), ('compare', 'VB'), ('225', 'CD'), ('updated', 'JJ'), ('sequence', 'NN'), ('information', 'NN'), ('and', 'CC'), ('highlight', 'NN'), ('key', 'NN'), ('unknowns', 'NNS'), ('about', 'IN'), ('the', 'DT'), ('outbreak', 'NN'), ('.', '.'), ('While', 'IN'), ('not', 'RB'), ('always', 'RB'), ('226', 'CD'), ('provided', 'VBD'), ('in', 'IN'), ('a', 'DT'), ('timely', 'JJ'), ('manner', 'NN'), (',', ','), ('the', 'DT'), ('ability', 'NN'), ('to', 'TO'), ('share', 'NN'), ('news', 'NN'), ('updates', 'NNS'), ('and', 'CC'), ('data', 'NNS'), ('in', 'IN'), ('real', 'JJ'), ('time', 'NN'), ('with', 'IN'), ('researchers', 'NNS'), ('227', 'CD'), ('and', 'CC'), ('public', 'JJ'), ('health', 'NN'), ('oﬃcials', 'NNS'), ('around', 'IN'), ('the', 'DT'), ('world', 'NN'), ('signals', 'VBZ'), ('a', 'DT'), ('major', 'JJ'), ('change', 'NN'), ('in', 'IN'), ('the', 'DT'), ('response', 'NN'), ('to', 'TO'), ('outbreaks', 'VB'), ('.', '.'), ('This', 'DT'), ('228', 'CD'), ('connectivity', 'NN'), ('has', 'VBZ'), ('facilitated', 'VBN'), ('awareness', 'NN'), ('as', 'RB'), ('well', 'RB'), ('as', 'IN'), ('new', 'JJ'), ('collaborations', 'NNS'), ('and', 'CC'), ('a', 'DT'), ('rapid', 'JJ'), ('response', 'NN'), ('by', 'IN'), ('the', 'DT'), ('global', 'JJ'), ('229', 'CD'), ('research', 'NN'), ('community', 'NN'), ('.', '.'), ('While', 'IN'), ('there', 'EX'), ('are', 'VBP'), ('many', 'JJ'), ('unknowns', 'NNS'), ('with', 'IN'), ('2019-nCoV', 'JJ'), (',', ','), ('the', 'DT'), ('world', 'NN'), ('is', 'VBZ'), ('engaged', 'VBN'), ('and', 'CC'), ('230', 'CD'), ('prepared', 'VBD'), ('to', 'TO'), ('battle', 'NN'), ('the', 'DT'), ('newest', 'JJS'), ('emergent', 'NN'), ('virus', 'NN'), ('strain', 'NN'), ('.', '.'), ('Perhaps', 'RB'), ('this', 'DT'), ('means', 'VBZ'), ('the', 'DT'), ('lessons', 'NNS'), ('from', 'IN'), ('the', 'DT'), ('SARS', 'NNP'), ('231', 'CD'), ('outbreak', 'NN'), ('have', 'VBP'), ('truly', 'RB'), ('been', 'VBN'), ('learned', 'VBN'), ('.', '.'), ('232', 'CD'), ('Author', 'JJ'), ('Contributions', 'NNS'), (':', ':'), ('L.E.G', 'NNP'), ('.', '.'), ('and', 'CC'), ('V.D.M', 'NNP'), ('.', '.'), ('prepared', 'VBD'), ('this', 'DT'), ('manuscript', 'NN'), ('.', '.'), ('All', 'DT'), ('authors', 'NNS'), ('have', 'VBP'), ('read', 'VBN'), ('and', 'CC'), ('agreed', 'VBN'), ('to', 'TO'), ('the', 'DT'), ('233', 'CD'), ('published', 'VBN'), ('version', 'NN'), ('of', 'IN'), ('the', 'DT'), ('manuscript', 'NN'), ('.', '.'), ('234', 'CD'), ('Funding', 'NN'), (':', ':'), ('This', 'DT'), ('research', 'NN'), ('received', 'VBD'), ('no', 'DT'), ('external', 'JJ'), ('funding', 'NN'), ('.', '.'), ('235', 'CD'), ('Conﬂicts', 'NNPS'), ('of', 'IN'), ('Interest', 'NN'), (':', ':'), ('The', 'DT'), ('authors', 'NNS'), ('declare', 'VBP'), ('no', 'DT'), ('conﬂict', 'NN'), ('of', 'IN'), ('interest', 'NN'), ('.', '.'), ('236', 'CD'), ('©', 'JJ'), ('2020', 'CD'), ('by', 'IN'), ('the', 'DT'), ('authors', 'NNS'), ('.', '.'), ('Licensee', 'NNP'), ('MDPI', 'NNP'), (',', ','), ('Basel', 'NNP'), (',', ','), ('Switzerland', 'NNP'), ('.', '.'), ('This', 'DT'), ('article', 'NN'), ('is', 'VBZ'), ('an', 'DT'), ('open', 'JJ'), ('access', 'NN'), ('237', 'CD'), ('article', 'NN'), ('distributed', 'VBN'), ('under', 'IN'), ('the', 'DT'), ('terms', 'NNS'), ('and', 'CC'), ('conditions', 'NNS'), ('of', 'IN'), ('the', 'DT'), ('Creative', 'JJ'), ('Commons', 'NNPS'), ('Attribution', 'NNP'), ('238', 'CD'), ('(', '('), ('CC', 'NNP'), ('BY', 'NNP'), (')', ')'), ('license', 'NN'), ('(', '('), ('http', 'NN'), (':', ':'), ('//creativecommons.org/licenses/by/4.0/', 'NN'), (')', ')'), ('.', '.')]\n"
     ]
    }
   ],
   "source": [
    "tag2 = nltk.pos_tag(tokens1)\n",
    "print(tag2)"
   ]
  },
  {
   "cell_type": "code",
   "execution_count": 9,
   "id": "51296e96",
   "metadata": {},
   "outputs": [
    {
     "name": "stdout",
     "output_type": "stream",
     "text": [
      "Counter({'NN': 630, 'IN': 442, 'JJ': 442, 'CD': 381, 'DT': 343, 'NNP': 302, 'NNS': 269, ',': 169, '.': 148, 'VBN': 130, 'RB': 117, 'CC': 115, 'VBD': 103, 'TO': 90, 'VB': 75, 'VBZ': 71, 'VBP': 66, 'VBG': 65, 'MD': 32, ')': 31, ':': 28, '(': 28, 'PRP': 10, 'WDT': 10, '$': 9, 'RBR': 8, 'JJR': 8, 'RBS': 5, 'PRP$': 5, 'EX': 5, 'JJS': 4, 'RP': 3, 'NNPS': 3, 'WP': 2, 'UH': 1, 'FW': 1, 'WRB': 1})\n"
     ]
    }
   ],
   "source": [
    "counts = Counter(tag for word,tag in tag2)\n",
    "print(counts)"
   ]
  },
  {
   "cell_type": "code",
   "execution_count": 10,
   "id": "5b3eb7d4",
   "metadata": {
    "scrolled": false
   },
   "outputs": [
    {
     "name": "stdout",
     "output_type": "stream",
     "text": [
      "LENGTH OF LIST: 148 SENTENCES\n",
      "['                                                                           Return of the Coronavirus: 2019-nCoV\\n0    Lisa E. Gralinski and Vineet D. Menachery                                                                 \\n1    Abstract: The emergence of a novel coronavirus (2019-nCoV) has awakened the echoes of SARS-CoV            \\n2    from nearly two decades ago.', 'Yet, with technological advances and important lessons gained from           \\n3    previous outbreaks, perhaps the world is better equipped to deal with the most recent emergent            \\n4    group 2B coronavirus.', '5    Keywords: 2019-nCoV; novel CoV; Wuhan; Wuhan pneumonia; coronavirus; emerging viruses;                    \\n6    SARS-CoV; MERS-CoV                                                                                        \\n7    1.', 'Emergence                                                                                              \\n8    The third zoonotic human coronavirus (CoV) of the century emerged in December 2019, with                  \\n9    a cluster of patients with connections to Huanan South China Seafood Market in Wuhan, Hubei               \\n10   Province, China.', 'Similar to severe acute respiratory syndrome coronavirus (SARS-CoV) and Middle           \\n11   East respiratory syndrome coronavirus (MERS-CoV) infections, patients exhibited symptoms of viral         \\n12   pneumonia including fever, diﬃculty breathing, and bilateral lung inﬁltration in the most severe          \\n13   cases [1].', 'News reports of patients with an unknown pneumonia were ﬁrst identiﬁed on 31st December        \\n14   with the Wuhan Municipal Health Commission saying they were monitoring the situation closely              \\n15   (Figure 1).', 'On 1st January 2020, the seafood market was closed and decontaminated while countries         \\n16   with travel links to Wuhan went on high alert for potential travelers with unexplained respiratory        \\n17   disease.', 'After extensive speculation about a causative agent, the Chinese Center for Disease Control      \\n18   and Prevention (CDC) conﬁrmed a report by the Wall Street Journal and announced identiﬁcation             \\n19   of a novel CoV on 9th January [2].', 'The novel CoV (2019-nCoV) was isolated from a single patient           \\n20   and subsequently veriﬁed in 16 additional patients [3].', 'While not yet conﬁrmed to induce the viral        \\n21   pneumonia, 2019-nCoV was quickly predicted as the likely causative agent.', '22   The ﬁrst sequence of 2019-nCoV was posted online one day after its conﬁrmation on behalf of               \\n23   Dr. Yong-Zhen Zhang and scientists at Fudan University, Shanghai [4].', 'Subsequently, ﬁve additional        \\n24   2019-nCoV sequences were deposited on the GSAID database on 11th January from institutes across           \\n25   China (Chinese CDC, Wuhan Institute of Virology and Chinese Academy of Medical Sciences &                 \\n26   Peking Union Medical College) and allowed researchers around the world to begin analyzing the new         \\n27   CoV [5].', 'By 17th January, there were 62 conﬁrmed cases in China and importantly, three exported           \\n28   cases of infected travelers who were diagnosed in Thailand (2) and Japan (1) [6].', 'The sequences of        \\n29   these exported cases and several additional 2019-nCoV isolated in China have also been deposited          \\n30   on the GSAID database [5].', 'Diagnostic tests have subsequently been developed and some are being           \\n31   used on suspect cases identiﬁed in other locations including Vietnam, Singapore, and Hong Kong [7].', '32   To date there have been twenty-six fatalities associated with 2019-nCoV infection, many of these cases    \\n33   had signiﬁcant co-morbidities and were older in age (>50).', 'A range of disease has been observed           \\n34   highlighted by fever, dry cough, shortness of breath, and leukopenia; patients have included mild cases   \\n35   needing supportive care to severe cases requiring extracorporeal membrane oxygenation; however,           \\n36   compared to SARS-CoV (10% mortality) and MERS-CoV (35% mortality), the 2019-nCoV appears to be            \\n37   less virulent at this point with the exception of the elderly and those with underlying health conditions.', '38   Initial monitoring of case close contacts had not revealed any further 2019-nCoV cases.', 'However,          \\n39   modeling analysis based on oﬃcial case numbers and international spread suggested that there may          \\n40   be cases going undetected [8].', 'On 19th January, these fears were seemingly conﬁrmed as an additional      \\n41   136 cases were added from further surveys raising the total in Wuhan to 198 infected patients [9].', '42   Among the 198 total cases in Wuhan, 170 remained in hospitals, 126 mostly with mild symptoms,             \\n43   35 in serious condition, and 9 in critical condition.', 'The expanded numbers and extended range of          \\n44   onset dates (12 December 2019–18 January 2020) suggested likely human to human transmission or            \\n45   ongoing transmission from a market or other primary sources.', 'On 20th January, the outbreak was            \\n46   further expanded to other parts of China (Beijing, Shanghai, & Shenzhen) as well as another exported      \\n47   cases to South Korea.', 'As of January 24, the total case number has expanded to at least 870 total cases    \\n48   with 26 deaths across 25 provinces in China and 19 exported cases in 10 countries [10].', 'Public health     \\n49   authorities have quarantined travel from Wuhan to limit the spread of the virus and reports indicate      \\n50   other Chinese cities have also been isolated [11].', 'With the heavy travel season for lunar New Year        \\n51   underway in Asia, major concerns exist for the 2019-nCoV outbreak to continue and spread.', '52   2.', 'Origins of 2019-nCoV                                                                                   \\n53   The source of the 2019-nCoV is still unknown, although the initial cases have been associated with        \\n54   the Huanan South China Seafood Market.', 'While many of the early patients worked in or visited the          \\n55   market, none of the exported cases had contact with the market, suggesting either human to human          \\n56   transmission or a more widespread animal source [6].', 'In addition to seafood, it is reported on social     \\n57   media that snakes, birds and other small mammals including marmots and bats were sold at the              \\n58   Huanan South China Seafood Market.', 'The WHO reported that environmental samples taken from the             \\n59   marketplace have come back positive for the novel coronavirus, but no speciﬁc animal association          \\n60   has been identiﬁed [6].', 'An initial report suggested that snakes might be the possible source based        \\n61   on codon usage [12], but the assertion has been disputed by others [13].', 'Researchers are currently        \\n62   working to identify the source of 2019-nCoV including possible intermediate animal vectors.', '63   A zoonotic reservoir harkens back to the emergence of both SARS- and MERS-CoV.', 'SARS-CoV,                  \\n64   the ﬁrst highly pathogenic human CoV, emerged in 2002 with transmission from animals to humans            \\n65   occurring in wet markets.', 'Surveillance eﬀorts found SARS-CoV viral RNA in both palm civets and            \\n66   raccoon dogs sold in these wet markets [14]; however, SARS-CoV was not found in the wild, suggesting      \\n67   that those species served as intermediary reservoir as the virus adapted to more eﬃciently infect         \\n68   humans.', 'Further surveillance eﬀorts identiﬁed highly related CoVs in bat species [15].', 'More recent        \\n69   work has demonstrated that several bat CoVs are capable of infecting human cells without a need for       \\n70   intermediate adaptation [16,17].', 'Additionally, human serology data shows recognition of bat CoV           \\n71   proteins and indicates that low-level zoonotic transmission of SARS-like bat coronaviruses occurs         \\n72   outside of recognized outbreaks [18].', 'MERS-CoV is also a zoonotic virus with possible origins in          \\n73   bats [19,20], although camels are endemically infected and camel contact is frequently reported during    \\n74   primary MERS-CoV cases [21].', 'For SARS-CoV, strict quarantine and the culling of live markets in SE        \\n75   Asia played a major role in ending the outbreak.', 'With the cultural importance of camels, a similar        \\n76   approach for MERS-CoV was not an option and periodic outbreaks continue in the Middle East.', 'These         \\n77   lessons from SARS and MERS highlight the importance of rapidly ﬁnding the source for 2019-nCoV in         \\n78   order to stem the ongoing outbreak.', '79   3.', 'Susceptible Populations                                                                                \\n80   With limited patient data, it is diﬃcult to make robust declarations about populations that               \\n81   may be most susceptible to 2019-nCoV.', 'However, disease severity following SARS- and MERS-CoV              \\n82   corresponded strongly to underlying host conditions including age, biological sex, and overall            \\n83   health [22].', 'Early patient reports from 2019-nCoV ﬁnd similar trends.', 'Severe illness with 2019-nCoV has   \\n84   been associated with elderly patients (>60 years old), including twenty-six lethal cases.', 'These ﬁndings   \\n85   correspond to increased severity and death in people over the age of 50 following both SARS and           \\n86   MERS-CoV infection [23,24].', 'Similarly, the underlying health of the patient likely plays a critical       \\n87   role in overall susceptibility.', 'For the 2019-nCoV, limited comorbidity data is available; however,        \\n88   the twenty-six patients that have succumbed to the novel CoV had signiﬁcant health conditions             \\n89   including hypertension, diabetes, heart and/or kidney function issues that may have made them more        \\n90   susceptible.', 'For the MERS-CoV outbreak, smoking, hypertension, diabetes, cardiovascular disease,          \\n91   and/or other chronic illnesses have been present in the majority of deaths and correspond to ﬁndings in   \\n92   animal models [25].', 'The results indicate vigilance is necessary for these vulnerable patients following   \\n93   2019-nCoV infection.', '94   4.', 'Insights from the 2019-nCoV Sequence                                                                   \\n95   The rapid sequencing of the nearly 30,000 nucleotide 2019-nCoV genome by Dr. Zhang’s group at             \\n96   Fudan University and several other groups in China illustrate the dedication and increased capacity       \\n97   of the scientiﬁc infrastructure in China [4,5].', 'For SARS-CoV, the causative agent was unknown for         \\n98   months and subsequently took over four weeks until a full genome was released [26].', 'Similarly,            \\n99   MERS-CoV was only identiﬁed after several months of testing and a full-length genome available            \\n100  about a month later [27].', 'In contrast, time from the ﬁrst date of patient onset (12 December 2019) to     \\n101  the report of several 2019-nCoV full-length genomes took less than one month.', 'Combined with the           \\n102  immense pressure of an ongoing outbreak with an unknown agent, the eﬀort of these scientists should       \\n103  be considered nothing less than remarkable.', '104  Building from the sequence, the nucleotide alignment quickly distinguished the novel virus as a           \\n105  group 2B CoV, distinct from the SARS-CoV strains [4,5].', 'Examining the whole genome, 2019-nCoV             \\n106  maintains ~80% nucleotide identity to the original SARS epidemic viruses.', 'Its closest whole genome        \\n107  relatives are two bat SARS-like CoVs (ZC45 and ZXC21) that shared ~89% sequence identity with             \\n108  2019-nCoV; these CoV sequences were deposited in early 2018 from Zhejiang province in R. sinicus          \\n109  bats in China.', 'Comparing across the deposited 2019-nCoV strains ﬁnds > 99.5% conservation; the lack       \\n110  of diversity suggests a common lineage and source with emergence not likely having occurred that          \\n111  long ago [28,29].', 'A recent report has subsequently identiﬁed a bat CoV sequence, RaTG3, with 92%          \\n112  sequence identity with the novel virus which argues for bat origins for the 2019-nCoV [30].', '113  We next shifted analysis to the nucleocapsid (N) protein, the most abundant protein produced in           \\n114  CoVs.', 'Generally, the N protein is well conserved across CoV families including group 2B [31].', 'The N       \\n115  protein for 2019-nCoV is no exception with ~90% amino acid identity to the SARS-CoV N protein.', 'While      \\n116  less conserved than other group 2B CoVs like HKU3-CoV and SHC014-CoV, 2019-nCoV antibodies                \\n117  against the N protein would likely recognize and bind the SARS-CoV N protein as well.', 'N antibodies        \\n118  do not provide immunity to 2019-nCoV infection, but the cross reactivity with SARS-CoV N protein          \\n119  would allow a serum based assay to determine exposure to the novel CoV in asymptomatic cases.', 'While       \\n120  previous studies have found serum reactivity to group 2B virus N proteins in Chinese populations [18],    \\n121  exposure to 2019-nCoV should increase the dilution factor substantially if exposure/infection had         \\n122  occurred.', 'Importantly, this information may provide insights about susceptibly and potential routes of    \\n123  spread through asymptomatic carriers.', '124  Examining further, we next compared the spike proteins, the critical glycoprotein responsible             \\n125  for virus binding and entry.', 'Overall, the 2019-nCoV spike protein has roughly 75% amino acid              \\n126  identity with SARS-CoV, which is less conserved than other group 2B CoVs including HKU3-CoV [31].', '127  However, narrowing analysis to the spike receptor binding domain (RBD) of SARS-CoV (amino acids           \\n128  318–518), the 2019-nCoV RBD is 73% conserved relative to the epidemic RBD.', 'This conservation              \\n129  level places the 2019-nCoV RBD between HKU3-4 (62.7% conservation), a bat virus that cannot use           \\n130  human ACE2, and rSHC014 (80.8%), the most divergent bat CoV spike known to use human ACE2 for             \\n131  entry [16,32].', 'Importantly, the key binding residues for SARS-CoV have been identiﬁed [33]; among         \\n132  these fourteen residues predicted to interact directly with human ACE2, the receptor for SARS-CoV,        \\n133  eight amino acids are conserved in 2019-nCoV.', 'Notably, several of these residues are also conserved       \\n134  relative to WIV1- and WIV16-CoV, two bat strains closely related to SARS-CoV and known to use             \\n135  human ACE2 [17,34].', 'Initial structural modeling suggest that the 2019-nCoV may be able to use human       \\n136  ACE2 as a receptor, although its aﬃnity m be reduced relative to the epidemic SARS-CoV strains [35].', '137  A subsequent report demonstrated that the receptor binding domain of 2019-nCoV was capable of             \\n138  binding ACE2 in the context of the SARS-CoV spike protein [36].', 'In addition, another rapid report         \\n139  links demonstrates 2019-nCoV uses ACE2 receptors from human, bat, civets, and swine [30].', 'Together,       \\n140  the modeling, pseudotyping, and infection data provide strong evidence for human ACE2 being the           \\n141  receptor for 2019-nCoV.', '142  5.', 'Achieving Koch Postulates                                                                              \\n143  Traditional identiﬁcation of a microbe as the causative agent of disease requires fulﬁllment of           \\n144  Koch’s postulates, modiﬁed by Rivers for viral diseases [37].', 'At the present time, the 2019-nCoV          \\n145  has been isolated from patients, detected by speciﬁc assays in patients, and cultured in host cells       \\n146  (one available sequence is identiﬁed as a passage isolate), starting to fulﬁll these criteria.', 'Given the  \\n147  recentness of the 2019-nCoV outbreak, at this point there is no animal model available to fulﬁll the      \\n148  remaining criteria: 1) testing the capability of 2019-nCoV to cause respiratory disease in a related      \\n149  species, 2) re-isolating the virus from the experimentally infected animal and 3) detection of a speciﬁc  \\n150  immune response.', 'These eﬀorts will surely be an area of intense research in the coming months both in     \\n151  China and in CoV research laboratories around the world.', '152  Notably, generating small animal models of coronavirus disease can be diﬃcult.', 'While SARS-CoV             \\n153  readily infected laboratory mice, it does not cause signiﬁcant disease unless the virus is passaged to    \\n154  adapt to the mouse host [38].', 'Infection of primates produces a more mild disease than that observed in    \\n155  humans, although fever and pulmonary inﬂammation were noted [39,40].', 'MERS-CoV is incapable                \\n156  of infecting rodent cells without engineering changes in critical residues of the receptor protein,       \\n157  DPP4 [41,42].', 'However, MERS-CoV does infect non-human primates [43].', 'As such, MERS mouse                  \\n158  models of disease required a great deal of time to develop and are limited in the types of manipulations  \\n159  that can be performed [41].', 'At this point, the infectious capability of the 2019-nCoV for diﬀerent species\\n160  and diﬀerent cell types is unknown.', 'Early reports suggest that the virus can utilize human, bat, swine,   \\n161  and civet ACE2 [30]; notably, the group found mouse Ace2 was not permissive for 2019-nCoV infection       \\n162  Dissemination of virus stocks and/or de novo generation of the virus through reverse genetics systems     \\n163  will enable this research allowing for animal testing and subsequent completion of Koch’s postulates      \\n164  for the new virus.', '165  6.', 'Threat for Spread: Human to Human, Health Care Workers, and Super Spreaders                            \\n166  While the Huanan seafood market in Wuhan has been associated with the majority of cases, many             \\n167  of the recent cases do not have a direct connection [9].', 'This fact suggests a secondary source of infectio\\n168  either human to human transmission or possibly infected animals in another market in Wuhan.', 'Both          \\n169  possibilities represent major concerns and indicate the outbreak has the potential to expand rapidly.', '170  For human to human transmission, there was limited data in the initial set of cases; one family cluster   \\n171  is of three men who all work in the market.', 'Similarly, a husband and wife are among the patients, with    \\n172  the wife claiming no contact with the market.', 'In these cases, direct human to human infection may         \\n173  have been possible; alternatively, a contaminated fomite from the market may also be responsible as       \\n174  surfaces all around the market were found to test positive 2019-nCoV.', 'However, the major increase         \\n175  in the number of cases, the lack of direct connection to the Wuhan market for many cases, and the         \\n176  infection of health care works all suggest human to human spread is likely [9,44].', 'Importantly, until the \\n177  source of the virus is found, it will be diﬃcult to distinguish zoonotic versus human to human spread.', '178  In the early part of the outbreak, the absence of infection in health care workers argued for ineﬃcient   \\n179  human to human spread and distinguished 2019-nCoV from both SARS-CoV and MERS-CoV.', 'In                     \\n180  the two prior CoV epidemics, health care settings served as a major transmission point fueling both       \\n181  outbreaks.', 'Based on WHO data, 1 in 10 MERS-CoV cases have been found to be health care workers;           \\n182  these patients generally have reduced disease and death likely due to younger age and absence of          \\n183  existing health conditions.', 'The recent reports of numerous infected health care workers in Wuhan          \\n184  indicate human to human infection can occur with 2019-nCoV and may be the product of a super              \\n185  spreading patient [44].', 'However, while large swaths of healthcare workers are not getting sick as seen    \\n186  with SARS and MERS-CoV, it may be too early to rule out their potential exposure to the novel CoV as      \\n187  their disease may be asymptomatic.', 'While not described during the SARS-CoV outbreak, asymptomatic         \\n188  cases ranged from 12.5% to 25% in some MERS-CoV studies [45].', 'A similar phenomenon may be                 \\n189  occurring with 2019-nCoV and would make stopping the outbreak even more diﬃcult to contain.', '190  Another parameter to consider is the possibility of super spreading in the context of 2019-nCoV.', '191  Super spreading is the ampliﬁed transmission of a virus by individuals in a population and has been       \\n192  suggested by at least one news report [44].', 'Both SARS- and MERS-CoV outbreaks had documented              \\n193  evidence of super spreading patients [46].', 'In general, both epidemic CoVs maintain a low R0, the          \\n194  rate spread from an individual infected patient.', 'However, roughly 10% of SARS- and MERS-CoV               \\n195  > 10.', 'These cases seeded a signiﬁcant                                                                     \\n196  patients have been associated with super spreading and an R0                                              \\n197  portion of the epidemic around the world.', 'Notably, neither mutations in the viruses nor severity of       \\n198  disease were found to be associated with super spreading, implying that host factors contribute to the    \\n199  phenotype [47].', 'For 2019-nCoV, contact tracing to date suggest limited human to human spread and a        \\n200  low R0.', 'However, the recent increase in cases, both in and outside Wuhan could signal the existence of    \\n201  super-spreading individuals fueling the outbreak.', 'Alternatively, super spreading could occur from the     \\n202  zoonotic source which has been seen in other disease outbreaks [10].', 'In any event, the possibility of     \\n203  super spreading may continue to play a role in this ongoing 2019-nCoV outbreak.', '204  7.', 'Emerging Diseases in the Age of Social Media                                                           \\n205  News of the 2019-nCoV came to widespread attention through the internet.', 'Over the years,                  \\n206  websites like FluTrackers.com, ProMED (promedmail.org), and others have permitted the collection of       \\n207  disease information from around the world and facilitated dissemination to interested parties.', 'In 2012,   \\n208  MERS-CoV ﬁrst drew attention as a “novel coronavirus” entioned on ProMED Mail and subsequently            \\n209  through conversation on twitter between science journalists, virologists, and public health experts.', '210  Eight years later, a more connected network quickly dissected statements from the Wuhan Municipal         \\n211  Health Commission and speculated about possible causes.', 'Early during an outbreak, it can be diﬃcult       \\n212  to distinguish between rumors with elements of truth versus baseless fear mongering.', 'This fact can        \\n213  be exacerbated by language barriers and oﬀ the record sources.', 'However, in this case, speculation of      \\n214  a novel coronavirus was fed by carefully worded statements that speciﬁcally excluding some virus          \\n215  families (inﬂuenza, adenovirus), but only excluded SARS-CoV and MERS-CoV for coronaviruses.', '216  Coupled with memories of the SARS outbreak, many worried that the truth may be held back.', 'When            \\n217  the agent was ﬁnally conﬁrmed as a CoV, the world acted with both worry and relief: the outbreak          \\n218  would not be hidden.', '219  While far from perfect, the government response to 2019-nCoV provides a stark contrast to the             \\n220  SARS outbreak at the beginning of the century.', 'The rapid release of 2019-nCoV sequences permitted the     \\n221  research community to quickly become engaged, providing analysis and developing diagnostic tests.', '222  Both the Chinese CDC and the Wuhan Municipal Health Commission have posted regular updates                \\n223  of conﬁrmed case numbers and patient statuses enabling public health authorities to monitor the           \\n224  situation in real time.', 'Researchers from around the world have connected on social media to compare       \\n225  updated sequence information and highlight key unknowns about the outbreak.', 'While not always              \\n226  provided in a timely manner, the ability to share news updates and data in real time with researchers     \\n227  and public health oﬃcials around the world signals a major change in the response to outbreaks.', 'This      \\n228  connectivity has facilitated awareness as well as new collaborations and a rapid response by the global   \\n229  research community.', 'While there are many unknowns with 2019-nCoV, the world is engaged and                \\n230  prepared to battle the newest emergent virus strain.', 'Perhaps this means the lessons from the SARS         \\n231  outbreak have truly been learned.', '232  Author Contributions: L.E.G.', 'and V.D.M.', 'prepared this manuscript.', 'All authors have read and agreed to the \\n233  published version of the manuscript.', '234  Funding: This research received no external funding.', '235  Conﬂicts of Interest: The authors declare no conﬂict of interest.', '236  © 2020 by the authors.', 'Licensee MDPI, Basel, Switzerland.', 'This article is an open access                  \\n237  article distributed under the terms and conditions of the Creative Commons Attribution                    \\n238  (CC BY) license (http://creativecommons.org/licenses/by/4.0/).']\n"
     ]
    }
   ],
   "source": [
    "from nltk.tokenize import sent_tokenize\n",
    "sent_tokenize_list = sent_tokenize(text, \"english\")\n",
    "print('LENGTH OF LIST: ' + str(len(sent_tokenize_list))+ ' SENTENCES')\n",
    "print(sent_tokenize_list)"
   ]
  },
  {
   "cell_type": "code",
   "execution_count": 11,
   "id": "ec969597",
   "metadata": {},
   "outputs": [
    {
     "name": "stdout",
     "output_type": "stream",
     "text": [
      "[('Return', 'NOUN'), ('of', 'ADP'), ('the', 'DET'), ('Coronavirus', 'NOUN'), (':', '.'), ('2019-nCoV', 'ADJ'), ('0', 'NUM'), ('Lisa', 'NOUN'), ('E.', 'NOUN'), ('Gralinski', 'NOUN'), ('and', 'CONJ'), ('Vineet', 'NOUN'), ('D.', 'NOUN'), ('Menachery', 'NOUN'), ('1', 'NUM'), ('Abstract', 'NOUN'), (':', '.'), ('The', 'DET'), ('emergence', 'NOUN'), ('of', 'ADP'), ('a', 'DET'), ('novel', 'ADJ'), ('coronavirus', 'NOUN'), ('(', '.'), ('2019-nCoV', 'ADJ'), (')', '.'), ('has', 'VERB'), ('awakened', 'VERB'), ('the', 'DET'), ('echoes', 'NOUN'), ('of', 'ADP'), ('SARS-CoV', 'ADJ'), ('2', 'NUM'), ('from', 'ADP'), ('nearly', 'ADV'), ('two', 'NUM'), ('decades', 'NOUN'), ('ago', 'ADV'), ('.', '.'), ('Yet', 'CONJ'), (',', '.'), ('with', 'ADP'), ('technological', 'ADJ'), ('advances', 'NOUN'), ('and', 'CONJ'), ('important', 'ADJ'), ('lessons', 'NOUN'), ('gained', 'VERB'), ('from', 'ADP'), ('3', 'NUM'), ('previous', 'ADJ'), ('outbreaks', 'NOUN'), (',', '.'), ('perhaps', 'ADV'), ('the', 'DET'), ('world', 'NOUN'), ('is', 'VERB'), ('better', 'ADV'), ('equipped', 'VERB'), ('to', 'PRT'), ('deal', 'VERB'), ('with', 'ADP'), ('the', 'DET'), ('most', 'ADV'), ('recent', 'ADJ'), ('emergent', 'NOUN'), ('4', 'NUM'), ('group', 'NOUN'), ('2B', 'NUM'), ('coronavirus', 'NOUN'), ('.', '.'), ('5', 'NUM'), ('Keywords', 'NOUN'), (':', '.'), ('2019-nCoV', 'ADJ'), (';', '.'), ('novel', 'ADJ'), ('CoV', 'NOUN'), (';', '.'), ('Wuhan', 'NOUN'), (';', '.'), ('Wuhan', 'NOUN'), ('pneumonia', 'NOUN'), (';', '.'), ('coronavirus', 'NOUN'), (';', '.'), ('emerging', 'VERB'), ('viruses', 'NOUN'), (';', '.'), ('6', 'NUM'), ('SARS-CoV', 'ADJ'), (';', '.'), ('MERS-CoV', 'ADJ'), ('7', 'NUM'), ('1', 'NUM'), ('.', '.'), ('Emergence', 'NOUN'), ('8', 'NUM'), ('The', 'DET'), ('third', 'ADJ'), ('zoonotic', 'ADJ'), ('human', 'ADJ'), ('coronavirus', 'NOUN'), ('(', '.'), ('CoV', 'NOUN'), (')', '.'), ('of', 'ADP'), ('the', 'DET'), ('century', 'NOUN'), ('emerged', 'VERB'), ('in', 'ADP'), ('December', 'NOUN'), ('2019', 'NUM'), (',', '.'), ('with', 'ADP'), ('9', 'NUM'), ('a', 'DET'), ('cluster', 'NOUN'), ('of', 'ADP'), ('patients', 'NOUN'), ('with', 'ADP'), ('connections', 'NOUN'), ('to', 'PRT'), ('Huanan', 'NOUN'), ('South', 'NOUN'), ('China', 'NOUN'), ('Seafood', 'NOUN'), ('Market', 'NOUN'), ('in', 'ADP'), ('Wuhan', 'NOUN'), (',', '.'), ('Hubei', 'NOUN'), ('10', 'NUM'), ('Province', 'NOUN'), (',', '.'), ('China', 'NOUN'), ('.', '.'), ('Similar', 'NOUN'), ('to', 'PRT'), ('severe', 'VERB'), ('acute', 'ADJ'), ('respiratory', 'ADJ'), ('syndrome', 'NOUN'), ('coronavirus', 'NOUN'), ('(', '.'), ('SARS-CoV', 'NOUN'), (')', '.'), ('and', 'CONJ'), ('Middle', 'NOUN'), ('11', 'NUM'), ('East', 'NOUN'), ('respiratory', 'ADJ'), ('syndrome', 'NOUN'), ('coronavirus', 'NOUN'), ('(', '.'), ('MERS-CoV', 'NOUN'), (')', '.'), ('infections', 'NOUN'), (',', '.'), ('patients', 'NOUN'), ('exhibited', 'VERB'), ('symptoms', 'NOUN'), ('of', 'ADP'), ('viral', 'ADJ'), ('12', 'NUM'), ('pneumonia', 'NOUN'), ('including', 'VERB'), ('fever', 'NOUN'), (',', '.'), ('diﬃculty', 'NOUN'), ('breathing', 'NOUN'), (',', '.'), ('and', 'CONJ'), ('bilateral', 'ADJ'), ('lung', 'NOUN'), ('inﬁltration', 'NOUN'), ('in', 'ADP'), ('the', 'DET'), ('most', 'ADV'), ('severe', 'ADJ'), ('13', 'NUM'), ('cases', 'NOUN'), ('[', 'VERB'), ('1', 'NUM'), (']', 'NOUN'), ('.', '.'), ('News', 'NOUN'), ('reports', 'NOUN'), ('of', 'ADP'), ('patients', 'NOUN'), ('with', 'ADP'), ('an', 'DET'), ('unknown', 'ADJ'), ('pneumonia', 'NOUN'), ('were', 'VERB'), ('ﬁrst', 'ADJ'), ('identiﬁed', 'NOUN'), ('on', 'ADP'), ('31st', 'NUM'), ('December', 'NOUN'), ('14', 'NUM'), ('with', 'ADP'), ('the', 'DET'), ('Wuhan', 'NOUN'), ('Municipal', 'NOUN'), ('Health', 'NOUN'), ('Commission', 'NOUN'), ('saying', 'VERB'), ('they', 'PRON'), ('were', 'VERB'), ('monitoring', 'VERB'), ('the', 'DET'), ('situation', 'NOUN'), ('closely', 'ADV'), ('15', 'NUM'), ('(', '.'), ('Figure', 'NOUN'), ('1', 'NUM'), (')', '.'), ('.', '.'), ('On', 'ADP'), ('1st', 'NUM'), ('January', 'NOUN'), ('2020', 'NUM'), (',', '.'), ('the', 'DET'), ('seafood', 'NOUN'), ('market', 'NOUN'), ('was', 'VERB'), ('closed', 'VERB'), ('and', 'CONJ'), ('decontaminated', 'VERB'), ('while', 'ADP'), ('countries', 'NOUN'), ('16', 'NUM'), ('with', 'ADP'), ('travel', 'ADJ'), ('links', 'NOUN'), ('to', 'PRT'), ('Wuhan', 'NOUN'), ('went', 'VERB'), ('on', 'ADP'), ('high', 'ADJ'), ('alert', 'NOUN'), ('for', 'ADP'), ('potential', 'ADJ'), ('travelers', 'NOUN'), ('with', 'ADP'), ('unexplained', 'ADJ'), ('respiratory', 'NOUN'), ('17', 'NUM'), ('disease', 'NOUN'), ('.', '.'), ('After', 'ADP'), ('extensive', 'ADJ'), ('speculation', 'NOUN'), ('about', 'ADP'), ('a', 'DET'), ('causative', 'ADJ'), ('agent', 'NOUN'), (',', '.'), ('the', 'DET'), ('Chinese', 'NOUN'), ('Center', 'NOUN'), ('for', 'ADP'), ('Disease', 'NOUN'), ('Control', 'NOUN'), ('18', 'NUM'), ('and', 'CONJ'), ('Prevention', 'NOUN'), ('(', '.'), ('CDC', 'NOUN'), (')', '.'), ('conﬁrmed', 'VERB'), ('a', 'DET'), ('report', 'NOUN'), ('by', 'ADP'), ('the', 'DET'), ('Wall', 'NOUN'), ('Street', 'NOUN'), ('Journal', 'NOUN'), ('and', 'CONJ'), ('announced', 'VERB'), ('identiﬁcation', 'NOUN'), ('19', 'NUM'), ('of', 'ADP'), ('a', 'DET'), ('novel', 'ADJ'), ('CoV', 'NOUN'), ('on', 'ADP'), ('9th', 'NUM'), ('January', 'NOUN'), ('[', 'VERB'), ('2', 'NUM'), (']', 'NOUN'), ('.', '.'), ('The', 'DET'), ('novel', 'ADJ'), ('CoV', 'NOUN'), ('(', '.'), ('2019-nCoV', 'ADJ'), (')', '.'), ('was', 'VERB'), ('isolated', 'VERB'), ('from', 'ADP'), ('a', 'DET'), ('single', 'ADJ'), ('patient', 'NOUN'), ('20', 'NUM'), ('and', 'CONJ'), ('subsequently', 'ADV'), ('veriﬁed', 'NOUN'), ('in', 'ADP'), ('16', 'NUM'), ('additional', 'ADJ'), ('patients', 'NOUN'), ('[', 'VERB'), ('3', 'NUM'), (']', 'NOUN'), ('.', '.'), ('While', 'ADP'), ('not', 'ADV'), ('yet', 'ADV'), ('conﬁrmed', 'VERB'), ('to', 'PRT'), ('induce', 'VERB'), ('the', 'DET'), ('viral', 'ADJ'), ('21', 'NUM'), ('pneumonia', 'NOUN'), (',', '.'), ('2019-nCoV', 'ADJ'), ('was', 'VERB'), ('quickly', 'ADV'), ('predicted', 'VERB'), ('as', 'ADP'), ('the', 'DET'), ('likely', 'ADJ'), ('causative', 'ADJ'), ('agent', 'NOUN'), ('.', '.'), ('22', 'NUM'), ('The', 'DET'), ('ﬁrst', 'ADJ'), ('sequence', 'NOUN'), ('of', 'ADP'), ('2019-nCoV', 'ADJ'), ('was', 'VERB'), ('posted', 'VERB'), ('online', 'ADJ'), ('one', 'NUM'), ('day', 'NOUN'), ('after', 'ADP'), ('its', 'PRON'), ('conﬁrmation', 'NOUN'), ('on', 'ADP'), ('behalf', 'NOUN'), ('of', 'ADP'), ('23', 'NUM'), ('Dr.', 'NOUN'), ('Yong-Zhen', 'NOUN'), ('Zhang', 'NOUN'), ('and', 'CONJ'), ('scientists', 'NOUN'), ('at', 'ADP'), ('Fudan', 'NOUN'), ('University', 'NOUN'), (',', '.'), ('Shanghai', 'NOUN'), ('[', 'VERB'), ('4', 'NUM'), (']', 'NOUN'), ('.', '.'), ('Subsequently', 'ADV'), (',', '.'), ('ﬁve', 'NOUN'), ('additional', 'ADJ'), ('24', 'NUM'), ('2019-nCoV', 'ADJ'), ('sequences', 'NOUN'), ('were', 'VERB'), ('deposited', 'VERB'), ('on', 'ADP'), ('the', 'DET'), ('GSAID', 'NOUN'), ('database', 'NOUN'), ('on', 'ADP'), ('11th', 'NUM'), ('January', 'NOUN'), ('from', 'ADP'), ('institutes', 'NOUN'), ('across', 'ADP'), ('25', 'NUM'), ('China', 'NOUN'), ('(', '.'), ('Chinese', 'ADJ'), ('CDC', 'NOUN'), (',', '.'), ('Wuhan', 'NOUN'), ('Institute', 'NOUN'), ('of', 'ADP'), ('Virology', 'NOUN'), ('and', 'CONJ'), ('Chinese', 'NOUN'), ('Academy', 'NOUN'), ('of', 'ADP'), ('Medical', 'NOUN'), ('Sciences', 'NOUN'), ('&', 'CONJ'), ('26', 'NUM'), ('Peking', 'NOUN'), ('Union', 'NOUN'), ('Medical', 'NOUN'), ('College', 'NOUN'), (')', '.'), ('and', 'CONJ'), ('allowed', 'VERB'), ('researchers', 'NOUN'), ('around', 'ADP'), ('the', 'DET'), ('world', 'NOUN'), ('to', 'PRT'), ('begin', 'VERB'), ('analyzing', 'VERB'), ('the', 'DET'), ('new', 'ADJ'), ('27', 'NUM'), ('CoV', 'NOUN'), ('[', 'VERB'), ('5', 'NUM'), (']', 'NOUN'), ('.', '.'), ('By', 'ADP'), ('17th', 'NUM'), ('January', 'NOUN'), (',', '.'), ('there', 'DET'), ('were', 'VERB'), ('62', 'NUM'), ('conﬁrmed', 'ADJ'), ('cases', 'NOUN'), ('in', 'ADP'), ('China', 'NOUN'), ('and', 'CONJ'), ('importantly', 'ADV'), (',', '.'), ('three', 'NUM'), ('exported', 'VERB'), ('28', 'NUM'), ('cases', 'NOUN'), ('of', 'ADP'), ('infected', 'ADJ'), ('travelers', 'NOUN'), ('who', 'PRON'), ('were', 'VERB'), ('diagnosed', 'VERB'), ('in', 'ADP'), ('Thailand', 'NOUN'), ('(', '.'), ('2', 'NUM'), (')', '.'), ('and', 'CONJ'), ('Japan', 'NOUN'), ('(', '.'), ('1', 'NUM'), (')', '.'), ('[', 'VERB'), ('6', 'NUM'), (']', 'NOUN'), ('.', '.'), ('The', 'DET'), ('sequences', 'NOUN'), ('of', 'ADP'), ('29', 'NUM'), ('these', 'DET'), ('exported', 'VERB'), ('cases', 'NOUN'), ('and', 'CONJ'), ('several', 'ADJ'), ('additional', 'ADJ'), ('2019-nCoV', 'ADJ'), ('isolated', 'VERB'), ('in', 'ADP'), ('China', 'NOUN'), ('have', 'VERB'), ('also', 'ADV'), ('been', 'VERB'), ('deposited', 'VERB'), ('30', 'NUM'), ('on', 'ADP'), ('the', 'DET'), ('GSAID', 'NOUN'), ('database', 'NOUN'), ('[', 'VERB'), ('5', 'NUM'), (']', 'NOUN'), ('.', '.'), ('Diagnostic', 'ADJ'), ('tests', 'NOUN'), ('have', 'VERB'), ('subsequently', 'ADV'), ('been', 'VERB'), ('developed', 'VERB'), ('and', 'CONJ'), ('some', 'DET'), ('are', 'VERB'), ('being', 'VERB'), ('31', 'NUM'), ('used', 'VERB'), ('on', 'ADP'), ('suspect', 'ADJ'), ('cases', 'NOUN'), ('identiﬁed', 'VERB'), ('in', 'ADP'), ('other', 'ADJ'), ('locations', 'NOUN'), ('including', 'VERB'), ('Vietnam', 'NOUN'), (',', '.'), ('Singapore', 'NOUN'), (',', '.'), ('and', 'CONJ'), ('Hong', 'NOUN'), ('Kong', 'NOUN'), ('[', 'VERB'), ('7', 'NUM'), (']', 'NOUN'), ('.', '.'), ('32', 'NUM'), ('To', 'PRT'), ('date', 'NOUN'), ('there', 'ADV'), ('have', 'VERB'), ('been', 'VERB'), ('twenty-six', 'ADJ'), ('fatalities', 'NOUN'), ('associated', 'VERB'), ('with', 'ADP'), ('2019-nCoV', 'ADJ'), ('infection', 'NOUN'), (',', '.'), ('many', 'ADJ'), ('of', 'ADP'), ('these', 'DET'), ('cases', 'NOUN'), ('33', 'NUM'), ('had', 'VERB'), ('signiﬁcant', 'VERB'), ('co-morbidities', 'NOUN'), ('and', 'CONJ'), ('were', 'VERB'), ('older', 'ADJ'), ('in', 'ADP'), ('age', 'NOUN'), ('(', '.'), ('>', 'ADJ'), ('50', 'NUM'), (')', '.'), ('.', '.'), ('A', 'DET'), ('range', 'NOUN'), ('of', 'ADP'), ('disease', 'NOUN'), ('has', 'VERB'), ('been', 'VERB'), ('observed', 'VERB'), ('34', 'NUM'), ('highlighted', 'VERB'), ('by', 'ADP'), ('fever', 'NOUN'), (',', '.'), ('dry', 'ADJ'), ('cough', 'NOUN'), (',', '.'), ('shortness', 'NOUN'), ('of', 'ADP'), ('breath', 'NOUN'), (',', '.'), ('and', 'CONJ'), ('leukopenia', 'NOUN'), (';', '.'), ('patients', 'NOUN'), ('have', 'VERB'), ('included', 'VERB'), ('mild', 'ADJ'), ('cases', 'NOUN'), ('35', 'NUM'), ('needing', 'VERB'), ('supportive', 'ADJ'), ('care', 'NOUN'), ('to', 'PRT'), ('severe', 'VERB'), ('cases', 'NOUN'), ('requiring', 'VERB'), ('extracorporeal', 'ADJ'), ('membrane', 'NOUN'), ('oxygenation', 'NOUN'), (';', '.'), ('however', 'ADV'), (',', '.'), ('36', 'NUM'), ('compared', 'VERB'), ('to', 'PRT'), ('SARS-CoV', 'NOUN'), ('(', '.'), ('10', 'NUM'), ('%', 'NOUN'), ('mortality', 'NOUN'), (')', '.'), ('and', 'CONJ'), ('MERS-CoV', 'NOUN'), ('(', '.'), ('35', 'NUM'), ('%', 'NOUN'), ('mortality', 'NOUN'), (')', '.'), (',', '.'), ('the', 'DET'), ('2019-nCoV', 'ADJ'), ('appears', 'VERB'), ('to', 'PRT'), ('be', 'VERB'), ('37', 'NUM'), ('less', 'ADJ'), ('virulent', 'NOUN'), ('at', 'ADP'), ('this', 'DET'), ('point', 'NOUN'), ('with', 'ADP'), ('the', 'DET'), ('exception', 'NOUN'), ('of', 'ADP'), ('the', 'DET'), ('elderly', 'ADJ'), ('and', 'CONJ'), ('those', 'DET'), ('with', 'ADP'), ('underlying', 'ADJ'), ('health', 'NOUN'), ('conditions', 'NOUN'), ('.', '.'), ('38', 'NUM'), ('Initial', 'ADJ'), ('monitoring', 'NOUN'), ('of', 'ADP'), ('case', 'NOUN'), ('close', 'ADJ'), ('contacts', 'NOUN'), ('had', 'VERB'), ('not', 'ADV'), ('revealed', 'VERB'), ('any', 'DET'), ('further', 'ADJ'), ('2019-nCoV', 'ADJ'), ('cases', 'NOUN'), ('.', '.'), ('However', 'ADV'), (',', '.'), ('39', 'NUM'), ('modeling', 'VERB'), ('analysis', 'NOUN'), ('based', 'VERB'), ('on', 'ADP'), ('oﬃcial', 'ADJ'), ('case', 'NOUN'), ('numbers', 'NOUN'), ('and', 'CONJ'), ('international', 'ADJ'), ('spread', 'NOUN'), ('suggested', 'VERB'), ('that', 'ADP'), ('there', 'DET'), ('may', 'VERB'), ('40', 'NUM'), ('be', 'VERB'), ('cases', 'NOUN'), ('going', 'VERB'), ('undetected', 'ADJ'), ('[', '.'), ('8', 'NUM'), (']', 'NOUN'), ('.', '.'), ('On', 'ADP'), ('19th', 'NUM'), ('January', 'NOUN'), (',', '.'), ('these', 'DET'), ('fears', 'NOUN'), ('were', 'VERB'), ('seemingly', 'ADV'), ('conﬁrmed', 'VERB'), ('as', 'ADP'), ('an', 'DET'), ('additional', 'ADJ'), ('41', 'NUM'), ('136', 'NUM'), ('cases', 'NOUN'), ('were', 'VERB'), ('added', 'VERB'), ('from', 'ADP'), ('further', 'ADJ'), ('surveys', 'NOUN'), ('raising', 'VERB'), ('the', 'DET'), ('total', 'NOUN'), ('in', 'ADP'), ('Wuhan', 'NOUN'), ('to', 'PRT'), ('198', 'NUM'), ('infected', 'ADJ'), ('patients', 'NOUN'), ('[', 'VERB'), ('9', 'NUM'), (']', 'NOUN'), ('.', '.'), ('42', 'NUM'), ('Among', 'ADP'), ('the', 'DET'), ('198', 'NUM'), ('total', 'ADJ'), ('cases', 'NOUN'), ('in', 'ADP'), ('Wuhan', 'NOUN'), (',', '.'), ('170', 'NUM'), ('remained', 'VERB'), ('in', 'ADP'), ('hospitals', 'NOUN'), (',', '.'), ('126', 'NUM'), ('mostly', 'ADV'), ('with', 'ADP'), ('mild', 'NOUN'), ('symptoms', 'NOUN'), (',', '.'), ('43', 'NUM'), ('35', 'NUM'), ('in', 'ADP'), ('serious', 'ADJ'), ('condition', 'NOUN'), (',', '.'), ('and', 'CONJ'), ('9', 'NUM'), ('in', 'ADP'), ('critical', 'ADJ'), ('condition', 'NOUN'), ('.', '.'), ('The', 'DET'), ('expanded', 'ADJ'), ('numbers', 'NOUN'), ('and', 'CONJ'), ('extended', 'ADJ'), ('range', 'NOUN'), ('of', 'ADP'), ('44', 'NUM'), ('onset', 'NOUN'), ('dates', 'NOUN'), ('(', '.'), ('12', 'NUM'), ('December', 'NOUN'), ('2019–18', 'NUM'), ('January', 'NOUN'), ('2020', 'NUM'), (')', '.'), ('suggested', 'VERB'), ('likely', 'ADJ'), ('human', 'ADJ'), ('to', 'PRT'), ('human', 'ADJ'), ('transmission', 'NOUN'), ('or', 'CONJ'), ('45', 'NUM'), ('ongoing', 'ADJ'), ('transmission', 'NOUN'), ('from', 'ADP'), ('a', 'DET'), ('market', 'NOUN'), ('or', 'CONJ'), ('other', 'ADJ'), ('primary', 'ADJ'), ('sources', 'NOUN'), ('.', '.'), ('On', 'ADP'), ('20th', 'NUM'), ('January', 'NOUN'), (',', '.'), ('the', 'DET'), ('outbreak', 'NOUN'), ('was', 'VERB'), ('46', 'NUM'), ('further', 'ADV'), ('expanded', 'VERB'), ('to', 'PRT'), ('other', 'ADJ'), ('parts', 'NOUN'), ('of', 'ADP'), ('China', 'NOUN'), ('(', '.'), ('Beijing', 'NOUN'), (',', '.'), ('Shanghai', 'NOUN'), (',', '.'), ('&', 'CONJ'), ('Shenzhen', 'NOUN'), (')', '.'), ('as', 'ADV'), ('well', 'ADV'), ('as', 'ADP'), ('another', 'DET'), ('exported', 'VERB'), ('47', 'NUM'), ('cases', 'NOUN'), ('to', 'PRT'), ('South', 'NOUN'), ('Korea', 'NOUN'), ('.', '.'), ('As', 'ADP'), ('of', 'ADP'), ('January', 'NOUN'), ('24', 'NUM'), (',', '.'), ('the', 'DET'), ('total', 'ADJ'), ('case', 'NOUN'), ('number', 'NOUN'), ('has', 'VERB'), ('expanded', 'VERB'), ('to', 'PRT'), ('at', 'ADP'), ('least', 'ADJ'), ('870', 'NUM'), ('total', 'ADJ'), ('cases', 'NOUN'), ('48', 'NUM'), ('with', 'ADP'), ('26', 'NUM'), ('deaths', 'NOUN'), ('across', 'ADP'), ('25', 'NUM'), ('provinces', 'NOUN'), ('in', 'ADP'), ('China', 'NOUN'), ('and', 'CONJ'), ('19', 'NUM'), ('exported', 'ADJ'), ('cases', 'NOUN'), ('in', 'ADP'), ('10', 'NUM'), ('countries', 'NOUN'), ('[', 'VERB'), ('10', 'NUM'), (']', 'NOUN'), ('.', '.'), ('Public', 'NOUN'), ('health', 'NOUN'), ('49', 'NUM'), ('authorities', 'NOUN'), ('have', 'VERB'), ('quarantined', 'VERB'), ('travel', 'NOUN'), ('from', 'ADP'), ('Wuhan', 'NOUN'), ('to', 'PRT'), ('limit', 'VERB'), ('the', 'DET'), ('spread', 'NOUN'), ('of', 'ADP'), ('the', 'DET'), ('virus', 'NOUN'), ('and', 'CONJ'), ('reports', 'NOUN'), ('indicate', 'VERB'), ('50', 'NUM'), ('other', 'ADJ'), ('Chinese', 'ADJ'), ('cities', 'NOUN'), ('have', 'VERB'), ('also', 'ADV'), ('been', 'VERB'), ('isolated', 'VERB'), ('[', 'ADJ'), ('11', 'NUM'), (']', 'NOUN'), ('.', '.'), ('With', 'ADP'), ('the', 'DET'), ('heavy', 'ADJ'), ('travel', 'NOUN'), ('season', 'NOUN'), ('for', 'ADP'), ('lunar', 'NOUN'), ('New', 'NOUN'), ('Year', 'NOUN'), ('51', 'NUM'), ('underway', 'NOUN'), ('in', 'ADP'), ('Asia', 'NOUN'), (',', '.'), ('major', 'ADJ'), ('concerns', 'NOUN'), ('exist', 'VERB'), ('for', 'ADP'), ('the', 'DET'), ('2019-nCoV', 'ADJ'), ('outbreak', 'NOUN'), ('to', 'PRT'), ('continue', 'VERB'), ('and', 'CONJ'), ('spread', 'VERB'), ('.', '.'), ('52', 'NUM'), ('2', 'NUM'), ('.', '.'), ('Origins', 'NOUN'), ('of', 'ADP'), ('2019-nCoV', 'ADJ'), ('53', 'NUM'), ('The', 'DET'), ('source', 'NOUN'), ('of', 'ADP'), ('the', 'DET'), ('2019-nCoV', 'ADJ'), ('is', 'VERB'), ('still', 'ADV'), ('unknown', 'ADJ'), (',', '.'), ('although', 'ADP'), ('the', 'DET'), ('initial', 'ADJ'), ('cases', 'NOUN'), ('have', 'VERB'), ('been', 'VERB'), ('associated', 'VERB'), ('with', 'ADP'), ('54', 'NUM'), ('the', 'DET'), ('Huanan', 'NOUN'), ('South', 'NOUN'), ('China', 'NOUN'), ('Seafood', 'NOUN'), ('Market', 'NOUN'), ('.', '.'), ('While', 'ADP'), ('many', 'ADJ'), ('of', 'ADP'), ('the', 'DET'), ('early', 'ADJ'), ('patients', 'NOUN'), ('worked', 'VERB'), ('in', 'ADP'), ('or', 'CONJ'), ('visited', 'VERB'), ('the', 'DET'), ('55', 'NUM'), ('market', 'NOUN'), (',', '.'), ('none', 'NOUN'), ('of', 'ADP'), ('the', 'DET'), ('exported', 'ADJ'), ('cases', 'NOUN'), ('had', 'VERB'), ('contact', 'NOUN'), ('with', 'ADP'), ('the', 'DET'), ('market', 'NOUN'), (',', '.'), ('suggesting', 'VERB'), ('either', 'CONJ'), ('human', 'ADJ'), ('to', 'PRT'), ('human', 'ADJ'), ('56', 'NUM'), ('transmission', 'NOUN'), ('or', 'CONJ'), ('a', 'DET'), ('more', 'ADV'), ('widespread', 'ADJ'), ('animal', 'NOUN'), ('source', 'NOUN'), ('[', 'VERB'), ('6', 'NUM'), (']', 'NOUN'), ('.', '.'), ('In', 'ADP'), ('addition', 'NOUN'), ('to', 'PRT'), ('seafood', 'NOUN'), (',', '.'), ('it', 'PRON'), ('is', 'VERB'), ('reported', 'VERB'), ('on', 'ADP'), ('social', 'ADJ'), ('57', 'NUM'), ('media', 'NOUN'), ('that', 'DET'), ('snakes', 'NOUN'), (',', '.'), ('birds', 'NOUN'), ('and', 'CONJ'), ('other', 'ADJ'), ('small', 'ADJ'), ('mammals', 'NOUN'), ('including', 'VERB'), ('marmots', 'NOUN'), ('and', 'CONJ'), ('bats', 'NOUN'), ('were', 'VERB'), ('sold', 'VERB'), ('at', 'ADP'), ('the', 'DET'), ('58', 'NUM'), ('Huanan', 'NOUN'), ('South', 'NOUN'), ('China', 'NOUN'), ('Seafood', 'NOUN'), ('Market', 'NOUN'), ('.', '.'), ('The', 'DET'), ('WHO', 'NOUN'), ('reported', 'VERB'), ('that', 'ADP'), ('environmental', 'ADJ'), ('samples', 'NOUN'), ('taken', 'VERB'), ('from', 'ADP'), ('the', 'DET'), ('59', 'NUM'), ('marketplace', 'NOUN'), ('have', 'VERB'), ('come', 'VERB'), ('back', 'PRT'), ('positive', 'ADJ'), ('for', 'ADP'), ('the', 'DET'), ('novel', 'ADJ'), ('coronavirus', 'NOUN'), (',', '.'), ('but', 'CONJ'), ('no', 'DET'), ('speciﬁc', 'NOUN'), ('animal', 'NOUN'), ('association', 'NOUN'), ('60', 'NUM'), ('has', 'VERB'), ('been', 'VERB'), ('identiﬁed', 'ADJ'), ('[', '.'), ('6', 'NUM'), (']', 'NOUN'), ('.', '.'), ('An', 'DET'), ('initial', 'ADJ'), ('report', 'NOUN'), ('suggested', 'VERB'), ('that', 'ADP'), ('snakes', 'NOUN'), ('might', 'VERB'), ('be', 'VERB'), ('the', 'DET'), ('possible', 'ADJ'), ('source', 'NOUN'), ('based', 'VERB'), ('61', 'NUM'), ('on', 'ADP'), ('codon', 'NOUN'), ('usage', 'NOUN'), ('[', 'VERB'), ('12', 'NUM'), (']', 'NOUN'), (',', '.'), ('but', 'CONJ'), ('the', 'DET'), ('assertion', 'NOUN'), ('has', 'VERB'), ('been', 'VERB'), ('disputed', 'VERB'), ('by', 'ADP'), ('others', 'NOUN'), ('[', 'VERB'), ('13', 'NUM'), (']', 'NOUN'), ('.', '.'), ('Researchers', 'NOUN'), ('are', 'VERB'), ('currently', 'ADV'), ('62', 'NUM'), ('working', 'VERB'), ('to', 'PRT'), ('identify', 'VERB'), ('the', 'DET'), ('source', 'NOUN'), ('of', 'ADP'), ('2019-nCoV', 'ADJ'), ('including', 'VERB'), ('possible', 'ADJ'), ('intermediate', 'ADJ'), ('animal', 'NOUN'), ('vectors', 'NOUN'), ('.', '.'), ('63', 'NUM'), ('A', 'NOUN'), ('zoonotic', 'ADJ'), ('reservoir', 'NOUN'), ('harkens', 'VERB'), ('back', 'ADV'), ('to', 'PRT'), ('the', 'DET'), ('emergence', 'NOUN'), ('of', 'ADP'), ('both', 'DET'), ('SARS-', 'NOUN'), ('and', 'CONJ'), ('MERS-CoV', 'NOUN'), ('.', '.'), ('SARS-CoV', 'NOUN'), (',', '.'), ('64', 'NUM'), ('the', 'DET'), ('ﬁrst', 'NOUN'), ('highly', 'ADV'), ('pathogenic', 'ADJ'), ('human', 'ADJ'), ('CoV', 'NOUN'), (',', '.'), ('emerged', 'VERB'), ('in', 'ADP'), ('2002', 'NUM'), ('with', 'ADP'), ('transmission', 'NOUN'), ('from', 'ADP'), ('animals', 'NOUN'), ('to', 'PRT'), ('humans', 'NOUN'), ('65', 'NUM'), ('occurring', 'VERB'), ('in', 'ADP'), ('wet', 'NOUN'), ('markets', 'NOUN'), ('.', '.'), ('Surveillance', 'NOUN'), ('eﬀorts', 'NOUN'), ('found', 'VERB'), ('SARS-CoV', 'NOUN'), ('viral', 'ADJ'), ('RNA', 'NOUN'), ('in', 'ADP'), ('both', 'DET'), ('palm', 'ADJ'), ('civets', 'NOUN'), ('and', 'CONJ'), ('66', 'NUM'), ('raccoon', 'NOUN'), ('dogs', 'NOUN'), ('sold', 'VERB'), ('in', 'ADP'), ('these', 'DET'), ('wet', 'ADJ'), ('markets', 'NOUN'), ('[', 'VERB'), ('14', 'NUM'), (']', 'NOUN'), (';', '.'), ('however', 'ADV'), (',', '.'), ('SARS-CoV', 'NOUN'), ('was', 'VERB'), ('not', 'ADV'), ('found', 'VERB'), ('in', 'ADP'), ('the', 'DET'), ('wild', 'NOUN'), (',', '.'), ('suggesting', 'VERB'), ('67', 'NUM'), ('that', 'ADP'), ('those', 'DET'), ('species', 'NOUN'), ('served', 'VERB'), ('as', 'ADP'), ('intermediary', 'ADJ'), ('reservoir', 'NOUN'), ('as', 'ADP'), ('the', 'DET'), ('virus', 'NOUN'), ('adapted', 'VERB'), ('to', 'PRT'), ('more', 'ADV'), ('eﬃciently', 'ADV'), ('infect', 'ADJ'), ('68', 'NUM'), ('humans', 'NOUN'), ('.', '.'), ('Further', 'ADJ'), ('surveillance', 'NOUN'), ('eﬀorts', 'NOUN'), ('identiﬁed', 'VERB'), ('highly', 'ADV'), ('related', 'ADJ'), ('CoVs', 'NOUN'), ('in', 'ADP'), ('bat', 'NOUN'), ('species', 'NOUN'), ('[', 'VERB'), ('15', 'NUM'), (']', 'NOUN'), ('.', '.'), ('More', 'ADJ'), ('recent', 'ADJ'), ('69', 'NUM'), ('work', 'NOUN'), ('has', 'VERB'), ('demonstrated', 'VERB'), ('that', 'ADP'), ('several', 'ADJ'), ('bat', 'NOUN'), ('CoVs', 'NOUN'), ('are', 'VERB'), ('capable', 'ADJ'), ('of', 'ADP'), ('infecting', 'VERB'), ('human', 'ADJ'), ('cells', 'NOUN'), ('without', 'ADP'), ('a', 'DET'), ('need', 'NOUN'), ('for', 'ADP'), ('70', 'NUM'), ('intermediate', 'ADJ'), ('adaptation', 'NOUN'), ('[', 'VERB'), ('16,17', 'NUM'), (']', 'NOUN'), ('.', '.'), ('Additionally', 'ADV'), (',', '.'), ('human', 'ADJ'), ('serology', 'NOUN'), ('data', 'NOUN'), ('shows', 'VERB'), ('recognition', 'NOUN'), ('of', 'ADP'), ('bat', 'NOUN'), ('CoV', 'NOUN'), ('71', 'NUM'), ('proteins', 'NOUN'), ('and', 'CONJ'), ('indicates', 'VERB'), ('that', 'ADP'), ('low-level', 'ADJ'), ('zoonotic', 'ADJ'), ('transmission', 'NOUN'), ('of', 'ADP'), ('SARS-like', 'NOUN'), ('bat', 'NOUN'), ('coronaviruses', 'VERB'), ('occurs', 'VERB'), ('72', 'NUM'), ('outside', 'NOUN'), ('of', 'ADP'), ('recognized', 'VERB'), ('outbreaks', 'NOUN'), ('[', '.'), ('18', 'NUM'), (']', 'NOUN'), ('.', '.'), ('MERS-CoV', 'NOUN'), ('is', 'VERB'), ('also', 'ADV'), ('a', 'DET'), ('zoonotic', 'ADJ'), ('virus', 'NOUN'), ('with', 'ADP'), ('possible', 'ADJ'), ('origins', 'NOUN'), ('in', 'ADP'), ('73', 'NUM'), ('bats', 'NOUN'), ('[', 'VERB'), ('19,20', 'NUM'), (']', 'NOUN'), (',', '.'), ('although', 'ADP'), ('camels', 'NOUN'), ('are', 'VERB'), ('endemically', 'ADV'), ('infected', 'VERB'), ('and', 'CONJ'), ('camel', 'ADJ'), ('contact', 'NOUN'), ('is', 'VERB'), ('frequently', 'ADV'), ('reported', 'VERB'), ('during', 'ADP'), ('74', 'NUM'), ('primary', 'ADJ'), ('MERS-CoV', 'ADJ'), ('cases', 'NOUN'), ('[', 'VERB'), ('21', 'NUM'), (']', 'NOUN'), ('.', '.'), ('For', 'ADP'), ('SARS-CoV', 'NOUN'), (',', '.'), ('strict', 'ADJ'), ('quarantine', 'NOUN'), ('and', 'CONJ'), ('the', 'DET'), ('culling', 'NOUN'), ('of', 'ADP'), ('live', 'ADJ'), ('markets', 'NOUN'), ('in', 'ADP'), ('SE', 'NOUN'), ('75', 'NUM'), ('Asia', 'NOUN'), ('played', 'VERB'), ('a', 'DET'), ('major', 'ADJ'), ('role', 'NOUN'), ('in', 'ADP'), ('ending', 'VERB'), ('the', 'DET'), ('outbreak', 'NOUN'), ('.', '.'), ('With', 'ADP'), ('the', 'DET'), ('cultural', 'ADJ'), ('importance', 'NOUN'), ('of', 'ADP'), ('camels', 'NOUN'), (',', '.'), ('a', 'DET'), ('similar', 'ADJ'), ('76', 'NUM'), ('approach', 'NOUN'), ('for', 'ADP'), ('MERS-CoV', 'NOUN'), ('was', 'VERB'), ('not', 'ADV'), ('an', 'DET'), ('option', 'NOUN'), ('and', 'CONJ'), ('periodic', 'ADJ'), ('outbreaks', 'NOUN'), ('continue', 'VERB'), ('in', 'ADP'), ('the', 'DET'), ('Middle', 'NOUN'), ('East', 'NOUN'), ('.', '.'), ('These', 'DET'), ('77', 'NUM'), ('lessons', 'NOUN'), ('from', 'ADP'), ('SARS', 'NOUN'), ('and', 'CONJ'), ('MERS', 'NOUN'), ('highlight', 'VERB'), ('the', 'DET'), ('importance', 'NOUN'), ('of', 'ADP'), ('rapidly', 'ADV'), ('ﬁnding', 'VERB'), ('the', 'DET'), ('source', 'NOUN'), ('for', 'ADP'), ('2019-nCoV', 'ADJ'), ('in', 'ADP'), ('78', 'NUM'), ('order', 'NOUN'), ('to', 'PRT'), ('stem', 'VERB'), ('the', 'DET'), ('ongoing', 'ADJ'), ('outbreak', 'NOUN'), ('.', '.'), ('79', 'NUM'), ('3', 'NUM'), ('.', '.'), ('Susceptible', 'ADJ'), ('Populations', 'NOUN'), ('80', 'NUM'), ('With', 'ADP'), ('limited', 'ADJ'), ('patient', 'NOUN'), ('data', 'NOUN'), (',', '.'), ('it', 'PRON'), ('is', 'VERB'), ('diﬃcult', 'ADJ'), ('to', 'PRT'), ('make', 'VERB'), ('robust', 'ADJ'), ('declarations', 'NOUN'), ('about', 'ADP'), ('populations', 'NOUN'), ('that', 'ADP'), ('81', 'NUM'), ('may', 'VERB'), ('be', 'VERB'), ('most', 'ADV'), ('susceptible', 'ADJ'), ('to', 'PRT'), ('2019-nCoV', 'ADJ'), ('.', '.'), ('However', 'ADV'), (',', '.'), ('disease', 'ADJ'), ('severity', 'NOUN'), ('following', 'VERB'), ('SARS-', 'ADJ'), ('and', 'CONJ'), ('MERS-CoV', 'ADJ'), ('82', 'NUM'), ('corresponded', 'VERB'), ('strongly', 'ADV'), ('to', 'PRT'), ('underlying', 'VERB'), ('host', 'NOUN'), ('conditions', 'NOUN'), ('including', 'VERB'), ('age', 'NOUN'), (',', '.'), ('biological', 'ADJ'), ('sex', 'NOUN'), (',', '.'), ('and', 'CONJ'), ('overall', 'ADJ'), ('83', 'NUM'), ('health', 'NOUN'), ('[', 'NOUN'), ('22', 'NUM'), (']', 'NOUN'), ('.', '.'), ('Early', 'ADJ'), ('patient', 'NOUN'), ('reports', 'NOUN'), ('from', 'ADP'), ('2019-nCoV', 'ADJ'), ('ﬁnd', 'NOUN'), ('similar', 'ADJ'), ('trends', 'NOUN'), ('.', '.'), ('Severe', 'NOUN'), ('illness', 'NOUN'), ('with', 'ADP'), ('2019-nCoV', 'ADJ'), ('has', 'VERB'), ('84', 'NUM'), ('been', 'VERB'), ('associated', 'VERB'), ('with', 'ADP'), ('elderly', 'ADJ'), ('patients', 'NOUN'), ('(', '.'), ('>', 'ADJ'), ('60', 'NUM'), ('years', 'NOUN'), ('old', 'ADJ'), (')', '.'), (',', '.'), ('including', 'VERB'), ('twenty-six', 'ADJ'), ('lethal', 'ADJ'), ('cases', 'NOUN'), ('.', '.'), ('These', 'DET'), ('ﬁndings', 'NOUN'), ('85', 'NUM'), ('correspond', 'NOUN'), ('to', 'PRT'), ('increased', 'VERB'), ('severity', 'NOUN'), ('and', 'CONJ'), ('death', 'NOUN'), ('in', 'ADP'), ('people', 'NOUN'), ('over', 'ADP'), ('the', 'DET'), ('age', 'NOUN'), ('of', 'ADP'), ('50', 'NUM'), ('following', 'VERB'), ('both', 'DET'), ('SARS', 'NOUN'), ('and', 'CONJ'), ('86', 'NUM'), ('MERS-CoV', 'ADJ'), ('infection', 'NOUN'), ('[', 'VERB'), ('23,24', 'NUM'), (']', 'NOUN'), ('.', '.'), ('Similarly', 'ADV'), (',', '.'), ('the', 'DET'), ('underlying', 'VERB'), ('health', 'NOUN'), ('of', 'ADP'), ('the', 'DET'), ('patient', 'NOUN'), ('likely', 'ADV'), ('plays', 'VERB'), ('a', 'DET'), ('critical', 'ADJ'), ('87', 'NUM'), ('role', 'NOUN'), ('in', 'ADP'), ('overall', 'ADJ'), ('susceptibility', 'NOUN'), ('.', '.'), ('For', 'ADP'), ('the', 'DET'), ('2019-nCoV', 'ADJ'), (',', '.'), ('limited', 'ADJ'), ('comorbidity', 'NOUN'), ('data', 'NOUN'), ('is', 'VERB'), ('available', 'ADJ'), (';', '.'), ('however', 'ADV'), (',', '.'), ('88', 'NUM'), ('the', 'DET'), ('twenty-six', 'ADJ'), ('patients', 'NOUN'), ('that', 'DET'), ('have', 'VERB'), ('succumbed', 'VERB'), ('to', 'PRT'), ('the', 'DET'), ('novel', 'ADJ'), ('CoV', 'NOUN'), ('had', 'VERB'), ('signiﬁcant', 'ADJ'), ('health', 'NOUN'), ('conditions', 'NOUN'), ('89', 'NUM'), ('including', 'VERB'), ('hypertension', 'NOUN'), (',', '.'), ('diabetes', 'VERB'), (',', '.'), ('heart', 'NOUN'), ('and/or', 'NOUN'), ('kidney', 'NOUN'), ('function', 'NOUN'), ('issues', 'NOUN'), ('that', 'DET'), ('may', 'VERB'), ('have', 'VERB'), ('made', 'VERB'), ('them', 'PRON'), ('more', 'ADV'), ('90', 'NUM'), ('susceptible', 'ADJ'), ('.', '.'), ('For', 'ADP'), ('the', 'DET'), ('MERS-CoV', 'NOUN'), ('outbreak', 'NOUN'), (',', '.'), ('smoking', 'NOUN'), (',', '.'), ('hypertension', 'NOUN'), (',', '.'), ('diabetes', 'VERB'), (',', '.'), ('cardiovascular', 'ADJ'), ('disease', 'NOUN'), (',', '.'), ('91', 'NUM'), ('and/or', 'NOUN'), ('other', 'ADJ'), ('chronic', 'ADJ'), ('illnesses', 'NOUN'), ('have', 'VERB'), ('been', 'VERB'), ('present', 'ADJ'), ('in', 'ADP'), ('the', 'DET'), ('majority', 'NOUN'), ('of', 'ADP'), ('deaths', 'NOUN'), ('and', 'CONJ'), ('correspond', 'NOUN'), ('to', 'PRT'), ('ﬁndings', 'NOUN'), ('in', 'ADP'), ('92', 'NUM'), ('animal', 'ADJ'), ('models', 'NOUN'), ('[', 'VERB'), ('25', 'NUM'), (']', 'NOUN'), ('.', '.'), ('The', 'DET'), ('results', 'NOUN'), ('indicate', 'ADJ'), ('vigilance', 'NOUN'), ('is', 'VERB'), ('necessary', 'ADJ'), ('for', 'ADP'), ('these', 'DET'), ('vulnerable', 'ADJ'), ('patients', 'NOUN'), ('following', 'VERB'), ('93', 'NUM'), ('2019-nCoV', 'ADJ'), ('infection', 'NOUN'), ('.', '.'), ('94', 'NUM'), ('4', 'NUM'), ('.', '.'), ('Insights', 'NOUN'), ('from', 'ADP'), ('the', 'DET'), ('2019-nCoV', 'ADJ'), ('Sequence', 'NOUN'), ('95', 'NUM'), ('The', 'DET'), ('rapid', 'ADJ'), ('sequencing', 'NOUN'), ('of', 'ADP'), ('the', 'DET'), ('nearly', 'ADV'), ('30,000', 'NUM'), ('nucleotide', 'ADJ'), ('2019-nCoV', 'ADJ'), ('genome', 'NOUN'), ('by', 'ADP'), ('Dr.', 'NOUN'), ('Zhang', 'NOUN'), ('’', 'NOUN'), ('s', 'VERB'), ('group', 'NOUN'), ('at', 'ADP'), ('96', 'NUM'), ('Fudan', 'NOUN'), ('University', 'NOUN'), ('and', 'CONJ'), ('several', 'ADJ'), ('other', 'ADJ'), ('groups', 'NOUN'), ('in', 'ADP'), ('China', 'NOUN'), ('illustrate', 'VERB'), ('the', 'DET'), ('dedication', 'NOUN'), ('and', 'CONJ'), ('increased', 'VERB'), ('capacity', 'NOUN'), ('97', 'NUM'), ('of', 'ADP'), ('the', 'DET'), ('scientiﬁc', 'ADJ'), ('infrastructure', 'NOUN'), ('in', 'ADP'), ('China', 'NOUN'), ('[', 'NOUN'), ('4,5', 'NUM'), (']', 'NOUN'), ('.', '.'), ('For', 'ADP'), ('SARS-CoV', 'NOUN'), (',', '.'), ('the', 'DET'), ('causative', 'ADJ'), ('agent', 'NOUN'), ('was', 'VERB'), ('unknown', 'ADJ'), ('for', 'ADP'), ('98', 'NUM'), ('months', 'NOUN'), ('and', 'CONJ'), ('subsequently', 'ADV'), ('took', 'VERB'), ('over', 'PRT'), ('four', 'NUM'), ('weeks', 'NOUN'), ('until', 'ADP'), ('a', 'DET'), ('full', 'ADJ'), ('genome', 'NOUN'), ('was', 'VERB'), ('released', 'VERB'), ('[', 'ADJ'), ('26', 'NUM'), (']', 'NOUN'), ('.', '.'), ('Similarly', 'ADV'), (',', '.'), ('99', 'NUM'), ('MERS-CoV', 'NOUN'), ('was', 'VERB'), ('only', 'ADV'), ('identiﬁed', 'ADV'), ('after', 'ADP'), ('several', 'ADJ'), ('months', 'NOUN'), ('of', 'ADP'), ('testing', 'VERB'), ('and', 'CONJ'), ('a', 'DET'), ('full-length', 'ADJ'), ('genome', 'NOUN'), ('available', 'ADJ'), ('100', 'NUM'), ('about', 'ADP'), ('a', 'DET'), ('month', 'NOUN'), ('later', 'ADV'), ('[', 'VERB'), ('27', 'NUM'), (']', 'NOUN'), ('.', '.'), ('In', 'ADP'), ('contrast', 'NOUN'), (',', '.'), ('time', 'NOUN'), ('from', 'ADP'), ('the', 'DET'), ('ﬁrst', 'NOUN'), ('date', 'NOUN'), ('of', 'ADP'), ('patient', 'ADJ'), ('onset', 'NOUN'), ('(', '.'), ('12', 'NUM'), ('December', 'NOUN'), ('2019', 'NUM'), (')', '.'), ('to', 'PRT'), ('101', 'NUM'), ('the', 'DET'), ('report', 'NOUN'), ('of', 'ADP'), ('several', 'ADJ'), ('2019-nCoV', 'ADJ'), ('full-length', 'ADJ'), ('genomes', 'NOUN'), ('took', 'VERB'), ('less', 'ADJ'), ('than', 'ADP'), ('one', 'NUM'), ('month', 'NOUN'), ('.', '.'), ('Combined', 'VERB'), ('with', 'ADP'), ('the', 'DET'), ('102', 'NUM'), ('immense', 'ADJ'), ('pressure', 'NOUN'), ('of', 'ADP'), ('an', 'DET'), ('ongoing', 'ADJ'), ('outbreak', 'NOUN'), ('with', 'ADP'), ('an', 'DET'), ('unknown', 'ADJ'), ('agent', 'NOUN'), (',', '.'), ('the', 'DET'), ('eﬀort', 'NOUN'), ('of', 'ADP'), ('these', 'DET'), ('scientists', 'NOUN'), ('should', 'VERB'), ('103', 'NUM'), ('be', 'VERB'), ('considered', 'VERB'), ('nothing', 'NOUN'), ('less', 'ADJ'), ('than', 'ADP'), ('remarkable', 'ADJ'), ('.', '.'), ('104', 'NUM'), ('Building', 'NOUN'), ('from', 'ADP'), ('the', 'DET'), ('sequence', 'NOUN'), (',', '.'), ('the', 'DET'), ('nucleotide', 'ADJ'), ('alignment', 'ADJ'), ('quickly', 'ADV'), ('distinguished', 'VERB'), ('the', 'DET'), ('novel', 'ADJ'), ('virus', 'NOUN'), ('as', 'ADP'), ('a', 'DET'), ('105', 'NUM'), ('group', 'NOUN'), ('2B', 'NUM'), ('CoV', 'NOUN'), (',', '.'), ('distinct', 'NOUN'), ('from', 'ADP'), ('the', 'DET'), ('SARS-CoV', 'NOUN'), ('strains', 'NOUN'), ('[', 'VERB'), ('4,5', 'NUM'), (']', 'NOUN'), ('.', '.'), ('Examining', 'VERB'), ('the', 'DET'), ('whole', 'ADJ'), ('genome', 'NOUN'), (',', '.'), ('2019-nCoV', 'ADJ'), ('106', 'NUM'), ('maintains', 'NOUN'), ('~80', 'NUM'), ('%', 'NOUN'), ('nucleotide', 'ADJ'), ('identity', 'NOUN'), ('to', 'PRT'), ('the', 'DET'), ('original', 'ADJ'), ('SARS', 'NOUN'), ('epidemic', 'ADJ'), ('viruses', 'NOUN'), ('.', '.'), ('Its', 'PRON'), ('closest', 'ADJ'), ('whole', 'ADJ'), ('genome', 'NOUN'), ('107', 'NUM'), ('relatives', 'NOUN'), ('are', 'VERB'), ('two', 'NUM'), ('bat', 'ADP'), ('SARS-like', 'ADJ'), ('CoVs', 'NOUN'), ('(', '.'), ('ZC45', 'NOUN'), ('and', 'CONJ'), ('ZXC21', 'NOUN'), (')', '.'), ('that', 'DET'), ('shared', 'VERB'), ('~89', 'NOUN'), ('%', 'NOUN'), ('sequence', 'NOUN'), ('identity', 'NOUN'), ('with', 'ADP'), ('108', 'NUM'), ('2019-nCoV', 'ADJ'), (';', '.'), ('these', 'DET'), ('CoV', 'NOUN'), ('sequences', 'NOUN'), ('were', 'VERB'), ('deposited', 'VERB'), ('in', 'ADP'), ('early', 'ADJ'), ('2018', 'NUM'), ('from', 'ADP'), ('Zhejiang', 'NOUN'), ('province', 'NOUN'), ('in', 'ADP'), ('R.', 'NOUN'), ('sinicus', 'VERB'), ('109', 'NUM'), ('bats', 'NOUN'), ('in', 'ADP'), ('China', 'NOUN'), ('.', '.'), ('Comparing', 'VERB'), ('across', 'ADP'), ('the', 'DET'), ('deposited', 'ADJ'), ('2019-nCoV', 'ADJ'), ('strains', 'NOUN'), ('ﬁnds', 'VERB'), ('>', 'ADJ'), ('99.5', 'NUM'), ('%', 'NOUN'), ('conservation', 'NOUN'), (';', '.'), ('the', 'DET'), ('lack', 'NOUN'), ('110', 'NUM'), ('of', 'ADP'), ('diversity', 'NOUN'), ('suggests', 'VERB'), ('a', 'DET'), ('common', 'ADJ'), ('lineage', 'NOUN'), ('and', 'CONJ'), ('source', 'NOUN'), ('with', 'ADP'), ('emergence', 'NOUN'), ('not', 'ADV'), ('likely', 'ADJ'), ('having', 'VERB'), ('occurred', 'VERB'), ('that', 'ADP'), ('111', 'NUM'), ('long', 'ADV'), ('ago', 'ADV'), ('[', 'ADJ'), ('28,29', 'NUM'), (']', 'NOUN'), ('.', '.'), ('A', 'DET'), ('recent', 'ADJ'), ('report', 'NOUN'), ('has', 'VERB'), ('subsequently', 'ADV'), ('identiﬁed', 'VERB'), ('a', 'DET'), ('bat', 'NOUN'), ('CoV', 'NOUN'), ('sequence', 'NOUN'), (',', '.'), ('RaTG3', 'NOUN'), (',', '.'), ('with', 'ADP'), ('92', 'NUM'), ('%', 'NOUN'), ('112', 'NUM'), ('sequence', 'NOUN'), ('identity', 'NOUN'), ('with', 'ADP'), ('the', 'DET'), ('novel', 'NOUN'), ('virus', 'NOUN'), ('which', 'DET'), ('argues', 'VERB'), ('for', 'ADP'), ('bat', 'NOUN'), ('origins', 'NOUN'), ('for', 'ADP'), ('the', 'DET'), ('2019-nCoV', 'ADJ'), ('[', 'NOUN'), ('30', 'NUM'), (']', 'NOUN'), ('.', '.'), ('113', 'NUM'), ('We', 'PRON'), ('next', 'ADJ'), ('shifted', 'VERB'), ('analysis', 'NOUN'), ('to', 'PRT'), ('the', 'DET'), ('nucleocapsid', 'NOUN'), ('(', '.'), ('N', 'NOUN'), (')', '.'), ('protein', 'NOUN'), (',', '.'), ('the', 'DET'), ('most', 'ADV'), ('abundant', 'ADJ'), ('protein', 'NOUN'), ('produced', 'VERB'), ('in', 'ADP'), ('114', 'NUM'), ('CoVs', 'NOUN'), ('.', '.'), ('Generally', 'NOUN'), (',', '.'), ('the', 'DET'), ('N', 'NOUN'), ('protein', 'NOUN'), ('is', 'VERB'), ('well', 'ADV'), ('conserved', 'VERB'), ('across', 'ADP'), ('CoV', 'NOUN'), ('families', 'NOUN'), ('including', 'VERB'), ('group', 'NOUN'), ('2B', 'NUM'), ('[', '.'), ('31', 'NUM'), (']', 'NOUN'), ('.', '.'), ('The', 'DET'), ('N', 'NOUN'), ('115', 'NUM'), ('protein', 'NOUN'), ('for', 'ADP'), ('2019-nCoV', 'ADJ'), ('is', 'VERB'), ('no', 'DET'), ('exception', 'NOUN'), ('with', 'ADP'), ('~90', 'NOUN'), ('%', 'NOUN'), ('amino', 'NOUN'), ('acid', 'NOUN'), ('identity', 'NOUN'), ('to', 'PRT'), ('the', 'DET'), ('SARS-CoV', 'NOUN'), ('N', 'NOUN'), ('protein', 'NOUN'), ('.', '.'), ('While', 'ADP'), ('116', 'NUM'), ('less', 'ADJ'), ('conserved', 'VERB'), ('than', 'ADP'), ('other', 'ADJ'), ('group', 'NOUN'), ('2B', 'NUM'), ('CoVs', 'NOUN'), ('like', 'ADP'), ('HKU3-CoV', 'NOUN'), ('and', 'CONJ'), ('SHC014-CoV', 'NOUN'), (',', '.'), ('2019-nCoV', 'ADJ'), ('antibodies', 'NOUN'), ('117', 'NUM'), ('against', 'ADP'), ('the', 'DET'), ('N', 'NOUN'), ('protein', 'NOUN'), ('would', 'VERB'), ('likely', 'ADV'), ('recognize', 'VERB'), ('and', 'CONJ'), ('bind', 'VERB'), ('the', 'DET'), ('SARS-CoV', 'NOUN'), ('N', 'NOUN'), ('protein', 'NOUN'), ('as', 'ADV'), ('well', 'ADV'), ('.', '.'), ('N', 'NOUN'), ('antibodies', 'VERB'), ('118', 'NUM'), ('do', 'NOUN'), ('not', 'ADV'), ('provide', 'VERB'), ('immunity', 'NOUN'), ('to', 'PRT'), ('2019-nCoV', 'ADJ'), ('infection', 'NOUN'), (',', '.'), ('but', 'CONJ'), ('the', 'DET'), ('cross', 'NOUN'), ('reactivity', 'NOUN'), ('with', 'ADP'), ('SARS-CoV', 'NOUN'), ('N', 'NOUN'), ('protein', 'VERB'), ('119', 'NUM'), ('would', 'VERB'), ('allow', 'VERB'), ('a', 'DET'), ('serum', 'NOUN'), ('based', 'VERB'), ('assay', 'NOUN'), ('to', 'PRT'), ('determine', 'VERB'), ('exposure', 'NOUN'), ('to', 'PRT'), ('the', 'DET'), ('novel', 'ADJ'), ('CoV', 'NOUN'), ('in', 'ADP'), ('asymptomatic', 'ADJ'), ('cases', 'NOUN'), ('.', '.'), ('While', 'ADP'), ('120', 'NUM'), ('previous', 'ADJ'), ('studies', 'NOUN'), ('have', 'VERB'), ('found', 'VERB'), ('serum', 'ADJ'), ('reactivity', 'NOUN'), ('to', 'PRT'), ('group', 'NOUN'), ('2B', 'NUM'), ('virus', 'NOUN'), ('N', 'NOUN'), ('proteins', 'VERB'), ('in', 'ADP'), ('Chinese', 'ADJ'), ('populations', 'NOUN'), ('[', 'VERB'), ('18', 'NUM'), (']', 'NOUN'), (',', '.'), ('121', 'NUM'), ('exposure', 'NOUN'), ('to', 'PRT'), ('2019-nCoV', 'ADJ'), ('should', 'VERB'), ('increase', 'VERB'), ('the', 'DET'), ('dilution', 'NOUN'), ('factor', 'NOUN'), ('substantially', 'ADV'), ('if', 'ADP'), ('exposure/infection', 'NOUN'), ('had', 'VERB'), ('122', 'NUM'), ('occurred', 'VERB'), ('.', '.'), ('Importantly', 'ADV'), (',', '.'), ('this', 'DET'), ('information', 'NOUN'), ('may', 'VERB'), ('provide', 'VERB'), ('insights', 'NOUN'), ('about', 'ADP'), ('susceptibly', 'ADV'), ('and', 'CONJ'), ('potential', 'ADJ'), ('routes', 'NOUN'), ('of', 'ADP'), ('123', 'NUM'), ('spread', 'NOUN'), ('through', 'ADP'), ('asymptomatic', 'ADJ'), ('carriers', 'NOUN'), ('.', '.'), ('124', 'NUM'), ('Examining', 'VERB'), ('further', 'ADV'), (',', '.'), ('we', 'PRON'), ('next', 'ADJ'), ('compared', 'VERB'), ('the', 'DET'), ('spike', 'NOUN'), ('proteins', 'NOUN'), (',', '.'), ('the', 'DET'), ('critical', 'ADJ'), ('glycoprotein', 'NOUN'), ('responsible', 'ADJ'), ('125', 'NUM'), ('for', 'ADP'), ('virus', 'NOUN'), ('binding', 'NOUN'), ('and', 'CONJ'), ('entry', 'NOUN'), ('.', '.'), ('Overall', 'X'), (',', '.'), ('the', 'DET'), ('2019-nCoV', 'ADJ'), ('spike', 'NOUN'), ('protein', 'NOUN'), ('has', 'VERB'), ('roughly', 'ADV'), ('75', 'NUM'), ('%', 'NOUN'), ('amino', 'NOUN'), ('acid', 'VERB'), ('126', 'NUM'), ('identity', 'NOUN'), ('with', 'ADP'), ('SARS-CoV', 'NOUN'), (',', '.'), ('which', 'DET'), ('is', 'VERB'), ('less', 'ADV'), ('conserved', 'VERB'), ('than', 'ADP'), ('other', 'ADJ'), ('group', 'NOUN'), ('2B', 'NUM'), ('CoVs', 'NOUN'), ('including', 'VERB'), ('HKU3-CoV', 'NOUN'), ('[', 'NOUN'), ('31', 'NUM'), (']', 'NOUN'), ('.', '.'), ('127', 'NUM'), ('However', 'ADV'), (',', '.'), ('narrowing', 'VERB'), ('analysis', 'NOUN'), ('to', 'PRT'), ('the', 'DET'), ('spike', 'NOUN'), ('receptor', 'NOUN'), ('binding', 'VERB'), ('domain', 'NOUN'), ('(', '.'), ('RBD', 'NOUN'), (')', '.'), ('of', 'ADP'), ('SARS-CoV', 'NOUN'), ('(', '.'), ('amino', 'ADJ'), ('acids', 'NOUN'), ('128', 'NUM'), ('318–518', 'NUM'), (')', '.'), (',', '.'), ('the', 'DET'), ('2019-nCoV', 'ADJ'), ('RBD', 'NOUN'), ('is', 'VERB'), ('73', 'NUM'), ('%', 'NOUN'), ('conserved', 'VERB'), ('relative', 'ADJ'), ('to', 'PRT'), ('the', 'DET'), ('epidemic', 'ADJ'), ('RBD', 'NOUN'), ('.', '.'), ('This', 'DET'), ('conservation', 'NOUN'), ('129', 'NUM'), ('level', 'NOUN'), ('places', 'NOUN'), ('the', 'DET'), ('2019-nCoV', 'ADJ'), ('RBD', 'NOUN'), ('between', 'ADP'), ('HKU3-4', 'NOUN'), ('(', '.'), ('62.7', 'NUM'), ('%', 'NOUN'), ('conservation', 'NOUN'), (')', '.'), (',', '.'), ('a', 'DET'), ('bat', 'NOUN'), ('virus', 'NOUN'), ('that', 'DET'), ('can', 'VERB'), ('not', 'ADV'), ('use', 'VERB'), ('130', 'NUM'), ('human', 'ADJ'), ('ACE2', 'NOUN'), (',', '.'), ('and', 'CONJ'), ('rSHC014', 'NOUN'), ('(', '.'), ('80.8', 'NUM'), ('%', 'NOUN'), (')', '.'), (',', '.'), ('the', 'DET'), ('most', 'ADV'), ('divergent', 'ADJ'), ('bat', 'NOUN'), ('CoV', 'NOUN'), ('spike', 'NOUN'), ('known', 'VERB'), ('to', 'PRT'), ('use', 'VERB'), ('human', 'ADJ'), ('ACE2', 'NOUN'), ('for', 'ADP'), ('131', 'NUM'), ('entry', 'NOUN'), ('[', 'VERB'), ('16,32', 'NUM'), (']', 'NOUN'), ('.', '.'), ('Importantly', 'ADV'), (',', '.'), ('the', 'DET'), ('key', 'ADJ'), ('binding', 'NOUN'), ('residues', 'NOUN'), ('for', 'ADP'), ('SARS-CoV', 'NOUN'), ('have', 'VERB'), ('been', 'VERB'), ('identiﬁed', 'ADJ'), ('[', '.'), ('33', 'NUM'), (']', 'NOUN'), (';', '.'), ('among', 'ADP'), ('132', 'NUM'), ('these', 'DET'), ('fourteen', 'ADJ'), ('residues', 'NOUN'), ('predicted', 'VERB'), ('to', 'PRT'), ('interact', 'VERB'), ('directly', 'ADV'), ('with', 'ADP'), ('human', 'ADJ'), ('ACE2', 'NOUN'), (',', '.'), ('the', 'DET'), ('receptor', 'NOUN'), ('for', 'ADP'), ('SARS-CoV', 'NOUN'), (',', '.'), ('133', 'NUM'), ('eight', 'NUM'), ('amino', 'NOUN'), ('acids', 'NOUN'), ('are', 'VERB'), ('conserved', 'VERB'), ('in', 'ADP'), ('2019-nCoV', 'ADJ'), ('.', '.'), ('Notably', 'ADV'), (',', '.'), ('several', 'ADJ'), ('of', 'ADP'), ('these', 'DET'), ('residues', 'NOUN'), ('are', 'VERB'), ('also', 'ADV'), ('conserved', 'VERB'), ('134', 'NUM'), ('relative', 'ADJ'), ('to', 'PRT'), ('WIV1-', 'ADJ'), ('and', 'CONJ'), ('WIV16-CoV', 'ADJ'), (',', '.'), ('two', 'NUM'), ('bat', 'NOUN'), ('strains', 'NOUN'), ('closely', 'ADV'), ('related', 'VERB'), ('to', 'PRT'), ('SARS-CoV', 'NOUN'), ('and', 'CONJ'), ('known', 'VERB'), ('to', 'PRT'), ('use', 'VERB'), ('135', 'NUM'), ('human', 'ADJ'), ('ACE2', 'NOUN'), ('[', 'NOUN'), ('17,34', 'NUM'), (']', 'NOUN'), ('.', '.'), ('Initial', 'ADJ'), ('structural', 'ADJ'), ('modeling', 'NOUN'), ('suggest', 'NOUN'), ('that', 'ADP'), ('the', 'DET'), ('2019-nCoV', 'ADJ'), ('may', 'VERB'), ('be', 'VERB'), ('able', 'ADJ'), ('to', 'PRT'), ('use', 'VERB'), ('human', 'ADJ'), ('136', 'NUM'), ('ACE2', 'NOUN'), ('as', 'ADP'), ('a', 'DET'), ('receptor', 'NOUN'), (',', '.'), ('although', 'ADP'), ('its', 'PRON'), ('aﬃnity', 'NOUN'), ('m', 'NOUN'), ('be', 'VERB'), ('reduced', 'VERB'), ('relative', 'ADJ'), ('to', 'PRT'), ('the', 'DET'), ('epidemic', 'ADJ'), ('SARS-CoV', 'ADJ'), ('strains', 'NOUN'), ('[', 'VERB'), ('35', 'NUM'), (']', 'NOUN'), ('.', '.'), ('137', 'NUM'), ('A', 'NOUN'), ('subsequent', 'ADJ'), ('report', 'NOUN'), ('demonstrated', 'VERB'), ('that', 'ADP'), ('the', 'DET'), ('receptor', 'NOUN'), ('binding', 'VERB'), ('domain', 'NOUN'), ('of', 'ADP'), ('2019-nCoV', 'ADJ'), ('was', 'VERB'), ('capable', 'ADJ'), ('of', 'ADP'), ('138', 'NUM'), ('binding', 'VERB'), ('ACE2', 'NOUN'), ('in', 'ADP'), ('the', 'DET'), ('context', 'NOUN'), ('of', 'ADP'), ('the', 'DET'), ('SARS-CoV', 'NOUN'), ('spike', 'NOUN'), ('protein', 'NOUN'), ('[', 'VERB'), ('36', 'NUM'), (']', 'NOUN'), ('.', '.'), ('In', 'ADP'), ('addition', 'NOUN'), (',', '.'), ('another', 'DET'), ('rapid', 'ADJ'), ('report', 'NOUN'), ('139', 'NUM'), ('links', 'NOUN'), ('demonstrates', 'VERB'), ('2019-nCoV', 'ADJ'), ('uses', 'NOUN'), ('ACE2', 'VERB'), ('receptors', 'NOUN'), ('from', 'ADP'), ('human', 'ADJ'), (',', '.'), ('bat', 'NOUN'), (',', '.'), ('civets', 'NOUN'), (',', '.'), ('and', 'CONJ'), ('swine', 'VERB'), ('[', '.'), ('30', 'NUM'), (']', 'NOUN'), ('.', '.'), ('Together', 'NOUN'), (',', '.'), ('140', 'NUM'), ('the', 'DET'), ('modeling', 'NOUN'), (',', '.'), ('pseudotyping', 'NOUN'), (',', '.'), ('and', 'CONJ'), ('infection', 'NOUN'), ('data', 'NOUN'), ('provide', 'VERB'), ('strong', 'ADJ'), ('evidence', 'NOUN'), ('for', 'ADP'), ('human', 'ADJ'), ('ACE2', 'NOUN'), ('being', 'VERB'), ('the', 'DET'), ('141', 'NUM'), ('receptor', 'NOUN'), ('for', 'ADP'), ('2019-nCoV', 'ADJ'), ('.', '.'), ('142', 'NUM'), ('5', 'NUM'), ('.', '.'), ('Achieving', 'VERB'), ('Koch', 'NOUN'), ('Postulates', 'VERB'), ('143', 'NUM'), ('Traditional', 'ADJ'), ('identiﬁcation', 'NOUN'), ('of', 'ADP'), ('a', 'DET'), ('microbe', 'NOUN'), ('as', 'ADP'), ('the', 'DET'), ('causative', 'ADJ'), ('agent', 'NOUN'), ('of', 'ADP'), ('disease', 'NOUN'), ('requires', 'VERB'), ('fulﬁllment', 'NOUN'), ('of', 'ADP'), ('144', 'NUM'), ('Koch', 'NOUN'), ('’', 'NOUN'), ('s', 'NOUN'), ('postulates', 'NOUN'), (',', '.'), ('modiﬁed', 'NOUN'), ('by', 'ADP'), ('Rivers', 'NOUN'), ('for', 'ADP'), ('viral', 'ADJ'), ('diseases', 'NOUN'), ('[', 'VERB'), ('37', 'NUM'), (']', 'NOUN'), ('.', '.'), ('At', 'ADP'), ('the', 'DET'), ('present', 'ADJ'), ('time', 'NOUN'), (',', '.'), ('the', 'DET'), ('2019-nCoV', 'ADJ'), ('145', 'NUM'), ('has', 'VERB'), ('been', 'VERB'), ('isolated', 'VERB'), ('from', 'ADP'), ('patients', 'NOUN'), (',', '.'), ('detected', 'VERB'), ('by', 'ADP'), ('speciﬁc', 'NOUN'), ('assays', 'NOUN'), ('in', 'ADP'), ('patients', 'NOUN'), (',', '.'), ('and', 'CONJ'), ('cultured', 'VERB'), ('in', 'ADP'), ('host', 'NOUN'), ('cells', 'NOUN'), ('146', 'NUM'), ('(', '.'), ('one', 'NUM'), ('available', 'ADJ'), ('sequence', 'NOUN'), ('is', 'VERB'), ('identiﬁed', 'ADJ'), ('as', 'ADP'), ('a', 'DET'), ('passage', 'NOUN'), ('isolate', 'NOUN'), (')', '.'), (',', '.'), ('starting', 'VERB'), ('to', 'PRT'), ('fulﬁll', 'VERB'), ('these', 'DET'), ('criteria', 'NOUN'), ('.', '.'), ('Given', 'VERB'), ('the', 'DET'), ('147', 'NUM'), ('recentness', 'NOUN'), ('of', 'ADP'), ('the', 'DET'), ('2019-nCoV', 'ADJ'), ('outbreak', 'NOUN'), (',', '.'), ('at', 'ADP'), ('this', 'DET'), ('point', 'NOUN'), ('there', 'DET'), ('is', 'VERB'), ('no', 'DET'), ('animal', 'ADJ'), ('model', 'NOUN'), ('available', 'ADJ'), ('to', 'PRT'), ('fulﬁll', 'VERB'), ('the', 'DET'), ('148', 'NUM'), ('remaining', 'VERB'), ('criteria', 'NOUN'), (':', '.'), ('1', 'NUM'), (')', '.'), ('testing', 'VERB'), ('the', 'DET'), ('capability', 'NOUN'), ('of', 'ADP'), ('2019-nCoV', 'ADJ'), ('to', 'PRT'), ('cause', 'VERB'), ('respiratory', 'ADJ'), ('disease', 'NOUN'), ('in', 'ADP'), ('a', 'DET'), ('related', 'ADJ'), ('149', 'NUM'), ('species', 'NOUN'), (',', '.'), ('2', 'NUM'), (')', '.'), ('re-isolating', 'VERB'), ('the', 'DET'), ('virus', 'NOUN'), ('from', 'ADP'), ('the', 'DET'), ('experimentally', 'ADV'), ('infected', 'VERB'), ('animal', 'NOUN'), ('and', 'CONJ'), ('3', 'NUM'), (')', '.'), ('detection', 'NOUN'), ('of', 'ADP'), ('a', 'DET'), ('speciﬁc', 'ADJ'), ('150', 'NUM'), ('immune', 'ADJ'), ('response', 'NOUN'), ('.', '.'), ('These', 'DET'), ('eﬀorts', 'NOUN'), ('will', 'VERB'), ('surely', 'ADV'), ('be', 'VERB'), ('an', 'DET'), ('area', 'NOUN'), ('of', 'ADP'), ('intense', 'ADJ'), ('research', 'NOUN'), ('in', 'ADP'), ('the', 'DET'), ('coming', 'ADJ'), ('months', 'NOUN'), ('both', 'DET'), ('in', 'ADP'), ('151', 'NUM'), ('China', 'NOUN'), ('and', 'CONJ'), ('in', 'ADP'), ('CoV', 'NOUN'), ('research', 'NOUN'), ('laboratories', 'VERB'), ('around', 'ADP'), ('the', 'DET'), ('world', 'NOUN'), ('.', '.'), ('152', 'NUM'), ('Notably', 'ADV'), (',', '.'), ('generating', 'VERB'), ('small', 'ADJ'), ('animal', 'ADJ'), ('models', 'NOUN'), ('of', 'ADP'), ('coronavirus', 'ADJ'), ('disease', 'NOUN'), ('can', 'VERB'), ('be', 'VERB'), ('diﬃcult', 'VERB'), ('.', '.'), ('While', 'ADP'), ('SARS-CoV', 'ADJ'), ('153', 'NUM'), ('readily', 'ADV'), ('infected', 'ADJ'), ('laboratory', 'NOUN'), ('mice', 'NOUN'), (',', '.'), ('it', 'PRON'), ('does', 'VERB'), ('not', 'ADV'), ('cause', 'VERB'), ('signiﬁcant', 'ADJ'), ('disease', 'NOUN'), ('unless', 'ADP'), ('the', 'DET'), ('virus', 'NOUN'), ('is', 'VERB'), ('passaged', 'VERB'), ('to', 'PRT'), ('154', 'NUM'), ('adapt', 'NOUN'), ('to', 'PRT'), ('the', 'DET'), ('mouse', 'NOUN'), ('host', 'NOUN'), ('[', '.'), ('38', 'NUM'), (']', 'NOUN'), ('.', '.'), ('Infection', 'NOUN'), ('of', 'ADP'), ('primates', 'NOUN'), ('produces', 'VERB'), ('a', 'DET'), ('more', 'ADV'), ('mild', 'ADJ'), ('disease', 'NOUN'), ('than', 'ADP'), ('that', 'DET'), ('observed', 'VERB'), ('in', 'ADP'), ('155', 'NUM'), ('humans', 'NOUN'), (',', '.'), ('although', 'ADP'), ('fever', 'NOUN'), ('and', 'CONJ'), ('pulmonary', 'ADJ'), ('inﬂammation', 'NOUN'), ('were', 'VERB'), ('noted', 'VERB'), ('[', 'ADJ'), ('39,40', 'NUM'), (']', 'NOUN'), ('.', '.'), ('MERS-CoV', 'NOUN'), ('is', 'VERB'), ('incapable', 'ADJ'), ('156', 'NUM'), ('of', 'ADP'), ('infecting', 'VERB'), ('rodent', 'NOUN'), ('cells', 'NOUN'), ('without', 'ADP'), ('engineering', 'NOUN'), ('changes', 'NOUN'), ('in', 'ADP'), ('critical', 'ADJ'), ('residues', 'NOUN'), ('of', 'ADP'), ('the', 'DET'), ('receptor', 'NOUN'), ('protein', 'NOUN'), (',', '.'), ('157', 'NUM'), ('DPP4', 'NOUN'), ('[', 'VERB'), ('41,42', 'NUM'), (']', 'NOUN'), ('.', '.'), ('However', 'ADV'), (',', '.'), ('MERS-CoV', 'NOUN'), ('does', 'VERB'), ('infect', 'VERB'), ('non-human', 'ADJ'), ('primates', 'NOUN'), ('[', 'VERB'), ('43', 'NUM'), (']', 'NOUN'), ('.', '.'), ('As', 'ADP'), ('such', 'ADJ'), (',', '.'), ('MERS', 'NOUN'), ('mouse', 'VERB'), ('158', 'NUM'), ('models', 'NOUN'), ('of', 'ADP'), ('disease', 'NOUN'), ('required', 'VERB'), ('a', 'DET'), ('great', 'ADJ'), ('deal', 'NOUN'), ('of', 'ADP'), ('time', 'NOUN'), ('to', 'PRT'), ('develop', 'VERB'), ('and', 'CONJ'), ('are', 'VERB'), ('limited', 'VERB'), ('in', 'ADP'), ('the', 'DET'), ('types', 'NOUN'), ('of', 'ADP'), ('manipulations', 'NOUN'), ('159', 'NUM'), ('that', 'DET'), ('can', 'VERB'), ('be', 'VERB'), ('performed', 'VERB'), ('[', 'ADJ'), ('41', 'NUM'), (']', 'NOUN'), ('.', '.'), ('At', 'ADP'), ('this', 'DET'), ('point', 'NOUN'), (',', '.'), ('the', 'DET'), ('infectious', 'ADJ'), ('capability', 'NOUN'), ('of', 'ADP'), ('the', 'DET'), ('2019-nCoV', 'ADJ'), ('for', 'ADP'), ('diﬀerent', 'ADJ'), ('species', 'NOUN'), ('160', 'NUM'), ('and', 'CONJ'), ('diﬀerent', 'NOUN'), ('cell', 'NOUN'), ('types', 'NOUN'), ('is', 'VERB'), ('unknown', 'ADJ'), ('.', '.'), ('Early', 'ADJ'), ('reports', 'NOUN'), ('suggest', 'VERB'), ('that', 'ADP'), ('the', 'DET'), ('virus', 'NOUN'), ('can', 'VERB'), ('utilize', 'VERB'), ('human', 'ADJ'), (',', '.'), ('bat', 'NOUN'), (',', '.'), ('swine', 'NOUN'), (',', '.'), ('161', 'NUM'), ('and', 'CONJ'), ('civet', 'VERB'), ('ACE2', 'NOUN'), ('[', 'NOUN'), ('30', 'NUM'), (']', 'NOUN'), (';', '.'), ('notably', 'ADV'), (',', '.'), ('the', 'DET'), ('group', 'NOUN'), ('found', 'VERB'), ('mouse', 'ADV'), ('Ace2', 'NOUN'), ('was', 'VERB'), ('not', 'ADV'), ('permissive', 'ADJ'), ('for', 'ADP'), ('2019-nCoV', 'ADJ'), ('infection', 'NOUN'), ('162', 'NUM'), ('Dissemination', 'NOUN'), ('of', 'ADP'), ('virus', 'NOUN'), ('stocks', 'NOUN'), ('and/or', 'VERB'), ('de', 'ADP'), ('novo', 'X'), ('generation', 'NOUN'), ('of', 'ADP'), ('the', 'DET'), ('virus', 'NOUN'), ('through', 'ADP'), ('reverse', 'NOUN'), ('genetics', 'NOUN'), ('systems', 'NOUN'), ('163', 'NUM'), ('will', 'VERB'), ('enable', 'VERB'), ('this', 'DET'), ('research', 'NOUN'), ('allowing', 'VERB'), ('for', 'ADP'), ('animal', 'ADJ'), ('testing', 'NOUN'), ('and', 'CONJ'), ('subsequent', 'ADJ'), ('completion', 'NOUN'), ('of', 'ADP'), ('Koch', 'NOUN'), ('’', 'NOUN'), ('s', 'NOUN'), ('postulates', 'VERB'), ('164', 'NUM'), ('for', 'ADP'), ('the', 'DET'), ('new', 'ADJ'), ('virus', 'NOUN'), ('.', '.'), ('165', 'NUM'), ('6', 'NUM'), ('.', '.'), ('Threat', 'NOUN'), ('for', 'ADP'), ('Spread', 'NOUN'), (':', '.'), ('Human', 'NOUN'), ('to', 'PRT'), ('Human', 'NOUN'), (',', '.'), ('Health', 'NOUN'), ('Care', 'NOUN'), ('Workers', 'NOUN'), (',', '.'), ('and', 'CONJ'), ('Super', 'NOUN'), ('Spreaders', 'NOUN'), ('166', 'NUM'), ('While', 'ADP'), ('the', 'DET'), ('Huanan', 'NOUN'), ('seafood', 'NOUN'), ('market', 'NOUN'), ('in', 'ADP'), ('Wuhan', 'NOUN'), ('has', 'VERB'), ('been', 'VERB'), ('associated', 'VERB'), ('with', 'ADP'), ('the', 'DET'), ('majority', 'NOUN'), ('of', 'ADP'), ('cases', 'NOUN'), (',', '.'), ('many', 'ADJ'), ('167', 'NUM'), ('of', 'ADP'), ('the', 'DET'), ('recent', 'ADJ'), ('cases', 'NOUN'), ('do', 'VERB'), ('not', 'ADV'), ('have', 'VERB'), ('a', 'DET'), ('direct', 'ADJ'), ('connection', 'NOUN'), ('[', 'VERB'), ('9', 'NUM'), (']', 'NOUN'), ('.', '.'), ('This', 'DET'), ('fact', 'NOUN'), ('suggests', 'VERB'), ('a', 'DET'), ('secondary', 'ADJ'), ('source', 'NOUN'), ('of', 'ADP'), ('infectio', 'NOUN'), ('168', 'NUM'), ('either', 'CONJ'), ('human', 'ADJ'), ('to', 'PRT'), ('human', 'ADJ'), ('transmission', 'NOUN'), ('or', 'CONJ'), ('possibly', 'ADV'), ('infected', 'ADJ'), ('animals', 'NOUN'), ('in', 'ADP'), ('another', 'DET'), ('market', 'NOUN'), ('in', 'ADP'), ('Wuhan', 'NOUN'), ('.', '.'), ('Both', 'DET'), ('169', 'NUM'), ('possibilities', 'NOUN'), ('represent', 'VERB'), ('major', 'ADJ'), ('concerns', 'NOUN'), ('and', 'CONJ'), ('indicate', 'VERB'), ('the', 'DET'), ('outbreak', 'NOUN'), ('has', 'VERB'), ('the', 'DET'), ('potential', 'ADJ'), ('to', 'PRT'), ('expand', 'VERB'), ('rapidly', 'ADV'), ('.', '.'), ('170', 'NUM'), ('For', 'ADP'), ('human', 'ADJ'), ('to', 'PRT'), ('human', 'ADJ'), ('transmission', 'NOUN'), (',', '.'), ('there', 'DET'), ('was', 'VERB'), ('limited', 'VERB'), ('data', 'NOUN'), ('in', 'ADP'), ('the', 'DET'), ('initial', 'ADJ'), ('set', 'NOUN'), ('of', 'ADP'), ('cases', 'NOUN'), (';', '.'), ('one', 'NUM'), ('family', 'NOUN'), ('cluster', 'NOUN'), ('171', 'NUM'), ('is', 'VERB'), ('of', 'ADP'), ('three', 'NUM'), ('men', 'NOUN'), ('who', 'PRON'), ('all', 'DET'), ('work', 'NOUN'), ('in', 'ADP'), ('the', 'DET'), ('market', 'NOUN'), ('.', '.'), ('Similarly', 'ADV'), (',', '.'), ('a', 'DET'), ('husband', 'NOUN'), ('and', 'CONJ'), ('wife', 'NOUN'), ('are', 'VERB'), ('among', 'ADP'), ('the', 'DET'), ('patients', 'NOUN'), (',', '.'), ('with', 'ADP'), ('172', 'NUM'), ('the', 'DET'), ('wife', 'NOUN'), ('claiming', 'VERB'), ('no', 'DET'), ('contact', 'NOUN'), ('with', 'ADP'), ('the', 'DET'), ('market', 'NOUN'), ('.', '.'), ('In', 'ADP'), ('these', 'DET'), ('cases', 'NOUN'), (',', '.'), ('direct', 'ADJ'), ('human', 'NOUN'), ('to', 'PRT'), ('human', 'ADJ'), ('infection', 'NOUN'), ('may', 'VERB'), ('173', 'NUM'), ('have', 'VERB'), ('been', 'VERB'), ('possible', 'ADJ'), (';', '.'), ('alternatively', 'ADV'), (',', '.'), ('a', 'DET'), ('contaminated', 'VERB'), ('fomite', 'NOUN'), ('from', 'ADP'), ('the', 'DET'), ('market', 'NOUN'), ('may', 'VERB'), ('also', 'ADV'), ('be', 'VERB'), ('responsible', 'ADJ'), ('as', 'ADP'), ('174', 'NUM'), ('surfaces', 'NOUN'), ('all', 'DET'), ('around', 'ADP'), ('the', 'DET'), ('market', 'NOUN'), ('were', 'VERB'), ('found', 'VERB'), ('to', 'PRT'), ('test', 'VERB'), ('positive', 'ADJ'), ('2019-nCoV', 'ADJ'), ('.', '.'), ('However', 'ADV'), (',', '.'), ('the', 'DET'), ('major', 'ADJ'), ('increase', 'NOUN'), ('175', 'NUM'), ('in', 'ADP'), ('the', 'DET'), ('number', 'NOUN'), ('of', 'ADP'), ('cases', 'NOUN'), (',', '.'), ('the', 'DET'), ('lack', 'NOUN'), ('of', 'ADP'), ('direct', 'ADJ'), ('connection', 'NOUN'), ('to', 'PRT'), ('the', 'DET'), ('Wuhan', 'NOUN'), ('market', 'NOUN'), ('for', 'ADP'), ('many', 'ADJ'), ('cases', 'NOUN'), (',', '.'), ('and', 'CONJ'), ('the', 'DET'), ('176', 'NUM'), ('infection', 'NOUN'), ('of', 'ADP'), ('health', 'NOUN'), ('care', 'NOUN'), ('works', 'VERB'), ('all', 'DET'), ('suggest', 'VERB'), ('human', 'ADJ'), ('to', 'PRT'), ('human', 'ADJ'), ('spread', 'NOUN'), ('is', 'VERB'), ('likely', 'ADJ'), ('[', 'ADJ'), ('9,44', 'NUM'), (']', 'NOUN'), ('.', '.'), ('Importantly', 'ADV'), (',', '.'), ('until', 'ADP'), ('the', 'DET'), ('177', 'NUM'), ('source', 'NOUN'), ('of', 'ADP'), ('the', 'DET'), ('virus', 'NOUN'), ('is', 'VERB'), ('found', 'VERB'), (',', '.'), ('it', 'PRON'), ('will', 'VERB'), ('be', 'VERB'), ('diﬃcult', 'VERB'), ('to', 'PRT'), ('distinguish', 'VERB'), ('zoonotic', 'ADJ'), ('versus', 'NOUN'), ('human', 'NOUN'), ('to', 'PRT'), ('human', 'ADJ'), ('spread', 'NOUN'), ('.', '.'), ('178', 'NUM'), ('In', 'ADP'), ('the', 'DET'), ('early', 'ADJ'), ('part', 'NOUN'), ('of', 'ADP'), ('the', 'DET'), ('outbreak', 'NOUN'), (',', '.'), ('the', 'DET'), ('absence', 'NOUN'), ('of', 'ADP'), ('infection', 'NOUN'), ('in', 'ADP'), ('health', 'NOUN'), ('care', 'NOUN'), ('workers', 'NOUN'), ('argued', 'VERB'), ('for', 'ADP'), ('ineﬃcient', 'NOUN'), ('179', 'NUM'), ('human', 'NOUN'), ('to', 'PRT'), ('human', 'ADJ'), ('spread', 'NOUN'), ('and', 'CONJ'), ('distinguished', 'VERB'), ('2019-nCoV', 'NUM'), ('from', 'ADP'), ('both', 'DET'), ('SARS-CoV', 'NOUN'), ('and', 'CONJ'), ('MERS-CoV', 'NOUN'), ('.', '.'), ('In', 'ADP'), ('180', 'NUM'), ('the', 'DET'), ('two', 'NUM'), ('prior', 'ADJ'), ('CoV', 'NOUN'), ('epidemics', 'NOUN'), (',', '.'), ('health', 'NOUN'), ('care', 'NOUN'), ('settings', 'NOUN'), ('served', 'VERB'), ('as', 'ADP'), ('a', 'DET'), ('major', 'ADJ'), ('transmission', 'NOUN'), ('point', 'NOUN'), ('fueling', 'VERB'), ('both', 'DET'), ('181', 'NUM'), ('outbreaks', 'NOUN'), ('.', '.'), ('Based', 'VERB'), ('on', 'ADP'), ('WHO', 'NOUN'), ('data', 'NOUN'), (',', '.'), ('1', 'NUM'), ('in', 'ADP'), ('10', 'NUM'), ('MERS-CoV', 'ADJ'), ('cases', 'NOUN'), ('have', 'VERB'), ('been', 'VERB'), ('found', 'VERB'), ('to', 'PRT'), ('be', 'VERB'), ('health', 'NOUN'), ('care', 'NOUN'), ('workers', 'NOUN'), (';', '.'), ('182', 'NUM'), ('these', 'DET'), ('patients', 'NOUN'), ('generally', 'ADV'), ('have', 'VERB'), ('reduced', 'VERB'), ('disease', 'NOUN'), ('and', 'CONJ'), ('death', 'NOUN'), ('likely', 'ADV'), ('due', 'ADJ'), ('to', 'PRT'), ('younger', 'ADJ'), ('age', 'NOUN'), ('and', 'CONJ'), ('absence', 'NOUN'), ('of', 'ADP'), ('183', 'NUM'), ('existing', 'VERB'), ('health', 'NOUN'), ('conditions', 'NOUN'), ('.', '.'), ('The', 'DET'), ('recent', 'ADJ'), ('reports', 'NOUN'), ('of', 'ADP'), ('numerous', 'ADJ'), ('infected', 'ADJ'), ('health', 'NOUN'), ('care', 'NOUN'), ('workers', 'NOUN'), ('in', 'ADP'), ('Wuhan', 'NOUN'), ('184', 'NUM'), ('indicate', 'NOUN'), ('human', 'NOUN'), ('to', 'PRT'), ('human', 'ADJ'), ('infection', 'NOUN'), ('can', 'VERB'), ('occur', 'VERB'), ('with', 'ADP'), ('2019-nCoV', 'ADJ'), ('and', 'CONJ'), ('may', 'VERB'), ('be', 'VERB'), ('the', 'DET'), ('product', 'NOUN'), ('of', 'ADP'), ('a', 'DET'), ('super', 'ADJ'), ('185', 'NUM'), ('spreading', 'VERB'), ('patient', 'NOUN'), ('[', '.'), ('44', 'NUM'), (']', 'NOUN'), ('.', '.'), ('However', 'ADV'), (',', '.'), ('while', 'ADP'), ('large', 'ADJ'), ('swaths', 'NOUN'), ('of', 'ADP'), ('healthcare', 'ADJ'), ('workers', 'NOUN'), ('are', 'VERB'), ('not', 'ADV'), ('getting', 'VERB'), ('sick', 'ADJ'), ('as', 'ADP'), ('seen', 'VERB'), ('186', 'NUM'), ('with', 'ADP'), ('SARS', 'NOUN'), ('and', 'CONJ'), ('MERS-CoV', 'NOUN'), (',', '.'), ('it', 'PRON'), ('may', 'VERB'), ('be', 'VERB'), ('too', 'ADV'), ('early', 'ADJ'), ('to', 'PRT'), ('rule', 'VERB'), ('out', 'PRT'), ('their', 'PRON'), ('potential', 'ADJ'), ('exposure', 'NOUN'), ('to', 'PRT'), ('the', 'DET'), ('novel', 'ADJ'), ('CoV', 'NOUN'), ('as', 'ADP'), ('187', 'NUM'), ('their', 'PRON'), ('disease', 'NOUN'), ('may', 'VERB'), ('be', 'VERB'), ('asymptomatic', 'ADJ'), ('.', '.'), ('While', 'ADP'), ('not', 'ADV'), ('described', 'VERB'), ('during', 'ADP'), ('the', 'DET'), ('SARS-CoV', 'NOUN'), ('outbreak', 'NOUN'), (',', '.'), ('asymptomatic', 'ADJ'), ('188', 'NUM'), ('cases', 'NOUN'), ('ranged', 'VERB'), ('from', 'ADP'), ('12.5', 'NUM'), ('%', 'NOUN'), ('to', 'PRT'), ('25', 'NUM'), ('%', 'NOUN'), ('in', 'ADP'), ('some', 'DET'), ('MERS-CoV', 'ADJ'), ('studies', 'NOUN'), ('[', 'VERB'), ('45', 'NUM'), (']', 'NOUN'), ('.', '.'), ('A', 'DET'), ('similar', 'ADJ'), ('phenomenon', 'NOUN'), ('may', 'VERB'), ('be', 'VERB'), ('189', 'NUM'), ('occurring', 'VERB'), ('with', 'ADP'), ('2019-nCoV', 'ADJ'), ('and', 'CONJ'), ('would', 'VERB'), ('make', 'VERB'), ('stopping', 'VERB'), ('the', 'DET'), ('outbreak', 'NOUN'), ('even', 'ADV'), ('more', 'ADV'), ('diﬃcult', 'NOUN'), ('to', 'PRT'), ('contain', 'VERB'), ('.', '.'), ('190', 'NUM'), ('Another', 'DET'), ('parameter', 'NOUN'), ('to', 'PRT'), ('consider', 'VERB'), ('is', 'VERB'), ('the', 'DET'), ('possibility', 'NOUN'), ('of', 'ADP'), ('super', 'ADJ'), ('spreading', 'NOUN'), ('in', 'ADP'), ('the', 'DET'), ('context', 'NOUN'), ('of', 'ADP'), ('2019-nCoV', 'ADJ'), ('.', '.'), ('191', 'NUM'), ('Super', 'NOUN'), ('spreading', 'NOUN'), ('is', 'VERB'), ('the', 'DET'), ('ampliﬁed', 'ADJ'), ('transmission', 'NOUN'), ('of', 'ADP'), ('a', 'DET'), ('virus', 'NOUN'), ('by', 'ADP'), ('individuals', 'NOUN'), ('in', 'ADP'), ('a', 'DET'), ('population', 'NOUN'), ('and', 'CONJ'), ('has', 'VERB'), ('been', 'VERB'), ('192', 'NUM'), ('suggested', 'VERB'), ('by', 'ADP'), ('at', 'ADP'), ('least', 'ADJ'), ('one', 'NUM'), ('news', 'NOUN'), ('report', 'NOUN'), ('[', 'VERB'), ('44', 'NUM'), (']', 'NOUN'), ('.', '.'), ('Both', 'DET'), ('SARS-', 'ADJ'), ('and', 'CONJ'), ('MERS-CoV', 'ADJ'), ('outbreaks', 'NOUN'), ('had', 'VERB'), ('documented', 'VERB'), ('193', 'NUM'), ('evidence', 'NOUN'), ('of', 'ADP'), ('super', 'ADJ'), ('spreading', 'VERB'), ('patients', 'NOUN'), ('[', '.'), ('46', 'NUM'), (']', 'NOUN'), ('.', '.'), ('In', 'ADP'), ('general', 'ADJ'), (',', '.'), ('both', 'DET'), ('epidemic', 'ADJ'), ('CoVs', 'NOUN'), ('maintain', 'VERB'), ('a', 'DET'), ('low', 'ADJ'), ('R0', 'NOUN'), (',', '.'), ('the', 'DET'), ('194', 'NUM'), ('rate', 'NOUN'), ('spread', 'NOUN'), ('from', 'ADP'), ('an', 'DET'), ('individual', 'ADJ'), ('infected', 'ADJ'), ('patient', 'NOUN'), ('.', '.'), ('However', 'ADV'), (',', '.'), ('roughly', 'ADV'), ('10', 'NUM'), ('%', 'NOUN'), ('of', 'ADP'), ('SARS-', 'NOUN'), ('and', 'CONJ'), ('MERS-CoV', 'NOUN'), ('195', 'NUM'), ('>', 'NOUN'), ('10', 'NUM'), ('.', '.'), ('These', 'DET'), ('cases', 'NOUN'), ('seeded', 'VERB'), ('a', 'DET'), ('signiﬁcant', 'ADJ'), ('196', 'NUM'), ('patients', 'NOUN'), ('have', 'VERB'), ('been', 'VERB'), ('associated', 'VERB'), ('with', 'ADP'), ('super', 'ADJ'), ('spreading', 'NOUN'), ('and', 'CONJ'), ('an', 'DET'), ('R0', 'NOUN'), ('197', 'NUM'), ('portion', 'NOUN'), ('of', 'ADP'), ('the', 'DET'), ('epidemic', 'ADJ'), ('around', 'ADP'), ('the', 'DET'), ('world', 'NOUN'), ('.', '.'), ('Notably', 'ADV'), (',', '.'), ('neither', 'DET'), ('mutations', 'NOUN'), ('in', 'ADP'), ('the', 'DET'), ('viruses', 'NOUN'), ('nor', 'CONJ'), ('severity', 'NOUN'), ('of', 'ADP'), ('198', 'NUM'), ('disease', 'NOUN'), ('were', 'VERB'), ('found', 'VERB'), ('to', 'PRT'), ('be', 'VERB'), ('associated', 'VERB'), ('with', 'ADP'), ('super', 'ADJ'), ('spreading', 'NOUN'), (',', '.'), ('implying', 'VERB'), ('that', 'ADP'), ('host', 'NOUN'), ('factors', 'NOUN'), ('contribute', 'VERB'), ('to', 'PRT'), ('the', 'DET'), ('199', 'NUM'), ('phenotype', 'NOUN'), ('[', 'NOUN'), ('47', 'NUM'), (']', 'NOUN'), ('.', '.'), ('For', 'ADP'), ('2019-nCoV', 'ADJ'), (',', '.'), ('contact', 'ADJ'), ('tracing', 'VERB'), ('to', 'PRT'), ('date', 'NOUN'), ('suggest', 'NOUN'), ('limited', 'VERB'), ('human', 'ADJ'), ('to', 'PRT'), ('human', 'ADJ'), ('spread', 'NOUN'), ('and', 'CONJ'), ('a', 'DET'), ('200', 'NUM'), ('low', 'ADJ'), ('R0', 'NOUN'), ('.', '.'), ('However', 'ADV'), (',', '.'), ('the', 'DET'), ('recent', 'ADJ'), ('increase', 'NOUN'), ('in', 'ADP'), ('cases', 'NOUN'), (',', '.'), ('both', 'DET'), ('in', 'ADP'), ('and', 'CONJ'), ('outside', 'ADP'), ('Wuhan', 'NOUN'), ('could', 'VERB'), ('signal', 'VERB'), ('the', 'DET'), ('existence', 'NOUN'), ('of', 'ADP'), ('201', 'NUM'), ('super-spreading', 'ADJ'), ('individuals', 'NOUN'), ('fueling', 'VERB'), ('the', 'DET'), ('outbreak', 'NOUN'), ('.', '.'), ('Alternatively', 'ADV'), (',', '.'), ('super', 'ADJ'), ('spreading', 'NOUN'), ('could', 'VERB'), ('occur', 'VERB'), ('from', 'ADP'), ('the', 'DET'), ('202', 'NUM'), ('zoonotic', 'NOUN'), ('source', 'NOUN'), ('which', 'DET'), ('has', 'VERB'), ('been', 'VERB'), ('seen', 'VERB'), ('in', 'ADP'), ('other', 'ADJ'), ('disease', 'NOUN'), ('outbreaks', 'NOUN'), ('[', 'VERB'), ('10', 'NUM'), (']', 'NOUN'), ('.', '.'), ('In', 'ADP'), ('any', 'DET'), ('event', 'NOUN'), (',', '.'), ('the', 'DET'), ('possibility', 'NOUN'), ('of', 'ADP'), ('203', 'NUM'), ('super', 'ADJ'), ('spreading', 'NOUN'), ('may', 'VERB'), ('continue', 'VERB'), ('to', 'PRT'), ('play', 'VERB'), ('a', 'DET'), ('role', 'NOUN'), ('in', 'ADP'), ('this', 'DET'), ('ongoing', 'ADJ'), ('2019-nCoV', 'ADJ'), ('outbreak', 'NOUN'), ('.', '.'), ('204', 'NUM'), ('7', 'NUM'), ('.', '.'), ('Emerging', 'VERB'), ('Diseases', 'NOUN'), ('in', 'ADP'), ('the', 'DET'), ('Age', 'NOUN'), ('of', 'ADP'), ('Social', 'NOUN'), ('Media', 'NOUN'), ('205', 'NUM'), ('News', 'NOUN'), ('of', 'ADP'), ('the', 'DET'), ('2019-nCoV', 'ADJ'), ('came', 'VERB'), ('to', 'PRT'), ('widespread', 'ADJ'), ('attention', 'NOUN'), ('through', 'ADP'), ('the', 'DET'), ('internet', 'NOUN'), ('.', '.'), ('Over', 'ADP'), ('the', 'DET'), ('years', 'NOUN'), (',', '.'), ('206', 'NUM'), ('websites', 'NOUN'), ('like', 'ADP'), ('FluTrackers.com', 'NOUN'), (',', '.'), ('ProMED', 'NOUN'), ('(', '.'), ('promedmail.org', 'NOUN'), (')', '.'), (',', '.'), ('and', 'CONJ'), ('others', 'NOUN'), ('have', 'VERB'), ('permitted', 'VERB'), ('the', 'DET'), ('collection', 'NOUN'), ('of', 'ADP'), ('207', 'NUM'), ('disease', 'NOUN'), ('information', 'NOUN'), ('from', 'ADP'), ('around', 'ADP'), ('the', 'DET'), ('world', 'NOUN'), ('and', 'CONJ'), ('facilitated', 'ADJ'), ('dissemination', 'NOUN'), ('to', 'PRT'), ('interested', 'ADJ'), ('parties', 'NOUN'), ('.', '.'), ('In', 'ADP'), ('2012', 'NUM'), (',', '.'), ('208', 'NUM'), ('MERS-CoV', 'ADJ'), ('ﬁrst', 'NOUN'), ('drew', 'VERB'), ('attention', 'NOUN'), ('as', 'ADP'), ('a', 'DET'), ('“', 'NOUN'), ('novel', 'NOUN'), ('coronavirus', 'NOUN'), ('”', 'NOUN'), ('entioned', 'VERB'), ('on', 'ADP'), ('ProMED', 'NOUN'), ('Mail', 'NOUN'), ('and', 'CONJ'), ('subsequently', 'ADV'), ('209', 'NUM'), ('through', 'ADP'), ('conversation', 'NOUN'), ('on', 'ADP'), ('twitter', 'NOUN'), ('between', 'ADP'), ('science', 'NOUN'), ('journalists', 'NOUN'), (',', '.'), ('virologists', 'NOUN'), (',', '.'), ('and', 'CONJ'), ('public', 'ADJ'), ('health', 'NOUN'), ('experts', 'NOUN'), ('.', '.'), ('210', 'NUM'), ('Eight', 'NUM'), ('years', 'NOUN'), ('later', 'ADV'), (',', '.'), ('a', 'DET'), ('more', 'ADV'), ('connected', 'ADJ'), ('network', 'NOUN'), ('quickly', 'ADV'), ('dissected', 'VERB'), ('statements', 'NOUN'), ('from', 'ADP'), ('the', 'DET'), ('Wuhan', 'NOUN'), ('Municipal', 'NOUN'), ('211', 'NUM'), ('Health', 'NOUN'), ('Commission', 'NOUN'), ('and', 'CONJ'), ('speculated', 'VERB'), ('about', 'ADP'), ('possible', 'ADJ'), ('causes', 'NOUN'), ('.', '.'), ('Early', 'ADJ'), ('during', 'ADP'), ('an', 'DET'), ('outbreak', 'NOUN'), (',', '.'), ('it', 'PRON'), ('can', 'VERB'), ('be', 'VERB'), ('diﬃcult', 'ADV'), ('212', 'NUM'), ('to', 'PRT'), ('distinguish', 'VERB'), ('between', 'ADP'), ('rumors', 'NOUN'), ('with', 'ADP'), ('elements', 'NOUN'), ('of', 'ADP'), ('truth', 'NOUN'), ('versus', 'ADP'), ('baseless', 'ADJ'), ('fear', 'NOUN'), ('mongering', 'NOUN'), ('.', '.'), ('This', 'DET'), ('fact', 'NOUN'), ('can', 'VERB'), ('213', 'NUM'), ('be', 'VERB'), ('exacerbated', 'VERB'), ('by', 'ADP'), ('language', 'NOUN'), ('barriers', 'NOUN'), ('and', 'CONJ'), ('oﬀ', 'VERB'), ('the', 'DET'), ('record', 'NOUN'), ('sources', 'NOUN'), ('.', '.'), ('However', 'ADV'), (',', '.'), ('in', 'ADP'), ('this', 'DET'), ('case', 'NOUN'), (',', '.'), ('speculation', 'NOUN'), ('of', 'ADP'), ('214', 'NUM'), ('a', 'DET'), ('novel', 'ADJ'), ('coronavirus', 'NOUN'), ('was', 'VERB'), ('fed', 'VERB'), ('by', 'ADP'), ('carefully', 'ADV'), ('worded', 'VERB'), ('statements', 'NOUN'), ('that', 'DET'), ('speciﬁcally', 'ADV'), ('excluding', 'VERB'), ('some', 'DET'), ('virus', 'NOUN'), ('215', 'NUM'), ('families', 'NOUN'), ('(', '.'), ('inﬂuenza', 'NOUN'), (',', '.'), ('adenovirus', 'NOUN'), (')', '.'), (',', '.'), ('but', 'CONJ'), ('only', 'ADV'), ('excluded', 'VERB'), ('SARS-CoV', 'NOUN'), ('and', 'CONJ'), ('MERS-CoV', 'NOUN'), ('for', 'ADP'), ('coronaviruses', 'NOUN'), ('.', '.'), ('216', 'NUM'), ('Coupled', 'VERB'), ('with', 'ADP'), ('memories', 'NOUN'), ('of', 'ADP'), ('the', 'DET'), ('SARS', 'NOUN'), ('outbreak', 'NOUN'), (',', '.'), ('many', 'ADJ'), ('worried', 'VERB'), ('that', 'ADP'), ('the', 'DET'), ('truth', 'NOUN'), ('may', 'VERB'), ('be', 'VERB'), ('held', 'VERB'), ('back', 'ADV'), ('.', '.'), ('When', 'ADV'), ('217', 'NUM'), ('the', 'DET'), ('agent', 'NOUN'), ('was', 'VERB'), ('ﬁnally', 'ADV'), ('conﬁrmed', 'VERB'), ('as', 'ADP'), ('a', 'DET'), ('CoV', 'NOUN'), (',', '.'), ('the', 'DET'), ('world', 'NOUN'), ('acted', 'VERB'), ('with', 'ADP'), ('both', 'DET'), ('worry', 'NOUN'), ('and', 'CONJ'), ('relief', 'NOUN'), (':', '.'), ('the', 'DET'), ('outbreak', 'NOUN'), ('218', 'NUM'), ('would', 'VERB'), ('not', 'ADV'), ('be', 'VERB'), ('hidden', 'VERB'), ('.', '.'), ('219', 'NUM'), ('While', 'ADP'), ('far', 'ADV'), ('from', 'ADP'), ('perfect', 'ADJ'), (',', '.'), ('the', 'DET'), ('government', 'NOUN'), ('response', 'NOUN'), ('to', 'PRT'), ('2019-nCoV', 'ADJ'), ('provides', 'VERB'), ('a', 'DET'), ('stark', 'ADJ'), ('contrast', 'NOUN'), ('to', 'PRT'), ('the', 'DET'), ('220', 'NUM'), ('SARS', 'NOUN'), ('outbreak', 'NOUN'), ('at', 'ADP'), ('the', 'DET'), ('beginning', 'NOUN'), ('of', 'ADP'), ('the', 'DET'), ('century', 'NOUN'), ('.', '.'), ('The', 'DET'), ('rapid', 'ADJ'), ('release', 'NOUN'), ('of', 'ADP'), ('2019-nCoV', 'ADJ'), ('sequences', 'NOUN'), ('permitted', 'VERB'), ('the', 'DET'), ('221', 'NUM'), ('research', 'NOUN'), ('community', 'NOUN'), ('to', 'PRT'), ('quickly', 'ADV'), ('become', 'VERB'), ('engaged', 'ADJ'), (',', '.'), ('providing', 'VERB'), ('analysis', 'NOUN'), ('and', 'CONJ'), ('developing', 'VERB'), ('diagnostic', 'ADJ'), ('tests', 'NOUN'), ('.', '.'), ('222', 'NUM'), ('Both', 'CONJ'), ('the', 'DET'), ('Chinese', 'NOUN'), ('CDC', 'NOUN'), ('and', 'CONJ'), ('the', 'DET'), ('Wuhan', 'NOUN'), ('Municipal', 'NOUN'), ('Health', 'NOUN'), ('Commission', 'NOUN'), ('have', 'VERB'), ('posted', 'VERB'), ('regular', 'ADJ'), ('updates', 'NOUN'), ('223', 'NUM'), ('of', 'ADP'), ('conﬁrmed', 'ADJ'), ('case', 'NOUN'), ('numbers', 'NOUN'), ('and', 'CONJ'), ('patient', 'ADJ'), ('statuses', 'NOUN'), ('enabling', 'VERB'), ('public', 'ADJ'), ('health', 'NOUN'), ('authorities', 'NOUN'), ('to', 'PRT'), ('monitor', 'VERB'), ('the', 'DET'), ('224', 'NUM'), ('situation', 'NOUN'), ('in', 'ADP'), ('real', 'ADJ'), ('time', 'NOUN'), ('.', '.'), ('Researchers', 'NOUN'), ('from', 'ADP'), ('around', 'ADP'), ('the', 'DET'), ('world', 'NOUN'), ('have', 'VERB'), ('connected', 'VERB'), ('on', 'ADP'), ('social', 'ADJ'), ('media', 'NOUN'), ('to', 'PRT'), ('compare', 'VERB'), ('225', 'NUM'), ('updated', 'ADJ'), ('sequence', 'NOUN'), ('information', 'NOUN'), ('and', 'CONJ'), ('highlight', 'NOUN'), ('key', 'NOUN'), ('unknowns', 'NOUN'), ('about', 'ADP'), ('the', 'DET'), ('outbreak', 'NOUN'), ('.', '.'), ('While', 'ADP'), ('not', 'ADV'), ('always', 'ADV'), ('226', 'NUM'), ('provided', 'VERB'), ('in', 'ADP'), ('a', 'DET'), ('timely', 'ADJ'), ('manner', 'NOUN'), (',', '.'), ('the', 'DET'), ('ability', 'NOUN'), ('to', 'PRT'), ('share', 'NOUN'), ('news', 'NOUN'), ('updates', 'NOUN'), ('and', 'CONJ'), ('data', 'NOUN'), ('in', 'ADP'), ('real', 'ADJ'), ('time', 'NOUN'), ('with', 'ADP'), ('researchers', 'NOUN'), ('227', 'NUM'), ('and', 'CONJ'), ('public', 'ADJ'), ('health', 'NOUN'), ('oﬃcials', 'NOUN'), ('around', 'ADP'), ('the', 'DET'), ('world', 'NOUN'), ('signals', 'VERB'), ('a', 'DET'), ('major', 'ADJ'), ('change', 'NOUN'), ('in', 'ADP'), ('the', 'DET'), ('response', 'NOUN'), ('to', 'PRT'), ('outbreaks', 'VERB'), ('.', '.'), ('This', 'DET'), ('228', 'NUM'), ('connectivity', 'NOUN'), ('has', 'VERB'), ('facilitated', 'VERB'), ('awareness', 'NOUN'), ('as', 'ADV'), ('well', 'ADV'), ('as', 'ADP'), ('new', 'ADJ'), ('collaborations', 'NOUN'), ('and', 'CONJ'), ('a', 'DET'), ('rapid', 'ADJ'), ('response', 'NOUN'), ('by', 'ADP'), ('the', 'DET'), ('global', 'ADJ'), ('229', 'NUM'), ('research', 'NOUN'), ('community', 'NOUN'), ('.', '.'), ('While', 'ADP'), ('there', 'DET'), ('are', 'VERB'), ('many', 'ADJ'), ('unknowns', 'NOUN'), ('with', 'ADP'), ('2019-nCoV', 'ADJ'), (',', '.'), ('the', 'DET'), ('world', 'NOUN'), ('is', 'VERB'), ('engaged', 'VERB'), ('and', 'CONJ'), ('230', 'NUM'), ('prepared', 'VERB'), ('to', 'PRT'), ('battle', 'NOUN'), ('the', 'DET'), ('newest', 'ADJ'), ('emergent', 'NOUN'), ('virus', 'NOUN'), ('strain', 'NOUN'), ('.', '.'), ('Perhaps', 'ADV'), ('this', 'DET'), ('means', 'VERB'), ('the', 'DET'), ('lessons', 'NOUN'), ('from', 'ADP'), ('the', 'DET'), ('SARS', 'NOUN'), ('231', 'NUM'), ('outbreak', 'NOUN'), ('have', 'VERB'), ('truly', 'ADV'), ('been', 'VERB'), ('learned', 'VERB'), ('.', '.'), ('232', 'NUM'), ('Author', 'ADJ'), ('Contributions', 'NOUN'), (':', '.'), ('L.E.G', 'NOUN'), ('.', '.'), ('and', 'CONJ'), ('V.D.M', 'NOUN'), ('.', '.'), ('prepared', 'VERB'), ('this', 'DET'), ('manuscript', 'NOUN'), ('.', '.'), ('All', 'DET'), ('authors', 'NOUN'), ('have', 'VERB'), ('read', 'VERB'), ('and', 'CONJ'), ('agreed', 'VERB'), ('to', 'PRT'), ('the', 'DET'), ('233', 'NUM'), ('published', 'VERB'), ('version', 'NOUN'), ('of', 'ADP'), ('the', 'DET'), ('manuscript', 'NOUN'), ('.', '.'), ('234', 'NUM'), ('Funding', 'NOUN'), (':', '.'), ('This', 'DET'), ('research', 'NOUN'), ('received', 'VERB'), ('no', 'DET'), ('external', 'ADJ'), ('funding', 'NOUN'), ('.', '.'), ('235', 'NUM'), ('Conﬂicts', 'NOUN'), ('of', 'ADP'), ('Interest', 'NOUN'), (':', '.'), ('The', 'DET'), ('authors', 'NOUN'), ('declare', 'VERB'), ('no', 'DET'), ('conﬂict', 'NOUN'), ('of', 'ADP'), ('interest', 'NOUN'), ('.', '.'), ('236', 'NUM'), ('©', 'ADJ'), ('2020', 'NUM'), ('by', 'ADP'), ('the', 'DET'), ('authors', 'NOUN'), ('.', '.'), ('Licensee', 'NOUN'), ('MDPI', 'NOUN'), (',', '.'), ('Basel', 'NOUN'), (',', '.'), ('Switzerland', 'NOUN'), ('.', '.'), ('This', 'DET'), ('article', 'NOUN'), ('is', 'VERB'), ('an', 'DET'), ('open', 'ADJ'), ('access', 'NOUN'), ('237', 'NUM'), ('article', 'NOUN'), ('distributed', 'VERB'), ('under', 'ADP'), ('the', 'DET'), ('terms', 'NOUN'), ('and', 'CONJ'), ('conditions', 'NOUN'), ('of', 'ADP'), ('the', 'DET'), ('Creative', 'ADJ'), ('Commons', 'NOUN'), ('Attribution', 'NOUN'), ('238', 'NUM'), ('(', '.'), ('CC', 'NOUN'), ('BY', 'NOUN'), (')', '.'), ('license', 'NOUN'), ('(', '.'), ('http', 'NOUN'), (':', '.'), ('//creativecommons.org/licenses/by/4.0/', 'NOUN'), (')', '.'), ('.', '.')]\n"
     ]
    }
   ],
   "source": [
    "tags = nltk.pos_tag(tokens1, lang=\"eng\", tagset='universal')\n",
    "print(tags)"
   ]
  },
  {
   "cell_type": "code",
   "execution_count": 12,
   "id": "873556c7",
   "metadata": {},
   "outputs": [
    {
     "name": "stdout",
     "output_type": "stream",
     "text": [
      "Counter({'NOUN': 1204, 'VERB': 542, 'ADJ': 454, 'ADP': 442, '.': 413, 'NUM': 381, 'DET': 358, 'ADV': 131, 'CONJ': 115, 'PRT': 93, 'PRON': 17, 'X': 2})\n"
     ]
    }
   ],
   "source": [
    "counts = Counter(tag for word,tag in tags)\n",
    "print(counts)"
   ]
  },
  {
   "cell_type": "code",
   "execution_count": 13,
   "id": "e4cd8515",
   "metadata": {},
   "outputs": [
    {
     "name": "stdout",
     "output_type": "stream",
     "text": [
      "LENGTH OF LIST: 148 SENTENCES\n",
      "['                                                                           Return of the Coronavirus: 2019-nCoV\\n0    Lisa E. Gralinski and Vineet D. Menachery                                                                 \\n1    Abstract: The emergence of a novel coronavirus (2019-nCoV) has awakened the echoes of SARS-CoV            \\n2    from nearly two decades ago.', 'Yet, with technological advances and important lessons gained from           \\n3    previous outbreaks, perhaps the world is better equipped to deal with the most recent emergent            \\n4    group 2B coronavirus.', '5    Keywords: 2019-nCoV; novel CoV; Wuhan; Wuhan pneumonia; coronavirus; emerging viruses;                    \\n6    SARS-CoV; MERS-CoV                                                                                        \\n7    1.', 'Emergence                                                                                              \\n8    The third zoonotic human coronavirus (CoV) of the century emerged in December 2019, with                  \\n9    a cluster of patients with connections to Huanan South China Seafood Market in Wuhan, Hubei               \\n10   Province, China.', 'Similar to severe acute respiratory syndrome coronavirus (SARS-CoV) and Middle           \\n11   East respiratory syndrome coronavirus (MERS-CoV) infections, patients exhibited symptoms of viral         \\n12   pneumonia including fever, diﬃculty breathing, and bilateral lung inﬁltration in the most severe          \\n13   cases [1].', 'News reports of patients with an unknown pneumonia were ﬁrst identiﬁed on 31st December        \\n14   with the Wuhan Municipal Health Commission saying they were monitoring the situation closely              \\n15   (Figure 1).', 'On 1st January 2020, the seafood market was closed and decontaminated while countries         \\n16   with travel links to Wuhan went on high alert for potential travelers with unexplained respiratory        \\n17   disease.', 'After extensive speculation about a causative agent, the Chinese Center for Disease Control      \\n18   and Prevention (CDC) conﬁrmed a report by the Wall Street Journal and announced identiﬁcation             \\n19   of a novel CoV on 9th January [2].', 'The novel CoV (2019-nCoV) was isolated from a single patient           \\n20   and subsequently veriﬁed in 16 additional patients [3].', 'While not yet conﬁrmed to induce the viral        \\n21   pneumonia, 2019-nCoV was quickly predicted as the likely causative agent.', '22   The ﬁrst sequence of 2019-nCoV was posted online one day after its conﬁrmation on behalf of               \\n23   Dr. Yong-Zhen Zhang and scientists at Fudan University, Shanghai [4].', 'Subsequently, ﬁve additional        \\n24   2019-nCoV sequences were deposited on the GSAID database on 11th January from institutes across           \\n25   China (Chinese CDC, Wuhan Institute of Virology and Chinese Academy of Medical Sciences &                 \\n26   Peking Union Medical College) and allowed researchers around the world to begin analyzing the new         \\n27   CoV [5].', 'By 17th January, there were 62 conﬁrmed cases in China and importantly, three exported           \\n28   cases of infected travelers who were diagnosed in Thailand (2) and Japan (1) [6].', 'The sequences of        \\n29   these exported cases and several additional 2019-nCoV isolated in China have also been deposited          \\n30   on the GSAID database [5].', 'Diagnostic tests have subsequently been developed and some are being           \\n31   used on suspect cases identiﬁed in other locations including Vietnam, Singapore, and Hong Kong [7].', '32   To date there have been twenty-six fatalities associated with 2019-nCoV infection, many of these cases    \\n33   had signiﬁcant co-morbidities and were older in age (>50).', 'A range of disease has been observed           \\n34   highlighted by fever, dry cough, shortness of breath, and leukopenia; patients have included mild cases   \\n35   needing supportive care to severe cases requiring extracorporeal membrane oxygenation; however,           \\n36   compared to SARS-CoV (10% mortality) and MERS-CoV (35% mortality), the 2019-nCoV appears to be            \\n37   less virulent at this point with the exception of the elderly and those with underlying health conditions.', '38   Initial monitoring of case close contacts had not revealed any further 2019-nCoV cases.', 'However,          \\n39   modeling analysis based on oﬃcial case numbers and international spread suggested that there may          \\n40   be cases going undetected [8].', 'On 19th January, these fears were seemingly conﬁrmed as an additional      \\n41   136 cases were added from further surveys raising the total in Wuhan to 198 infected patients [9].', '42   Among the 198 total cases in Wuhan, 170 remained in hospitals, 126 mostly with mild symptoms,             \\n43   35 in serious condition, and 9 in critical condition.', 'The expanded numbers and extended range of          \\n44   onset dates (12 December 2019–18 January 2020) suggested likely human to human transmission or            \\n45   ongoing transmission from a market or other primary sources.', 'On 20th January, the outbreak was            \\n46   further expanded to other parts of China (Beijing, Shanghai, & Shenzhen) as well as another exported      \\n47   cases to South Korea.', 'As of January 24, the total case number has expanded to at least 870 total cases    \\n48   with 26 deaths across 25 provinces in China and 19 exported cases in 10 countries [10].', 'Public health     \\n49   authorities have quarantined travel from Wuhan to limit the spread of the virus and reports indicate      \\n50   other Chinese cities have also been isolated [11].', 'With the heavy travel season for lunar New Year        \\n51   underway in Asia, major concerns exist for the 2019-nCoV outbreak to continue and spread.', '52   2.', 'Origins of 2019-nCoV                                                                                   \\n53   The source of the 2019-nCoV is still unknown, although the initial cases have been associated with        \\n54   the Huanan South China Seafood Market.', 'While many of the early patients worked in or visited the          \\n55   market, none of the exported cases had contact with the market, suggesting either human to human          \\n56   transmission or a more widespread animal source [6].', 'In addition to seafood, it is reported on social     \\n57   media that snakes, birds and other small mammals including marmots and bats were sold at the              \\n58   Huanan South China Seafood Market.', 'The WHO reported that environmental samples taken from the             \\n59   marketplace have come back positive for the novel coronavirus, but no speciﬁc animal association          \\n60   has been identiﬁed [6].', 'An initial report suggested that snakes might be the possible source based        \\n61   on codon usage [12], but the assertion has been disputed by others [13].', 'Researchers are currently        \\n62   working to identify the source of 2019-nCoV including possible intermediate animal vectors.', '63   A zoonotic reservoir harkens back to the emergence of both SARS- and MERS-CoV.', 'SARS-CoV,                  \\n64   the ﬁrst highly pathogenic human CoV, emerged in 2002 with transmission from animals to humans            \\n65   occurring in wet markets.', 'Surveillance eﬀorts found SARS-CoV viral RNA in both palm civets and            \\n66   raccoon dogs sold in these wet markets [14]; however, SARS-CoV was not found in the wild, suggesting      \\n67   that those species served as intermediary reservoir as the virus adapted to more eﬃciently infect         \\n68   humans.', 'Further surveillance eﬀorts identiﬁed highly related CoVs in bat species [15].', 'More recent        \\n69   work has demonstrated that several bat CoVs are capable of infecting human cells without a need for       \\n70   intermediate adaptation [16,17].', 'Additionally, human serology data shows recognition of bat CoV           \\n71   proteins and indicates that low-level zoonotic transmission of SARS-like bat coronaviruses occurs         \\n72   outside of recognized outbreaks [18].', 'MERS-CoV is also a zoonotic virus with possible origins in          \\n73   bats [19,20], although camels are endemically infected and camel contact is frequently reported during    \\n74   primary MERS-CoV cases [21].', 'For SARS-CoV, strict quarantine and the culling of live markets in SE        \\n75   Asia played a major role in ending the outbreak.', 'With the cultural importance of camels, a similar        \\n76   approach for MERS-CoV was not an option and periodic outbreaks continue in the Middle East.', 'These         \\n77   lessons from SARS and MERS highlight the importance of rapidly ﬁnding the source for 2019-nCoV in         \\n78   order to stem the ongoing outbreak.', '79   3.', 'Susceptible Populations                                                                                \\n80   With limited patient data, it is diﬃcult to make robust declarations about populations that               \\n81   may be most susceptible to 2019-nCoV.', 'However, disease severity following SARS- and MERS-CoV              \\n82   corresponded strongly to underlying host conditions including age, biological sex, and overall            \\n83   health [22].', 'Early patient reports from 2019-nCoV ﬁnd similar trends.', 'Severe illness with 2019-nCoV has   \\n84   been associated with elderly patients (>60 years old), including twenty-six lethal cases.', 'These ﬁndings   \\n85   correspond to increased severity and death in people over the age of 50 following both SARS and           \\n86   MERS-CoV infection [23,24].', 'Similarly, the underlying health of the patient likely plays a critical       \\n87   role in overall susceptibility.', 'For the 2019-nCoV, limited comorbidity data is available; however,        \\n88   the twenty-six patients that have succumbed to the novel CoV had signiﬁcant health conditions             \\n89   including hypertension, diabetes, heart and/or kidney function issues that may have made them more        \\n90   susceptible.', 'For the MERS-CoV outbreak, smoking, hypertension, diabetes, cardiovascular disease,          \\n91   and/or other chronic illnesses have been present in the majority of deaths and correspond to ﬁndings in   \\n92   animal models [25].', 'The results indicate vigilance is necessary for these vulnerable patients following   \\n93   2019-nCoV infection.', '94   4.', 'Insights from the 2019-nCoV Sequence                                                                   \\n95   The rapid sequencing of the nearly 30,000 nucleotide 2019-nCoV genome by Dr. Zhang’s group at             \\n96   Fudan University and several other groups in China illustrate the dedication and increased capacity       \\n97   of the scientiﬁc infrastructure in China [4,5].', 'For SARS-CoV, the causative agent was unknown for         \\n98   months and subsequently took over four weeks until a full genome was released [26].', 'Similarly,            \\n99   MERS-CoV was only identiﬁed after several months of testing and a full-length genome available            \\n100  about a month later [27].', 'In contrast, time from the ﬁrst date of patient onset (12 December 2019) to     \\n101  the report of several 2019-nCoV full-length genomes took less than one month.', 'Combined with the           \\n102  immense pressure of an ongoing outbreak with an unknown agent, the eﬀort of these scientists should       \\n103  be considered nothing less than remarkable.', '104  Building from the sequence, the nucleotide alignment quickly distinguished the novel virus as a           \\n105  group 2B CoV, distinct from the SARS-CoV strains [4,5].', 'Examining the whole genome, 2019-nCoV             \\n106  maintains ~80% nucleotide identity to the original SARS epidemic viruses.', 'Its closest whole genome        \\n107  relatives are two bat SARS-like CoVs (ZC45 and ZXC21) that shared ~89% sequence identity with             \\n108  2019-nCoV; these CoV sequences were deposited in early 2018 from Zhejiang province in R. sinicus          \\n109  bats in China.', 'Comparing across the deposited 2019-nCoV strains ﬁnds > 99.5% conservation; the lack       \\n110  of diversity suggests a common lineage and source with emergence not likely having occurred that          \\n111  long ago [28,29].', 'A recent report has subsequently identiﬁed a bat CoV sequence, RaTG3, with 92%          \\n112  sequence identity with the novel virus which argues for bat origins for the 2019-nCoV [30].', '113  We next shifted analysis to the nucleocapsid (N) protein, the most abundant protein produced in           \\n114  CoVs.', 'Generally, the N protein is well conserved across CoV families including group 2B [31].', 'The N       \\n115  protein for 2019-nCoV is no exception with ~90% amino acid identity to the SARS-CoV N protein.', 'While      \\n116  less conserved than other group 2B CoVs like HKU3-CoV and SHC014-CoV, 2019-nCoV antibodies                \\n117  against the N protein would likely recognize and bind the SARS-CoV N protein as well.', 'N antibodies        \\n118  do not provide immunity to 2019-nCoV infection, but the cross reactivity with SARS-CoV N protein          \\n119  would allow a serum based assay to determine exposure to the novel CoV in asymptomatic cases.', 'While       \\n120  previous studies have found serum reactivity to group 2B virus N proteins in Chinese populations [18],    \\n121  exposure to 2019-nCoV should increase the dilution factor substantially if exposure/infection had         \\n122  occurred.', 'Importantly, this information may provide insights about susceptibly and potential routes of    \\n123  spread through asymptomatic carriers.', '124  Examining further, we next compared the spike proteins, the critical glycoprotein responsible             \\n125  for virus binding and entry.', 'Overall, the 2019-nCoV spike protein has roughly 75% amino acid              \\n126  identity with SARS-CoV, which is less conserved than other group 2B CoVs including HKU3-CoV [31].', '127  However, narrowing analysis to the spike receptor binding domain (RBD) of SARS-CoV (amino acids           \\n128  318–518), the 2019-nCoV RBD is 73% conserved relative to the epidemic RBD.', 'This conservation              \\n129  level places the 2019-nCoV RBD between HKU3-4 (62.7% conservation), a bat virus that cannot use           \\n130  human ACE2, and rSHC014 (80.8%), the most divergent bat CoV spike known to use human ACE2 for             \\n131  entry [16,32].', 'Importantly, the key binding residues for SARS-CoV have been identiﬁed [33]; among         \\n132  these fourteen residues predicted to interact directly with human ACE2, the receptor for SARS-CoV,        \\n133  eight amino acids are conserved in 2019-nCoV.', 'Notably, several of these residues are also conserved       \\n134  relative to WIV1- and WIV16-CoV, two bat strains closely related to SARS-CoV and known to use             \\n135  human ACE2 [17,34].', 'Initial structural modeling suggest that the 2019-nCoV may be able to use human       \\n136  ACE2 as a receptor, although its aﬃnity m be reduced relative to the epidemic SARS-CoV strains [35].', '137  A subsequent report demonstrated that the receptor binding domain of 2019-nCoV was capable of             \\n138  binding ACE2 in the context of the SARS-CoV spike protein [36].', 'In addition, another rapid report         \\n139  links demonstrates 2019-nCoV uses ACE2 receptors from human, bat, civets, and swine [30].', 'Together,       \\n140  the modeling, pseudotyping, and infection data provide strong evidence for human ACE2 being the           \\n141  receptor for 2019-nCoV.', '142  5.', 'Achieving Koch Postulates                                                                              \\n143  Traditional identiﬁcation of a microbe as the causative agent of disease requires fulﬁllment of           \\n144  Koch’s postulates, modiﬁed by Rivers for viral diseases [37].', 'At the present time, the 2019-nCoV          \\n145  has been isolated from patients, detected by speciﬁc assays in patients, and cultured in host cells       \\n146  (one available sequence is identiﬁed as a passage isolate), starting to fulﬁll these criteria.', 'Given the  \\n147  recentness of the 2019-nCoV outbreak, at this point there is no animal model available to fulﬁll the      \\n148  remaining criteria: 1) testing the capability of 2019-nCoV to cause respiratory disease in a related      \\n149  species, 2) re-isolating the virus from the experimentally infected animal and 3) detection of a speciﬁc  \\n150  immune response.', 'These eﬀorts will surely be an area of intense research in the coming months both in     \\n151  China and in CoV research laboratories around the world.', '152  Notably, generating small animal models of coronavirus disease can be diﬃcult.', 'While SARS-CoV             \\n153  readily infected laboratory mice, it does not cause signiﬁcant disease unless the virus is passaged to    \\n154  adapt to the mouse host [38].', 'Infection of primates produces a more mild disease than that observed in    \\n155  humans, although fever and pulmonary inﬂammation were noted [39,40].', 'MERS-CoV is incapable                \\n156  of infecting rodent cells without engineering changes in critical residues of the receptor protein,       \\n157  DPP4 [41,42].', 'However, MERS-CoV does infect non-human primates [43].', 'As such, MERS mouse                  \\n158  models of disease required a great deal of time to develop and are limited in the types of manipulations  \\n159  that can be performed [41].', 'At this point, the infectious capability of the 2019-nCoV for diﬀerent species\\n160  and diﬀerent cell types is unknown.', 'Early reports suggest that the virus can utilize human, bat, swine,   \\n161  and civet ACE2 [30]; notably, the group found mouse Ace2 was not permissive for 2019-nCoV infection       \\n162  Dissemination of virus stocks and/or de novo generation of the virus through reverse genetics systems     \\n163  will enable this research allowing for animal testing and subsequent completion of Koch’s postulates      \\n164  for the new virus.', '165  6.', 'Threat for Spread: Human to Human, Health Care Workers, and Super Spreaders                            \\n166  While the Huanan seafood market in Wuhan has been associated with the majority of cases, many             \\n167  of the recent cases do not have a direct connection [9].', 'This fact suggests a secondary source of infectio\\n168  either human to human transmission or possibly infected animals in another market in Wuhan.', 'Both          \\n169  possibilities represent major concerns and indicate the outbreak has the potential to expand rapidly.', '170  For human to human transmission, there was limited data in the initial set of cases; one family cluster   \\n171  is of three men who all work in the market.', 'Similarly, a husband and wife are among the patients, with    \\n172  the wife claiming no contact with the market.', 'In these cases, direct human to human infection may         \\n173  have been possible; alternatively, a contaminated fomite from the market may also be responsible as       \\n174  surfaces all around the market were found to test positive 2019-nCoV.', 'However, the major increase         \\n175  in the number of cases, the lack of direct connection to the Wuhan market for many cases, and the         \\n176  infection of health care works all suggest human to human spread is likely [9,44].', 'Importantly, until the \\n177  source of the virus is found, it will be diﬃcult to distinguish zoonotic versus human to human spread.', '178  In the early part of the outbreak, the absence of infection in health care workers argued for ineﬃcient   \\n179  human to human spread and distinguished 2019-nCoV from both SARS-CoV and MERS-CoV.', 'In                     \\n180  the two prior CoV epidemics, health care settings served as a major transmission point fueling both       \\n181  outbreaks.', 'Based on WHO data, 1 in 10 MERS-CoV cases have been found to be health care workers;           \\n182  these patients generally have reduced disease and death likely due to younger age and absence of          \\n183  existing health conditions.', 'The recent reports of numerous infected health care workers in Wuhan          \\n184  indicate human to human infection can occur with 2019-nCoV and may be the product of a super              \\n185  spreading patient [44].', 'However, while large swaths of healthcare workers are not getting sick as seen    \\n186  with SARS and MERS-CoV, it may be too early to rule out their potential exposure to the novel CoV as      \\n187  their disease may be asymptomatic.', 'While not described during the SARS-CoV outbreak, asymptomatic         \\n188  cases ranged from 12.5% to 25% in some MERS-CoV studies [45].', 'A similar phenomenon may be                 \\n189  occurring with 2019-nCoV and would make stopping the outbreak even more diﬃcult to contain.', '190  Another parameter to consider is the possibility of super spreading in the context of 2019-nCoV.', '191  Super spreading is the ampliﬁed transmission of a virus by individuals in a population and has been       \\n192  suggested by at least one news report [44].', 'Both SARS- and MERS-CoV outbreaks had documented              \\n193  evidence of super spreading patients [46].', 'In general, both epidemic CoVs maintain a low R0, the          \\n194  rate spread from an individual infected patient.', 'However, roughly 10% of SARS- and MERS-CoV               \\n195  > 10.', 'These cases seeded a signiﬁcant                                                                     \\n196  patients have been associated with super spreading and an R0                                              \\n197  portion of the epidemic around the world.', 'Notably, neither mutations in the viruses nor severity of       \\n198  disease were found to be associated with super spreading, implying that host factors contribute to the    \\n199  phenotype [47].', 'For 2019-nCoV, contact tracing to date suggest limited human to human spread and a        \\n200  low R0.', 'However, the recent increase in cases, both in and outside Wuhan could signal the existence of    \\n201  super-spreading individuals fueling the outbreak.', 'Alternatively, super spreading could occur from the     \\n202  zoonotic source which has been seen in other disease outbreaks [10].', 'In any event, the possibility of     \\n203  super spreading may continue to play a role in this ongoing 2019-nCoV outbreak.', '204  7.', 'Emerging Diseases in the Age of Social Media                                                           \\n205  News of the 2019-nCoV came to widespread attention through the internet.', 'Over the years,                  \\n206  websites like FluTrackers.com, ProMED (promedmail.org), and others have permitted the collection of       \\n207  disease information from around the world and facilitated dissemination to interested parties.', 'In 2012,   \\n208  MERS-CoV ﬁrst drew attention as a “novel coronavirus” entioned on ProMED Mail and subsequently            \\n209  through conversation on twitter between science journalists, virologists, and public health experts.', '210  Eight years later, a more connected network quickly dissected statements from the Wuhan Municipal         \\n211  Health Commission and speculated about possible causes.', 'Early during an outbreak, it can be diﬃcult       \\n212  to distinguish between rumors with elements of truth versus baseless fear mongering.', 'This fact can        \\n213  be exacerbated by language barriers and oﬀ the record sources.', 'However, in this case, speculation of      \\n214  a novel coronavirus was fed by carefully worded statements that speciﬁcally excluding some virus          \\n215  families (inﬂuenza, adenovirus), but only excluded SARS-CoV and MERS-CoV for coronaviruses.', '216  Coupled with memories of the SARS outbreak, many worried that the truth may be held back.', 'When            \\n217  the agent was ﬁnally conﬁrmed as a CoV, the world acted with both worry and relief: the outbreak          \\n218  would not be hidden.', '219  While far from perfect, the government response to 2019-nCoV provides a stark contrast to the             \\n220  SARS outbreak at the beginning of the century.', 'The rapid release of 2019-nCoV sequences permitted the     \\n221  research community to quickly become engaged, providing analysis and developing diagnostic tests.', '222  Both the Chinese CDC and the Wuhan Municipal Health Commission have posted regular updates                \\n223  of conﬁrmed case numbers and patient statuses enabling public health authorities to monitor the           \\n224  situation in real time.', 'Researchers from around the world have connected on social media to compare       \\n225  updated sequence information and highlight key unknowns about the outbreak.', 'While not always              \\n226  provided in a timely manner, the ability to share news updates and data in real time with researchers     \\n227  and public health oﬃcials around the world signals a major change in the response to outbreaks.', 'This      \\n228  connectivity has facilitated awareness as well as new collaborations and a rapid response by the global   \\n229  research community.', 'While there are many unknowns with 2019-nCoV, the world is engaged and                \\n230  prepared to battle the newest emergent virus strain.', 'Perhaps this means the lessons from the SARS         \\n231  outbreak have truly been learned.', '232  Author Contributions: L.E.G.', 'and V.D.M.', 'prepared this manuscript.', 'All authors have read and agreed to the \\n233  published version of the manuscript.', '234  Funding: This research received no external funding.', '235  Conﬂicts of Interest: The authors declare no conﬂict of interest.', '236  © 2020 by the authors.', 'Licensee MDPI, Basel, Switzerland.', 'This article is an open access                  \\n237  article distributed under the terms and conditions of the Creative Commons Attribution                    \\n238  (CC BY) license (http://creativecommons.org/licenses/by/4.0/).']\n",
      "[[('Return', 'NOUN'), ('of', 'ADP'), ('the', 'DET'), ('Coronavirus', 'NOUN'), (':', '.'), ('2019-nCoV', 'ADJ'), ('0', 'NUM'), ('Lisa', 'NOUN'), ('E.', 'NOUN'), ('Gralinski', 'NOUN'), ('and', 'CONJ'), ('Vineet', 'NOUN'), ('D.', 'NOUN'), ('Menachery', 'NOUN'), ('1', 'NUM'), ('Abstract', 'NOUN'), (':', '.'), ('The', 'DET'), ('emergence', 'NOUN'), ('of', 'ADP'), ('a', 'DET'), ('novel', 'ADJ'), ('coronavirus', 'NOUN'), ('(', '.'), ('2019-nCoV', 'ADJ'), (')', '.'), ('has', 'VERB'), ('awakened', 'VERB'), ('the', 'DET'), ('echoes', 'NOUN'), ('of', 'ADP'), ('SARS-CoV', 'ADJ'), ('2', 'NUM'), ('from', 'ADP'), ('nearly', 'ADV'), ('two', 'NUM'), ('decades', 'NOUN'), ('ago', 'ADV'), ('.', '.')], [('Yet', 'ADV'), (',', '.'), ('with', 'ADP'), ('technological', 'ADJ'), ('advances', 'NOUN'), ('and', 'CONJ'), ('important', 'ADJ'), ('lessons', 'NOUN'), ('gained', 'VERB'), ('from', 'ADP'), ('3', 'NUM'), ('previous', 'ADJ'), ('outbreaks', 'NOUN'), (',', '.'), ('perhaps', 'ADV'), ('the', 'DET'), ('world', 'NOUN'), ('is', 'VERB'), ('better', 'ADV'), ('equipped', 'VERB'), ('to', 'PRT'), ('deal', 'VERB'), ('with', 'ADP'), ('the', 'DET'), ('most', 'ADV'), ('recent', 'ADJ'), ('emergent', 'NOUN'), ('4', 'NUM'), ('group', 'NOUN'), ('2B', 'NUM'), ('coronavirus', 'NOUN'), ('.', '.')], [('5', 'NUM'), ('Keywords', 'NOUN'), (':', '.'), ('2019-nCoV', 'ADJ'), (';', '.'), ('novel', 'ADJ'), ('CoV', 'NOUN'), (';', '.'), ('Wuhan', 'NOUN'), (';', '.'), ('Wuhan', 'NOUN'), ('pneumonia', 'NOUN'), (';', '.'), ('coronavirus', 'NOUN'), (';', '.'), ('emerging', 'VERB'), ('viruses', 'NOUN'), (';', '.'), ('6', 'NUM'), ('SARS-CoV', 'ADJ'), (';', '.'), ('MERS-CoV', 'ADJ'), ('7', 'NUM'), ('1', 'NUM'), ('.', '.')], [('Emergence', 'NOUN'), ('8', 'NUM'), ('The', 'DET'), ('third', 'ADJ'), ('zoonotic', 'ADJ'), ('human', 'ADJ'), ('coronavirus', 'NOUN'), ('(', '.'), ('CoV', 'NOUN'), (')', '.'), ('of', 'ADP'), ('the', 'DET'), ('century', 'NOUN'), ('emerged', 'VERB'), ('in', 'ADP'), ('December', 'NOUN'), ('2019', 'NUM'), (',', '.'), ('with', 'ADP'), ('9', 'NUM'), ('a', 'DET'), ('cluster', 'NOUN'), ('of', 'ADP'), ('patients', 'NOUN'), ('with', 'ADP'), ('connections', 'NOUN'), ('to', 'PRT'), ('Huanan', 'NOUN'), ('South', 'NOUN'), ('China', 'NOUN'), ('Seafood', 'NOUN'), ('Market', 'NOUN'), ('in', 'ADP'), ('Wuhan', 'NOUN'), (',', '.'), ('Hubei', 'NOUN'), ('10', 'NUM'), ('Province', 'NOUN'), (',', '.'), ('China', 'NOUN'), ('.', '.')], [('Similar', 'ADJ'), ('to', 'PRT'), ('severe', 'VERB'), ('acute', 'ADJ'), ('respiratory', 'ADJ'), ('syndrome', 'NOUN'), ('coronavirus', 'NOUN'), ('(', '.'), ('SARS-CoV', 'NOUN'), (')', '.'), ('and', 'CONJ'), ('Middle', 'NOUN'), ('11', 'NUM'), ('East', 'NOUN'), ('respiratory', 'ADJ'), ('syndrome', 'NOUN'), ('coronavirus', 'NOUN'), ('(', '.'), ('MERS-CoV', 'NOUN'), (')', '.'), ('infections', 'NOUN'), (',', '.'), ('patients', 'NOUN'), ('exhibited', 'VERB'), ('symptoms', 'NOUN'), ('of', 'ADP'), ('viral', 'ADJ'), ('12', 'NUM'), ('pneumonia', 'NOUN'), ('including', 'VERB'), ('fever', 'NOUN'), (',', '.'), ('diﬃculty', 'NOUN'), ('breathing', 'NOUN'), (',', '.'), ('and', 'CONJ'), ('bilateral', 'ADJ'), ('lung', 'NOUN'), ('inﬁltration', 'NOUN'), ('in', 'ADP'), ('the', 'DET'), ('most', 'ADV'), ('severe', 'ADJ'), ('13', 'NUM'), ('cases', 'NOUN'), ('[', 'VERB'), ('1', 'NUM'), (']', 'NOUN'), ('.', '.')], [('News', 'NOUN'), ('reports', 'NOUN'), ('of', 'ADP'), ('patients', 'NOUN'), ('with', 'ADP'), ('an', 'DET'), ('unknown', 'ADJ'), ('pneumonia', 'NOUN'), ('were', 'VERB'), ('ﬁrst', 'ADJ'), ('identiﬁed', 'NOUN'), ('on', 'ADP'), ('31st', 'NUM'), ('December', 'NOUN'), ('14', 'NUM'), ('with', 'ADP'), ('the', 'DET'), ('Wuhan', 'NOUN'), ('Municipal', 'NOUN'), ('Health', 'NOUN'), ('Commission', 'NOUN'), ('saying', 'VERB'), ('they', 'PRON'), ('were', 'VERB'), ('monitoring', 'VERB'), ('the', 'DET'), ('situation', 'NOUN'), ('closely', 'ADV'), ('15', 'NUM'), ('(', '.'), ('Figure', 'NOUN'), ('1', 'NUM'), (')', '.'), ('.', '.')], [('On', 'ADP'), ('1st', 'NUM'), ('January', 'NOUN'), ('2020', 'NUM'), (',', '.'), ('the', 'DET'), ('seafood', 'NOUN'), ('market', 'NOUN'), ('was', 'VERB'), ('closed', 'VERB'), ('and', 'CONJ'), ('decontaminated', 'VERB'), ('while', 'ADP'), ('countries', 'NOUN'), ('16', 'NUM'), ('with', 'ADP'), ('travel', 'ADJ'), ('links', 'NOUN'), ('to', 'PRT'), ('Wuhan', 'NOUN'), ('went', 'VERB'), ('on', 'ADP'), ('high', 'ADJ'), ('alert', 'NOUN'), ('for', 'ADP'), ('potential', 'ADJ'), ('travelers', 'NOUN'), ('with', 'ADP'), ('unexplained', 'ADJ'), ('respiratory', 'NOUN'), ('17', 'NUM'), ('disease', 'NOUN'), ('.', '.')], [('After', 'ADP'), ('extensive', 'ADJ'), ('speculation', 'NOUN'), ('about', 'ADP'), ('a', 'DET'), ('causative', 'ADJ'), ('agent', 'NOUN'), (',', '.'), ('the', 'DET'), ('Chinese', 'NOUN'), ('Center', 'NOUN'), ('for', 'ADP'), ('Disease', 'NOUN'), ('Control', 'NOUN'), ('18', 'NUM'), ('and', 'CONJ'), ('Prevention', 'NOUN'), ('(', '.'), ('CDC', 'NOUN'), (')', '.'), ('conﬁrmed', 'VERB'), ('a', 'DET'), ('report', 'NOUN'), ('by', 'ADP'), ('the', 'DET'), ('Wall', 'NOUN'), ('Street', 'NOUN'), ('Journal', 'NOUN'), ('and', 'CONJ'), ('announced', 'VERB'), ('identiﬁcation', 'NOUN'), ('19', 'NUM'), ('of', 'ADP'), ('a', 'DET'), ('novel', 'ADJ'), ('CoV', 'NOUN'), ('on', 'ADP'), ('9th', 'NUM'), ('January', 'NOUN'), ('[', 'VERB'), ('2', 'NUM'), (']', 'NOUN'), ('.', '.')], [('The', 'DET'), ('novel', 'ADJ'), ('CoV', 'NOUN'), ('(', '.'), ('2019-nCoV', 'ADJ'), (')', '.'), ('was', 'VERB'), ('isolated', 'VERB'), ('from', 'ADP'), ('a', 'DET'), ('single', 'ADJ'), ('patient', 'NOUN'), ('20', 'NUM'), ('and', 'CONJ'), ('subsequently', 'ADV'), ('veriﬁed', 'NOUN'), ('in', 'ADP'), ('16', 'NUM'), ('additional', 'ADJ'), ('patients', 'NOUN'), ('[', 'VERB'), ('3', 'NUM'), (']', 'NOUN'), ('.', '.')], [('While', 'ADP'), ('not', 'ADV'), ('yet', 'ADV'), ('conﬁrmed', 'VERB'), ('to', 'PRT'), ('induce', 'VERB'), ('the', 'DET'), ('viral', 'ADJ'), ('21', 'NUM'), ('pneumonia', 'NOUN'), (',', '.'), ('2019-nCoV', 'ADJ'), ('was', 'VERB'), ('quickly', 'ADV'), ('predicted', 'VERB'), ('as', 'ADP'), ('the', 'DET'), ('likely', 'ADJ'), ('causative', 'ADJ'), ('agent', 'NOUN'), ('.', '.')], [('22', 'NUM'), ('The', 'DET'), ('ﬁrst', 'ADJ'), ('sequence', 'NOUN'), ('of', 'ADP'), ('2019-nCoV', 'ADJ'), ('was', 'VERB'), ('posted', 'VERB'), ('online', 'ADJ'), ('one', 'NUM'), ('day', 'NOUN'), ('after', 'ADP'), ('its', 'PRON'), ('conﬁrmation', 'NOUN'), ('on', 'ADP'), ('behalf', 'NOUN'), ('of', 'ADP'), ('23', 'NUM'), ('Dr.', 'NOUN'), ('Yong-Zhen', 'NOUN'), ('Zhang', 'NOUN'), ('and', 'CONJ'), ('scientists', 'NOUN'), ('at', 'ADP'), ('Fudan', 'NOUN'), ('University', 'NOUN'), (',', '.'), ('Shanghai', 'NOUN'), ('[', 'VERB'), ('4', 'NUM'), (']', 'NOUN'), ('.', '.')], [('Subsequently', 'ADV'), (',', '.'), ('ﬁve', 'NOUN'), ('additional', 'ADJ'), ('24', 'NUM'), ('2019-nCoV', 'ADJ'), ('sequences', 'NOUN'), ('were', 'VERB'), ('deposited', 'VERB'), ('on', 'ADP'), ('the', 'DET'), ('GSAID', 'NOUN'), ('database', 'NOUN'), ('on', 'ADP'), ('11th', 'NUM'), ('January', 'NOUN'), ('from', 'ADP'), ('institutes', 'NOUN'), ('across', 'ADP'), ('25', 'NUM'), ('China', 'NOUN'), ('(', '.'), ('Chinese', 'ADJ'), ('CDC', 'NOUN'), (',', '.'), ('Wuhan', 'NOUN'), ('Institute', 'NOUN'), ('of', 'ADP'), ('Virology', 'NOUN'), ('and', 'CONJ'), ('Chinese', 'NOUN'), ('Academy', 'NOUN'), ('of', 'ADP'), ('Medical', 'NOUN'), ('Sciences', 'NOUN'), ('&', 'CONJ'), ('26', 'NUM'), ('Peking', 'NOUN'), ('Union', 'NOUN'), ('Medical', 'NOUN'), ('College', 'NOUN'), (')', '.'), ('and', 'CONJ'), ('allowed', 'VERB'), ('researchers', 'NOUN'), ('around', 'ADP'), ('the', 'DET'), ('world', 'NOUN'), ('to', 'PRT'), ('begin', 'VERB'), ('analyzing', 'VERB'), ('the', 'DET'), ('new', 'ADJ'), ('27', 'NUM'), ('CoV', 'NOUN'), ('[', 'VERB'), ('5', 'NUM'), (']', 'NOUN'), ('.', '.')], [('By', 'ADP'), ('17th', 'NUM'), ('January', 'NOUN'), (',', '.'), ('there', 'DET'), ('were', 'VERB'), ('62', 'NUM'), ('conﬁrmed', 'ADJ'), ('cases', 'NOUN'), ('in', 'ADP'), ('China', 'NOUN'), ('and', 'CONJ'), ('importantly', 'ADV'), (',', '.'), ('three', 'NUM'), ('exported', 'VERB'), ('28', 'NUM'), ('cases', 'NOUN'), ('of', 'ADP'), ('infected', 'ADJ'), ('travelers', 'NOUN'), ('who', 'PRON'), ('were', 'VERB'), ('diagnosed', 'VERB'), ('in', 'ADP'), ('Thailand', 'NOUN'), ('(', '.'), ('2', 'NUM'), (')', '.'), ('and', 'CONJ'), ('Japan', 'NOUN'), ('(', '.'), ('1', 'NUM'), (')', '.'), ('[', 'VERB'), ('6', 'NUM'), (']', 'NOUN'), ('.', '.')], [('The', 'DET'), ('sequences', 'NOUN'), ('of', 'ADP'), ('29', 'NUM'), ('these', 'DET'), ('exported', 'VERB'), ('cases', 'NOUN'), ('and', 'CONJ'), ('several', 'ADJ'), ('additional', 'ADJ'), ('2019-nCoV', 'ADJ'), ('isolated', 'VERB'), ('in', 'ADP'), ('China', 'NOUN'), ('have', 'VERB'), ('also', 'ADV'), ('been', 'VERB'), ('deposited', 'VERB'), ('30', 'NUM'), ('on', 'ADP'), ('the', 'DET'), ('GSAID', 'NOUN'), ('database', 'NOUN'), ('[', 'VERB'), ('5', 'NUM'), (']', 'NOUN'), ('.', '.')], [('Diagnostic', 'ADJ'), ('tests', 'NOUN'), ('have', 'VERB'), ('subsequently', 'ADV'), ('been', 'VERB'), ('developed', 'VERB'), ('and', 'CONJ'), ('some', 'DET'), ('are', 'VERB'), ('being', 'VERB'), ('31', 'NUM'), ('used', 'VERB'), ('on', 'ADP'), ('suspect', 'ADJ'), ('cases', 'NOUN'), ('identiﬁed', 'VERB'), ('in', 'ADP'), ('other', 'ADJ'), ('locations', 'NOUN'), ('including', 'VERB'), ('Vietnam', 'NOUN'), (',', '.'), ('Singapore', 'NOUN'), (',', '.'), ('and', 'CONJ'), ('Hong', 'NOUN'), ('Kong', 'NOUN'), ('[', 'VERB'), ('7', 'NUM'), (']', 'NOUN'), ('.', '.')], [('32', 'NUM'), ('To', 'PRT'), ('date', 'NOUN'), ('there', 'ADV'), ('have', 'VERB'), ('been', 'VERB'), ('twenty-six', 'ADJ'), ('fatalities', 'NOUN'), ('associated', 'VERB'), ('with', 'ADP'), ('2019-nCoV', 'ADJ'), ('infection', 'NOUN'), (',', '.'), ('many', 'ADJ'), ('of', 'ADP'), ('these', 'DET'), ('cases', 'NOUN'), ('33', 'NUM'), ('had', 'VERB'), ('signiﬁcant', 'VERB'), ('co-morbidities', 'NOUN'), ('and', 'CONJ'), ('were', 'VERB'), ('older', 'ADJ'), ('in', 'ADP'), ('age', 'NOUN'), ('(', '.'), ('>', 'ADJ'), ('50', 'NUM'), (')', '.'), ('.', '.')], [('A', 'DET'), ('range', 'NOUN'), ('of', 'ADP'), ('disease', 'NOUN'), ('has', 'VERB'), ('been', 'VERB'), ('observed', 'VERB'), ('34', 'NUM'), ('highlighted', 'VERB'), ('by', 'ADP'), ('fever', 'NOUN'), (',', '.'), ('dry', 'ADJ'), ('cough', 'NOUN'), (',', '.'), ('shortness', 'NOUN'), ('of', 'ADP'), ('breath', 'NOUN'), (',', '.'), ('and', 'CONJ'), ('leukopenia', 'NOUN'), (';', '.'), ('patients', 'NOUN'), ('have', 'VERB'), ('included', 'VERB'), ('mild', 'ADJ'), ('cases', 'NOUN'), ('35', 'NUM'), ('needing', 'VERB'), ('supportive', 'ADJ'), ('care', 'NOUN'), ('to', 'PRT'), ('severe', 'VERB'), ('cases', 'NOUN'), ('requiring', 'VERB'), ('extracorporeal', 'ADJ'), ('membrane', 'NOUN'), ('oxygenation', 'NOUN'), (';', '.'), ('however', 'ADV'), (',', '.'), ('36', 'NUM'), ('compared', 'VERB'), ('to', 'PRT'), ('SARS-CoV', 'NOUN'), ('(', '.'), ('10', 'NUM'), ('%', 'NOUN'), ('mortality', 'NOUN'), (')', '.'), ('and', 'CONJ'), ('MERS-CoV', 'NOUN'), ('(', '.'), ('35', 'NUM'), ('%', 'NOUN'), ('mortality', 'NOUN'), (')', '.'), (',', '.'), ('the', 'DET'), ('2019-nCoV', 'ADJ'), ('appears', 'VERB'), ('to', 'PRT'), ('be', 'VERB'), ('37', 'NUM'), ('less', 'ADJ'), ('virulent', 'NOUN'), ('at', 'ADP'), ('this', 'DET'), ('point', 'NOUN'), ('with', 'ADP'), ('the', 'DET'), ('exception', 'NOUN'), ('of', 'ADP'), ('the', 'DET'), ('elderly', 'ADJ'), ('and', 'CONJ'), ('those', 'DET'), ('with', 'ADP'), ('underlying', 'ADJ'), ('health', 'NOUN'), ('conditions', 'NOUN'), ('.', '.')], [('38', 'NUM'), ('Initial', 'ADJ'), ('monitoring', 'NOUN'), ('of', 'ADP'), ('case', 'NOUN'), ('close', 'ADJ'), ('contacts', 'NOUN'), ('had', 'VERB'), ('not', 'ADV'), ('revealed', 'VERB'), ('any', 'DET'), ('further', 'ADJ'), ('2019-nCoV', 'ADJ'), ('cases', 'NOUN'), ('.', '.')], [('However', 'ADV'), (',', '.'), ('39', 'NUM'), ('modeling', 'VERB'), ('analysis', 'NOUN'), ('based', 'VERB'), ('on', 'ADP'), ('oﬃcial', 'ADJ'), ('case', 'NOUN'), ('numbers', 'NOUN'), ('and', 'CONJ'), ('international', 'ADJ'), ('spread', 'NOUN'), ('suggested', 'VERB'), ('that', 'ADP'), ('there', 'DET'), ('may', 'VERB'), ('40', 'NUM'), ('be', 'VERB'), ('cases', 'NOUN'), ('going', 'VERB'), ('undetected', 'ADJ'), ('[', '.'), ('8', 'NUM'), (']', 'NOUN'), ('.', '.')], [('On', 'ADP'), ('19th', 'NUM'), ('January', 'NOUN'), (',', '.'), ('these', 'DET'), ('fears', 'NOUN'), ('were', 'VERB'), ('seemingly', 'ADV'), ('conﬁrmed', 'VERB'), ('as', 'ADP'), ('an', 'DET'), ('additional', 'ADJ'), ('41', 'NUM'), ('136', 'NUM'), ('cases', 'NOUN'), ('were', 'VERB'), ('added', 'VERB'), ('from', 'ADP'), ('further', 'ADJ'), ('surveys', 'NOUN'), ('raising', 'VERB'), ('the', 'DET'), ('total', 'NOUN'), ('in', 'ADP'), ('Wuhan', 'NOUN'), ('to', 'PRT'), ('198', 'NUM'), ('infected', 'ADJ'), ('patients', 'NOUN'), ('[', 'VERB'), ('9', 'NUM'), (']', 'NOUN'), ('.', '.')], [('42', 'NUM'), ('Among', 'ADP'), ('the', 'DET'), ('198', 'NUM'), ('total', 'ADJ'), ('cases', 'NOUN'), ('in', 'ADP'), ('Wuhan', 'NOUN'), (',', '.'), ('170', 'NUM'), ('remained', 'VERB'), ('in', 'ADP'), ('hospitals', 'NOUN'), (',', '.'), ('126', 'NUM'), ('mostly', 'ADV'), ('with', 'ADP'), ('mild', 'NOUN'), ('symptoms', 'NOUN'), (',', '.'), ('43', 'NUM'), ('35', 'NUM'), ('in', 'ADP'), ('serious', 'ADJ'), ('condition', 'NOUN'), (',', '.'), ('and', 'CONJ'), ('9', 'NUM'), ('in', 'ADP'), ('critical', 'ADJ'), ('condition', 'NOUN'), ('.', '.')], [('The', 'DET'), ('expanded', 'ADJ'), ('numbers', 'NOUN'), ('and', 'CONJ'), ('extended', 'ADJ'), ('range', 'NOUN'), ('of', 'ADP'), ('44', 'NUM'), ('onset', 'NOUN'), ('dates', 'NOUN'), ('(', '.'), ('12', 'NUM'), ('December', 'NOUN'), ('2019–18', 'NUM'), ('January', 'NOUN'), ('2020', 'NUM'), (')', '.'), ('suggested', 'VERB'), ('likely', 'ADJ'), ('human', 'ADJ'), ('to', 'PRT'), ('human', 'ADJ'), ('transmission', 'NOUN'), ('or', 'CONJ'), ('45', 'NUM'), ('ongoing', 'ADJ'), ('transmission', 'NOUN'), ('from', 'ADP'), ('a', 'DET'), ('market', 'NOUN'), ('or', 'CONJ'), ('other', 'ADJ'), ('primary', 'ADJ'), ('sources', 'NOUN'), ('.', '.')], [('On', 'ADP'), ('20th', 'NUM'), ('January', 'NOUN'), (',', '.'), ('the', 'DET'), ('outbreak', 'NOUN'), ('was', 'VERB'), ('46', 'NUM'), ('further', 'ADV'), ('expanded', 'VERB'), ('to', 'PRT'), ('other', 'ADJ'), ('parts', 'NOUN'), ('of', 'ADP'), ('China', 'NOUN'), ('(', '.'), ('Beijing', 'NOUN'), (',', '.'), ('Shanghai', 'NOUN'), (',', '.'), ('&', 'CONJ'), ('Shenzhen', 'NOUN'), (')', '.'), ('as', 'ADV'), ('well', 'ADV'), ('as', 'ADP'), ('another', 'DET'), ('exported', 'VERB'), ('47', 'NUM'), ('cases', 'NOUN'), ('to', 'PRT'), ('South', 'NOUN'), ('Korea', 'NOUN'), ('.', '.')], [('As', 'ADP'), ('of', 'ADP'), ('January', 'NOUN'), ('24', 'NUM'), (',', '.'), ('the', 'DET'), ('total', 'ADJ'), ('case', 'NOUN'), ('number', 'NOUN'), ('has', 'VERB'), ('expanded', 'VERB'), ('to', 'PRT'), ('at', 'ADP'), ('least', 'ADJ'), ('870', 'NUM'), ('total', 'ADJ'), ('cases', 'NOUN'), ('48', 'NUM'), ('with', 'ADP'), ('26', 'NUM'), ('deaths', 'NOUN'), ('across', 'ADP'), ('25', 'NUM'), ('provinces', 'NOUN'), ('in', 'ADP'), ('China', 'NOUN'), ('and', 'CONJ'), ('19', 'NUM'), ('exported', 'ADJ'), ('cases', 'NOUN'), ('in', 'ADP'), ('10', 'NUM'), ('countries', 'NOUN'), ('[', 'VERB'), ('10', 'NUM'), (']', 'NOUN'), ('.', '.')], [('Public', 'NOUN'), ('health', 'NOUN'), ('49', 'NUM'), ('authorities', 'NOUN'), ('have', 'VERB'), ('quarantined', 'VERB'), ('travel', 'NOUN'), ('from', 'ADP'), ('Wuhan', 'NOUN'), ('to', 'PRT'), ('limit', 'VERB'), ('the', 'DET'), ('spread', 'NOUN'), ('of', 'ADP'), ('the', 'DET'), ('virus', 'NOUN'), ('and', 'CONJ'), ('reports', 'NOUN'), ('indicate', 'VERB'), ('50', 'NUM'), ('other', 'ADJ'), ('Chinese', 'ADJ'), ('cities', 'NOUN'), ('have', 'VERB'), ('also', 'ADV'), ('been', 'VERB'), ('isolated', 'VERB'), ('[', 'ADJ'), ('11', 'NUM'), (']', 'NOUN'), ('.', '.')], [('With', 'ADP'), ('the', 'DET'), ('heavy', 'ADJ'), ('travel', 'NOUN'), ('season', 'NOUN'), ('for', 'ADP'), ('lunar', 'NOUN'), ('New', 'NOUN'), ('Year', 'NOUN'), ('51', 'NUM'), ('underway', 'NOUN'), ('in', 'ADP'), ('Asia', 'NOUN'), (',', '.'), ('major', 'ADJ'), ('concerns', 'NOUN'), ('exist', 'VERB'), ('for', 'ADP'), ('the', 'DET'), ('2019-nCoV', 'ADJ'), ('outbreak', 'NOUN'), ('to', 'PRT'), ('continue', 'VERB'), ('and', 'CONJ'), ('spread', 'VERB'), ('.', '.')], [('52', 'NUM'), ('2', 'NUM'), ('.', '.')], [('Origins', 'NOUN'), ('of', 'ADP'), ('2019-nCoV', 'ADJ'), ('53', 'NUM'), ('The', 'DET'), ('source', 'NOUN'), ('of', 'ADP'), ('the', 'DET'), ('2019-nCoV', 'ADJ'), ('is', 'VERB'), ('still', 'ADV'), ('unknown', 'ADJ'), (',', '.'), ('although', 'ADP'), ('the', 'DET'), ('initial', 'ADJ'), ('cases', 'NOUN'), ('have', 'VERB'), ('been', 'VERB'), ('associated', 'VERB'), ('with', 'ADP'), ('54', 'NUM'), ('the', 'DET'), ('Huanan', 'NOUN'), ('South', 'NOUN'), ('China', 'NOUN'), ('Seafood', 'NOUN'), ('Market', 'NOUN'), ('.', '.')], [('While', 'ADP'), ('many', 'ADJ'), ('of', 'ADP'), ('the', 'DET'), ('early', 'ADJ'), ('patients', 'NOUN'), ('worked', 'VERB'), ('in', 'ADP'), ('or', 'CONJ'), ('visited', 'VERB'), ('the', 'DET'), ('55', 'NUM'), ('market', 'NOUN'), (',', '.'), ('none', 'NOUN'), ('of', 'ADP'), ('the', 'DET'), ('exported', 'ADJ'), ('cases', 'NOUN'), ('had', 'VERB'), ('contact', 'NOUN'), ('with', 'ADP'), ('the', 'DET'), ('market', 'NOUN'), (',', '.'), ('suggesting', 'VERB'), ('either', 'CONJ'), ('human', 'ADJ'), ('to', 'PRT'), ('human', 'ADJ'), ('56', 'NUM'), ('transmission', 'NOUN'), ('or', 'CONJ'), ('a', 'DET'), ('more', 'ADV'), ('widespread', 'ADJ'), ('animal', 'NOUN'), ('source', 'NOUN'), ('[', 'VERB'), ('6', 'NUM'), (']', 'NOUN'), ('.', '.')], [('In', 'ADP'), ('addition', 'NOUN'), ('to', 'PRT'), ('seafood', 'NOUN'), (',', '.'), ('it', 'PRON'), ('is', 'VERB'), ('reported', 'VERB'), ('on', 'ADP'), ('social', 'ADJ'), ('57', 'NUM'), ('media', 'NOUN'), ('that', 'DET'), ('snakes', 'NOUN'), (',', '.'), ('birds', 'NOUN'), ('and', 'CONJ'), ('other', 'ADJ'), ('small', 'ADJ'), ('mammals', 'NOUN'), ('including', 'VERB'), ('marmots', 'NOUN'), ('and', 'CONJ'), ('bats', 'NOUN'), ('were', 'VERB'), ('sold', 'VERB'), ('at', 'ADP'), ('the', 'DET'), ('58', 'NUM'), ('Huanan', 'NOUN'), ('South', 'NOUN'), ('China', 'NOUN'), ('Seafood', 'NOUN'), ('Market', 'NOUN'), ('.', '.')], [('The', 'DET'), ('WHO', 'NOUN'), ('reported', 'VERB'), ('that', 'ADP'), ('environmental', 'ADJ'), ('samples', 'NOUN'), ('taken', 'VERB'), ('from', 'ADP'), ('the', 'DET'), ('59', 'NUM'), ('marketplace', 'NOUN'), ('have', 'VERB'), ('come', 'VERB'), ('back', 'PRT'), ('positive', 'ADJ'), ('for', 'ADP'), ('the', 'DET'), ('novel', 'ADJ'), ('coronavirus', 'NOUN'), (',', '.'), ('but', 'CONJ'), ('no', 'DET'), ('speciﬁc', 'NOUN'), ('animal', 'NOUN'), ('association', 'NOUN'), ('60', 'NUM'), ('has', 'VERB'), ('been', 'VERB'), ('identiﬁed', 'ADJ'), ('[', '.'), ('6', 'NUM'), (']', 'NOUN'), ('.', '.')], [('An', 'DET'), ('initial', 'ADJ'), ('report', 'NOUN'), ('suggested', 'VERB'), ('that', 'ADP'), ('snakes', 'NOUN'), ('might', 'VERB'), ('be', 'VERB'), ('the', 'DET'), ('possible', 'ADJ'), ('source', 'NOUN'), ('based', 'VERB'), ('61', 'NUM'), ('on', 'ADP'), ('codon', 'NOUN'), ('usage', 'NOUN'), ('[', 'VERB'), ('12', 'NUM'), (']', 'NOUN'), (',', '.'), ('but', 'CONJ'), ('the', 'DET'), ('assertion', 'NOUN'), ('has', 'VERB'), ('been', 'VERB'), ('disputed', 'VERB'), ('by', 'ADP'), ('others', 'NOUN'), ('[', 'VERB'), ('13', 'NUM'), (']', 'NOUN'), ('.', '.')], [('Researchers', 'NOUN'), ('are', 'VERB'), ('currently', 'ADV'), ('62', 'NUM'), ('working', 'VERB'), ('to', 'PRT'), ('identify', 'VERB'), ('the', 'DET'), ('source', 'NOUN'), ('of', 'ADP'), ('2019-nCoV', 'ADJ'), ('including', 'VERB'), ('possible', 'ADJ'), ('intermediate', 'ADJ'), ('animal', 'NOUN'), ('vectors', 'NOUN'), ('.', '.')], [('63', 'NUM'), ('A', 'NOUN'), ('zoonotic', 'ADJ'), ('reservoir', 'NOUN'), ('harkens', 'VERB'), ('back', 'ADV'), ('to', 'PRT'), ('the', 'DET'), ('emergence', 'NOUN'), ('of', 'ADP'), ('both', 'DET'), ('SARS-', 'NOUN'), ('and', 'CONJ'), ('MERS-CoV', 'NOUN'), ('.', '.')], [('SARS-CoV', 'NOUN'), (',', '.'), ('64', 'NUM'), ('the', 'DET'), ('ﬁrst', 'NOUN'), ('highly', 'ADV'), ('pathogenic', 'ADJ'), ('human', 'ADJ'), ('CoV', 'NOUN'), (',', '.'), ('emerged', 'VERB'), ('in', 'ADP'), ('2002', 'NUM'), ('with', 'ADP'), ('transmission', 'NOUN'), ('from', 'ADP'), ('animals', 'NOUN'), ('to', 'PRT'), ('humans', 'NOUN'), ('65', 'NUM'), ('occurring', 'VERB'), ('in', 'ADP'), ('wet', 'NOUN'), ('markets', 'NOUN'), ('.', '.')], [('Surveillance', 'NOUN'), ('eﬀorts', 'NOUN'), ('found', 'VERB'), ('SARS-CoV', 'NOUN'), ('viral', 'ADJ'), ('RNA', 'NOUN'), ('in', 'ADP'), ('both', 'DET'), ('palm', 'ADJ'), ('civets', 'NOUN'), ('and', 'CONJ'), ('66', 'NUM'), ('raccoon', 'NOUN'), ('dogs', 'NOUN'), ('sold', 'VERB'), ('in', 'ADP'), ('these', 'DET'), ('wet', 'ADJ'), ('markets', 'NOUN'), ('[', 'VERB'), ('14', 'NUM'), (']', 'NOUN'), (';', '.'), ('however', 'ADV'), (',', '.'), ('SARS-CoV', 'NOUN'), ('was', 'VERB'), ('not', 'ADV'), ('found', 'VERB'), ('in', 'ADP'), ('the', 'DET'), ('wild', 'NOUN'), (',', '.'), ('suggesting', 'VERB'), ('67', 'NUM'), ('that', 'ADP'), ('those', 'DET'), ('species', 'NOUN'), ('served', 'VERB'), ('as', 'ADP'), ('intermediary', 'ADJ'), ('reservoir', 'NOUN'), ('as', 'ADP'), ('the', 'DET'), ('virus', 'NOUN'), ('adapted', 'VERB'), ('to', 'PRT'), ('more', 'ADV'), ('eﬃciently', 'ADV'), ('infect', 'ADJ'), ('68', 'NUM'), ('humans', 'NOUN'), ('.', '.')], [('Further', 'ADJ'), ('surveillance', 'NOUN'), ('eﬀorts', 'NOUN'), ('identiﬁed', 'VERB'), ('highly', 'ADV'), ('related', 'ADJ'), ('CoVs', 'NOUN'), ('in', 'ADP'), ('bat', 'NOUN'), ('species', 'NOUN'), ('[', 'VERB'), ('15', 'NUM'), (']', 'NOUN'), ('.', '.')], [('More', 'ADV'), ('recent', 'ADJ'), ('69', 'NUM'), ('work', 'NOUN'), ('has', 'VERB'), ('demonstrated', 'VERB'), ('that', 'ADP'), ('several', 'ADJ'), ('bat', 'NOUN'), ('CoVs', 'NOUN'), ('are', 'VERB'), ('capable', 'ADJ'), ('of', 'ADP'), ('infecting', 'VERB'), ('human', 'ADJ'), ('cells', 'NOUN'), ('without', 'ADP'), ('a', 'DET'), ('need', 'NOUN'), ('for', 'ADP'), ('70', 'NUM'), ('intermediate', 'ADJ'), ('adaptation', 'NOUN'), ('[', 'VERB'), ('16,17', 'NUM'), (']', 'NOUN'), ('.', '.')], [('Additionally', 'ADV'), (',', '.'), ('human', 'ADJ'), ('serology', 'NOUN'), ('data', 'NOUN'), ('shows', 'VERB'), ('recognition', 'NOUN'), ('of', 'ADP'), ('bat', 'NOUN'), ('CoV', 'NOUN'), ('71', 'NUM'), ('proteins', 'NOUN'), ('and', 'CONJ'), ('indicates', 'VERB'), ('that', 'ADP'), ('low-level', 'ADJ'), ('zoonotic', 'ADJ'), ('transmission', 'NOUN'), ('of', 'ADP'), ('SARS-like', 'NOUN'), ('bat', 'NOUN'), ('coronaviruses', 'VERB'), ('occurs', 'VERB'), ('72', 'NUM'), ('outside', 'NOUN'), ('of', 'ADP'), ('recognized', 'VERB'), ('outbreaks', 'NOUN'), ('[', '.'), ('18', 'NUM'), (']', 'NOUN'), ('.', '.')], [('MERS-CoV', 'NOUN'), ('is', 'VERB'), ('also', 'ADV'), ('a', 'DET'), ('zoonotic', 'ADJ'), ('virus', 'NOUN'), ('with', 'ADP'), ('possible', 'ADJ'), ('origins', 'NOUN'), ('in', 'ADP'), ('73', 'NUM'), ('bats', 'NOUN'), ('[', 'VERB'), ('19,20', 'NUM'), (']', 'NOUN'), (',', '.'), ('although', 'ADP'), ('camels', 'NOUN'), ('are', 'VERB'), ('endemically', 'ADV'), ('infected', 'VERB'), ('and', 'CONJ'), ('camel', 'ADJ'), ('contact', 'NOUN'), ('is', 'VERB'), ('frequently', 'ADV'), ('reported', 'VERB'), ('during', 'ADP'), ('74', 'NUM'), ('primary', 'ADJ'), ('MERS-CoV', 'ADJ'), ('cases', 'NOUN'), ('[', 'VERB'), ('21', 'NUM'), (']', 'NOUN'), ('.', '.')], [('For', 'ADP'), ('SARS-CoV', 'NOUN'), (',', '.'), ('strict', 'ADJ'), ('quarantine', 'NOUN'), ('and', 'CONJ'), ('the', 'DET'), ('culling', 'NOUN'), ('of', 'ADP'), ('live', 'ADJ'), ('markets', 'NOUN'), ('in', 'ADP'), ('SE', 'NOUN'), ('75', 'NUM'), ('Asia', 'NOUN'), ('played', 'VERB'), ('a', 'DET'), ('major', 'ADJ'), ('role', 'NOUN'), ('in', 'ADP'), ('ending', 'VERB'), ('the', 'DET'), ('outbreak', 'NOUN'), ('.', '.')], [('With', 'ADP'), ('the', 'DET'), ('cultural', 'ADJ'), ('importance', 'NOUN'), ('of', 'ADP'), ('camels', 'NOUN'), (',', '.'), ('a', 'DET'), ('similar', 'ADJ'), ('76', 'NUM'), ('approach', 'NOUN'), ('for', 'ADP'), ('MERS-CoV', 'NOUN'), ('was', 'VERB'), ('not', 'ADV'), ('an', 'DET'), ('option', 'NOUN'), ('and', 'CONJ'), ('periodic', 'ADJ'), ('outbreaks', 'NOUN'), ('continue', 'VERB'), ('in', 'ADP'), ('the', 'DET'), ('Middle', 'NOUN'), ('East', 'NOUN'), ('.', '.')], [('These', 'DET'), ('77', 'NUM'), ('lessons', 'NOUN'), ('from', 'ADP'), ('SARS', 'NOUN'), ('and', 'CONJ'), ('MERS', 'NOUN'), ('highlight', 'VERB'), ('the', 'DET'), ('importance', 'NOUN'), ('of', 'ADP'), ('rapidly', 'ADV'), ('ﬁnding', 'VERB'), ('the', 'DET'), ('source', 'NOUN'), ('for', 'ADP'), ('2019-nCoV', 'ADJ'), ('in', 'ADP'), ('78', 'NUM'), ('order', 'NOUN'), ('to', 'PRT'), ('stem', 'VERB'), ('the', 'DET'), ('ongoing', 'ADJ'), ('outbreak', 'NOUN'), ('.', '.')], [('79', 'NUM'), ('3', 'NUM'), ('.', '.')], [('Susceptible', 'ADJ'), ('Populations', 'NOUN'), ('80', 'NUM'), ('With', 'ADP'), ('limited', 'ADJ'), ('patient', 'NOUN'), ('data', 'NOUN'), (',', '.'), ('it', 'PRON'), ('is', 'VERB'), ('diﬃcult', 'ADJ'), ('to', 'PRT'), ('make', 'VERB'), ('robust', 'ADJ'), ('declarations', 'NOUN'), ('about', 'ADP'), ('populations', 'NOUN'), ('that', 'ADP'), ('81', 'NUM'), ('may', 'VERB'), ('be', 'VERB'), ('most', 'ADV'), ('susceptible', 'ADJ'), ('to', 'PRT'), ('2019-nCoV', 'ADJ'), ('.', '.')], [('However', 'ADV'), (',', '.'), ('disease', 'ADJ'), ('severity', 'NOUN'), ('following', 'VERB'), ('SARS-', 'ADJ'), ('and', 'CONJ'), ('MERS-CoV', 'ADJ'), ('82', 'NUM'), ('corresponded', 'VERB'), ('strongly', 'ADV'), ('to', 'PRT'), ('underlying', 'VERB'), ('host', 'NOUN'), ('conditions', 'NOUN'), ('including', 'VERB'), ('age', 'NOUN'), (',', '.'), ('biological', 'ADJ'), ('sex', 'NOUN'), (',', '.'), ('and', 'CONJ'), ('overall', 'ADJ'), ('83', 'NUM'), ('health', 'NOUN'), ('[', 'NOUN'), ('22', 'NUM'), (']', 'NOUN'), ('.', '.')], [('Early', 'ADJ'), ('patient', 'NOUN'), ('reports', 'NOUN'), ('from', 'ADP'), ('2019-nCoV', 'ADJ'), ('ﬁnd', 'NOUN'), ('similar', 'ADJ'), ('trends', 'NOUN'), ('.', '.')], [('Severe', 'NOUN'), ('illness', 'NOUN'), ('with', 'ADP'), ('2019-nCoV', 'ADJ'), ('has', 'VERB'), ('84', 'NUM'), ('been', 'VERB'), ('associated', 'VERB'), ('with', 'ADP'), ('elderly', 'ADJ'), ('patients', 'NOUN'), ('(', '.'), ('>', 'ADJ'), ('60', 'NUM'), ('years', 'NOUN'), ('old', 'ADJ'), (')', '.'), (',', '.'), ('including', 'VERB'), ('twenty-six', 'ADJ'), ('lethal', 'ADJ'), ('cases', 'NOUN'), ('.', '.')], [('These', 'DET'), ('ﬁndings', 'NOUN'), ('85', 'NUM'), ('correspond', 'NOUN'), ('to', 'PRT'), ('increased', 'VERB'), ('severity', 'NOUN'), ('and', 'CONJ'), ('death', 'NOUN'), ('in', 'ADP'), ('people', 'NOUN'), ('over', 'ADP'), ('the', 'DET'), ('age', 'NOUN'), ('of', 'ADP'), ('50', 'NUM'), ('following', 'VERB'), ('both', 'DET'), ('SARS', 'NOUN'), ('and', 'CONJ'), ('86', 'NUM'), ('MERS-CoV', 'ADJ'), ('infection', 'NOUN'), ('[', 'VERB'), ('23,24', 'NUM'), (']', 'NOUN'), ('.', '.')], [('Similarly', 'ADV'), (',', '.'), ('the', 'DET'), ('underlying', 'VERB'), ('health', 'NOUN'), ('of', 'ADP'), ('the', 'DET'), ('patient', 'NOUN'), ('likely', 'ADV'), ('plays', 'VERB'), ('a', 'DET'), ('critical', 'ADJ'), ('87', 'NUM'), ('role', 'NOUN'), ('in', 'ADP'), ('overall', 'ADJ'), ('susceptibility', 'NOUN'), ('.', '.')], [('For', 'ADP'), ('the', 'DET'), ('2019-nCoV', 'ADJ'), (',', '.'), ('limited', 'ADJ'), ('comorbidity', 'NOUN'), ('data', 'NOUN'), ('is', 'VERB'), ('available', 'ADJ'), (';', '.'), ('however', 'ADV'), (',', '.'), ('88', 'NUM'), ('the', 'DET'), ('twenty-six', 'ADJ'), ('patients', 'NOUN'), ('that', 'DET'), ('have', 'VERB'), ('succumbed', 'VERB'), ('to', 'PRT'), ('the', 'DET'), ('novel', 'ADJ'), ('CoV', 'NOUN'), ('had', 'VERB'), ('signiﬁcant', 'ADJ'), ('health', 'NOUN'), ('conditions', 'NOUN'), ('89', 'NUM'), ('including', 'VERB'), ('hypertension', 'NOUN'), (',', '.'), ('diabetes', 'VERB'), (',', '.'), ('heart', 'NOUN'), ('and/or', 'NOUN'), ('kidney', 'NOUN'), ('function', 'NOUN'), ('issues', 'NOUN'), ('that', 'DET'), ('may', 'VERB'), ('have', 'VERB'), ('made', 'VERB'), ('them', 'PRON'), ('more', 'ADV'), ('90', 'NUM'), ('susceptible', 'ADJ'), ('.', '.')], [('For', 'ADP'), ('the', 'DET'), ('MERS-CoV', 'NOUN'), ('outbreak', 'NOUN'), (',', '.'), ('smoking', 'NOUN'), (',', '.'), ('hypertension', 'NOUN'), (',', '.'), ('diabetes', 'VERB'), (',', '.'), ('cardiovascular', 'ADJ'), ('disease', 'NOUN'), (',', '.'), ('91', 'NUM'), ('and/or', 'NOUN'), ('other', 'ADJ'), ('chronic', 'ADJ'), ('illnesses', 'NOUN'), ('have', 'VERB'), ('been', 'VERB'), ('present', 'ADJ'), ('in', 'ADP'), ('the', 'DET'), ('majority', 'NOUN'), ('of', 'ADP'), ('deaths', 'NOUN'), ('and', 'CONJ'), ('correspond', 'NOUN'), ('to', 'PRT'), ('ﬁndings', 'NOUN'), ('in', 'ADP'), ('92', 'NUM'), ('animal', 'ADJ'), ('models', 'NOUN'), ('[', 'VERB'), ('25', 'NUM'), (']', 'NOUN'), ('.', '.')], [('The', 'DET'), ('results', 'NOUN'), ('indicate', 'ADJ'), ('vigilance', 'NOUN'), ('is', 'VERB'), ('necessary', 'ADJ'), ('for', 'ADP'), ('these', 'DET'), ('vulnerable', 'ADJ'), ('patients', 'NOUN'), ('following', 'VERB'), ('93', 'NUM'), ('2019-nCoV', 'ADJ'), ('infection', 'NOUN'), ('.', '.')], [('94', 'NUM'), ('4', 'NUM'), ('.', '.')], [('Insights', 'NOUN'), ('from', 'ADP'), ('the', 'DET'), ('2019-nCoV', 'ADJ'), ('Sequence', 'NOUN'), ('95', 'NUM'), ('The', 'DET'), ('rapid', 'ADJ'), ('sequencing', 'NOUN'), ('of', 'ADP'), ('the', 'DET'), ('nearly', 'ADV'), ('30,000', 'NUM'), ('nucleotide', 'ADJ'), ('2019-nCoV', 'ADJ'), ('genome', 'NOUN'), ('by', 'ADP'), ('Dr.', 'NOUN'), ('Zhang', 'NOUN'), ('’', 'NOUN'), ('s', 'VERB'), ('group', 'NOUN'), ('at', 'ADP'), ('96', 'NUM'), ('Fudan', 'NOUN'), ('University', 'NOUN'), ('and', 'CONJ'), ('several', 'ADJ'), ('other', 'ADJ'), ('groups', 'NOUN'), ('in', 'ADP'), ('China', 'NOUN'), ('illustrate', 'VERB'), ('the', 'DET'), ('dedication', 'NOUN'), ('and', 'CONJ'), ('increased', 'VERB'), ('capacity', 'NOUN'), ('97', 'NUM'), ('of', 'ADP'), ('the', 'DET'), ('scientiﬁc', 'ADJ'), ('infrastructure', 'NOUN'), ('in', 'ADP'), ('China', 'NOUN'), ('[', 'NOUN'), ('4,5', 'NUM'), (']', 'NOUN'), ('.', '.')], [('For', 'ADP'), ('SARS-CoV', 'NOUN'), (',', '.'), ('the', 'DET'), ('causative', 'ADJ'), ('agent', 'NOUN'), ('was', 'VERB'), ('unknown', 'ADJ'), ('for', 'ADP'), ('98', 'NUM'), ('months', 'NOUN'), ('and', 'CONJ'), ('subsequently', 'ADV'), ('took', 'VERB'), ('over', 'PRT'), ('four', 'NUM'), ('weeks', 'NOUN'), ('until', 'ADP'), ('a', 'DET'), ('full', 'ADJ'), ('genome', 'NOUN'), ('was', 'VERB'), ('released', 'VERB'), ('[', 'ADJ'), ('26', 'NUM'), (']', 'NOUN'), ('.', '.')], [('Similarly', 'ADV'), (',', '.'), ('99', 'NUM'), ('MERS-CoV', 'NOUN'), ('was', 'VERB'), ('only', 'ADV'), ('identiﬁed', 'ADV'), ('after', 'ADP'), ('several', 'ADJ'), ('months', 'NOUN'), ('of', 'ADP'), ('testing', 'VERB'), ('and', 'CONJ'), ('a', 'DET'), ('full-length', 'ADJ'), ('genome', 'NOUN'), ('available', 'ADJ'), ('100', 'NUM'), ('about', 'ADP'), ('a', 'DET'), ('month', 'NOUN'), ('later', 'ADV'), ('[', 'VERB'), ('27', 'NUM'), (']', 'NOUN'), ('.', '.')], [('In', 'ADP'), ('contrast', 'NOUN'), (',', '.'), ('time', 'NOUN'), ('from', 'ADP'), ('the', 'DET'), ('ﬁrst', 'NOUN'), ('date', 'NOUN'), ('of', 'ADP'), ('patient', 'ADJ'), ('onset', 'NOUN'), ('(', '.'), ('12', 'NUM'), ('December', 'NOUN'), ('2019', 'NUM'), (')', '.'), ('to', 'PRT'), ('101', 'NUM'), ('the', 'DET'), ('report', 'NOUN'), ('of', 'ADP'), ('several', 'ADJ'), ('2019-nCoV', 'ADJ'), ('full-length', 'ADJ'), ('genomes', 'NOUN'), ('took', 'VERB'), ('less', 'ADJ'), ('than', 'ADP'), ('one', 'NUM'), ('month', 'NOUN'), ('.', '.')], [('Combined', 'VERB'), ('with', 'ADP'), ('the', 'DET'), ('102', 'NUM'), ('immense', 'ADJ'), ('pressure', 'NOUN'), ('of', 'ADP'), ('an', 'DET'), ('ongoing', 'ADJ'), ('outbreak', 'NOUN'), ('with', 'ADP'), ('an', 'DET'), ('unknown', 'ADJ'), ('agent', 'NOUN'), (',', '.'), ('the', 'DET'), ('eﬀort', 'NOUN'), ('of', 'ADP'), ('these', 'DET'), ('scientists', 'NOUN'), ('should', 'VERB'), ('103', 'NUM'), ('be', 'VERB'), ('considered', 'VERB'), ('nothing', 'NOUN'), ('less', 'ADJ'), ('than', 'ADP'), ('remarkable', 'NOUN'), ('.', '.')], [('104', 'NUM'), ('Building', 'NOUN'), ('from', 'ADP'), ('the', 'DET'), ('sequence', 'NOUN'), (',', '.'), ('the', 'DET'), ('nucleotide', 'ADJ'), ('alignment', 'ADJ'), ('quickly', 'ADV'), ('distinguished', 'VERB'), ('the', 'DET'), ('novel', 'ADJ'), ('virus', 'NOUN'), ('as', 'ADP'), ('a', 'DET'), ('105', 'NUM'), ('group', 'NOUN'), ('2B', 'NUM'), ('CoV', 'NOUN'), (',', '.'), ('distinct', 'NOUN'), ('from', 'ADP'), ('the', 'DET'), ('SARS-CoV', 'NOUN'), ('strains', 'NOUN'), ('[', 'VERB'), ('4,5', 'NUM'), (']', 'NOUN'), ('.', '.')], [('Examining', 'VERB'), ('the', 'DET'), ('whole', 'ADJ'), ('genome', 'NOUN'), (',', '.'), ('2019-nCoV', 'ADJ'), ('106', 'NUM'), ('maintains', 'NOUN'), ('~80', 'NUM'), ('%', 'NOUN'), ('nucleotide', 'ADJ'), ('identity', 'NOUN'), ('to', 'PRT'), ('the', 'DET'), ('original', 'ADJ'), ('SARS', 'NOUN'), ('epidemic', 'ADJ'), ('viruses', 'NOUN'), ('.', '.')], [('Its', 'PRON'), ('closest', 'ADJ'), ('whole', 'ADJ'), ('genome', 'NOUN'), ('107', 'NUM'), ('relatives', 'NOUN'), ('are', 'VERB'), ('two', 'NUM'), ('bat', 'ADP'), ('SARS-like', 'ADJ'), ('CoVs', 'NOUN'), ('(', '.'), ('ZC45', 'NOUN'), ('and', 'CONJ'), ('ZXC21', 'NOUN'), (')', '.'), ('that', 'DET'), ('shared', 'VERB'), ('~89', 'NOUN'), ('%', 'NOUN'), ('sequence', 'NOUN'), ('identity', 'NOUN'), ('with', 'ADP'), ('108', 'NUM'), ('2019-nCoV', 'ADJ'), (';', '.'), ('these', 'DET'), ('CoV', 'NOUN'), ('sequences', 'NOUN'), ('were', 'VERB'), ('deposited', 'VERB'), ('in', 'ADP'), ('early', 'ADJ'), ('2018', 'NUM'), ('from', 'ADP'), ('Zhejiang', 'NOUN'), ('province', 'NOUN'), ('in', 'ADP'), ('R.', 'NOUN'), ('sinicus', 'VERB'), ('109', 'NUM'), ('bats', 'NOUN'), ('in', 'ADP'), ('China', 'NOUN'), ('.', '.')], [('Comparing', 'VERB'), ('across', 'ADP'), ('the', 'DET'), ('deposited', 'ADJ'), ('2019-nCoV', 'ADJ'), ('strains', 'NOUN'), ('ﬁnds', 'VERB'), ('>', 'ADJ'), ('99.5', 'NUM'), ('%', 'NOUN'), ('conservation', 'NOUN'), (';', '.'), ('the', 'DET'), ('lack', 'NOUN'), ('110', 'NUM'), ('of', 'ADP'), ('diversity', 'NOUN'), ('suggests', 'VERB'), ('a', 'DET'), ('common', 'ADJ'), ('lineage', 'NOUN'), ('and', 'CONJ'), ('source', 'NOUN'), ('with', 'ADP'), ('emergence', 'NOUN'), ('not', 'ADV'), ('likely', 'ADJ'), ('having', 'VERB'), ('occurred', 'VERB'), ('that', 'ADP'), ('111', 'NUM'), ('long', 'ADV'), ('ago', 'ADV'), ('[', 'ADJ'), ('28,29', 'NUM'), (']', 'NOUN'), ('.', '.')], [('A', 'DET'), ('recent', 'ADJ'), ('report', 'NOUN'), ('has', 'VERB'), ('subsequently', 'ADV'), ('identiﬁed', 'VERB'), ('a', 'DET'), ('bat', 'NOUN'), ('CoV', 'NOUN'), ('sequence', 'NOUN'), (',', '.'), ('RaTG3', 'NOUN'), (',', '.'), ('with', 'ADP'), ('92', 'NUM'), ('%', 'NOUN'), ('112', 'NUM'), ('sequence', 'NOUN'), ('identity', 'NOUN'), ('with', 'ADP'), ('the', 'DET'), ('novel', 'NOUN'), ('virus', 'NOUN'), ('which', 'DET'), ('argues', 'VERB'), ('for', 'ADP'), ('bat', 'NOUN'), ('origins', 'NOUN'), ('for', 'ADP'), ('the', 'DET'), ('2019-nCoV', 'ADJ'), ('[', 'NOUN'), ('30', 'NUM'), (']', 'NOUN'), ('.', '.')], [('113', 'NUM'), ('We', 'PRON'), ('next', 'ADJ'), ('shifted', 'VERB'), ('analysis', 'NOUN'), ('to', 'PRT'), ('the', 'DET'), ('nucleocapsid', 'NOUN'), ('(', '.'), ('N', 'NOUN'), (')', '.'), ('protein', 'NOUN'), (',', '.'), ('the', 'DET'), ('most', 'ADV'), ('abundant', 'ADJ'), ('protein', 'NOUN'), ('produced', 'VERB'), ('in', 'ADP'), ('114', 'NUM'), ('CoVs', 'NOUN'), ('.', '.')], [('Generally', 'ADV'), (',', '.'), ('the', 'DET'), ('N', 'NOUN'), ('protein', 'NOUN'), ('is', 'VERB'), ('well', 'ADV'), ('conserved', 'VERB'), ('across', 'ADP'), ('CoV', 'NOUN'), ('families', 'NOUN'), ('including', 'VERB'), ('group', 'NOUN'), ('2B', 'NUM'), ('[', '.'), ('31', 'NUM'), (']', 'NOUN'), ('.', '.')], [('The', 'DET'), ('N', 'NOUN'), ('115', 'NUM'), ('protein', 'NOUN'), ('for', 'ADP'), ('2019-nCoV', 'ADJ'), ('is', 'VERB'), ('no', 'DET'), ('exception', 'NOUN'), ('with', 'ADP'), ('~90', 'NOUN'), ('%', 'NOUN'), ('amino', 'NOUN'), ('acid', 'NOUN'), ('identity', 'NOUN'), ('to', 'PRT'), ('the', 'DET'), ('SARS-CoV', 'NOUN'), ('N', 'NOUN'), ('protein', 'NOUN'), ('.', '.')], [('While', 'ADP'), ('116', 'NUM'), ('less', 'ADJ'), ('conserved', 'VERB'), ('than', 'ADP'), ('other', 'ADJ'), ('group', 'NOUN'), ('2B', 'NUM'), ('CoVs', 'NOUN'), ('like', 'ADP'), ('HKU3-CoV', 'NOUN'), ('and', 'CONJ'), ('SHC014-CoV', 'NOUN'), (',', '.'), ('2019-nCoV', 'ADJ'), ('antibodies', 'NOUN'), ('117', 'NUM'), ('against', 'ADP'), ('the', 'DET'), ('N', 'NOUN'), ('protein', 'NOUN'), ('would', 'VERB'), ('likely', 'ADV'), ('recognize', 'VERB'), ('and', 'CONJ'), ('bind', 'VERB'), ('the', 'DET'), ('SARS-CoV', 'NOUN'), ('N', 'NOUN'), ('protein', 'NOUN'), ('as', 'ADV'), ('well', 'ADV'), ('.', '.')], [('N', 'NOUN'), ('antibodies', 'NOUN'), ('118', 'NUM'), ('do', 'VERB'), ('not', 'ADV'), ('provide', 'VERB'), ('immunity', 'NOUN'), ('to', 'PRT'), ('2019-nCoV', 'ADJ'), ('infection', 'NOUN'), (',', '.'), ('but', 'CONJ'), ('the', 'DET'), ('cross', 'NOUN'), ('reactivity', 'NOUN'), ('with', 'ADP'), ('SARS-CoV', 'NOUN'), ('N', 'NOUN'), ('protein', 'VERB'), ('119', 'NUM'), ('would', 'VERB'), ('allow', 'VERB'), ('a', 'DET'), ('serum', 'NOUN'), ('based', 'VERB'), ('assay', 'NOUN'), ('to', 'PRT'), ('determine', 'VERB'), ('exposure', 'NOUN'), ('to', 'PRT'), ('the', 'DET'), ('novel', 'ADJ'), ('CoV', 'NOUN'), ('in', 'ADP'), ('asymptomatic', 'ADJ'), ('cases', 'NOUN'), ('.', '.')], [('While', 'ADP'), ('120', 'NUM'), ('previous', 'ADJ'), ('studies', 'NOUN'), ('have', 'VERB'), ('found', 'VERB'), ('serum', 'ADJ'), ('reactivity', 'NOUN'), ('to', 'PRT'), ('group', 'NOUN'), ('2B', 'NUM'), ('virus', 'NOUN'), ('N', 'NOUN'), ('proteins', 'VERB'), ('in', 'ADP'), ('Chinese', 'ADJ'), ('populations', 'NOUN'), ('[', 'VERB'), ('18', 'NUM'), (']', 'NOUN'), (',', '.'), ('121', 'NUM'), ('exposure', 'NOUN'), ('to', 'PRT'), ('2019-nCoV', 'ADJ'), ('should', 'VERB'), ('increase', 'VERB'), ('the', 'DET'), ('dilution', 'NOUN'), ('factor', 'NOUN'), ('substantially', 'ADV'), ('if', 'ADP'), ('exposure/infection', 'NOUN'), ('had', 'VERB'), ('122', 'NUM'), ('occurred', 'VERB'), ('.', '.')], [('Importantly', 'ADV'), (',', '.'), ('this', 'DET'), ('information', 'NOUN'), ('may', 'VERB'), ('provide', 'VERB'), ('insights', 'NOUN'), ('about', 'ADP'), ('susceptibly', 'ADV'), ('and', 'CONJ'), ('potential', 'ADJ'), ('routes', 'NOUN'), ('of', 'ADP'), ('123', 'NUM'), ('spread', 'NOUN'), ('through', 'ADP'), ('asymptomatic', 'ADJ'), ('carriers', 'NOUN'), ('.', '.')], [('124', 'NUM'), ('Examining', 'VERB'), ('further', 'ADV'), (',', '.'), ('we', 'PRON'), ('next', 'ADJ'), ('compared', 'VERB'), ('the', 'DET'), ('spike', 'NOUN'), ('proteins', 'NOUN'), (',', '.'), ('the', 'DET'), ('critical', 'ADJ'), ('glycoprotein', 'NOUN'), ('responsible', 'ADJ'), ('125', 'NUM'), ('for', 'ADP'), ('virus', 'NOUN'), ('binding', 'NOUN'), ('and', 'CONJ'), ('entry', 'NOUN'), ('.', '.')], [('Overall', 'ADJ'), (',', '.'), ('the', 'DET'), ('2019-nCoV', 'ADJ'), ('spike', 'NOUN'), ('protein', 'NOUN'), ('has', 'VERB'), ('roughly', 'ADV'), ('75', 'NUM'), ('%', 'NOUN'), ('amino', 'NOUN'), ('acid', 'VERB'), ('126', 'NUM'), ('identity', 'NOUN'), ('with', 'ADP'), ('SARS-CoV', 'NOUN'), (',', '.'), ('which', 'DET'), ('is', 'VERB'), ('less', 'ADV'), ('conserved', 'VERB'), ('than', 'ADP'), ('other', 'ADJ'), ('group', 'NOUN'), ('2B', 'NUM'), ('CoVs', 'NOUN'), ('including', 'VERB'), ('HKU3-CoV', 'NOUN'), ('[', 'NOUN'), ('31', 'NUM'), (']', 'NOUN'), ('.', '.')], [('127', 'NUM'), ('However', 'ADV'), (',', '.'), ('narrowing', 'VERB'), ('analysis', 'NOUN'), ('to', 'PRT'), ('the', 'DET'), ('spike', 'NOUN'), ('receptor', 'NOUN'), ('binding', 'VERB'), ('domain', 'NOUN'), ('(', '.'), ('RBD', 'NOUN'), (')', '.'), ('of', 'ADP'), ('SARS-CoV', 'NOUN'), ('(', '.'), ('amino', 'ADJ'), ('acids', 'NOUN'), ('128', 'NUM'), ('318–518', 'NUM'), (')', '.'), (',', '.'), ('the', 'DET'), ('2019-nCoV', 'ADJ'), ('RBD', 'NOUN'), ('is', 'VERB'), ('73', 'NUM'), ('%', 'NOUN'), ('conserved', 'VERB'), ('relative', 'ADJ'), ('to', 'PRT'), ('the', 'DET'), ('epidemic', 'ADJ'), ('RBD', 'NOUN'), ('.', '.')], [('This', 'DET'), ('conservation', 'NOUN'), ('129', 'NUM'), ('level', 'NOUN'), ('places', 'NOUN'), ('the', 'DET'), ('2019-nCoV', 'ADJ'), ('RBD', 'NOUN'), ('between', 'ADP'), ('HKU3-4', 'NOUN'), ('(', '.'), ('62.7', 'NUM'), ('%', 'NOUN'), ('conservation', 'NOUN'), (')', '.'), (',', '.'), ('a', 'DET'), ('bat', 'NOUN'), ('virus', 'NOUN'), ('that', 'DET'), ('can', 'VERB'), ('not', 'ADV'), ('use', 'VERB'), ('130', 'NUM'), ('human', 'ADJ'), ('ACE2', 'NOUN'), (',', '.'), ('and', 'CONJ'), ('rSHC014', 'NOUN'), ('(', '.'), ('80.8', 'NUM'), ('%', 'NOUN'), (')', '.'), (',', '.'), ('the', 'DET'), ('most', 'ADV'), ('divergent', 'ADJ'), ('bat', 'NOUN'), ('CoV', 'NOUN'), ('spike', 'NOUN'), ('known', 'VERB'), ('to', 'PRT'), ('use', 'VERB'), ('human', 'ADJ'), ('ACE2', 'NOUN'), ('for', 'ADP'), ('131', 'NUM'), ('entry', 'NOUN'), ('[', 'VERB'), ('16,32', 'NUM'), (']', 'NOUN'), ('.', '.')], [('Importantly', 'ADV'), (',', '.'), ('the', 'DET'), ('key', 'ADJ'), ('binding', 'NOUN'), ('residues', 'NOUN'), ('for', 'ADP'), ('SARS-CoV', 'NOUN'), ('have', 'VERB'), ('been', 'VERB'), ('identiﬁed', 'ADJ'), ('[', '.'), ('33', 'NUM'), (']', 'NOUN'), (';', '.'), ('among', 'ADP'), ('132', 'NUM'), ('these', 'DET'), ('fourteen', 'ADJ'), ('residues', 'NOUN'), ('predicted', 'VERB'), ('to', 'PRT'), ('interact', 'VERB'), ('directly', 'ADV'), ('with', 'ADP'), ('human', 'ADJ'), ('ACE2', 'NOUN'), (',', '.'), ('the', 'DET'), ('receptor', 'NOUN'), ('for', 'ADP'), ('SARS-CoV', 'NOUN'), (',', '.'), ('133', 'NUM'), ('eight', 'NUM'), ('amino', 'NOUN'), ('acids', 'NOUN'), ('are', 'VERB'), ('conserved', 'VERB'), ('in', 'ADP'), ('2019-nCoV', 'ADJ'), ('.', '.')], [('Notably', 'ADV'), (',', '.'), ('several', 'ADJ'), ('of', 'ADP'), ('these', 'DET'), ('residues', 'NOUN'), ('are', 'VERB'), ('also', 'ADV'), ('conserved', 'VERB'), ('134', 'NUM'), ('relative', 'ADJ'), ('to', 'PRT'), ('WIV1-', 'ADJ'), ('and', 'CONJ'), ('WIV16-CoV', 'ADJ'), (',', '.'), ('two', 'NUM'), ('bat', 'NOUN'), ('strains', 'NOUN'), ('closely', 'ADV'), ('related', 'VERB'), ('to', 'PRT'), ('SARS-CoV', 'NOUN'), ('and', 'CONJ'), ('known', 'VERB'), ('to', 'PRT'), ('use', 'VERB'), ('135', 'NUM'), ('human', 'ADJ'), ('ACE2', 'NOUN'), ('[', 'NOUN'), ('17,34', 'NUM'), (']', 'NOUN'), ('.', '.')], [('Initial', 'ADJ'), ('structural', 'ADJ'), ('modeling', 'NOUN'), ('suggest', 'NOUN'), ('that', 'ADP'), ('the', 'DET'), ('2019-nCoV', 'ADJ'), ('may', 'VERB'), ('be', 'VERB'), ('able', 'ADJ'), ('to', 'PRT'), ('use', 'VERB'), ('human', 'ADJ'), ('136', 'NUM'), ('ACE2', 'NOUN'), ('as', 'ADP'), ('a', 'DET'), ('receptor', 'NOUN'), (',', '.'), ('although', 'ADP'), ('its', 'PRON'), ('aﬃnity', 'NOUN'), ('m', 'NOUN'), ('be', 'VERB'), ('reduced', 'VERB'), ('relative', 'ADJ'), ('to', 'PRT'), ('the', 'DET'), ('epidemic', 'ADJ'), ('SARS-CoV', 'ADJ'), ('strains', 'NOUN'), ('[', 'VERB'), ('35', 'NUM'), (']', 'NOUN'), ('.', '.')], [('137', 'NUM'), ('A', 'NOUN'), ('subsequent', 'ADJ'), ('report', 'NOUN'), ('demonstrated', 'VERB'), ('that', 'ADP'), ('the', 'DET'), ('receptor', 'NOUN'), ('binding', 'VERB'), ('domain', 'NOUN'), ('of', 'ADP'), ('2019-nCoV', 'ADJ'), ('was', 'VERB'), ('capable', 'ADJ'), ('of', 'ADP'), ('138', 'NUM'), ('binding', 'VERB'), ('ACE2', 'NOUN'), ('in', 'ADP'), ('the', 'DET'), ('context', 'NOUN'), ('of', 'ADP'), ('the', 'DET'), ('SARS-CoV', 'NOUN'), ('spike', 'NOUN'), ('protein', 'NOUN'), ('[', 'VERB'), ('36', 'NUM'), (']', 'NOUN'), ('.', '.')], [('In', 'ADP'), ('addition', 'NOUN'), (',', '.'), ('another', 'DET'), ('rapid', 'ADJ'), ('report', 'NOUN'), ('139', 'NUM'), ('links', 'NOUN'), ('demonstrates', 'VERB'), ('2019-nCoV', 'ADJ'), ('uses', 'NOUN'), ('ACE2', 'VERB'), ('receptors', 'NOUN'), ('from', 'ADP'), ('human', 'ADJ'), (',', '.'), ('bat', 'NOUN'), (',', '.'), ('civets', 'NOUN'), (',', '.'), ('and', 'CONJ'), ('swine', 'VERB'), ('[', '.'), ('30', 'NUM'), (']', 'NOUN'), ('.', '.')], [('Together', 'ADV'), (',', '.'), ('140', 'NUM'), ('the', 'DET'), ('modeling', 'NOUN'), (',', '.'), ('pseudotyping', 'NOUN'), (',', '.'), ('and', 'CONJ'), ('infection', 'NOUN'), ('data', 'NOUN'), ('provide', 'VERB'), ('strong', 'ADJ'), ('evidence', 'NOUN'), ('for', 'ADP'), ('human', 'ADJ'), ('ACE2', 'NOUN'), ('being', 'VERB'), ('the', 'DET'), ('141', 'NUM'), ('receptor', 'NOUN'), ('for', 'ADP'), ('2019-nCoV', 'ADJ'), ('.', '.')], [('142', 'NUM'), ('5', 'NUM'), ('.', '.')], [('Achieving', 'VERB'), ('Koch', 'NOUN'), ('Postulates', 'VERB'), ('143', 'NUM'), ('Traditional', 'ADJ'), ('identiﬁcation', 'NOUN'), ('of', 'ADP'), ('a', 'DET'), ('microbe', 'NOUN'), ('as', 'ADP'), ('the', 'DET'), ('causative', 'ADJ'), ('agent', 'NOUN'), ('of', 'ADP'), ('disease', 'NOUN'), ('requires', 'VERB'), ('fulﬁllment', 'NOUN'), ('of', 'ADP'), ('144', 'NUM'), ('Koch', 'NOUN'), ('’', 'NOUN'), ('s', 'NOUN'), ('postulates', 'NOUN'), (',', '.'), ('modiﬁed', 'NOUN'), ('by', 'ADP'), ('Rivers', 'NOUN'), ('for', 'ADP'), ('viral', 'ADJ'), ('diseases', 'NOUN'), ('[', 'VERB'), ('37', 'NUM'), (']', 'NOUN'), ('.', '.')], [('At', 'ADP'), ('the', 'DET'), ('present', 'ADJ'), ('time', 'NOUN'), (',', '.'), ('the', 'DET'), ('2019-nCoV', 'ADJ'), ('145', 'NUM'), ('has', 'VERB'), ('been', 'VERB'), ('isolated', 'VERB'), ('from', 'ADP'), ('patients', 'NOUN'), (',', '.'), ('detected', 'VERB'), ('by', 'ADP'), ('speciﬁc', 'NOUN'), ('assays', 'NOUN'), ('in', 'ADP'), ('patients', 'NOUN'), (',', '.'), ('and', 'CONJ'), ('cultured', 'VERB'), ('in', 'ADP'), ('host', 'NOUN'), ('cells', 'NOUN'), ('146', 'NUM'), ('(', '.'), ('one', 'NUM'), ('available', 'ADJ'), ('sequence', 'NOUN'), ('is', 'VERB'), ('identiﬁed', 'ADJ'), ('as', 'ADP'), ('a', 'DET'), ('passage', 'NOUN'), ('isolate', 'NOUN'), (')', '.'), (',', '.'), ('starting', 'VERB'), ('to', 'PRT'), ('fulﬁll', 'VERB'), ('these', 'DET'), ('criteria', 'NOUN'), ('.', '.')], [('Given', 'VERB'), ('the', 'DET'), ('147', 'NUM'), ('recentness', 'NOUN'), ('of', 'ADP'), ('the', 'DET'), ('2019-nCoV', 'ADJ'), ('outbreak', 'NOUN'), (',', '.'), ('at', 'ADP'), ('this', 'DET'), ('point', 'NOUN'), ('there', 'DET'), ('is', 'VERB'), ('no', 'DET'), ('animal', 'ADJ'), ('model', 'NOUN'), ('available', 'ADJ'), ('to', 'PRT'), ('fulﬁll', 'VERB'), ('the', 'DET'), ('148', 'NUM'), ('remaining', 'VERB'), ('criteria', 'NOUN'), (':', '.'), ('1', 'NUM'), (')', '.'), ('testing', 'VERB'), ('the', 'DET'), ('capability', 'NOUN'), ('of', 'ADP'), ('2019-nCoV', 'ADJ'), ('to', 'PRT'), ('cause', 'VERB'), ('respiratory', 'ADJ'), ('disease', 'NOUN'), ('in', 'ADP'), ('a', 'DET'), ('related', 'ADJ'), ('149', 'NUM'), ('species', 'NOUN'), (',', '.'), ('2', 'NUM'), (')', '.'), ('re-isolating', 'VERB'), ('the', 'DET'), ('virus', 'NOUN'), ('from', 'ADP'), ('the', 'DET'), ('experimentally', 'ADV'), ('infected', 'VERB'), ('animal', 'NOUN'), ('and', 'CONJ'), ('3', 'NUM'), (')', '.'), ('detection', 'NOUN'), ('of', 'ADP'), ('a', 'DET'), ('speciﬁc', 'ADJ'), ('150', 'NUM'), ('immune', 'ADJ'), ('response', 'NOUN'), ('.', '.')], [('These', 'DET'), ('eﬀorts', 'NOUN'), ('will', 'VERB'), ('surely', 'ADV'), ('be', 'VERB'), ('an', 'DET'), ('area', 'NOUN'), ('of', 'ADP'), ('intense', 'ADJ'), ('research', 'NOUN'), ('in', 'ADP'), ('the', 'DET'), ('coming', 'ADJ'), ('months', 'NOUN'), ('both', 'DET'), ('in', 'ADP'), ('151', 'NUM'), ('China', 'NOUN'), ('and', 'CONJ'), ('in', 'ADP'), ('CoV', 'NOUN'), ('research', 'NOUN'), ('laboratories', 'VERB'), ('around', 'ADP'), ('the', 'DET'), ('world', 'NOUN'), ('.', '.')], [('152', 'NUM'), ('Notably', 'ADV'), (',', '.'), ('generating', 'VERB'), ('small', 'ADJ'), ('animal', 'ADJ'), ('models', 'NOUN'), ('of', 'ADP'), ('coronavirus', 'ADJ'), ('disease', 'NOUN'), ('can', 'VERB'), ('be', 'VERB'), ('diﬃcult', 'NOUN'), ('.', '.')], [('While', 'ADP'), ('SARS-CoV', 'ADJ'), ('153', 'NUM'), ('readily', 'ADV'), ('infected', 'ADJ'), ('laboratory', 'NOUN'), ('mice', 'NOUN'), (',', '.'), ('it', 'PRON'), ('does', 'VERB'), ('not', 'ADV'), ('cause', 'VERB'), ('signiﬁcant', 'ADJ'), ('disease', 'NOUN'), ('unless', 'ADP'), ('the', 'DET'), ('virus', 'NOUN'), ('is', 'VERB'), ('passaged', 'VERB'), ('to', 'PRT'), ('154', 'NUM'), ('adapt', 'NOUN'), ('to', 'PRT'), ('the', 'DET'), ('mouse', 'NOUN'), ('host', 'NOUN'), ('[', '.'), ('38', 'NUM'), (']', 'NOUN'), ('.', '.')], [('Infection', 'NOUN'), ('of', 'ADP'), ('primates', 'NOUN'), ('produces', 'VERB'), ('a', 'DET'), ('more', 'ADV'), ('mild', 'ADJ'), ('disease', 'NOUN'), ('than', 'ADP'), ('that', 'DET'), ('observed', 'VERB'), ('in', 'ADP'), ('155', 'NUM'), ('humans', 'NOUN'), (',', '.'), ('although', 'ADP'), ('fever', 'NOUN'), ('and', 'CONJ'), ('pulmonary', 'ADJ'), ('inﬂammation', 'NOUN'), ('were', 'VERB'), ('noted', 'VERB'), ('[', 'ADJ'), ('39,40', 'NUM'), (']', 'NOUN'), ('.', '.')], [('MERS-CoV', 'NOUN'), ('is', 'VERB'), ('incapable', 'ADJ'), ('156', 'NUM'), ('of', 'ADP'), ('infecting', 'VERB'), ('rodent', 'NOUN'), ('cells', 'NOUN'), ('without', 'ADP'), ('engineering', 'NOUN'), ('changes', 'NOUN'), ('in', 'ADP'), ('critical', 'ADJ'), ('residues', 'NOUN'), ('of', 'ADP'), ('the', 'DET'), ('receptor', 'NOUN'), ('protein', 'NOUN'), (',', '.'), ('157', 'NUM'), ('DPP4', 'NOUN'), ('[', 'VERB'), ('41,42', 'NUM'), (']', 'NOUN'), ('.', '.')], [('However', 'ADV'), (',', '.'), ('MERS-CoV', 'NOUN'), ('does', 'VERB'), ('infect', 'VERB'), ('non-human', 'ADJ'), ('primates', 'NOUN'), ('[', 'VERB'), ('43', 'NUM'), (']', 'NOUN'), ('.', '.')], [('As', 'ADP'), ('such', 'ADJ'), (',', '.'), ('MERS', 'NOUN'), ('mouse', 'VERB'), ('158', 'NUM'), ('models', 'NOUN'), ('of', 'ADP'), ('disease', 'NOUN'), ('required', 'VERB'), ('a', 'DET'), ('great', 'ADJ'), ('deal', 'NOUN'), ('of', 'ADP'), ('time', 'NOUN'), ('to', 'PRT'), ('develop', 'VERB'), ('and', 'CONJ'), ('are', 'VERB'), ('limited', 'VERB'), ('in', 'ADP'), ('the', 'DET'), ('types', 'NOUN'), ('of', 'ADP'), ('manipulations', 'NOUN'), ('159', 'NUM'), ('that', 'DET'), ('can', 'VERB'), ('be', 'VERB'), ('performed', 'VERB'), ('[', 'ADJ'), ('41', 'NUM'), (']', 'NOUN'), ('.', '.')], [('At', 'ADP'), ('this', 'DET'), ('point', 'NOUN'), (',', '.'), ('the', 'DET'), ('infectious', 'ADJ'), ('capability', 'NOUN'), ('of', 'ADP'), ('the', 'DET'), ('2019-nCoV', 'ADJ'), ('for', 'ADP'), ('diﬀerent', 'ADJ'), ('species', 'NOUN'), ('160', 'NUM'), ('and', 'CONJ'), ('diﬀerent', 'NOUN'), ('cell', 'NOUN'), ('types', 'NOUN'), ('is', 'VERB'), ('unknown', 'ADJ'), ('.', '.')], [('Early', 'ADJ'), ('reports', 'NOUN'), ('suggest', 'VERB'), ('that', 'ADP'), ('the', 'DET'), ('virus', 'NOUN'), ('can', 'VERB'), ('utilize', 'VERB'), ('human', 'ADJ'), (',', '.'), ('bat', 'NOUN'), (',', '.'), ('swine', 'NOUN'), (',', '.'), ('161', 'NUM'), ('and', 'CONJ'), ('civet', 'VERB'), ('ACE2', 'NOUN'), ('[', 'NOUN'), ('30', 'NUM'), (']', 'NOUN'), (';', '.'), ('notably', 'ADV'), (',', '.'), ('the', 'DET'), ('group', 'NOUN'), ('found', 'VERB'), ('mouse', 'ADV'), ('Ace2', 'NOUN'), ('was', 'VERB'), ('not', 'ADV'), ('permissive', 'ADJ'), ('for', 'ADP'), ('2019-nCoV', 'ADJ'), ('infection', 'NOUN'), ('162', 'NUM'), ('Dissemination', 'NOUN'), ('of', 'ADP'), ('virus', 'NOUN'), ('stocks', 'NOUN'), ('and/or', 'VERB'), ('de', 'ADP'), ('novo', 'X'), ('generation', 'NOUN'), ('of', 'ADP'), ('the', 'DET'), ('virus', 'NOUN'), ('through', 'ADP'), ('reverse', 'NOUN'), ('genetics', 'NOUN'), ('systems', 'NOUN'), ('163', 'NUM'), ('will', 'VERB'), ('enable', 'VERB'), ('this', 'DET'), ('research', 'NOUN'), ('allowing', 'VERB'), ('for', 'ADP'), ('animal', 'ADJ'), ('testing', 'NOUN'), ('and', 'CONJ'), ('subsequent', 'ADJ'), ('completion', 'NOUN'), ('of', 'ADP'), ('Koch', 'NOUN'), ('’', 'NOUN'), ('s', 'NOUN'), ('postulates', 'VERB'), ('164', 'NUM'), ('for', 'ADP'), ('the', 'DET'), ('new', 'ADJ'), ('virus', 'NOUN'), ('.', '.')], [('165', 'NUM'), ('6', 'NUM'), ('.', '.')], [('Threat', 'NOUN'), ('for', 'ADP'), ('Spread', 'NOUN'), (':', '.'), ('Human', 'NOUN'), ('to', 'PRT'), ('Human', 'NOUN'), (',', '.'), ('Health', 'NOUN'), ('Care', 'NOUN'), ('Workers', 'NOUN'), (',', '.'), ('and', 'CONJ'), ('Super', 'NOUN'), ('Spreaders', 'NOUN'), ('166', 'NUM'), ('While', 'ADP'), ('the', 'DET'), ('Huanan', 'NOUN'), ('seafood', 'NOUN'), ('market', 'NOUN'), ('in', 'ADP'), ('Wuhan', 'NOUN'), ('has', 'VERB'), ('been', 'VERB'), ('associated', 'VERB'), ('with', 'ADP'), ('the', 'DET'), ('majority', 'NOUN'), ('of', 'ADP'), ('cases', 'NOUN'), (',', '.'), ('many', 'ADJ'), ('167', 'NUM'), ('of', 'ADP'), ('the', 'DET'), ('recent', 'ADJ'), ('cases', 'NOUN'), ('do', 'VERB'), ('not', 'ADV'), ('have', 'VERB'), ('a', 'DET'), ('direct', 'ADJ'), ('connection', 'NOUN'), ('[', 'VERB'), ('9', 'NUM'), (']', 'NOUN'), ('.', '.')], [('This', 'DET'), ('fact', 'NOUN'), ('suggests', 'VERB'), ('a', 'DET'), ('secondary', 'ADJ'), ('source', 'NOUN'), ('of', 'ADP'), ('infectio', 'NOUN'), ('168', 'NUM'), ('either', 'CONJ'), ('human', 'ADJ'), ('to', 'PRT'), ('human', 'ADJ'), ('transmission', 'NOUN'), ('or', 'CONJ'), ('possibly', 'ADV'), ('infected', 'ADJ'), ('animals', 'NOUN'), ('in', 'ADP'), ('another', 'DET'), ('market', 'NOUN'), ('in', 'ADP'), ('Wuhan', 'NOUN'), ('.', '.')], [('Both', 'DET'), ('169', 'NUM'), ('possibilities', 'NOUN'), ('represent', 'VERB'), ('major', 'ADJ'), ('concerns', 'NOUN'), ('and', 'CONJ'), ('indicate', 'VERB'), ('the', 'DET'), ('outbreak', 'NOUN'), ('has', 'VERB'), ('the', 'DET'), ('potential', 'ADJ'), ('to', 'PRT'), ('expand', 'VERB'), ('rapidly', 'ADV'), ('.', '.')], [('170', 'NUM'), ('For', 'ADP'), ('human', 'ADJ'), ('to', 'PRT'), ('human', 'ADJ'), ('transmission', 'NOUN'), (',', '.'), ('there', 'DET'), ('was', 'VERB'), ('limited', 'VERB'), ('data', 'NOUN'), ('in', 'ADP'), ('the', 'DET'), ('initial', 'ADJ'), ('set', 'NOUN'), ('of', 'ADP'), ('cases', 'NOUN'), (';', '.'), ('one', 'NUM'), ('family', 'NOUN'), ('cluster', 'NOUN'), ('171', 'NUM'), ('is', 'VERB'), ('of', 'ADP'), ('three', 'NUM'), ('men', 'NOUN'), ('who', 'PRON'), ('all', 'DET'), ('work', 'NOUN'), ('in', 'ADP'), ('the', 'DET'), ('market', 'NOUN'), ('.', '.')], [('Similarly', 'ADV'), (',', '.'), ('a', 'DET'), ('husband', 'NOUN'), ('and', 'CONJ'), ('wife', 'NOUN'), ('are', 'VERB'), ('among', 'ADP'), ('the', 'DET'), ('patients', 'NOUN'), (',', '.'), ('with', 'ADP'), ('172', 'NUM'), ('the', 'DET'), ('wife', 'NOUN'), ('claiming', 'VERB'), ('no', 'DET'), ('contact', 'NOUN'), ('with', 'ADP'), ('the', 'DET'), ('market', 'NOUN'), ('.', '.')], [('In', 'ADP'), ('these', 'DET'), ('cases', 'NOUN'), (',', '.'), ('direct', 'ADJ'), ('human', 'NOUN'), ('to', 'PRT'), ('human', 'ADJ'), ('infection', 'NOUN'), ('may', 'VERB'), ('173', 'NUM'), ('have', 'VERB'), ('been', 'VERB'), ('possible', 'ADJ'), (';', '.'), ('alternatively', 'ADV'), (',', '.'), ('a', 'DET'), ('contaminated', 'VERB'), ('fomite', 'NOUN'), ('from', 'ADP'), ('the', 'DET'), ('market', 'NOUN'), ('may', 'VERB'), ('also', 'ADV'), ('be', 'VERB'), ('responsible', 'ADJ'), ('as', 'ADP'), ('174', 'NUM'), ('surfaces', 'NOUN'), ('all', 'DET'), ('around', 'ADP'), ('the', 'DET'), ('market', 'NOUN'), ('were', 'VERB'), ('found', 'VERB'), ('to', 'PRT'), ('test', 'VERB'), ('positive', 'ADJ'), ('2019-nCoV', 'ADJ'), ('.', '.')], [('However', 'ADV'), (',', '.'), ('the', 'DET'), ('major', 'ADJ'), ('increase', 'NOUN'), ('175', 'NUM'), ('in', 'ADP'), ('the', 'DET'), ('number', 'NOUN'), ('of', 'ADP'), ('cases', 'NOUN'), (',', '.'), ('the', 'DET'), ('lack', 'NOUN'), ('of', 'ADP'), ('direct', 'ADJ'), ('connection', 'NOUN'), ('to', 'PRT'), ('the', 'DET'), ('Wuhan', 'NOUN'), ('market', 'NOUN'), ('for', 'ADP'), ('many', 'ADJ'), ('cases', 'NOUN'), (',', '.'), ('and', 'CONJ'), ('the', 'DET'), ('176', 'NUM'), ('infection', 'NOUN'), ('of', 'ADP'), ('health', 'NOUN'), ('care', 'NOUN'), ('works', 'VERB'), ('all', 'DET'), ('suggest', 'VERB'), ('human', 'ADJ'), ('to', 'PRT'), ('human', 'ADJ'), ('spread', 'NOUN'), ('is', 'VERB'), ('likely', 'ADJ'), ('[', 'ADJ'), ('9,44', 'NUM'), (']', 'NOUN'), ('.', '.')], [('Importantly', 'ADV'), (',', '.'), ('until', 'ADP'), ('the', 'DET'), ('177', 'NUM'), ('source', 'NOUN'), ('of', 'ADP'), ('the', 'DET'), ('virus', 'NOUN'), ('is', 'VERB'), ('found', 'VERB'), (',', '.'), ('it', 'PRON'), ('will', 'VERB'), ('be', 'VERB'), ('diﬃcult', 'VERB'), ('to', 'PRT'), ('distinguish', 'VERB'), ('zoonotic', 'ADJ'), ('versus', 'NOUN'), ('human', 'NOUN'), ('to', 'PRT'), ('human', 'ADJ'), ('spread', 'NOUN'), ('.', '.')], [('178', 'NUM'), ('In', 'ADP'), ('the', 'DET'), ('early', 'ADJ'), ('part', 'NOUN'), ('of', 'ADP'), ('the', 'DET'), ('outbreak', 'NOUN'), (',', '.'), ('the', 'DET'), ('absence', 'NOUN'), ('of', 'ADP'), ('infection', 'NOUN'), ('in', 'ADP'), ('health', 'NOUN'), ('care', 'NOUN'), ('workers', 'NOUN'), ('argued', 'VERB'), ('for', 'ADP'), ('ineﬃcient', 'NOUN'), ('179', 'NUM'), ('human', 'NOUN'), ('to', 'PRT'), ('human', 'ADJ'), ('spread', 'NOUN'), ('and', 'CONJ'), ('distinguished', 'VERB'), ('2019-nCoV', 'NUM'), ('from', 'ADP'), ('both', 'DET'), ('SARS-CoV', 'NOUN'), ('and', 'CONJ'), ('MERS-CoV', 'NOUN'), ('.', '.')], [('In', 'ADP'), ('180', 'NUM'), ('the', 'DET'), ('two', 'NUM'), ('prior', 'ADJ'), ('CoV', 'NOUN'), ('epidemics', 'NOUN'), (',', '.'), ('health', 'NOUN'), ('care', 'NOUN'), ('settings', 'NOUN'), ('served', 'VERB'), ('as', 'ADP'), ('a', 'DET'), ('major', 'ADJ'), ('transmission', 'NOUN'), ('point', 'NOUN'), ('fueling', 'VERB'), ('both', 'DET'), ('181', 'NUM'), ('outbreaks', 'NOUN'), ('.', '.')], [('Based', 'VERB'), ('on', 'ADP'), ('WHO', 'NOUN'), ('data', 'NOUN'), (',', '.'), ('1', 'NUM'), ('in', 'ADP'), ('10', 'NUM'), ('MERS-CoV', 'ADJ'), ('cases', 'NOUN'), ('have', 'VERB'), ('been', 'VERB'), ('found', 'VERB'), ('to', 'PRT'), ('be', 'VERB'), ('health', 'NOUN'), ('care', 'NOUN'), ('workers', 'NOUN'), (';', '.'), ('182', 'NUM'), ('these', 'DET'), ('patients', 'NOUN'), ('generally', 'ADV'), ('have', 'VERB'), ('reduced', 'VERB'), ('disease', 'NOUN'), ('and', 'CONJ'), ('death', 'NOUN'), ('likely', 'ADV'), ('due', 'ADJ'), ('to', 'PRT'), ('younger', 'ADJ'), ('age', 'NOUN'), ('and', 'CONJ'), ('absence', 'NOUN'), ('of', 'ADP'), ('183', 'NUM'), ('existing', 'VERB'), ('health', 'NOUN'), ('conditions', 'NOUN'), ('.', '.')], [('The', 'DET'), ('recent', 'ADJ'), ('reports', 'NOUN'), ('of', 'ADP'), ('numerous', 'ADJ'), ('infected', 'ADJ'), ('health', 'NOUN'), ('care', 'NOUN'), ('workers', 'NOUN'), ('in', 'ADP'), ('Wuhan', 'NOUN'), ('184', 'NUM'), ('indicate', 'NOUN'), ('human', 'NOUN'), ('to', 'PRT'), ('human', 'ADJ'), ('infection', 'NOUN'), ('can', 'VERB'), ('occur', 'VERB'), ('with', 'ADP'), ('2019-nCoV', 'ADJ'), ('and', 'CONJ'), ('may', 'VERB'), ('be', 'VERB'), ('the', 'DET'), ('product', 'NOUN'), ('of', 'ADP'), ('a', 'DET'), ('super', 'ADJ'), ('185', 'NUM'), ('spreading', 'VERB'), ('patient', 'NOUN'), ('[', '.'), ('44', 'NUM'), (']', 'NOUN'), ('.', '.')], [('However', 'ADV'), (',', '.'), ('while', 'ADP'), ('large', 'ADJ'), ('swaths', 'NOUN'), ('of', 'ADP'), ('healthcare', 'ADJ'), ('workers', 'NOUN'), ('are', 'VERB'), ('not', 'ADV'), ('getting', 'VERB'), ('sick', 'ADJ'), ('as', 'ADP'), ('seen', 'VERB'), ('186', 'NUM'), ('with', 'ADP'), ('SARS', 'NOUN'), ('and', 'CONJ'), ('MERS-CoV', 'NOUN'), (',', '.'), ('it', 'PRON'), ('may', 'VERB'), ('be', 'VERB'), ('too', 'ADV'), ('early', 'ADJ'), ('to', 'PRT'), ('rule', 'VERB'), ('out', 'PRT'), ('their', 'PRON'), ('potential', 'ADJ'), ('exposure', 'NOUN'), ('to', 'PRT'), ('the', 'DET'), ('novel', 'ADJ'), ('CoV', 'NOUN'), ('as', 'ADP'), ('187', 'NUM'), ('their', 'PRON'), ('disease', 'NOUN'), ('may', 'VERB'), ('be', 'VERB'), ('asymptomatic', 'ADJ'), ('.', '.')], [('While', 'ADP'), ('not', 'ADV'), ('described', 'VERB'), ('during', 'ADP'), ('the', 'DET'), ('SARS-CoV', 'NOUN'), ('outbreak', 'NOUN'), (',', '.'), ('asymptomatic', 'ADJ'), ('188', 'NUM'), ('cases', 'NOUN'), ('ranged', 'VERB'), ('from', 'ADP'), ('12.5', 'NUM'), ('%', 'NOUN'), ('to', 'PRT'), ('25', 'NUM'), ('%', 'NOUN'), ('in', 'ADP'), ('some', 'DET'), ('MERS-CoV', 'ADJ'), ('studies', 'NOUN'), ('[', 'VERB'), ('45', 'NUM'), (']', 'NOUN'), ('.', '.')], [('A', 'DET'), ('similar', 'ADJ'), ('phenomenon', 'NOUN'), ('may', 'VERB'), ('be', 'VERB'), ('189', 'NUM'), ('occurring', 'VERB'), ('with', 'ADP'), ('2019-nCoV', 'ADJ'), ('and', 'CONJ'), ('would', 'VERB'), ('make', 'VERB'), ('stopping', 'VERB'), ('the', 'DET'), ('outbreak', 'NOUN'), ('even', 'ADV'), ('more', 'ADV'), ('diﬃcult', 'NOUN'), ('to', 'PRT'), ('contain', 'VERB'), ('.', '.')], [('190', 'NUM'), ('Another', 'DET'), ('parameter', 'NOUN'), ('to', 'PRT'), ('consider', 'VERB'), ('is', 'VERB'), ('the', 'DET'), ('possibility', 'NOUN'), ('of', 'ADP'), ('super', 'ADJ'), ('spreading', 'NOUN'), ('in', 'ADP'), ('the', 'DET'), ('context', 'NOUN'), ('of', 'ADP'), ('2019-nCoV', 'ADJ'), ('.', '.')], [('191', 'NUM'), ('Super', 'NOUN'), ('spreading', 'NOUN'), ('is', 'VERB'), ('the', 'DET'), ('ampliﬁed', 'ADJ'), ('transmission', 'NOUN'), ('of', 'ADP'), ('a', 'DET'), ('virus', 'NOUN'), ('by', 'ADP'), ('individuals', 'NOUN'), ('in', 'ADP'), ('a', 'DET'), ('population', 'NOUN'), ('and', 'CONJ'), ('has', 'VERB'), ('been', 'VERB'), ('192', 'NUM'), ('suggested', 'VERB'), ('by', 'ADP'), ('at', 'ADP'), ('least', 'ADJ'), ('one', 'NUM'), ('news', 'NOUN'), ('report', 'NOUN'), ('[', 'VERB'), ('44', 'NUM'), (']', 'NOUN'), ('.', '.')], [('Both', 'DET'), ('SARS-', 'NOUN'), ('and', 'CONJ'), ('MERS-CoV', 'NOUN'), ('outbreaks', 'NOUN'), ('had', 'VERB'), ('documented', 'VERB'), ('193', 'NUM'), ('evidence', 'NOUN'), ('of', 'ADP'), ('super', 'ADJ'), ('spreading', 'VERB'), ('patients', 'NOUN'), ('[', '.'), ('46', 'NUM'), (']', 'NOUN'), ('.', '.')], [('In', 'ADP'), ('general', 'ADJ'), (',', '.'), ('both', 'DET'), ('epidemic', 'ADJ'), ('CoVs', 'NOUN'), ('maintain', 'VERB'), ('a', 'DET'), ('low', 'ADJ'), ('R0', 'NOUN'), (',', '.'), ('the', 'DET'), ('194', 'NUM'), ('rate', 'NOUN'), ('spread', 'NOUN'), ('from', 'ADP'), ('an', 'DET'), ('individual', 'ADJ'), ('infected', 'ADJ'), ('patient', 'NOUN'), ('.', '.')], [('However', 'ADV'), (',', '.'), ('roughly', 'ADV'), ('10', 'NUM'), ('%', 'NOUN'), ('of', 'ADP'), ('SARS-', 'NOUN'), ('and', 'CONJ'), ('MERS-CoV', 'NOUN'), ('195', 'NUM'), ('>', 'NOUN'), ('10', 'NUM'), ('.', '.')], [('These', 'DET'), ('cases', 'NOUN'), ('seeded', 'VERB'), ('a', 'DET'), ('signiﬁcant', 'ADJ'), ('196', 'NUM'), ('patients', 'NOUN'), ('have', 'VERB'), ('been', 'VERB'), ('associated', 'VERB'), ('with', 'ADP'), ('super', 'ADJ'), ('spreading', 'NOUN'), ('and', 'CONJ'), ('an', 'DET'), ('R0', 'NOUN'), ('197', 'NUM'), ('portion', 'NOUN'), ('of', 'ADP'), ('the', 'DET'), ('epidemic', 'ADJ'), ('around', 'ADP'), ('the', 'DET'), ('world', 'NOUN'), ('.', '.')], [('Notably', 'ADV'), (',', '.'), ('neither', 'DET'), ('mutations', 'NOUN'), ('in', 'ADP'), ('the', 'DET'), ('viruses', 'NOUN'), ('nor', 'CONJ'), ('severity', 'NOUN'), ('of', 'ADP'), ('198', 'NUM'), ('disease', 'NOUN'), ('were', 'VERB'), ('found', 'VERB'), ('to', 'PRT'), ('be', 'VERB'), ('associated', 'VERB'), ('with', 'ADP'), ('super', 'ADJ'), ('spreading', 'NOUN'), (',', '.'), ('implying', 'VERB'), ('that', 'ADP'), ('host', 'NOUN'), ('factors', 'NOUN'), ('contribute', 'VERB'), ('to', 'PRT'), ('the', 'DET'), ('199', 'NUM'), ('phenotype', 'NOUN'), ('[', 'NOUN'), ('47', 'NUM'), (']', 'NOUN'), ('.', '.')], [('For', 'ADP'), ('2019-nCoV', 'ADJ'), (',', '.'), ('contact', 'ADJ'), ('tracing', 'VERB'), ('to', 'PRT'), ('date', 'NOUN'), ('suggest', 'NOUN'), ('limited', 'VERB'), ('human', 'ADJ'), ('to', 'PRT'), ('human', 'ADJ'), ('spread', 'NOUN'), ('and', 'CONJ'), ('a', 'DET'), ('200', 'NUM'), ('low', 'ADJ'), ('R0', 'NOUN'), ('.', '.')], [('However', 'ADV'), (',', '.'), ('the', 'DET'), ('recent', 'ADJ'), ('increase', 'NOUN'), ('in', 'ADP'), ('cases', 'NOUN'), (',', '.'), ('both', 'DET'), ('in', 'ADP'), ('and', 'CONJ'), ('outside', 'ADP'), ('Wuhan', 'NOUN'), ('could', 'VERB'), ('signal', 'VERB'), ('the', 'DET'), ('existence', 'NOUN'), ('of', 'ADP'), ('201', 'NUM'), ('super-spreading', 'ADJ'), ('individuals', 'NOUN'), ('fueling', 'VERB'), ('the', 'DET'), ('outbreak', 'NOUN'), ('.', '.')], [('Alternatively', 'ADV'), (',', '.'), ('super', 'ADJ'), ('spreading', 'NOUN'), ('could', 'VERB'), ('occur', 'VERB'), ('from', 'ADP'), ('the', 'DET'), ('202', 'NUM'), ('zoonotic', 'NOUN'), ('source', 'NOUN'), ('which', 'DET'), ('has', 'VERB'), ('been', 'VERB'), ('seen', 'VERB'), ('in', 'ADP'), ('other', 'ADJ'), ('disease', 'NOUN'), ('outbreaks', 'NOUN'), ('[', 'VERB'), ('10', 'NUM'), (']', 'NOUN'), ('.', '.')], [('In', 'ADP'), ('any', 'DET'), ('event', 'NOUN'), (',', '.'), ('the', 'DET'), ('possibility', 'NOUN'), ('of', 'ADP'), ('203', 'NUM'), ('super', 'ADJ'), ('spreading', 'NOUN'), ('may', 'VERB'), ('continue', 'VERB'), ('to', 'PRT'), ('play', 'VERB'), ('a', 'DET'), ('role', 'NOUN'), ('in', 'ADP'), ('this', 'DET'), ('ongoing', 'ADJ'), ('2019-nCoV', 'ADJ'), ('outbreak', 'NOUN'), ('.', '.')], [('204', 'NUM'), ('7', 'NUM'), ('.', '.')], [('Emerging', 'VERB'), ('Diseases', 'NOUN'), ('in', 'ADP'), ('the', 'DET'), ('Age', 'NOUN'), ('of', 'ADP'), ('Social', 'NOUN'), ('Media', 'NOUN'), ('205', 'NUM'), ('News', 'NOUN'), ('of', 'ADP'), ('the', 'DET'), ('2019-nCoV', 'ADJ'), ('came', 'VERB'), ('to', 'PRT'), ('widespread', 'ADJ'), ('attention', 'NOUN'), ('through', 'ADP'), ('the', 'DET'), ('internet', 'NOUN'), ('.', '.')], [('Over', 'ADP'), ('the', 'DET'), ('years', 'NOUN'), (',', '.'), ('206', 'NUM'), ('websites', 'NOUN'), ('like', 'ADP'), ('FluTrackers.com', 'NOUN'), (',', '.'), ('ProMED', 'NOUN'), ('(', '.'), ('promedmail.org', 'NOUN'), (')', '.'), (',', '.'), ('and', 'CONJ'), ('others', 'NOUN'), ('have', 'VERB'), ('permitted', 'VERB'), ('the', 'DET'), ('collection', 'NOUN'), ('of', 'ADP'), ('207', 'NUM'), ('disease', 'NOUN'), ('information', 'NOUN'), ('from', 'ADP'), ('around', 'ADP'), ('the', 'DET'), ('world', 'NOUN'), ('and', 'CONJ'), ('facilitated', 'ADJ'), ('dissemination', 'NOUN'), ('to', 'PRT'), ('interested', 'ADJ'), ('parties', 'NOUN'), ('.', '.')], [('In', 'ADP'), ('2012', 'NUM'), (',', '.'), ('208', 'NUM'), ('MERS-CoV', 'ADJ'), ('ﬁrst', 'NOUN'), ('drew', 'VERB'), ('attention', 'NOUN'), ('as', 'ADP'), ('a', 'DET'), ('“', 'NOUN'), ('novel', 'NOUN'), ('coronavirus', 'NOUN'), ('”', 'NOUN'), ('entioned', 'VERB'), ('on', 'ADP'), ('ProMED', 'NOUN'), ('Mail', 'NOUN'), ('and', 'CONJ'), ('subsequently', 'ADV'), ('209', 'NUM'), ('through', 'ADP'), ('conversation', 'NOUN'), ('on', 'ADP'), ('twitter', 'NOUN'), ('between', 'ADP'), ('science', 'NOUN'), ('journalists', 'NOUN'), (',', '.'), ('virologists', 'NOUN'), (',', '.'), ('and', 'CONJ'), ('public', 'ADJ'), ('health', 'NOUN'), ('experts', 'NOUN'), ('.', '.')], [('210', 'NUM'), ('Eight', 'NUM'), ('years', 'NOUN'), ('later', 'ADV'), (',', '.'), ('a', 'DET'), ('more', 'ADV'), ('connected', 'ADJ'), ('network', 'NOUN'), ('quickly', 'ADV'), ('dissected', 'VERB'), ('statements', 'NOUN'), ('from', 'ADP'), ('the', 'DET'), ('Wuhan', 'NOUN'), ('Municipal', 'NOUN'), ('211', 'NUM'), ('Health', 'NOUN'), ('Commission', 'NOUN'), ('and', 'CONJ'), ('speculated', 'VERB'), ('about', 'ADP'), ('possible', 'ADJ'), ('causes', 'NOUN'), ('.', '.')], [('Early', 'ADV'), ('during', 'ADP'), ('an', 'DET'), ('outbreak', 'NOUN'), (',', '.'), ('it', 'PRON'), ('can', 'VERB'), ('be', 'VERB'), ('diﬃcult', 'ADV'), ('212', 'NUM'), ('to', 'PRT'), ('distinguish', 'VERB'), ('between', 'ADP'), ('rumors', 'NOUN'), ('with', 'ADP'), ('elements', 'NOUN'), ('of', 'ADP'), ('truth', 'NOUN'), ('versus', 'ADP'), ('baseless', 'ADJ'), ('fear', 'NOUN'), ('mongering', 'NOUN'), ('.', '.')], [('This', 'DET'), ('fact', 'NOUN'), ('can', 'VERB'), ('213', 'NUM'), ('be', 'VERB'), ('exacerbated', 'VERB'), ('by', 'ADP'), ('language', 'NOUN'), ('barriers', 'NOUN'), ('and', 'CONJ'), ('oﬀ', 'VERB'), ('the', 'DET'), ('record', 'NOUN'), ('sources', 'NOUN'), ('.', '.')], [('However', 'ADV'), (',', '.'), ('in', 'ADP'), ('this', 'DET'), ('case', 'NOUN'), (',', '.'), ('speculation', 'NOUN'), ('of', 'ADP'), ('214', 'NUM'), ('a', 'DET'), ('novel', 'ADJ'), ('coronavirus', 'NOUN'), ('was', 'VERB'), ('fed', 'VERB'), ('by', 'ADP'), ('carefully', 'ADV'), ('worded', 'VERB'), ('statements', 'NOUN'), ('that', 'DET'), ('speciﬁcally', 'ADV'), ('excluding', 'VERB'), ('some', 'DET'), ('virus', 'NOUN'), ('215', 'NUM'), ('families', 'NOUN'), ('(', '.'), ('inﬂuenza', 'NOUN'), (',', '.'), ('adenovirus', 'NOUN'), (')', '.'), (',', '.'), ('but', 'CONJ'), ('only', 'ADV'), ('excluded', 'VERB'), ('SARS-CoV', 'NOUN'), ('and', 'CONJ'), ('MERS-CoV', 'NOUN'), ('for', 'ADP'), ('coronaviruses', 'NOUN'), ('.', '.')], [('216', 'NUM'), ('Coupled', 'VERB'), ('with', 'ADP'), ('memories', 'NOUN'), ('of', 'ADP'), ('the', 'DET'), ('SARS', 'NOUN'), ('outbreak', 'NOUN'), (',', '.'), ('many', 'ADJ'), ('worried', 'VERB'), ('that', 'ADP'), ('the', 'DET'), ('truth', 'NOUN'), ('may', 'VERB'), ('be', 'VERB'), ('held', 'VERB'), ('back', 'ADV'), ('.', '.')], [('When', 'ADV'), ('217', 'NUM'), ('the', 'DET'), ('agent', 'NOUN'), ('was', 'VERB'), ('ﬁnally', 'ADV'), ('conﬁrmed', 'VERB'), ('as', 'ADP'), ('a', 'DET'), ('CoV', 'NOUN'), (',', '.'), ('the', 'DET'), ('world', 'NOUN'), ('acted', 'VERB'), ('with', 'ADP'), ('both', 'DET'), ('worry', 'NOUN'), ('and', 'CONJ'), ('relief', 'NOUN'), (':', '.'), ('the', 'DET'), ('outbreak', 'NOUN'), ('218', 'NUM'), ('would', 'VERB'), ('not', 'ADV'), ('be', 'VERB'), ('hidden', 'VERB'), ('.', '.')], [('219', 'NUM'), ('While', 'ADP'), ('far', 'ADV'), ('from', 'ADP'), ('perfect', 'ADJ'), (',', '.'), ('the', 'DET'), ('government', 'NOUN'), ('response', 'NOUN'), ('to', 'PRT'), ('2019-nCoV', 'ADJ'), ('provides', 'VERB'), ('a', 'DET'), ('stark', 'ADJ'), ('contrast', 'NOUN'), ('to', 'PRT'), ('the', 'DET'), ('220', 'NUM'), ('SARS', 'NOUN'), ('outbreak', 'NOUN'), ('at', 'ADP'), ('the', 'DET'), ('beginning', 'NOUN'), ('of', 'ADP'), ('the', 'DET'), ('century', 'NOUN'), ('.', '.')], [('The', 'DET'), ('rapid', 'ADJ'), ('release', 'NOUN'), ('of', 'ADP'), ('2019-nCoV', 'ADJ'), ('sequences', 'NOUN'), ('permitted', 'VERB'), ('the', 'DET'), ('221', 'NUM'), ('research', 'NOUN'), ('community', 'NOUN'), ('to', 'PRT'), ('quickly', 'ADV'), ('become', 'VERB'), ('engaged', 'ADJ'), (',', '.'), ('providing', 'VERB'), ('analysis', 'NOUN'), ('and', 'CONJ'), ('developing', 'VERB'), ('diagnostic', 'ADJ'), ('tests', 'NOUN'), ('.', '.')], [('222', 'NUM'), ('Both', 'CONJ'), ('the', 'DET'), ('Chinese', 'NOUN'), ('CDC', 'NOUN'), ('and', 'CONJ'), ('the', 'DET'), ('Wuhan', 'NOUN'), ('Municipal', 'NOUN'), ('Health', 'NOUN'), ('Commission', 'NOUN'), ('have', 'VERB'), ('posted', 'VERB'), ('regular', 'ADJ'), ('updates', 'NOUN'), ('223', 'NUM'), ('of', 'ADP'), ('conﬁrmed', 'ADJ'), ('case', 'NOUN'), ('numbers', 'NOUN'), ('and', 'CONJ'), ('patient', 'ADJ'), ('statuses', 'NOUN'), ('enabling', 'VERB'), ('public', 'ADJ'), ('health', 'NOUN'), ('authorities', 'NOUN'), ('to', 'PRT'), ('monitor', 'VERB'), ('the', 'DET'), ('224', 'NUM'), ('situation', 'NOUN'), ('in', 'ADP'), ('real', 'ADJ'), ('time', 'NOUN'), ('.', '.')], [('Researchers', 'NOUN'), ('from', 'ADP'), ('around', 'ADP'), ('the', 'DET'), ('world', 'NOUN'), ('have', 'VERB'), ('connected', 'VERB'), ('on', 'ADP'), ('social', 'ADJ'), ('media', 'NOUN'), ('to', 'PRT'), ('compare', 'VERB'), ('225', 'NUM'), ('updated', 'ADJ'), ('sequence', 'NOUN'), ('information', 'NOUN'), ('and', 'CONJ'), ('highlight', 'NOUN'), ('key', 'NOUN'), ('unknowns', 'NOUN'), ('about', 'ADP'), ('the', 'DET'), ('outbreak', 'NOUN'), ('.', '.')], [('While', 'ADP'), ('not', 'ADV'), ('always', 'ADV'), ('226', 'NUM'), ('provided', 'VERB'), ('in', 'ADP'), ('a', 'DET'), ('timely', 'ADJ'), ('manner', 'NOUN'), (',', '.'), ('the', 'DET'), ('ability', 'NOUN'), ('to', 'PRT'), ('share', 'NOUN'), ('news', 'NOUN'), ('updates', 'NOUN'), ('and', 'CONJ'), ('data', 'NOUN'), ('in', 'ADP'), ('real', 'ADJ'), ('time', 'NOUN'), ('with', 'ADP'), ('researchers', 'NOUN'), ('227', 'NUM'), ('and', 'CONJ'), ('public', 'ADJ'), ('health', 'NOUN'), ('oﬃcials', 'NOUN'), ('around', 'ADP'), ('the', 'DET'), ('world', 'NOUN'), ('signals', 'VERB'), ('a', 'DET'), ('major', 'ADJ'), ('change', 'NOUN'), ('in', 'ADP'), ('the', 'DET'), ('response', 'NOUN'), ('to', 'PRT'), ('outbreaks', 'NOUN'), ('.', '.')], [('This', 'DET'), ('228', 'NUM'), ('connectivity', 'NOUN'), ('has', 'VERB'), ('facilitated', 'VERB'), ('awareness', 'NOUN'), ('as', 'ADV'), ('well', 'ADV'), ('as', 'ADP'), ('new', 'ADJ'), ('collaborations', 'NOUN'), ('and', 'CONJ'), ('a', 'DET'), ('rapid', 'ADJ'), ('response', 'NOUN'), ('by', 'ADP'), ('the', 'DET'), ('global', 'ADJ'), ('229', 'NUM'), ('research', 'NOUN'), ('community', 'NOUN'), ('.', '.')], [('While', 'ADP'), ('there', 'DET'), ('are', 'VERB'), ('many', 'ADJ'), ('unknowns', 'NOUN'), ('with', 'ADP'), ('2019-nCoV', 'ADJ'), (',', '.'), ('the', 'DET'), ('world', 'NOUN'), ('is', 'VERB'), ('engaged', 'VERB'), ('and', 'CONJ'), ('230', 'NUM'), ('prepared', 'VERB'), ('to', 'PRT'), ('battle', 'NOUN'), ('the', 'DET'), ('newest', 'ADJ'), ('emergent', 'NOUN'), ('virus', 'NOUN'), ('strain', 'NOUN'), ('.', '.')], [('Perhaps', 'ADV'), ('this', 'DET'), ('means', 'VERB'), ('the', 'DET'), ('lessons', 'NOUN'), ('from', 'ADP'), ('the', 'DET'), ('SARS', 'NOUN'), ('231', 'NUM'), ('outbreak', 'NOUN'), ('have', 'VERB'), ('truly', 'ADV'), ('been', 'VERB'), ('learned', 'VERB'), ('.', '.')], [('232', 'NUM'), ('Author', 'ADJ'), ('Contributions', 'NOUN'), (':', '.'), ('L.E.G', 'NOUN'), ('.', '.')], [('and', 'CONJ'), ('V.D.M', 'NOUN'), ('.', '.')], [('prepared', 'VERB'), ('this', 'DET'), ('manuscript', 'NOUN'), ('.', '.')], [('All', 'DET'), ('authors', 'NOUN'), ('have', 'VERB'), ('read', 'VERB'), ('and', 'CONJ'), ('agreed', 'VERB'), ('to', 'PRT'), ('the', 'DET'), ('233', 'NUM'), ('published', 'VERB'), ('version', 'NOUN'), ('of', 'ADP'), ('the', 'DET'), ('manuscript', 'NOUN'), ('.', '.')], [('234', 'NUM'), ('Funding', 'NOUN'), (':', '.'), ('This', 'DET'), ('research', 'NOUN'), ('received', 'VERB'), ('no', 'DET'), ('external', 'ADJ'), ('funding', 'NOUN'), ('.', '.')], [('235', 'NUM'), ('Conﬂicts', 'NOUN'), ('of', 'ADP'), ('Interest', 'NOUN'), (':', '.'), ('The', 'DET'), ('authors', 'NOUN'), ('declare', 'VERB'), ('no', 'DET'), ('conﬂict', 'NOUN'), ('of', 'ADP'), ('interest', 'NOUN'), ('.', '.')], [('236', 'NUM'), ('©', 'ADJ'), ('2020', 'NUM'), ('by', 'ADP'), ('the', 'DET'), ('authors', 'NOUN'), ('.', '.')], [('Licensee', 'NOUN'), ('MDPI', 'NOUN'), (',', '.'), ('Basel', 'NOUN'), (',', '.'), ('Switzerland', 'NOUN'), ('.', '.')], [('This', 'DET'), ('article', 'NOUN'), ('is', 'VERB'), ('an', 'DET'), ('open', 'ADJ'), ('access', 'NOUN'), ('237', 'NUM'), ('article', 'NOUN'), ('distributed', 'VERB'), ('under', 'ADP'), ('the', 'DET'), ('terms', 'NOUN'), ('and', 'CONJ'), ('conditions', 'NOUN'), ('of', 'ADP'), ('the', 'DET'), ('Creative', 'ADJ'), ('Commons', 'NOUN'), ('Attribution', 'NOUN'), ('238', 'NUM'), ('(', '.'), ('CC', 'NOUN'), ('BY', 'NOUN'), (')', '.'), ('license', 'NOUN'), ('(', '.'), ('http', 'NOUN'), (':', '.'), ('//creativecommons.org/licenses/by/4.0/', 'NOUN'), (')', '.'), ('.', '.')]]\n"
     ]
    }
   ],
   "source": [
    "sentence_tags = nltk.pos_tag_sents([nltk.word_tokenize(sent) for sent in sent_tokenize_list], lang='eng', tagset='universal')\n",
    "print('LENGTH OF LIST: ' + str(len(sentence_tags))+ ' SENTENCES')\n",
    "print(sent_tokenize_list)\n",
    "print(sentence_tags)\n"
   ]
  },
  {
   "cell_type": "code",
   "execution_count": 14,
   "id": "7a9c6899",
   "metadata": {},
   "outputs": [
    {
     "data": {
      "text/plain": [
       "[('the', 202),\n",
       " ('of', 108),\n",
       " ('and', 99),\n",
       " ('to', 89),\n",
       " ('in', 75),\n",
       " ('a', 48),\n",
       " ('2019-nCoV', 44),\n",
       " ('with', 42),\n",
       " ('human', 30),\n",
       " ('from', 29)]"
      ]
     },
     "execution_count": 14,
     "metadata": {},
     "output_type": "execute_result"
    }
   ],
   "source": [
    "Counter((text).split()).most_common(10)"
   ]
  },
  {
   "cell_type": "code",
   "execution_count": 15,
   "id": "7b9650c8",
   "metadata": {},
   "outputs": [
    {
     "data": {
      "image/png": "[encoded data removed]",
      "text/plain": [
       "<Figure size 360x360 with 1 Axes>"
      ]
     },
     "metadata": {
      "needs_background": "light"
     },
     "output_type": "display_data"
    }
   ],
   "source": [
    "from wordcloud import WordCloud\n",
    "import matplotlib.pyplot as plt\n",
    "%matplotlib inline\n",
    "\n",
    "wordcloud = WordCloud(width = 700, height = 700, \n",
    "                background_color ='white', \n",
    "                min_font_size = 5).generate(text) \n",
    "  \n",
    "# plot the WordCloud image                        \n",
    "plt.figure(figsize = (5, 5), facecolor = None) \n",
    "plt.imshow(wordcloud) \n",
    "plt.axis(\"off\") \n",
    "plt.tight_layout(pad = 0) \n",
    "  \n",
    "plt.show()"
   ]
  },
  {
   "cell_type": "code",
   "execution_count": 16,
   "id": "55649060",
   "metadata": {},
   "outputs": [
    {
     "name": "stdout",
     "output_type": "stream",
     "text": [
      "19113\n"
     ]
    }
   ],
   "source": [
    "wordCount = 0\n",
    "for line in text:\n",
    "    lin = line.rstrip()\n",
    "    wds = lin.split()\n",
    "    wordCount += len(wds)\n",
    "print(wordCount)"
   ]
  },
  {
   "cell_type": "code",
   "execution_count": 17,
   "id": "6d9996b2",
   "metadata": {},
   "outputs": [
    {
     "name": "stdout",
     "output_type": "stream",
     "text": [
      "Number of words in text file : 3612\n",
      "['Return', 'of', 'the', 'Coronavirus:', '2019-nCoV', '0', 'Lisa', 'E.', 'Gralinski', 'and', 'Vineet', 'D.', 'Menachery', '1', 'Abstract:', 'The', 'emergence', 'of', 'a', 'novel', 'coronavirus', '(2019-nCoV)', 'has', 'awakened', 'the', 'echoes', 'of', 'SARS-CoV', '2', 'from', 'nearly', 'two', 'decades', 'ago.', 'Yet,', 'with', 'technological', 'advances', 'and', 'important', 'lessons', 'gained', 'from', '3', 'previous', 'outbreaks,', 'perhaps', 'the', 'world', 'is', 'better', 'equipped', 'to', 'deal', 'with', 'the', 'most', 'recent', 'emergent', '4', 'group', '2B', 'coronavirus.', '5', 'Keywords:', '2019-nCoV;', 'novel', 'CoV;', 'Wuhan;', 'Wuhan', 'pneumonia;', 'coronavirus;', 'emerging', 'viruses;', '6', 'SARS-CoV;', 'MERS-CoV', '7', '1.', 'Emergence', '8', 'The', 'third', 'zoonotic', 'human', 'coronavirus', '(CoV)', 'of', 'the', 'century', 'emerged', 'in', 'December', '2019,', 'with', '9', 'a', 'cluster', 'of', 'patients', 'with', 'connections', 'to', 'Huanan', 'South', 'China', 'Seafood', 'Market', 'in', 'Wuhan,', 'Hubei', '10', 'Province,', 'China.', 'Similar', 'to', 'severe', 'acute', 'respiratory', 'syndrome', 'coronavirus', '(SARS-CoV)', 'and', 'Middle', '11', 'East', 'respiratory', 'syndrome', 'coronavirus', '(MERS-CoV)', 'infections,', 'patients', 'exhibited', 'symptoms', 'of', 'viral', '12', 'pneumonia', 'including', 'fever,', 'diﬃculty', 'breathing,', 'and', 'bilateral', 'lung', 'inﬁltration', 'in', 'the', 'most', 'severe', '13', 'cases', '[1].', 'News', 'reports', 'of', 'patients', 'with', 'an', 'unknown', 'pneumonia', 'were', 'ﬁrst', 'identiﬁed', 'on', '31st', 'December', '14', 'with', 'the', 'Wuhan', 'Municipal', 'Health', 'Commission', 'saying', 'they', 'were', 'monitoring', 'the', 'situation', 'closely', '15', '(Figure', '1).', 'On', '1st', 'January', '2020,', 'the', 'seafood', 'market', 'was', 'closed', 'and', 'decontaminated', 'while', 'countries', '16', 'with', 'travel', 'links', 'to', 'Wuhan', 'went', 'on', 'high', 'alert', 'for', 'potential', 'travelers', 'with', 'unexplained', 'respiratory', '17', 'disease.', 'After', 'extensive', 'speculation', 'about', 'a', 'causative', 'agent,', 'the', 'Chinese', 'Center', 'for', 'Disease', 'Control', '18', 'and', 'Prevention', '(CDC)', 'conﬁrmed', 'a', 'report', 'by', 'the', 'Wall', 'Street', 'Journal', 'and', 'announced', 'identiﬁcation', '19', 'of', 'a', 'novel', 'CoV', 'on', '9th', 'January', '[2].', 'The', 'novel', 'CoV', '(2019-nCoV)', 'was', 'isolated', 'from', 'a', 'single', 'patient', '20', 'and', 'subsequently', 'veriﬁed', 'in', '16', 'additional', 'patients', '[3].', 'While', 'not', 'yet', 'conﬁrmed', 'to', 'induce', 'the', 'viral', '21', 'pneumonia,', '2019-nCoV', 'was', 'quickly', 'predicted', 'as', 'the', 'likely', 'causative', 'agent.', '22', 'The', 'ﬁrst', 'sequence', 'of', '2019-nCoV', 'was', 'posted', 'online', 'one', 'day', 'after', 'its', 'conﬁrmation', 'on', 'behalf', 'of', '23', 'Dr.', 'Yong-Zhen', 'Zhang', 'and', 'scientists', 'at', 'Fudan', 'University,', 'Shanghai', '[4].', 'Subsequently,', 'ﬁve', 'additional', '24', '2019-nCoV', 'sequences', 'were', 'deposited', 'on', 'the', 'GSAID', 'database', 'on', '11th', 'January', 'from', 'institutes', 'across', '25', 'China', '(Chinese', 'CDC,', 'Wuhan', 'Institute', 'of', 'Virology', 'and', 'Chinese', 'Academy', 'of', 'Medical', 'Sciences', '&', '26', 'Peking', 'Union', 'Medical', 'College)', 'and', 'allowed', 'researchers', 'around', 'the', 'world', 'to', 'begin', 'analyzing', 'the', 'new', '27', 'CoV', '[5].', 'By', '17th', 'January,', 'there', 'were', '62', 'conﬁrmed', 'cases', 'in', 'China', 'and', 'importantly,', 'three', 'exported', '28', 'cases', 'of', 'infected', 'travelers', 'who', 'were', 'diagnosed', 'in', 'Thailand', '(2)', 'and', 'Japan', '(1)', '[6].', 'The', 'sequences', 'of', '29', 'these', 'exported', 'cases', 'and', 'several', 'additional', '2019-nCoV', 'isolated', 'in', 'China', 'have', 'also', 'been', 'deposited', '30', 'on', 'the', 'GSAID', 'database', '[5].', 'Diagnostic', 'tests', 'have', 'subsequently', 'been', 'developed', 'and', 'some', 'are', 'being', '31', 'used', 'on', 'suspect', 'cases', 'identiﬁed', 'in', 'other', 'locations', 'including', 'Vietnam,', 'Singapore,', 'and', 'Hong', 'Kong', '[7].', '32', 'To', 'date', 'there', 'have', 'been', 'twenty-six', 'fatalities', 'associated', 'with', '2019-nCoV', 'infection,', 'many', 'of', 'these', 'cases', '33', 'had', 'signiﬁcant', 'co-morbidities', 'and', 'were', 'older', 'in', 'age', '(>50).', 'A', 'range', 'of', 'disease', 'has', 'been', 'observed', '34', 'highlighted', 'by', 'fever,', 'dry', 'cough,', 'shortness', 'of', 'breath,', 'and', 'leukopenia;', 'patients', 'have', 'included', 'mild', 'cases', '35', 'needing', 'supportive', 'care', 'to', 'severe', 'cases', 'requiring', 'extracorporeal', 'membrane', 'oxygenation;', 'however,', '36', 'compared', 'to', 'SARS-CoV', '(10%', 'mortality)', 'and', 'MERS-CoV', '(35%', 'mortality),', 'the', '2019-nCoV', 'appears', 'to', 'be', '37', 'less', 'virulent', 'at', 'this', 'point', 'with', 'the', 'exception', 'of', 'the', 'elderly', 'and', 'those', 'with', 'underlying', 'health', 'conditions.', '38', 'Initial', 'monitoring', 'of', 'case', 'close', 'contacts', 'had', 'not', 'revealed', 'any', 'further', '2019-nCoV', 'cases.', 'However,', '39', 'modeling', 'analysis', 'based', 'on', 'oﬃcial', 'case', 'numbers', 'and', 'international', 'spread', 'suggested', 'that', 'there', 'may', '40', 'be', 'cases', 'going', 'undetected', '[8].', 'On', '19th', 'January,', 'these', 'fears', 'were', 'seemingly', 'conﬁrmed', 'as', 'an', 'additional', '41', '136', 'cases', 'were', 'added', 'from', 'further', 'surveys', 'raising', 'the', 'total', 'in', 'Wuhan', 'to', '198', 'infected', 'patients', '[9].', '42', 'Among', 'the', '198', 'total', 'cases', 'in', 'Wuhan,', '170', 'remained', 'in', 'hospitals,', '126', 'mostly', 'with', 'mild', 'symptoms,', '43', '35', 'in', 'serious', 'condition,', 'and', '9', 'in', 'critical', 'condition.', 'The', 'expanded', 'numbers', 'and', 'extended', 'range', 'of', '44', 'onset', 'dates', '(12', 'December', '2019–18', 'January', '2020)', 'suggested', 'likely', 'human', 'to', 'human', 'transmission', 'or', '45', 'ongoing', 'transmission', 'from', 'a', 'market', 'or', 'other', 'primary', 'sources.', 'On', '20th', 'January,', 'the', 'outbreak', 'was', '46', 'further', 'expanded', 'to', 'other', 'parts', 'of', 'China', '(Beijing,', 'Shanghai,', '&', 'Shenzhen)', 'as', 'well', 'as', 'another', 'exported', '47', 'cases', 'to', 'South', 'Korea.', 'As', 'of', 'January', '24,', 'the', 'total', 'case', 'number', 'has', 'expanded', 'to', 'at', 'least', '870', 'total', 'cases', '48', 'with', '26', 'deaths', 'across', '25', 'provinces', 'in', 'China', 'and', '19', 'exported', 'cases', 'in', '10', 'countries', '[10].', 'Public', 'health', '49', 'authorities', 'have', 'quarantined', 'travel', 'from', 'Wuhan', 'to', 'limit', 'the', 'spread', 'of', 'the', 'virus', 'and', 'reports', 'indicate', '50', 'other', 'Chinese', 'cities', 'have', 'also', 'been', 'isolated', '[11].', 'With', 'the', 'heavy', 'travel', 'season', 'for', 'lunar', 'New', 'Year', '51', 'underway', 'in', 'Asia,', 'major', 'concerns', 'exist', 'for', 'the', '2019-nCoV', 'outbreak', 'to', 'continue', 'and', 'spread.', '52', '2.', 'Origins', 'of', '2019-nCoV', '53', 'The', 'source', 'of', 'the', '2019-nCoV', 'is', 'still', 'unknown,', 'although', 'the', 'initial', 'cases', 'have', 'been', 'associated', 'with', '54', 'the', 'Huanan', 'South', 'China', 'Seafood', 'Market.', 'While', 'many', 'of', 'the', 'early', 'patients', 'worked', 'in', 'or', 'visited', 'the', '55', 'market,', 'none', 'of', 'the', 'exported', 'cases', 'had', 'contact', 'with', 'the', 'market,', 'suggesting', 'either', 'human', 'to', 'human', '56', 'transmission', 'or', 'a', 'more', 'widespread', 'animal', 'source', '[6].', 'In', 'addition', 'to', 'seafood,', 'it', 'is', 'reported', 'on', 'social', '57', 'media', 'that', 'snakes,', 'birds', 'and', 'other', 'small', 'mammals', 'including', 'marmots', 'and', 'bats', 'were', 'sold', 'at', 'the', '58', 'Huanan', 'South', 'China', 'Seafood', 'Market.', 'The', 'WHO', 'reported', 'that', 'environmental', 'samples', 'taken', 'from', 'the', '59', 'marketplace', 'have', 'come', 'back', 'positive', 'for', 'the', 'novel', 'coronavirus,', 'but', 'no', 'speciﬁc', 'animal', 'association', '60', 'has', 'been', 'identiﬁed', '[6].', 'An', 'initial', 'report', 'suggested', 'that', 'snakes', 'might', 'be', 'the', 'possible', 'source', 'based', '61', 'on', 'codon', 'usage', '[12],', 'but', 'the', 'assertion', 'has', 'been', 'disputed', 'by', 'others', '[13].', 'Researchers', 'are', 'currently', '62', 'working', 'to', 'identify', 'the', 'source', 'of', '2019-nCoV', 'including', 'possible', 'intermediate', 'animal', 'vectors.', '63', 'A', 'zoonotic', 'reservoir', 'harkens', 'back', 'to', 'the', 'emergence', 'of', 'both', 'SARS-', 'and', 'MERS-CoV.', 'SARS-CoV,', '64', 'the', 'ﬁrst', 'highly', 'pathogenic', 'human', 'CoV,', 'emerged', 'in', '2002', 'with', 'transmission', 'from', 'animals', 'to', 'humans', '65', 'occurring', 'in', 'wet', 'markets.', 'Surveillance', 'eﬀorts', 'found', 'SARS-CoV', 'viral', 'RNA', 'in', 'both', 'palm', 'civets', 'and', '66', 'raccoon', 'dogs', 'sold', 'in', 'these', 'wet', 'markets', '[14];', 'however,', 'SARS-CoV', 'was', 'not', 'found', 'in', 'the', 'wild,', 'suggesting', '67', 'that', 'those', 'species', 'served', 'as', 'intermediary', 'reservoir', 'as', 'the', 'virus', 'adapted', 'to', 'more', 'eﬃciently', 'infect', '68', 'humans.', 'Further', 'surveillance', 'eﬀorts', 'identiﬁed', 'highly', 'related', 'CoVs', 'in', 'bat', 'species', '[15].', 'More', 'recent', '69', 'work', 'has', 'demonstrated', 'that', 'several', 'bat', 'CoVs', 'are', 'capable', 'of', 'infecting', 'human', 'cells', 'without', 'a', 'need', 'for', '70', 'intermediate', 'adaptation', '[16,17].', 'Additionally,', 'human', 'serology', 'data', 'shows', 'recognition', 'of', 'bat', 'CoV', '71', 'proteins', 'and', 'indicates', 'that', 'low-level', 'zoonotic', 'transmission', 'of', 'SARS-like', 'bat', 'coronaviruses', 'occurs', '72', 'outside', 'of', 'recognized', 'outbreaks', '[18].', 'MERS-CoV', 'is', 'also', 'a', 'zoonotic', 'virus', 'with', 'possible', 'origins', 'in', '73', 'bats', '[19,20],', 'although', 'camels', 'are', 'endemically', 'infected', 'and', 'camel', 'contact', 'is', 'frequently', 'reported', 'during', '74', 'primary', 'MERS-CoV', 'cases', '[21].', 'For', 'SARS-CoV,', 'strict', 'quarantine', 'and', 'the', 'culling', 'of', 'live', 'markets', 'in', 'SE', '75', 'Asia', 'played', 'a', 'major', 'role', 'in', 'ending', 'the', 'outbreak.', 'With', 'the', 'cultural', 'importance', 'of', 'camels,', 'a', 'similar', '76', 'approach', 'for', 'MERS-CoV', 'was', 'not', 'an', 'option', 'and', 'periodic', 'outbreaks', 'continue', 'in', 'the', 'Middle', 'East.', 'These', '77', 'lessons', 'from', 'SARS', 'and', 'MERS', 'highlight', 'the', 'importance', 'of', 'rapidly', 'ﬁnding', 'the', 'source', 'for', '2019-nCoV', 'in', '78', 'order', 'to', 'stem', 'the', 'ongoing', 'outbreak.', '79', '3.', 'Susceptible', 'Populations', '80', 'With', 'limited', 'patient', 'data,', 'it', 'is', 'diﬃcult', 'to', 'make', 'robust', 'declarations', 'about', 'populations', 'that', '81', 'may', 'be', 'most', 'susceptible', 'to', '2019-nCoV.', 'However,', 'disease', 'severity', 'following', 'SARS-', 'and', 'MERS-CoV', '82', 'corresponded', 'strongly', 'to', 'underlying', 'host', 'conditions', 'including', 'age,', 'biological', 'sex,', 'and', 'overall', '83', 'health', '[22].', 'Early', 'patient', 'reports', 'from', '2019-nCoV', 'ﬁnd', 'similar', 'trends.', 'Severe', 'illness', 'with', '2019-nCoV', 'has', '84', 'been', 'associated', 'with', 'elderly', 'patients', '(>60', 'years', 'old),', 'including', 'twenty-six', 'lethal', 'cases.', 'These', 'ﬁndings', '85', 'correspond', 'to', 'increased', 'severity', 'and', 'death', 'in', 'people', 'over', 'the', 'age', 'of', '50', 'following', 'both', 'SARS', 'and', '86', 'MERS-CoV', 'infection', '[23,24].', 'Similarly,', 'the', 'underlying', 'health', 'of', 'the', 'patient', 'likely', 'plays', 'a', 'critical', '87', 'role', 'in', 'overall', 'susceptibility.', 'For', 'the', '2019-nCoV,', 'limited', 'comorbidity', 'data', 'is', 'available;', 'however,', '88', 'the', 'twenty-six', 'patients', 'that', 'have', 'succumbed', 'to', 'the', 'novel', 'CoV', 'had', 'signiﬁcant', 'health', 'conditions', '89', 'including', 'hypertension,', 'diabetes,', 'heart', 'and/or', 'kidney', 'function', 'issues', 'that', 'may', 'have', 'made', 'them', 'more', '90', 'susceptible.', 'For', 'the', 'MERS-CoV', 'outbreak,', 'smoking,', 'hypertension,', 'diabetes,', 'cardiovascular', 'disease,', '91', 'and/or', 'other', 'chronic', 'illnesses', 'have', 'been', 'present', 'in', 'the', 'majority', 'of', 'deaths', 'and', 'correspond', 'to', 'ﬁndings', 'in', '92', 'animal', 'models', '[25].', 'The', 'results', 'indicate', 'vigilance', 'is', 'necessary', 'for', 'these', 'vulnerable', 'patients', 'following', '93', '2019-nCoV', 'infection.', '94', '4.', 'Insights', 'from', 'the', '2019-nCoV', 'Sequence', '95', 'The', 'rapid', 'sequencing', 'of', 'the', 'nearly', '30,000', 'nucleotide', '2019-nCoV', 'genome', 'by', 'Dr.', 'Zhang’s', 'group', 'at', '96', 'Fudan', 'University', 'and', 'several', 'other', 'groups', 'in', 'China', 'illustrate', 'the', 'dedication', 'and', 'increased', 'capacity', '97', 'of', 'the', 'scientiﬁc', 'infrastructure', 'in', 'China', '[4,5].', 'For', 'SARS-CoV,', 'the', 'causative', 'agent', 'was', 'unknown', 'for', '98', 'months', 'and', 'subsequently', 'took', 'over', 'four', 'weeks', 'until', 'a', 'full', 'genome', 'was', 'released', '[26].', 'Similarly,', '99', 'MERS-CoV', 'was', 'only', 'identiﬁed', 'after', 'several', 'months', 'of', 'testing', 'and', 'a', 'full-length', 'genome', 'available', '100', 'about', 'a', 'month', 'later', '[27].', 'In', 'contrast,', 'time', 'from', 'the', 'ﬁrst', 'date', 'of', 'patient', 'onset', '(12', 'December', '2019)', 'to', '101', 'the', 'report', 'of', 'several', '2019-nCoV', 'full-length', 'genomes', 'took', 'less', 'than', 'one', 'month.', 'Combined', 'with', 'the', '102', 'immense', 'pressure', 'of', 'an', 'ongoing', 'outbreak', 'with', 'an', 'unknown', 'agent,', 'the', 'eﬀort', 'of', 'these', 'scientists', 'should', '103', 'be', 'considered', 'nothing', 'less', 'than', 'remarkable.', '104', 'Building', 'from', 'the', 'sequence,', 'the', 'nucleotide', 'alignment', 'quickly', 'distinguished', 'the', 'novel', 'virus', 'as', 'a', '105', 'group', '2B', 'CoV,', 'distinct', 'from', 'the', 'SARS-CoV', 'strains', '[4,5].', 'Examining', 'the', 'whole', 'genome,', '2019-nCoV', '106', 'maintains', '~80%', 'nucleotide', 'identity', 'to', 'the', 'original', 'SARS', 'epidemic', 'viruses.', 'Its', 'closest', 'whole', 'genome', '107', 'relatives', 'are', 'two', 'bat', 'SARS-like', 'CoVs', '(ZC45', 'and', 'ZXC21)', 'that', 'shared', '~89%', 'sequence', 'identity', 'with', '108', '2019-nCoV;', 'these', 'CoV', 'sequences', 'were', 'deposited', 'in', 'early', '2018', 'from', 'Zhejiang', 'province', 'in', 'R.', 'sinicus', '109', 'bats', 'in', 'China.', 'Comparing', 'across', 'the', 'deposited', '2019-nCoV', 'strains', 'ﬁnds', '>', '99.5%', 'conservation;', 'the', 'lack', '110', 'of', 'diversity', 'suggests', 'a', 'common', 'lineage', 'and', 'source', 'with', 'emergence', 'not', 'likely', 'having', 'occurred', 'that', '111', 'long', 'ago', '[28,29].', 'A', 'recent', 'report', 'has', 'subsequently', 'identiﬁed', 'a', 'bat', 'CoV', 'sequence,', 'RaTG3,', 'with', '92%', '112', 'sequence', 'identity', 'with', 'the', 'novel', 'virus', 'which', 'argues', 'for', 'bat', 'origins', 'for', 'the', '2019-nCoV', '[30].', '113', 'We', 'next', 'shifted', 'analysis', 'to', 'the', 'nucleocapsid', '(N)', 'protein,', 'the', 'most', 'abundant', 'protein', 'produced', 'in', '114', 'CoVs.', 'Generally,', 'the', 'N', 'protein', 'is', 'well', 'conserved', 'across', 'CoV', 'families', 'including', 'group', '2B', '[31].', 'The', 'N', '115', 'protein', 'for', '2019-nCoV', 'is', 'no', 'exception', 'with', '~90%', 'amino', 'acid', 'identity', 'to', 'the', 'SARS-CoV', 'N', 'protein.', 'While', '116', 'less', 'conserved', 'than', 'other', 'group', '2B', 'CoVs', 'like', 'HKU3-CoV', 'and', 'SHC014-CoV,', '2019-nCoV', 'antibodies', '117', 'against', 'the', 'N', 'protein', 'would', 'likely', 'recognize', 'and', 'bind', 'the', 'SARS-CoV', 'N', 'protein', 'as', 'well.', 'N', 'antibodies', '118', 'do', 'not', 'provide', 'immunity', 'to', '2019-nCoV', 'infection,', 'but', 'the', 'cross', 'reactivity', 'with', 'SARS-CoV', 'N', 'protein', '119', 'would', 'allow', 'a', 'serum', 'based', 'assay', 'to', 'determine', 'exposure', 'to', 'the', 'novel', 'CoV', 'in', 'asymptomatic', 'cases.', 'While', '120', 'previous', 'studies', 'have', 'found', 'serum', 'reactivity', 'to', 'group', '2B', 'virus', 'N', 'proteins', 'in', 'Chinese', 'populations', '[18],', '121', 'exposure', 'to', '2019-nCoV', 'should', 'increase', 'the', 'dilution', 'factor', 'substantially', 'if', 'exposure/infection', 'had', '122', 'occurred.', 'Importantly,', 'this', 'information', 'may', 'provide', 'insights', 'about', 'susceptibly', 'and', 'potential', 'routes', 'of', '123', 'spread', 'through', 'asymptomatic', 'carriers.', '124', 'Examining', 'further,', 'we', 'next', 'compared', 'the', 'spike', 'proteins,', 'the', 'critical', 'glycoprotein', 'responsible', '125', 'for', 'virus', 'binding', 'and', 'entry.', 'Overall,', 'the', '2019-nCoV', 'spike', 'protein', 'has', 'roughly', '75%', 'amino', 'acid', '126', 'identity', 'with', 'SARS-CoV,', 'which', 'is', 'less', 'conserved', 'than', 'other', 'group', '2B', 'CoVs', 'including', 'HKU3-CoV', '[31].', '127', 'However,', 'narrowing', 'analysis', 'to', 'the', 'spike', 'receptor', 'binding', 'domain', '(RBD)', 'of', 'SARS-CoV', '(amino', 'acids', '128', '318–518),', 'the', '2019-nCoV', 'RBD', 'is', '73%', 'conserved', 'relative', 'to', 'the', 'epidemic', 'RBD.', 'This', 'conservation', '129', 'level', 'places', 'the', '2019-nCoV', 'RBD', 'between', 'HKU3-4', '(62.7%', 'conservation),', 'a', 'bat', 'virus', 'that', 'cannot', 'use', '130', 'human', 'ACE2,', 'and', 'rSHC014', '(80.8%),', 'the', 'most', 'divergent', 'bat', 'CoV', 'spike', 'known', 'to', 'use', 'human', 'ACE2', 'for', '131', 'entry', '[16,32].', 'Importantly,', 'the', 'key', 'binding', 'residues', 'for', 'SARS-CoV', 'have', 'been', 'identiﬁed', '[33];', 'among', '132', 'these', 'fourteen', 'residues', 'predicted', 'to', 'interact', 'directly', 'with', 'human', 'ACE2,', 'the', 'receptor', 'for', 'SARS-CoV,', '133', 'eight', 'amino', 'acids', 'are', 'conserved', 'in', '2019-nCoV.', 'Notably,', 'several', 'of', 'these', 'residues', 'are', 'also', 'conserved', '134', 'relative', 'to', 'WIV1-', 'and', 'WIV16-CoV,', 'two', 'bat', 'strains', 'closely', 'related', 'to', 'SARS-CoV', 'and', 'known', 'to', 'use', '135', 'human', 'ACE2', '[17,34].', 'Initial', 'structural', 'modeling', 'suggest', 'that', 'the', '2019-nCoV', 'may', 'be', 'able', 'to', 'use', 'human', '136', 'ACE2', 'as', 'a', 'receptor,', 'although', 'its', 'aﬃnity', 'm', 'be', 'reduced', 'relative', 'to', 'the', 'epidemic', 'SARS-CoV', 'strains', '[35].', '137', 'A', 'subsequent', 'report', 'demonstrated', 'that', 'the', 'receptor', 'binding', 'domain', 'of', '2019-nCoV', 'was', 'capable', 'of', '138', 'binding', 'ACE2', 'in', 'the', 'context', 'of', 'the', 'SARS-CoV', 'spike', 'protein', '[36].', 'In', 'addition,', 'another', 'rapid', 'report', '139', 'links', 'demonstrates', '2019-nCoV', 'uses', 'ACE2', 'receptors', 'from', 'human,', 'bat,', 'civets,', 'and', 'swine', '[30].', 'Together,', '140', 'the', 'modeling,', 'pseudotyping,', 'and', 'infection', 'data', 'provide', 'strong', 'evidence', 'for', 'human', 'ACE2', 'being', 'the', '141', 'receptor', 'for', '2019-nCoV.', '142', '5.', 'Achieving', 'Koch', 'Postulates', '143', 'Traditional', 'identiﬁcation', 'of', 'a', 'microbe', 'as', 'the', 'causative', 'agent', 'of', 'disease', 'requires', 'fulﬁllment', 'of', '144', 'Koch’s', 'postulates,', 'modiﬁed', 'by', 'Rivers', 'for', 'viral', 'diseases', '[37].', 'At', 'the', 'present', 'time,', 'the', '2019-nCoV', '145', 'has', 'been', 'isolated', 'from', 'patients,', 'detected', 'by', 'speciﬁc', 'assays', 'in', 'patients,', 'and', 'cultured', 'in', 'host', 'cells', '146', '(one', 'available', 'sequence', 'is', 'identiﬁed', 'as', 'a', 'passage', 'isolate),', 'starting', 'to', 'fulﬁll', 'these', 'criteria.', 'Given', 'the', '147', 'recentness', 'of', 'the', '2019-nCoV', 'outbreak,', 'at', 'this', 'point', 'there', 'is', 'no', 'animal', 'model', 'available', 'to', 'fulﬁll', 'the', '148', 'remaining', 'criteria:', '1)', 'testing', 'the', 'capability', 'of', '2019-nCoV', 'to', 'cause', 'respiratory', 'disease', 'in', 'a', 'related', '149', 'species,', '2)', 're-isolating', 'the', 'virus', 'from', 'the', 'experimentally', 'infected', 'animal', 'and', '3)', 'detection', 'of', 'a', 'speciﬁc', '150', 'immune', 'response.', 'These', 'eﬀorts', 'will', 'surely', 'be', 'an', 'area', 'of', 'intense', 'research', 'in', 'the', 'coming', 'months', 'both', 'in', '151', 'China', 'and', 'in', 'CoV', 'research', 'laboratories', 'around', 'the', 'world.', '152', 'Notably,', 'generating', 'small', 'animal', 'models', 'of', 'coronavirus', 'disease', 'can', 'be', 'diﬃcult.', 'While', 'SARS-CoV', '153', 'readily', 'infected', 'laboratory', 'mice,', 'it', 'does', 'not', 'cause', 'signiﬁcant', 'disease', 'unless', 'the', 'virus', 'is', 'passaged', 'to', '154', 'adapt', 'to', 'the', 'mouse', 'host', '[38].', 'Infection', 'of', 'primates', 'produces', 'a', 'more', 'mild', 'disease', 'than', 'that', 'observed', 'in', '155', 'humans,', 'although', 'fever', 'and', 'pulmonary', 'inﬂammation', 'were', 'noted', '[39,40].', 'MERS-CoV', 'is', 'incapable', '156', 'of', 'infecting', 'rodent', 'cells', 'without', 'engineering', 'changes', 'in', 'critical', 'residues', 'of', 'the', 'receptor', 'protein,', '157', 'DPP4', '[41,42].', 'However,', 'MERS-CoV', 'does', 'infect', 'non-human', 'primates', '[43].', 'As', 'such,', 'MERS', 'mouse', '158', 'models', 'of', 'disease', 'required', 'a', 'great', 'deal', 'of', 'time', 'to', 'develop', 'and', 'are', 'limited', 'in', 'the', 'types', 'of', 'manipulations', '159', 'that', 'can', 'be', 'performed', '[41].', 'At', 'this', 'point,', 'the', 'infectious', 'capability', 'of', 'the', '2019-nCoV', 'for', 'diﬀerent', 'species', '160', 'and', 'diﬀerent', 'cell', 'types', 'is', 'unknown.', 'Early', 'reports', 'suggest', 'that', 'the', 'virus', 'can', 'utilize', 'human,', 'bat,', 'swine,', '161', 'and', 'civet', 'ACE2', '[30];', 'notably,', 'the', 'group', 'found', 'mouse', 'Ace2', 'was', 'not', 'permissive', 'for', '2019-nCoV', 'infection', '162', 'Dissemination', 'of', 'virus', 'stocks', 'and/or', 'de', 'novo', 'generation', 'of', 'the', 'virus', 'through', 'reverse', 'genetics', 'systems', '163', 'will', 'enable', 'this', 'research', 'allowing', 'for', 'animal', 'testing', 'and', 'subsequent', 'completion', 'of', 'Koch’s', 'postulates', '164', 'for', 'the', 'new', 'virus.', '165', '6.', 'Threat', 'for', 'Spread:', 'Human', 'to', 'Human,', 'Health', 'Care', 'Workers,', 'and', 'Super', 'Spreaders', '166', 'While', 'the', 'Huanan', 'seafood', 'market', 'in', 'Wuhan', 'has', 'been', 'associated', 'with', 'the', 'majority', 'of', 'cases,', 'many', '167', 'of', 'the', 'recent', 'cases', 'do', 'not', 'have', 'a', 'direct', 'connection', '[9].', 'This', 'fact', 'suggests', 'a', 'secondary', 'source', 'of', 'infectio', '168', 'either', 'human', 'to', 'human', 'transmission', 'or', 'possibly', 'infected', 'animals', 'in', 'another', 'market', 'in', 'Wuhan.', 'Both', '169', 'possibilities', 'represent', 'major', 'concerns', 'and', 'indicate', 'the', 'outbreak', 'has', 'the', 'potential', 'to', 'expand', 'rapidly.', '170', 'For', 'human', 'to', 'human', 'transmission,', 'there', 'was', 'limited', 'data', 'in', 'the', 'initial', 'set', 'of', 'cases;', 'one', 'family', 'cluster', '171', 'is', 'of', 'three', 'men', 'who', 'all', 'work', 'in', 'the', 'market.', 'Similarly,', 'a', 'husband', 'and', 'wife', 'are', 'among', 'the', 'patients,', 'with', '172', 'the', 'wife', 'claiming', 'no', 'contact', 'with', 'the', 'market.', 'In', 'these', 'cases,', 'direct', 'human', 'to', 'human', 'infection', 'may', '173', 'have', 'been', 'possible;', 'alternatively,', 'a', 'contaminated', 'fomite', 'from', 'the', 'market', 'may', 'also', 'be', 'responsible', 'as', '174', 'surfaces', 'all', 'around', 'the', 'market', 'were', 'found', 'to', 'test', 'positive', '2019-nCoV.', 'However,', 'the', 'major', 'increase', '175', 'in', 'the', 'number', 'of', 'cases,', 'the', 'lack', 'of', 'direct', 'connection', 'to', 'the', 'Wuhan', 'market', 'for', 'many', 'cases,', 'and', 'the', '176', 'infection', 'of', 'health', 'care', 'works', 'all', 'suggest', 'human', 'to', 'human', 'spread', 'is', 'likely', '[9,44].', 'Importantly,', 'until', 'the', '177', 'source', 'of', 'the', 'virus', 'is', 'found,', 'it', 'will', 'be', 'diﬃcult', 'to', 'distinguish', 'zoonotic', 'versus', 'human', 'to', 'human', 'spread.', '178', 'In', 'the', 'early', 'part', 'of', 'the', 'outbreak,', 'the', 'absence', 'of', 'infection', 'in', 'health', 'care', 'workers', 'argued', 'for', 'ineﬃcient', '179', 'human', 'to', 'human', 'spread', 'and', 'distinguished', '2019-nCoV', 'from', 'both', 'SARS-CoV', 'and', 'MERS-CoV.', 'In', '180', 'the', 'two', 'prior', 'CoV', 'epidemics,', 'health', 'care', 'settings', 'served', 'as', 'a', 'major', 'transmission', 'point', 'fueling', 'both', '181', 'outbreaks.', 'Based', 'on', 'WHO', 'data,', '1', 'in', '10', 'MERS-CoV', 'cases', 'have', 'been', 'found', 'to', 'be', 'health', 'care', 'workers;', '182', 'these', 'patients', 'generally', 'have', 'reduced', 'disease', 'and', 'death', 'likely', 'due', 'to', 'younger', 'age', 'and', 'absence', 'of', '183', 'existing', 'health', 'conditions.', 'The', 'recent', 'reports', 'of', 'numerous', 'infected', 'health', 'care', 'workers', 'in', 'Wuhan', '184', 'indicate', 'human', 'to', 'human', 'infection', 'can', 'occur', 'with', '2019-nCoV', 'and', 'may', 'be', 'the', 'product', 'of', 'a', 'super', '185', 'spreading', 'patient', '[44].', 'However,', 'while', 'large', 'swaths', 'of', 'healthcare', 'workers', 'are', 'not', 'getting', 'sick', 'as', 'seen', '186', 'with', 'SARS', 'and', 'MERS-CoV,', 'it', 'may', 'be', 'too', 'early', 'to', 'rule', 'out', 'their', 'potential', 'exposure', 'to', 'the', 'novel', 'CoV', 'as', '187', 'their', 'disease', 'may', 'be', 'asymptomatic.', 'While', 'not', 'described', 'during', 'the', 'SARS-CoV', 'outbreak,', 'asymptomatic', '188', 'cases', 'ranged', 'from', '12.5%', 'to', '25%', 'in', 'some', 'MERS-CoV', 'studies', '[45].', 'A', 'similar', 'phenomenon', 'may', 'be', '189', 'occurring', 'with', '2019-nCoV', 'and', 'would', 'make', 'stopping', 'the', 'outbreak', 'even', 'more', 'diﬃcult', 'to', 'contain.', '190', 'Another', 'parameter', 'to', 'consider', 'is', 'the', 'possibility', 'of', 'super', 'spreading', 'in', 'the', 'context', 'of', '2019-nCoV.', '191', 'Super', 'spreading', 'is', 'the', 'ampliﬁed', 'transmission', 'of', 'a', 'virus', 'by', 'individuals', 'in', 'a', 'population', 'and', 'has', 'been', '192', 'suggested', 'by', 'at', 'least', 'one', 'news', 'report', '[44].', 'Both', 'SARS-', 'and', 'MERS-CoV', 'outbreaks', 'had', 'documented', '193', 'evidence', 'of', 'super', 'spreading', 'patients', '[46].', 'In', 'general,', 'both', 'epidemic', 'CoVs', 'maintain', 'a', 'low', 'R0,', 'the', '194', 'rate', 'spread', 'from', 'an', 'individual', 'infected', 'patient.', 'However,', 'roughly', '10%', 'of', 'SARS-', 'and', 'MERS-CoV', '195', '>', '10.', 'These', 'cases', 'seeded', 'a', 'signiﬁcant', '196', 'patients', 'have', 'been', 'associated', 'with', 'super', 'spreading', 'and', 'an', 'R0', '197', 'portion', 'of', 'the', 'epidemic', 'around', 'the', 'world.', 'Notably,', 'neither', 'mutations', 'in', 'the', 'viruses', 'nor', 'severity', 'of', '198', 'disease', 'were', 'found', 'to', 'be', 'associated', 'with', 'super', 'spreading,', 'implying', 'that', 'host', 'factors', 'contribute', 'to', 'the', '199', 'phenotype', '[47].', 'For', '2019-nCoV,', 'contact', 'tracing', 'to', 'date', 'suggest', 'limited', 'human', 'to', 'human', 'spread', 'and', 'a', '200', 'low', 'R0.', 'However,', 'the', 'recent', 'increase', 'in', 'cases,', 'both', 'in', 'and', 'outside', 'Wuhan', 'could', 'signal', 'the', 'existence', 'of', '201', 'super-spreading', 'individuals', 'fueling', 'the', 'outbreak.', 'Alternatively,', 'super', 'spreading', 'could', 'occur', 'from', 'the', '202', 'zoonotic', 'source', 'which', 'has', 'been', 'seen', 'in', 'other', 'disease', 'outbreaks', '[10].', 'In', 'any', 'event,', 'the', 'possibility', 'of', '203', 'super', 'spreading', 'may', 'continue', 'to', 'play', 'a', 'role', 'in', 'this', 'ongoing', '2019-nCoV', 'outbreak.', '204', '7.', 'Emerging', 'Diseases', 'in', 'the', 'Age', 'of', 'Social', 'Media', '205', 'News', 'of', 'the', '2019-nCoV', 'came', 'to', 'widespread', 'attention', 'through', 'the', 'internet.', 'Over', 'the', 'years,', '206', 'websites', 'like', 'FluTrackers.com,', 'ProMED', '(promedmail.org),', 'and', 'others', 'have', 'permitted', 'the', 'collection', 'of', '207', 'disease', 'information', 'from', 'around', 'the', 'world', 'and', 'facilitated', 'dissemination', 'to', 'interested', 'parties.', 'In', '2012,', '208', 'MERS-CoV', 'ﬁrst', 'drew', 'attention', 'as', 'a', '“novel', 'coronavirus”', 'entioned', 'on', 'ProMED', 'Mail', 'and', 'subsequently', '209', 'through', 'conversation', 'on', 'twitter', 'between', 'science', 'journalists,', 'virologists,', 'and', 'public', 'health', 'experts.', '210', 'Eight', 'years', 'later,', 'a', 'more', 'connected', 'network', 'quickly', 'dissected', 'statements', 'from', 'the', 'Wuhan', 'Municipal', '211', 'Health', 'Commission', 'and', 'speculated', 'about', 'possible', 'causes.', 'Early', 'during', 'an', 'outbreak,', 'it', 'can', 'be', 'diﬃcult', '212', 'to', 'distinguish', 'between', 'rumors', 'with', 'elements', 'of', 'truth', 'versus', 'baseless', 'fear', 'mongering.', 'This', 'fact', 'can', '213', 'be', 'exacerbated', 'by', 'language', 'barriers', 'and', 'oﬀ', 'the', 'record', 'sources.', 'However,', 'in', 'this', 'case,', 'speculation', 'of', '214', 'a', 'novel', 'coronavirus', 'was', 'fed', 'by', 'carefully', 'worded', 'statements', 'that', 'speciﬁcally', 'excluding', 'some', 'virus', '215', 'families', '(inﬂuenza,', 'adenovirus),', 'but', 'only', 'excluded', 'SARS-CoV', 'and', 'MERS-CoV', 'for', 'coronaviruses.', '216', 'Coupled', 'with', 'memories', 'of', 'the', 'SARS', 'outbreak,', 'many', 'worried', 'that', 'the', 'truth', 'may', 'be', 'held', 'back.', 'When', '217', 'the', 'agent', 'was', 'ﬁnally', 'conﬁrmed', 'as', 'a', 'CoV,', 'the', 'world', 'acted', 'with', 'both', 'worry', 'and', 'relief:', 'the', 'outbreak', '218', 'would', 'not', 'be', 'hidden.', '219', 'While', 'far', 'from', 'perfect,', 'the', 'government', 'response', 'to', '2019-nCoV', 'provides', 'a', 'stark', 'contrast', 'to', 'the', '220', 'SARS', 'outbreak', 'at', 'the', 'beginning', 'of', 'the', 'century.', 'The', 'rapid', 'release', 'of', '2019-nCoV', 'sequences', 'permitted', 'the', '221', 'research', 'community', 'to', 'quickly', 'become', 'engaged,', 'providing', 'analysis', 'and', 'developing', 'diagnostic', 'tests.', '222', 'Both', 'the', 'Chinese', 'CDC', 'and', 'the', 'Wuhan', 'Municipal', 'Health', 'Commission', 'have', 'posted', 'regular', 'updates', '223', 'of', 'conﬁrmed', 'case', 'numbers', 'and', 'patient', 'statuses', 'enabling', 'public', 'health', 'authorities', 'to', 'monitor', 'the', '224', 'situation', 'in', 'real', 'time.', 'Researchers', 'from', 'around', 'the', 'world', 'have', 'connected', 'on', 'social', 'media', 'to', 'compare', '225', 'updated', 'sequence', 'information', 'and', 'highlight', 'key', 'unknowns', 'about', 'the', 'outbreak.', 'While', 'not', 'always', '226', 'provided', 'in', 'a', 'timely', 'manner,', 'the', 'ability', 'to', 'share', 'news', 'updates', 'and', 'data', 'in', 'real', 'time', 'with', 'researchers', '227', 'and', 'public', 'health', 'oﬃcials', 'around', 'the', 'world', 'signals', 'a', 'major', 'change', 'in', 'the', 'response', 'to', 'outbreaks.', 'This', '228', 'connectivity', 'has', 'facilitated', 'awareness', 'as', 'well', 'as', 'new', 'collaborations', 'and', 'a', 'rapid', 'response', 'by', 'the', 'global', '229', 'research', 'community.', 'While', 'there', 'are', 'many', 'unknowns', 'with', '2019-nCoV,', 'the', 'world', 'is', 'engaged', 'and', '230', 'prepared', 'to', 'battle', 'the', 'newest', 'emergent', 'virus', 'strain.', 'Perhaps', 'this', 'means', 'the', 'lessons', 'from', 'the', 'SARS', '231', 'outbreak', 'have', 'truly', 'been', 'learned.', '232', 'Author', 'Contributions:', 'L.E.G.', 'and', 'V.D.M.', 'prepared', 'this', 'manuscript.', 'All', 'authors', 'have', 'read', 'and', 'agreed', 'to', 'the', '233', 'published', 'version', 'of', 'the', 'manuscript.', '234', 'Funding:', 'This', 'research', 'received', 'no', 'external', 'funding.', '235', 'Conﬂicts', 'of', 'Interest:', 'The', 'authors', 'declare', 'no', 'conﬂict', 'of', 'interest.', '236', '©', '2020', 'by', 'the', 'authors.', 'Licensee', 'MDPI,', 'Basel,', 'Switzerland.', 'This', 'article', 'is', 'an', 'open', 'access', '237', 'article', 'distributed', 'under', 'the', 'terms', 'and', 'conditions', 'of', 'the', 'Creative', 'Commons', 'Attribution', '238', '(CC', 'BY)', 'license', '(http://creativecommons.org/licenses/by/4.0/).']\n"
     ]
    }
   ],
   "source": [
    "words = text.split()\n",
    "\n",
    "print('Number of words in text file :', len(words))\n",
    "print(words)"
   ]
  },
  {
   "cell_type": "code",
   "execution_count": 18,
   "id": "1c46a70d",
   "metadata": {},
   "outputs": [
    {
     "name": "stdout",
     "output_type": "stream",
     "text": [
      "0.003199523791807731\n"
     ]
    }
   ],
   "source": [
    "lexical_diversity = len(set(text)) / len(text)\n",
    "print(lexical_diversity)"
   ]
  },
  {
   "cell_type": "code",
   "execution_count": 19,
   "id": "0dfe21a6",
   "metadata": {},
   "outputs": [
    {
     "data": {
      "text/html": [
       "        <script type=\"text/javascript\">\n",
       "        window.PlotlyConfig = {MathJaxConfig: 'local'};\n",
       "        if (window.MathJax) {MathJax.Hub.Config({SVG: {font: \"STIX-Web\"}});}\n",
       "        if (typeof require !== 'undefined') {\n",
       "        require.undef(\"plotly\");\n",
       "        requirejs.config({\n",
       "            paths: {\n",
       "                'plotly': ['https://cdn.plot.ly/plotly-latest.min']\n",
       "            }\n",
       "        });\n",
       "        require(['plotly'], function(Plotly) {\n",
       "            window._Plotly = Plotly;\n",
       "        });\n",
       "        }\n",
       "        </script>\n",
       "        "
      ]
     },
     "metadata": {},
     "output_type": "display_data"
    },
    {
     "data": {
      "text/html": [
       "        <script type=\"text/javascript\">\n",
       "        window.PlotlyConfig = {MathJaxConfig: 'local'};\n",
       "        if (window.MathJax) {MathJax.Hub.Config({SVG: {font: \"STIX-Web\"}});}\n",
       "        if (typeof require !== 'undefined') {\n",
       "        require.undef(\"plotly\");\n",
       "        requirejs.config({\n",
       "            paths: {\n",
       "                'plotly': ['https://cdn.plot.ly/plotly-latest.min']\n",
       "            }\n",
       "        });\n",
       "        require(['plotly'], function(Plotly) {\n",
       "            window._Plotly = Plotly;\n",
       "        });\n",
       "        }\n",
       "        </script>\n",
       "        "
      ]
     },
     "metadata": {},
     "output_type": "display_data"
    },
    {
     "name": "stdout",
     "output_type": "stream",
     "text": [
      "the 216\n",
      "of 108\n",
      "and 102\n",
      "to 90\n",
      "in 84\n",
      "cov 67\n",
      "2019 59\n",
      "ncov 56\n",
      "with 45\n",
      "sars 37\n",
      "human 35\n",
      "for 34\n",
      "cases 30\n",
      "from 29\n",
      "is 24\n",
      "mers 23\n",
      "have 23\n",
      "be 22\n",
      "as 21\n",
      "that 21\n"
     ]
    },
    {
     "data": {
      "application/vnd.plotly.v1+json": {
       "config": {
        "linkText": "Export to plot.ly",
        "plotlyServerURL": "https://plot.ly",
        "showLink": true
       },
       "data": [
        {
         "marker": {
          "color": "rgba(255, 153, 51, 0.6)",
          "line": {
           "color": "rgba(255, 153, 51, 1.0)",
           "width": 1
          }
         },
         "name": "count",
         "orientation": "v",
         "text": "",
         "type": "bar",
         "x": [
          "the",
          "of",
          "and",
          "to",
          "in",
          "cov",
          "2019",
          "ncov",
          "with",
          "sars",
          "human",
          "for",
          "cases",
          "from",
          "is",
          "have",
          "mers",
          "be",
          "that",
          "as"
         ],
         "y": [
          216,
          108,
          102,
          90,
          84,
          67,
          59,
          56,
          45,
          37,
          35,
          34,
          30,
          29,
          24,
          23,
          23,
          22,
          21,
          21
         ]
        }
       ],
       "layout": {
        "legend": {
         "bgcolor": "#F5F6F9",
         "font": {
          "color": "#4D5663"
         }
        },
        "paper_bgcolor": "#F5F6F9",
        "plot_bgcolor": "#F5F6F9",
        "template": {
         "data": {
          "bar": [
           {
            "error_x": {
             "color": "#2a3f5f"
            },
            "error_y": {
             "color": "#2a3f5f"
            },
            "marker": {
             "line": {
              "color": "#E5ECF6",
              "width": 0.5
             }
            },
            "type": "bar"
           }
          ],
          "barpolar": [
           {
            "marker": {
             "line": {
              "color": "#E5ECF6",
              "width": 0.5
             }
            },
            "type": "barpolar"
           }
          ],
          "carpet": [
           {
            "aaxis": {
             "endlinecolor": "#2a3f5f",
             "gridcolor": "white",
             "linecolor": "white",
             "minorgridcolor": "white",
             "startlinecolor": "#2a3f5f"
            },
            "baxis": {
             "endlinecolor": "#2a3f5f",
             "gridcolor": "white",
             "linecolor": "white",
             "minorgridcolor": "white",
             "startlinecolor": "#2a3f5f"
            },
            "type": "carpet"
           }
          ],
          "choropleth": [
           {
            "colorbar": {
             "outlinewidth": 0,
             "ticks": ""
            },
            "type": "choropleth"
           }
          ],
          "contour": [
           {
            "colorbar": {
             "outlinewidth": 0,
             "ticks": ""
            },
            "colorscale": [
             [
              0,
              "#0d0887"
             ],
             [
              0.1111111111111111,
              "#46039f"
             ],
             [
              0.2222222222222222,
              "#7201a8"
             ],
             [
              0.3333333333333333,
              "#9c179e"
             ],
             [
              0.4444444444444444,
              "#bd3786"
             ],
             [
              0.5555555555555556,
              "#d8576b"
             ],
             [
              0.6666666666666666,
              "#ed7953"
             ],
             [
              0.7777777777777778,
              "#fb9f3a"
             ],
             [
              0.8888888888888888,
              "#fdca26"
             ],
             [
              1,
              "#f0f921"
             ]
            ],
            "type": "contour"
           }
          ],
          "contourcarpet": [
           {
            "colorbar": {
             "outlinewidth": 0,
             "ticks": ""
            },
            "type": "contourcarpet"
           }
          ],
          "heatmap": [
           {
            "colorbar": {
             "outlinewidth": 0,
             "ticks": ""
            },
            "colorscale": [
             [
              0,
              "#0d0887"
             ],
             [
              0.1111111111111111,
              "#46039f"
             ],
             [
              0.2222222222222222,
              "#7201a8"
             ],
             [
              0.3333333333333333,
              "#9c179e"
             ],
             [
              0.4444444444444444,
              "#bd3786"
             ],
             [
              0.5555555555555556,
              "#d8576b"
             ],
             [
              0.6666666666666666,
              "#ed7953"
             ],
             [
              0.7777777777777778,
              "#fb9f3a"
             ],
             [
              0.8888888888888888,
              "#fdca26"
             ],
             [
              1,
              "#f0f921"
             ]
            ],
            "type": "heatmap"
           }
          ],
          "heatmapgl": [
           {
            "colorbar": {
             "outlinewidth": 0,
             "ticks": ""
            },
            "colorscale": [
             [
              0,
              "#0d0887"
             ],
             [
              0.1111111111111111,
              "#46039f"
             ],
             [
              0.2222222222222222,
              "#7201a8"
             ],
             [
              0.3333333333333333,
              "#9c179e"
             ],
             [
              0.4444444444444444,
              "#bd3786"
             ],
             [
              0.5555555555555556,
              "#d8576b"
             ],
             [
              0.6666666666666666,
              "#ed7953"
             ],
             [
              0.7777777777777778,
              "#fb9f3a"
             ],
             [
              0.8888888888888888,
              "#fdca26"
             ],
             [
              1,
              "#f0f921"
             ]
            ],
            "type": "heatmapgl"
           }
          ],
          "histogram": [
           {
            "marker": {
             "colorbar": {
              "outlinewidth": 0,
              "ticks": ""
             }
            },
            "type": "histogram"
           }
          ],
          "histogram2d": [
           {
            "colorbar": {
             "outlinewidth": 0,
             "ticks": ""
            },
            "colorscale": [
             [
              0,
              "#0d0887"
             ],
             [
              0.1111111111111111,
              "#46039f"
             ],
             [
              0.2222222222222222,
              "#7201a8"
             ],
             [
              0.3333333333333333,
              "#9c179e"
             ],
             [
              0.4444444444444444,
              "#bd3786"
             ],
             [
              0.5555555555555556,
              "#d8576b"
             ],
             [
              0.6666666666666666,
              "#ed7953"
             ],
             [
              0.7777777777777778,
              "#fb9f3a"
             ],
             [
              0.8888888888888888,
              "#fdca26"
             ],
             [
              1,
              "#f0f921"
             ]
            ],
            "type": "histogram2d"
           }
          ],
          "histogram2dcontour": [
           {
            "colorbar": {
             "outlinewidth": 0,
             "ticks": ""
            },
            "colorscale": [
             [
              0,
              "#0d0887"
             ],
             [
              0.1111111111111111,
              "#46039f"
             ],
             [
              0.2222222222222222,
              "#7201a8"
             ],
             [
              0.3333333333333333,
              "#9c179e"
             ],
             [
              0.4444444444444444,
              "#bd3786"
             ],
             [
              0.5555555555555556,
              "#d8576b"
             ],
             [
              0.6666666666666666,
              "#ed7953"
             ],
             [
              0.7777777777777778,
              "#fb9f3a"
             ],
             [
              0.8888888888888888,
              "#fdca26"
             ],
             [
              1,
              "#f0f921"
             ]
            ],
            "type": "histogram2dcontour"
           }
          ],
          "mesh3d": [
           {
            "colorbar": {
             "outlinewidth": 0,
             "ticks": ""
            },
            "type": "mesh3d"
           }
          ],
          "parcoords": [
           {
            "line": {
             "colorbar": {
              "outlinewidth": 0,
              "ticks": ""
             }
            },
            "type": "parcoords"
           }
          ],
          "pie": [
           {
            "automargin": true,
            "type": "pie"
           }
          ],
          "scatter": [
           {
            "marker": {
             "colorbar": {
              "outlinewidth": 0,
              "ticks": ""
             }
            },
            "type": "scatter"
           }
          ],
          "scatter3d": [
           {
            "line": {
             "colorbar": {
              "outlinewidth": 0,
              "ticks": ""
             }
            },
            "marker": {
             "colorbar": {
              "outlinewidth": 0,
              "ticks": ""
             }
            },
            "type": "scatter3d"
           }
          ],
          "scattercarpet": [
           {
            "marker": {
             "colorbar": {
              "outlinewidth": 0,
              "ticks": ""
             }
            },
            "type": "scattercarpet"
           }
          ],
          "scattergeo": [
           {
            "marker": {
             "colorbar": {
              "outlinewidth": 0,
              "ticks": ""
             }
            },
            "type": "scattergeo"
           }
          ],
          "scattergl": [
           {
            "marker": {
             "colorbar": {
              "outlinewidth": 0,
              "ticks": ""
             }
            },
            "type": "scattergl"
           }
          ],
          "scattermapbox": [
           {
            "marker": {
             "colorbar": {
              "outlinewidth": 0,
              "ticks": ""
             }
            },
            "type": "scattermapbox"
           }
          ],
          "scatterpolar": [
           {
            "marker": {
             "colorbar": {
              "outlinewidth": 0,
              "ticks": ""
             }
            },
            "type": "scatterpolar"
           }
          ],
          "scatterpolargl": [
           {
            "marker": {
             "colorbar": {
              "outlinewidth": 0,
              "ticks": ""
             }
            },
            "type": "scatterpolargl"
           }
          ],
          "scatterternary": [
           {
            "marker": {
             "colorbar": {
              "outlinewidth": 0,
              "ticks": ""
             }
            },
            "type": "scatterternary"
           }
          ],
          "surface": [
           {
            "colorbar": {
             "outlinewidth": 0,
             "ticks": ""
            },
            "colorscale": [
             [
              0,
              "#0d0887"
             ],
             [
              0.1111111111111111,
              "#46039f"
             ],
             [
              0.2222222222222222,
              "#7201a8"
             ],
             [
              0.3333333333333333,
              "#9c179e"
             ],
             [
              0.4444444444444444,
              "#bd3786"
             ],
             [
              0.5555555555555556,
              "#d8576b"
             ],
             [
              0.6666666666666666,
              "#ed7953"
             ],
             [
              0.7777777777777778,
              "#fb9f3a"
             ],
             [
              0.8888888888888888,
              "#fdca26"
             ],
             [
              1,
              "#f0f921"
             ]
            ],
            "type": "surface"
           }
          ],
          "table": [
           {
            "cells": {
             "fill": {
              "color": "#EBF0F8"
             },
             "line": {
              "color": "white"
             }
            },
            "header": {
             "fill": {
              "color": "#C8D4E3"
             },
             "line": {
              "color": "white"
             }
            },
            "type": "table"
           }
          ]
         },
         "layout": {
          "annotationdefaults": {
           "arrowcolor": "#2a3f5f",
           "arrowhead": 0,
           "arrowwidth": 1
          },
          "autotypenumbers": "strict",
          "coloraxis": {
           "colorbar": {
            "outlinewidth": 0,
            "ticks": ""
           }
          },
          "colorscale": {
           "diverging": [
            [
             0,
             "#8e0152"
            ],
            [
             0.1,
             "#c51b7d"
            ],
            [
             0.2,
             "#de77ae"
            ],
            [
             0.3,
             "#f1b6da"
            ],
            [
             0.4,
             "#fde0ef"
            ],
            [
             0.5,
             "#f7f7f7"
            ],
            [
             0.6,
             "#e6f5d0"
            ],
            [
             0.7,
             "#b8e186"
            ],
            [
             0.8,
             "#7fbc41"
            ],
            [
             0.9,
             "#4d9221"
            ],
            [
             1,
             "#276419"
            ]
           ],
           "sequential": [
            [
             0,
             "#0d0887"
            ],
            [
             0.1111111111111111,
             "#46039f"
            ],
            [
             0.2222222222222222,
             "#7201a8"
            ],
            [
             0.3333333333333333,
             "#9c179e"
            ],
            [
             0.4444444444444444,
             "#bd3786"
            ],
            [
             0.5555555555555556,
             "#d8576b"
            ],
            [
             0.6666666666666666,
             "#ed7953"
            ],
            [
             0.7777777777777778,
             "#fb9f3a"
            ],
            [
             0.8888888888888888,
             "#fdca26"
            ],
            [
             1,
             "#f0f921"
            ]
           ],
           "sequentialminus": [
            [
             0,
             "#0d0887"
            ],
            [
             0.1111111111111111,
             "#46039f"
            ],
            [
             0.2222222222222222,
             "#7201a8"
            ],
            [
             0.3333333333333333,
             "#9c179e"
            ],
            [
             0.4444444444444444,
             "#bd3786"
            ],
            [
             0.5555555555555556,
             "#d8576b"
            ],
            [
             0.6666666666666666,
             "#ed7953"
            ],
            [
             0.7777777777777778,
             "#fb9f3a"
            ],
            [
             0.8888888888888888,
             "#fdca26"
            ],
            [
             1,
             "#f0f921"
            ]
           ]
          },
          "colorway": [
           "#636efa",
           "#EF553B",
           "#00cc96",
           "#ab63fa",
           "#FFA15A",
           "#19d3f3",
           "#FF6692",
           "#B6E880",
           "#FF97FF",
           "#FECB52"
          ],
          "font": {
           "color": "#2a3f5f"
          },
          "geo": {
           "bgcolor": "white",
           "lakecolor": "white",
           "landcolor": "#E5ECF6",
           "showlakes": true,
           "showland": true,
           "subunitcolor": "white"
          },
          "hoverlabel": {
           "align": "left"
          },
          "hovermode": "closest",
          "mapbox": {
           "style": "light"
          },
          "paper_bgcolor": "white",
          "plot_bgcolor": "#E5ECF6",
          "polar": {
           "angularaxis": {
            "gridcolor": "white",
            "linecolor": "white",
            "ticks": ""
           },
           "bgcolor": "#E5ECF6",
           "radialaxis": {
            "gridcolor": "white",
            "linecolor": "white",
            "ticks": ""
           }
          },
          "scene": {
           "xaxis": {
            "backgroundcolor": "#E5ECF6",
            "gridcolor": "white",
            "gridwidth": 2,
            "linecolor": "white",
            "showbackground": true,
            "ticks": "",
            "zerolinecolor": "white"
           },
           "yaxis": {
            "backgroundcolor": "#E5ECF6",
            "gridcolor": "white",
            "gridwidth": 2,
            "linecolor": "white",
            "showbackground": true,
            "ticks": "",
            "zerolinecolor": "white"
           },
           "zaxis": {
            "backgroundcolor": "#E5ECF6",
            "gridcolor": "white",
            "gridwidth": 2,
            "linecolor": "white",
            "showbackground": true,
            "ticks": "",
            "zerolinecolor": "white"
           }
          },
          "shapedefaults": {
           "line": {
            "color": "#2a3f5f"
           }
          },
          "ternary": {
           "aaxis": {
            "gridcolor": "white",
            "linecolor": "white",
            "ticks": ""
           },
           "baxis": {
            "gridcolor": "white",
            "linecolor": "white",
            "ticks": ""
           },
           "bgcolor": "#E5ECF6",
           "caxis": {
            "gridcolor": "white",
            "linecolor": "white",
            "ticks": ""
           }
          },
          "title": {
           "x": 0.05
          },
          "xaxis": {
           "automargin": true,
           "gridcolor": "white",
           "linecolor": "white",
           "ticks": "",
           "title": {
            "standoff": 15
           },
           "zerolinecolor": "white",
           "zerolinewidth": 2
          },
          "yaxis": {
           "automargin": true,
           "gridcolor": "white",
           "linecolor": "white",
           "ticks": "",
           "title": {
            "standoff": 15
           },
           "zerolinecolor": "white",
           "zerolinewidth": 2
          }
         }
        },
        "title": {
         "font": {
          "color": "#4D5663"
         },
         "text": "Top 20 words in text before removing stop words"
        },
        "xaxis": {
         "gridcolor": "#E1E5ED",
         "linecolor": "black",
         "showgrid": true,
         "tickfont": {
          "color": "#4D5663"
         },
         "title": {
          "font": {
           "color": "#4D5663"
          },
          "text": ""
         },
         "zerolinecolor": "#E1E5ED"
        },
        "yaxis": {
         "gridcolor": "#E1E5ED",
         "linecolor": "black",
         "showgrid": true,
         "tickfont": {
          "color": "#4D5663"
         },
         "title": {
          "font": {
           "color": "#4D5663"
          },
          "text": "Count"
         },
         "zerolinecolor": "#E1E5ED"
        }
       }
      },
      "text/html": [
       "<div>                            <div id=\"c9a544cf-6f7f-4def-abc0-16a5cb9572e6\" class=\"plotly-graph-div\" style=\"height:525px; width:100%;\"></div>            <script type=\"text/javascript\">                require([\"plotly\"], function(Plotly) {                    window.PLOTLYENV=window.PLOTLYENV || {};\n",
       "                    window.PLOTLYENV.BASE_URL='https://plot.ly';                                    if (document.getElementById(\"c9a544cf-6f7f-4def-abc0-16a5cb9572e6\")) {                    Plotly.newPlot(                        \"c9a544cf-6f7f-4def-abc0-16a5cb9572e6\",                        [{\"marker\": {\"color\": \"rgba(255, 153, 51, 0.6)\", \"line\": {\"color\": \"rgba(255, 153, 51, 1.0)\", \"width\": 1}}, \"name\": \"count\", \"orientation\": \"v\", \"text\": \"\", \"type\": \"bar\", \"x\": [\"the\", \"of\", \"and\", \"to\", \"in\", \"cov\", \"2019\", \"ncov\", \"with\", \"sars\", \"human\", \"for\", \"cases\", \"from\", \"is\", \"have\", \"mers\", \"be\", \"that\", \"as\"], \"y\": [216, 108, 102, 90, 84, 67, 59, 56, 45, 37, 35, 34, 30, 29, 24, 23, 23, 22, 21, 21]}],                        {\"legend\": {\"bgcolor\": \"#F5F6F9\", \"font\": {\"color\": \"#4D5663\"}}, \"paper_bgcolor\": \"#F5F6F9\", \"plot_bgcolor\": \"#F5F6F9\", \"template\": {\"data\": {\"bar\": [{\"error_x\": {\"color\": \"#2a3f5f\"}, \"error_y\": {\"color\": \"#2a3f5f\"}, \"marker\": {\"line\": {\"color\": \"#E5ECF6\", \"width\": 0.5}}, \"type\": \"bar\"}], \"barpolar\": [{\"marker\": {\"line\": {\"color\": \"#E5ECF6\", \"width\": 0.5}}, \"type\": \"barpolar\"}], \"carpet\": [{\"aaxis\": {\"endlinecolor\": \"#2a3f5f\", \"gridcolor\": \"white\", \"linecolor\": \"white\", \"minorgridcolor\": \"white\", \"startlinecolor\": \"#2a3f5f\"}, \"baxis\": {\"endlinecolor\": \"#2a3f5f\", \"gridcolor\": \"white\", \"linecolor\": \"white\", \"minorgridcolor\": \"white\", \"startlinecolor\": \"#2a3f5f\"}, \"type\": \"carpet\"}], \"choropleth\": [{\"colorbar\": {\"outlinewidth\": 0, \"ticks\": \"\"}, \"type\": \"choropleth\"}], \"contour\": [{\"colorbar\": {\"outlinewidth\": 0, \"ticks\": \"\"}, \"colorscale\": [[0.0, \"#0d0887\"], [0.1111111111111111, \"#46039f\"], [0.2222222222222222, \"#7201a8\"], [0.3333333333333333, \"#9c179e\"], [0.4444444444444444, \"#bd3786\"], [0.5555555555555556, \"#d8576b\"], [0.6666666666666666, \"#ed7953\"], [0.7777777777777778, \"#fb9f3a\"], [0.8888888888888888, \"#fdca26\"], [1.0, \"#f0f921\"]], \"type\": \"contour\"}], \"contourcarpet\": [{\"colorbar\": {\"outlinewidth\": 0, \"ticks\": \"\"}, \"type\": \"contourcarpet\"}], \"heatmap\": [{\"colorbar\": {\"outlinewidth\": 0, \"ticks\": \"\"}, \"colorscale\": [[0.0, \"#0d0887\"], [0.1111111111111111, \"#46039f\"], [0.2222222222222222, \"#7201a8\"], [0.3333333333333333, \"#9c179e\"], [0.4444444444444444, \"#bd3786\"], [0.5555555555555556, \"#d8576b\"], [0.6666666666666666, \"#ed7953\"], [0.7777777777777778, \"#fb9f3a\"], [0.8888888888888888, \"#fdca26\"], [1.0, \"#f0f921\"]], \"type\": \"heatmap\"}], \"heatmapgl\": [{\"colorbar\": {\"outlinewidth\": 0, \"ticks\": \"\"}, \"colorscale\": [[0.0, \"#0d0887\"], [0.1111111111111111, \"#46039f\"], [0.2222222222222222, \"#7201a8\"], [0.3333333333333333, \"#9c179e\"], [0.4444444444444444, \"#bd3786\"], [0.5555555555555556, \"#d8576b\"], [0.6666666666666666, \"#ed7953\"], [0.7777777777777778, \"#fb9f3a\"], [0.8888888888888888, \"#fdca26\"], [1.0, \"#f0f921\"]], \"type\": \"heatmapgl\"}], \"histogram\": [{\"marker\": {\"colorbar\": {\"outlinewidth\": 0, \"ticks\": \"\"}}, \"type\": \"histogram\"}], \"histogram2d\": [{\"colorbar\": {\"outlinewidth\": 0, \"ticks\": \"\"}, \"colorscale\": [[0.0, \"#0d0887\"], [0.1111111111111111, \"#46039f\"], [0.2222222222222222, \"#7201a8\"], [0.3333333333333333, \"#9c179e\"], [0.4444444444444444, \"#bd3786\"], [0.5555555555555556, \"#d8576b\"], [0.6666666666666666, \"#ed7953\"], [0.7777777777777778, \"#fb9f3a\"], [0.8888888888888888, \"#fdca26\"], [1.0, \"#f0f921\"]], \"type\": \"histogram2d\"}], \"histogram2dcontour\": [{\"colorbar\": {\"outlinewidth\": 0, \"ticks\": \"\"}, \"colorscale\": [[0.0, \"#0d0887\"], [0.1111111111111111, \"#46039f\"], [0.2222222222222222, \"#7201a8\"], [0.3333333333333333, \"#9c179e\"], [0.4444444444444444, \"#bd3786\"], [0.5555555555555556, \"#d8576b\"], [0.6666666666666666, \"#ed7953\"], [0.7777777777777778, \"#fb9f3a\"], [0.8888888888888888, \"#fdca26\"], [1.0, \"#f0f921\"]], \"type\": \"histogram2dcontour\"}], \"mesh3d\": [{\"colorbar\": {\"outlinewidth\": 0, \"ticks\": \"\"}, \"type\": \"mesh3d\"}], \"parcoords\": [{\"line\": {\"colorbar\": {\"outlinewidth\": 0, \"ticks\": \"\"}}, \"type\": \"parcoords\"}], \"pie\": [{\"automargin\": true, \"type\": \"pie\"}], \"scatter\": [{\"marker\": {\"colorbar\": {\"outlinewidth\": 0, \"ticks\": \"\"}}, \"type\": \"scatter\"}], \"scatter3d\": [{\"line\": {\"colorbar\": {\"outlinewidth\": 0, \"ticks\": \"\"}}, \"marker\": {\"colorbar\": {\"outlinewidth\": 0, \"ticks\": \"\"}}, \"type\": \"scatter3d\"}], \"scattercarpet\": [{\"marker\": {\"colorbar\": {\"outlinewidth\": 0, \"ticks\": \"\"}}, \"type\": \"scattercarpet\"}], \"scattergeo\": [{\"marker\": {\"colorbar\": {\"outlinewidth\": 0, \"ticks\": \"\"}}, \"type\": \"scattergeo\"}], \"scattergl\": [{\"marker\": {\"colorbar\": {\"outlinewidth\": 0, \"ticks\": \"\"}}, \"type\": \"scattergl\"}], \"scattermapbox\": [{\"marker\": {\"colorbar\": {\"outlinewidth\": 0, \"ticks\": \"\"}}, \"type\": \"scattermapbox\"}], \"scatterpolar\": [{\"marker\": {\"colorbar\": {\"outlinewidth\": 0, \"ticks\": \"\"}}, \"type\": \"scatterpolar\"}], \"scatterpolargl\": [{\"marker\": {\"colorbar\": {\"outlinewidth\": 0, \"ticks\": \"\"}}, \"type\": \"scatterpolargl\"}], \"scatterternary\": [{\"marker\": {\"colorbar\": {\"outlinewidth\": 0, \"ticks\": \"\"}}, \"type\": \"scatterternary\"}], \"surface\": [{\"colorbar\": {\"outlinewidth\": 0, \"ticks\": \"\"}, \"colorscale\": [[0.0, \"#0d0887\"], [0.1111111111111111, \"#46039f\"], [0.2222222222222222, \"#7201a8\"], [0.3333333333333333, \"#9c179e\"], [0.4444444444444444, \"#bd3786\"], [0.5555555555555556, \"#d8576b\"], [0.6666666666666666, \"#ed7953\"], [0.7777777777777778, \"#fb9f3a\"], [0.8888888888888888, \"#fdca26\"], [1.0, \"#f0f921\"]], \"type\": \"surface\"}], \"table\": [{\"cells\": {\"fill\": {\"color\": \"#EBF0F8\"}, \"line\": {\"color\": \"white\"}}, \"header\": {\"fill\": {\"color\": \"#C8D4E3\"}, \"line\": {\"color\": \"white\"}}, \"type\": \"table\"}]}, \"layout\": {\"annotationdefaults\": {\"arrowcolor\": \"#2a3f5f\", \"arrowhead\": 0, \"arrowwidth\": 1}, \"autotypenumbers\": \"strict\", \"coloraxis\": {\"colorbar\": {\"outlinewidth\": 0, \"ticks\": \"\"}}, \"colorscale\": {\"diverging\": [[0, \"#8e0152\"], [0.1, \"#c51b7d\"], [0.2, \"#de77ae\"], [0.3, \"#f1b6da\"], [0.4, \"#fde0ef\"], [0.5, \"#f7f7f7\"], [0.6, \"#e6f5d0\"], [0.7, \"#b8e186\"], [0.8, \"#7fbc41\"], [0.9, \"#4d9221\"], [1, \"#276419\"]], \"sequential\": [[0.0, \"#0d0887\"], [0.1111111111111111, \"#46039f\"], [0.2222222222222222, \"#7201a8\"], [0.3333333333333333, \"#9c179e\"], [0.4444444444444444, \"#bd3786\"], [0.5555555555555556, \"#d8576b\"], [0.6666666666666666, \"#ed7953\"], [0.7777777777777778, \"#fb9f3a\"], [0.8888888888888888, \"#fdca26\"], [1.0, \"#f0f921\"]], \"sequentialminus\": [[0.0, \"#0d0887\"], [0.1111111111111111, \"#46039f\"], [0.2222222222222222, \"#7201a8\"], [0.3333333333333333, \"#9c179e\"], [0.4444444444444444, \"#bd3786\"], [0.5555555555555556, \"#d8576b\"], [0.6666666666666666, \"#ed7953\"], [0.7777777777777778, \"#fb9f3a\"], [0.8888888888888888, \"#fdca26\"], [1.0, \"#f0f921\"]]}, \"colorway\": [\"#636efa\", \"#EF553B\", \"#00cc96\", \"#ab63fa\", \"#FFA15A\", \"#19d3f3\", \"#FF6692\", \"#B6E880\", \"#FF97FF\", \"#FECB52\"], \"font\": {\"color\": \"#2a3f5f\"}, \"geo\": {\"bgcolor\": \"white\", \"lakecolor\": \"white\", \"landcolor\": \"#E5ECF6\", \"showlakes\": true, \"showland\": true, \"subunitcolor\": \"white\"}, \"hoverlabel\": {\"align\": \"left\"}, \"hovermode\": \"closest\", \"mapbox\": {\"style\": \"light\"}, \"paper_bgcolor\": \"white\", \"plot_bgcolor\": \"#E5ECF6\", \"polar\": {\"angularaxis\": {\"gridcolor\": \"white\", \"linecolor\": \"white\", \"ticks\": \"\"}, \"bgcolor\": \"#E5ECF6\", \"radialaxis\": {\"gridcolor\": \"white\", \"linecolor\": \"white\", \"ticks\": \"\"}}, \"scene\": {\"xaxis\": {\"backgroundcolor\": \"#E5ECF6\", \"gridcolor\": \"white\", \"gridwidth\": 2, \"linecolor\": \"white\", \"showbackground\": true, \"ticks\": \"\", \"zerolinecolor\": \"white\"}, \"yaxis\": {\"backgroundcolor\": \"#E5ECF6\", \"gridcolor\": \"white\", \"gridwidth\": 2, \"linecolor\": \"white\", \"showbackground\": true, \"ticks\": \"\", \"zerolinecolor\": \"white\"}, \"zaxis\": {\"backgroundcolor\": \"#E5ECF6\", \"gridcolor\": \"white\", \"gridwidth\": 2, \"linecolor\": \"white\", \"showbackground\": true, \"ticks\": \"\", \"zerolinecolor\": \"white\"}}, \"shapedefaults\": {\"line\": {\"color\": \"#2a3f5f\"}}, \"ternary\": {\"aaxis\": {\"gridcolor\": \"white\", \"linecolor\": \"white\", \"ticks\": \"\"}, \"baxis\": {\"gridcolor\": \"white\", \"linecolor\": \"white\", \"ticks\": \"\"}, \"bgcolor\": \"#E5ECF6\", \"caxis\": {\"gridcolor\": \"white\", \"linecolor\": \"white\", \"ticks\": \"\"}}, \"title\": {\"x\": 0.05}, \"xaxis\": {\"automargin\": true, \"gridcolor\": \"white\", \"linecolor\": \"white\", \"ticks\": \"\", \"title\": {\"standoff\": 15}, \"zerolinecolor\": \"white\", \"zerolinewidth\": 2}, \"yaxis\": {\"automargin\": true, \"gridcolor\": \"white\", \"linecolor\": \"white\", \"ticks\": \"\", \"title\": {\"standoff\": 15}, \"zerolinecolor\": \"white\", \"zerolinewidth\": 2}}}, \"title\": {\"font\": {\"color\": \"#4D5663\"}, \"text\": \"Top 20 words in text before removing stop words\"}, \"xaxis\": {\"gridcolor\": \"#E1E5ED\", \"linecolor\": \"black\", \"showgrid\": true, \"tickfont\": {\"color\": \"#4D5663\"}, \"title\": {\"font\": {\"color\": \"#4D5663\"}, \"text\": \"\"}, \"zerolinecolor\": \"#E1E5ED\"}, \"yaxis\": {\"gridcolor\": \"#E1E5ED\", \"linecolor\": \"black\", \"showgrid\": true, \"tickfont\": {\"color\": \"#4D5663\"}, \"title\": {\"font\": {\"color\": \"#4D5663\"}, \"text\": \"Count\"}, \"zerolinecolor\": \"#E1E5ED\"}},                        {\"showLink\": true, \"linkText\": \"Export to plot.ly\", \"plotlyServerURL\": \"https://plot.ly\", \"responsive\": true}                    ).then(function(){\n",
       "                            \n",
       "var gd = document.getElementById('c9a544cf-6f7f-4def-abc0-16a5cb9572e6');\n",
       "var x = new MutationObserver(function (mutations, observer) {{\n",
       "        var display = window.getComputedStyle(gd).display;\n",
       "        if (!display || display === 'none') {{\n",
       "            console.log([gd, 'removed!']);\n",
       "            Plotly.purge(gd);\n",
       "            observer.disconnect();\n",
       "        }}\n",
       "}});\n",
       "\n",
       "// Listen for the removal of the full notebook cells\n",
       "var notebookContainer = gd.closest('#notebook-container');\n",
       "if (notebookContainer) {{\n",
       "    x.observe(notebookContainer, {childList: true});\n",
       "}}\n",
       "\n",
       "// Listen for the clearing of the current output cell\n",
       "var outputEl = gd.closest('.output');\n",
       "if (outputEl) {{\n",
       "    x.observe(outputEl, {childList: true});\n",
       "}}\n",
       "\n",
       "                        })                };                });            </script>        </div>"
      ]
     },
     "metadata": {},
     "output_type": "display_data"
    }
   ],
   "source": [
    "import cufflinks as cf\n",
    "cf.go_offline()\n",
    "cf.set_config_file(offline=False, world_readable=True)\n",
    "\n",
    "from plotly.offline import init_notebook_mode, iplot\n",
    "from plotly.graph_objs import *\n",
    "\n",
    "init_notebook_mode(connected=True)\n",
    "\n",
    "from sklearn.feature_extraction.text import CountVectorizer\n",
    "def get_top_n_words(corpus, n=None):\n",
    "    vec = CountVectorizer().fit(corpus)\n",
    "    bag_of_words = vec.transform(corpus)\n",
    "    sum_words = bag_of_words.sum(axis=0) \n",
    "    words_freq = [(word, sum_words[0, idx]) for word, idx in vec.vocabulary_.items()]\n",
    "    words_freq =sorted(words_freq, key = lambda x: x[1], reverse=True)\n",
    "    return words_freq[:n]\n",
    "common_words = get_top_n_words([text], 20)\n",
    "for word, freq in common_words:\n",
    "    print(word, freq)\n",
    "df1 = pd.DataFrame(common_words, columns = ['ReviewText' , 'count'])\n",
    "df1.groupby('ReviewText').sum()['count'].sort_values(ascending=False).iplot(\n",
    "    kind='bar', yTitle='Count', linecolor='black', title='Top 20 words in text before removing stop words')"
   ]
  },
  {
   "cell_type": "code",
   "execution_count": 20,
   "id": "7e49bb9e",
   "metadata": {},
   "outputs": [
    {
     "name": "stdout",
     "output_type": "stream",
     "text": [
      "cov 67\n",
      "2019 59\n",
      "ncov 56\n",
      "sars 37\n",
      "human 35\n",
      "cases 30\n",
      "mers 23\n",
      "outbreak 19\n",
      "health 18\n",
      "virus 18\n",
      "wuhan 16\n",
      "patients 16\n",
      "disease 16\n",
      "market 14\n",
      "china 13\n",
      "novel 12\n",
      "infection 12\n",
      "bat 12\n",
      "coronavirus 11\n",
      "protein 11\n"
     ]
    },
    {
     "data": {
      "application/vnd.plotly.v1+json": {
       "config": {
        "linkText": "Export to plot.ly",
        "plotlyServerURL": "https://plot.ly",
        "showLink": true
       },
       "data": [
        {
         "marker": {
          "color": "rgba(255, 153, 51, 0.6)",
          "line": {
           "color": "rgba(255, 153, 51, 1.0)",
           "width": 1
          }
         },
         "name": "count",
         "orientation": "v",
         "text": "",
         "type": "bar",
         "x": [
          "cov",
          "2019",
          "ncov",
          "sars",
          "human",
          "cases",
          "mers",
          "outbreak",
          "virus",
          "health",
          "patients",
          "wuhan",
          "disease",
          "market",
          "china",
          "bat",
          "novel",
          "infection",
          "protein",
          "coronavirus"
         ],
         "y": [
          67,
          59,
          56,
          37,
          35,
          30,
          23,
          19,
          18,
          18,
          16,
          16,
          16,
          14,
          13,
          12,
          12,
          12,
          11,
          11
         ]
        }
       ],
       "layout": {
        "legend": {
         "bgcolor": "#F5F6F9",
         "font": {
          "color": "#4D5663"
         }
        },
        "paper_bgcolor": "#F5F6F9",
        "plot_bgcolor": "#F5F6F9",
        "template": {
         "data": {
          "bar": [
           {
            "error_x": {
             "color": "#2a3f5f"
            },
            "error_y": {
             "color": "#2a3f5f"
            },
            "marker": {
             "line": {
              "color": "#E5ECF6",
              "width": 0.5
             }
            },
            "type": "bar"
           }
          ],
          "barpolar": [
           {
            "marker": {
             "line": {
              "color": "#E5ECF6",
              "width": 0.5
             }
            },
            "type": "barpolar"
           }
          ],
          "carpet": [
           {
            "aaxis": {
             "endlinecolor": "#2a3f5f",
             "gridcolor": "white",
             "linecolor": "white",
             "minorgridcolor": "white",
             "startlinecolor": "#2a3f5f"
            },
            "baxis": {
             "endlinecolor": "#2a3f5f",
             "gridcolor": "white",
             "linecolor": "white",
             "minorgridcolor": "white",
             "startlinecolor": "#2a3f5f"
            },
            "type": "carpet"
           }
          ],
          "choropleth": [
           {
            "colorbar": {
             "outlinewidth": 0,
             "ticks": ""
            },
            "type": "choropleth"
           }
          ],
          "contour": [
           {
            "colorbar": {
             "outlinewidth": 0,
             "ticks": ""
            },
            "colorscale": [
             [
              0,
              "#0d0887"
             ],
             [
              0.1111111111111111,
              "#46039f"
             ],
             [
              0.2222222222222222,
              "#7201a8"
             ],
             [
              0.3333333333333333,
              "#9c179e"
             ],
             [
              0.4444444444444444,
              "#bd3786"
             ],
             [
              0.5555555555555556,
              "#d8576b"
             ],
             [
              0.6666666666666666,
              "#ed7953"
             ],
             [
              0.7777777777777778,
              "#fb9f3a"
             ],
             [
              0.8888888888888888,
              "#fdca26"
             ],
             [
              1,
              "#f0f921"
             ]
            ],
            "type": "contour"
           }
          ],
          "contourcarpet": [
           {
            "colorbar": {
             "outlinewidth": 0,
             "ticks": ""
            },
            "type": "contourcarpet"
           }
          ],
          "heatmap": [
           {
            "colorbar": {
             "outlinewidth": 0,
             "ticks": ""
            },
            "colorscale": [
             [
              0,
              "#0d0887"
             ],
             [
              0.1111111111111111,
              "#46039f"
             ],
             [
              0.2222222222222222,
              "#7201a8"
             ],
             [
              0.3333333333333333,
              "#9c179e"
             ],
             [
              0.4444444444444444,
              "#bd3786"
             ],
             [
              0.5555555555555556,
              "#d8576b"
             ],
             [
              0.6666666666666666,
              "#ed7953"
             ],
             [
              0.7777777777777778,
              "#fb9f3a"
             ],
             [
              0.8888888888888888,
              "#fdca26"
             ],
             [
              1,
              "#f0f921"
             ]
            ],
            "type": "heatmap"
           }
          ],
          "heatmapgl": [
           {
            "colorbar": {
             "outlinewidth": 0,
             "ticks": ""
            },
            "colorscale": [
             [
              0,
              "#0d0887"
             ],
             [
              0.1111111111111111,
              "#46039f"
             ],
             [
              0.2222222222222222,
              "#7201a8"
             ],
             [
              0.3333333333333333,
              "#9c179e"
             ],
             [
              0.4444444444444444,
              "#bd3786"
             ],
             [
              0.5555555555555556,
              "#d8576b"
             ],
             [
              0.6666666666666666,
              "#ed7953"
             ],
             [
              0.7777777777777778,
              "#fb9f3a"
             ],
             [
              0.8888888888888888,
              "#fdca26"
             ],
             [
              1,
              "#f0f921"
             ]
            ],
            "type": "heatmapgl"
           }
          ],
          "histogram": [
           {
            "marker": {
             "colorbar": {
              "outlinewidth": 0,
              "ticks": ""
             }
            },
            "type": "histogram"
           }
          ],
          "histogram2d": [
           {
            "colorbar": {
             "outlinewidth": 0,
             "ticks": ""
            },
            "colorscale": [
             [
              0,
              "#0d0887"
             ],
             [
              0.1111111111111111,
              "#46039f"
             ],
             [
              0.2222222222222222,
              "#7201a8"
             ],
             [
              0.3333333333333333,
              "#9c179e"
             ],
             [
              0.4444444444444444,
              "#bd3786"
             ],
             [
              0.5555555555555556,
              "#d8576b"
             ],
             [
              0.6666666666666666,
              "#ed7953"
             ],
             [
              0.7777777777777778,
              "#fb9f3a"
             ],
             [
              0.8888888888888888,
              "#fdca26"
             ],
             [
              1,
              "#f0f921"
             ]
            ],
            "type": "histogram2d"
           }
          ],
          "histogram2dcontour": [
           {
            "colorbar": {
             "outlinewidth": 0,
             "ticks": ""
            },
            "colorscale": [
             [
              0,
              "#0d0887"
             ],
             [
              0.1111111111111111,
              "#46039f"
             ],
             [
              0.2222222222222222,
              "#7201a8"
             ],
             [
              0.3333333333333333,
              "#9c179e"
             ],
             [
              0.4444444444444444,
              "#bd3786"
             ],
             [
              0.5555555555555556,
              "#d8576b"
             ],
             [
              0.6666666666666666,
              "#ed7953"
             ],
             [
              0.7777777777777778,
              "#fb9f3a"
             ],
             [
              0.8888888888888888,
              "#fdca26"
             ],
             [
              1,
              "#f0f921"
             ]
            ],
            "type": "histogram2dcontour"
           }
          ],
          "mesh3d": [
           {
            "colorbar": {
             "outlinewidth": 0,
             "ticks": ""
            },
            "type": "mesh3d"
           }
          ],
          "parcoords": [
           {
            "line": {
             "colorbar": {
              "outlinewidth": 0,
              "ticks": ""
             }
            },
            "type": "parcoords"
           }
          ],
          "pie": [
           {
            "automargin": true,
            "type": "pie"
           }
          ],
          "scatter": [
           {
            "marker": {
             "colorbar": {
              "outlinewidth": 0,
              "ticks": ""
             }
            },
            "type": "scatter"
           }
          ],
          "scatter3d": [
           {
            "line": {
             "colorbar": {
              "outlinewidth": 0,
              "ticks": ""
             }
            },
            "marker": {
             "colorbar": {
              "outlinewidth": 0,
              "ticks": ""
             }
            },
            "type": "scatter3d"
           }
          ],
          "scattercarpet": [
           {
            "marker": {
             "colorbar": {
              "outlinewidth": 0,
              "ticks": ""
             }
            },
            "type": "scattercarpet"
           }
          ],
          "scattergeo": [
           {
            "marker": {
             "colorbar": {
              "outlinewidth": 0,
              "ticks": ""
             }
            },
            "type": "scattergeo"
           }
          ],
          "scattergl": [
           {
            "marker": {
             "colorbar": {
              "outlinewidth": 0,
              "ticks": ""
             }
            },
            "type": "scattergl"
           }
          ],
          "scattermapbox": [
           {
            "marker": {
             "colorbar": {
              "outlinewidth": 0,
              "ticks": ""
             }
            },
            "type": "scattermapbox"
           }
          ],
          "scatterpolar": [
           {
            "marker": {
             "colorbar": {
              "outlinewidth": 0,
              "ticks": ""
             }
            },
            "type": "scatterpolar"
           }
          ],
          "scatterpolargl": [
           {
            "marker": {
             "colorbar": {
              "outlinewidth": 0,
              "ticks": ""
             }
            },
            "type": "scatterpolargl"
           }
          ],
          "scatterternary": [
           {
            "marker": {
             "colorbar": {
              "outlinewidth": 0,
              "ticks": ""
             }
            },
            "type": "scatterternary"
           }
          ],
          "surface": [
           {
            "colorbar": {
             "outlinewidth": 0,
             "ticks": ""
            },
            "colorscale": [
             [
              0,
              "#0d0887"
             ],
             [
              0.1111111111111111,
              "#46039f"
             ],
             [
              0.2222222222222222,
              "#7201a8"
             ],
             [
              0.3333333333333333,
              "#9c179e"
             ],
             [
              0.4444444444444444,
              "#bd3786"
             ],
             [
              0.5555555555555556,
              "#d8576b"
             ],
             [
              0.6666666666666666,
              "#ed7953"
             ],
             [
              0.7777777777777778,
              "#fb9f3a"
             ],
             [
              0.8888888888888888,
              "#fdca26"
             ],
             [
              1,
              "#f0f921"
             ]
            ],
            "type": "surface"
           }
          ],
          "table": [
           {
            "cells": {
             "fill": {
              "color": "#EBF0F8"
             },
             "line": {
              "color": "white"
             }
            },
            "header": {
             "fill": {
              "color": "#C8D4E3"
             },
             "line": {
              "color": "white"
             }
            },
            "type": "table"
           }
          ]
         },
         "layout": {
          "annotationdefaults": {
           "arrowcolor": "#2a3f5f",
           "arrowhead": 0,
           "arrowwidth": 1
          },
          "autotypenumbers": "strict",
          "coloraxis": {
           "colorbar": {
            "outlinewidth": 0,
            "ticks": ""
           }
          },
          "colorscale": {
           "diverging": [
            [
             0,
             "#8e0152"
            ],
            [
             0.1,
             "#c51b7d"
            ],
            [
             0.2,
             "#de77ae"
            ],
            [
             0.3,
             "#f1b6da"
            ],
            [
             0.4,
             "#fde0ef"
            ],
            [
             0.5,
             "#f7f7f7"
            ],
            [
             0.6,
             "#e6f5d0"
            ],
            [
             0.7,
             "#b8e186"
            ],
            [
             0.8,
             "#7fbc41"
            ],
            [
             0.9,
             "#4d9221"
            ],
            [
             1,
             "#276419"
            ]
           ],
           "sequential": [
            [
             0,
             "#0d0887"
            ],
            [
             0.1111111111111111,
             "#46039f"
            ],
            [
             0.2222222222222222,
             "#7201a8"
            ],
            [
             0.3333333333333333,
             "#9c179e"
            ],
            [
             0.4444444444444444,
             "#bd3786"
            ],
            [
             0.5555555555555556,
             "#d8576b"
            ],
            [
             0.6666666666666666,
             "#ed7953"
            ],
            [
             0.7777777777777778,
             "#fb9f3a"
            ],
            [
             0.8888888888888888,
             "#fdca26"
            ],
            [
             1,
             "#f0f921"
            ]
           ],
           "sequentialminus": [
            [
             0,
             "#0d0887"
            ],
            [
             0.1111111111111111,
             "#46039f"
            ],
            [
             0.2222222222222222,
             "#7201a8"
            ],
            [
             0.3333333333333333,
             "#9c179e"
            ],
            [
             0.4444444444444444,
             "#bd3786"
            ],
            [
             0.5555555555555556,
             "#d8576b"
            ],
            [
             0.6666666666666666,
             "#ed7953"
            ],
            [
             0.7777777777777778,
             "#fb9f3a"
            ],
            [
             0.8888888888888888,
             "#fdca26"
            ],
            [
             1,
             "#f0f921"
            ]
           ]
          },
          "colorway": [
           "#636efa",
           "#EF553B",
           "#00cc96",
           "#ab63fa",
           "#FFA15A",
           "#19d3f3",
           "#FF6692",
           "#B6E880",
           "#FF97FF",
           "#FECB52"
          ],
          "font": {
           "color": "#2a3f5f"
          },
          "geo": {
           "bgcolor": "white",
           "lakecolor": "white",
           "landcolor": "#E5ECF6",
           "showlakes": true,
           "showland": true,
           "subunitcolor": "white"
          },
          "hoverlabel": {
           "align": "left"
          },
          "hovermode": "closest",
          "mapbox": {
           "style": "light"
          },
          "paper_bgcolor": "white",
          "plot_bgcolor": "#E5ECF6",
          "polar": {
           "angularaxis": {
            "gridcolor": "white",
            "linecolor": "white",
            "ticks": ""
           },
           "bgcolor": "#E5ECF6",
           "radialaxis": {
            "gridcolor": "white",
            "linecolor": "white",
            "ticks": ""
           }
          },
          "scene": {
           "xaxis": {
            "backgroundcolor": "#E5ECF6",
            "gridcolor": "white",
            "gridwidth": 2,
            "linecolor": "white",
            "showbackground": true,
            "ticks": "",
            "zerolinecolor": "white"
           },
           "yaxis": {
            "backgroundcolor": "#E5ECF6",
            "gridcolor": "white",
            "gridwidth": 2,
            "linecolor": "white",
            "showbackground": true,
            "ticks": "",
            "zerolinecolor": "white"
           },
           "zaxis": {
            "backgroundcolor": "#E5ECF6",
            "gridcolor": "white",
            "gridwidth": 2,
            "linecolor": "white",
            "showbackground": true,
            "ticks": "",
            "zerolinecolor": "white"
           }
          },
          "shapedefaults": {
           "line": {
            "color": "#2a3f5f"
           }
          },
          "ternary": {
           "aaxis": {
            "gridcolor": "white",
            "linecolor": "white",
            "ticks": ""
           },
           "baxis": {
            "gridcolor": "white",
            "linecolor": "white",
            "ticks": ""
           },
           "bgcolor": "#E5ECF6",
           "caxis": {
            "gridcolor": "white",
            "linecolor": "white",
            "ticks": ""
           }
          },
          "title": {
           "x": 0.05
          },
          "xaxis": {
           "automargin": true,
           "gridcolor": "white",
           "linecolor": "white",
           "ticks": "",
           "title": {
            "standoff": 15
           },
           "zerolinecolor": "white",
           "zerolinewidth": 2
          },
          "yaxis": {
           "automargin": true,
           "gridcolor": "white",
           "linecolor": "white",
           "ticks": "",
           "title": {
            "standoff": 15
           },
           "zerolinecolor": "white",
           "zerolinewidth": 2
          }
         }
        },
        "title": {
         "font": {
          "color": "#4D5663"
         },
         "text": "Top 20 words in text after removing stop words"
        },
        "xaxis": {
         "gridcolor": "#E1E5ED",
         "linecolor": "black",
         "showgrid": true,
         "tickfont": {
          "color": "#4D5663"
         },
         "title": {
          "font": {
           "color": "#4D5663"
          },
          "text": ""
         },
         "zerolinecolor": "#E1E5ED"
        },
        "yaxis": {
         "gridcolor": "#E1E5ED",
         "linecolor": "black",
         "showgrid": true,
         "tickfont": {
          "color": "#4D5663"
         },
         "title": {
          "font": {
           "color": "#4D5663"
          },
          "text": "Count"
         },
         "zerolinecolor": "#E1E5ED"
        }
       }
      },
      "text/html": [
       "<div>                            <div id=\"e6f4aee0-388f-458b-93e2-6809798b8c75\" class=\"plotly-graph-div\" style=\"height:525px; width:100%;\"></div>            <script type=\"text/javascript\">                require([\"plotly\"], function(Plotly) {                    window.PLOTLYENV=window.PLOTLYENV || {};\n",
       "                    window.PLOTLYENV.BASE_URL='https://plot.ly';                                    if (document.getElementById(\"e6f4aee0-388f-458b-93e2-6809798b8c75\")) {                    Plotly.newPlot(                        \"e6f4aee0-388f-458b-93e2-6809798b8c75\",                        [{\"marker\": {\"color\": \"rgba(255, 153, 51, 0.6)\", \"line\": {\"color\": \"rgba(255, 153, 51, 1.0)\", \"width\": 1}}, \"name\": \"count\", \"orientation\": \"v\", \"text\": \"\", \"type\": \"bar\", \"x\": [\"cov\", \"2019\", \"ncov\", \"sars\", \"human\", \"cases\", \"mers\", \"outbreak\", \"virus\", \"health\", \"patients\", \"wuhan\", \"disease\", \"market\", \"china\", \"bat\", \"novel\", \"infection\", \"protein\", \"coronavirus\"], \"y\": [67, 59, 56, 37, 35, 30, 23, 19, 18, 18, 16, 16, 16, 14, 13, 12, 12, 12, 11, 11]}],                        {\"legend\": {\"bgcolor\": \"#F5F6F9\", \"font\": {\"color\": \"#4D5663\"}}, \"paper_bgcolor\": \"#F5F6F9\", \"plot_bgcolor\": \"#F5F6F9\", \"template\": {\"data\": {\"bar\": [{\"error_x\": {\"color\": \"#2a3f5f\"}, \"error_y\": {\"color\": \"#2a3f5f\"}, \"marker\": {\"line\": {\"color\": \"#E5ECF6\", \"width\": 0.5}}, \"type\": \"bar\"}], \"barpolar\": [{\"marker\": {\"line\": {\"color\": \"#E5ECF6\", \"width\": 0.5}}, \"type\": \"barpolar\"}], \"carpet\": [{\"aaxis\": {\"endlinecolor\": \"#2a3f5f\", \"gridcolor\": \"white\", \"linecolor\": \"white\", \"minorgridcolor\": \"white\", \"startlinecolor\": \"#2a3f5f\"}, \"baxis\": {\"endlinecolor\": \"#2a3f5f\", \"gridcolor\": \"white\", \"linecolor\": \"white\", \"minorgridcolor\": \"white\", \"startlinecolor\": \"#2a3f5f\"}, \"type\": \"carpet\"}], \"choropleth\": [{\"colorbar\": {\"outlinewidth\": 0, \"ticks\": \"\"}, \"type\": \"choropleth\"}], \"contour\": [{\"colorbar\": {\"outlinewidth\": 0, \"ticks\": \"\"}, \"colorscale\": [[0.0, \"#0d0887\"], [0.1111111111111111, \"#46039f\"], [0.2222222222222222, \"#7201a8\"], [0.3333333333333333, \"#9c179e\"], [0.4444444444444444, \"#bd3786\"], [0.5555555555555556, \"#d8576b\"], [0.6666666666666666, \"#ed7953\"], [0.7777777777777778, \"#fb9f3a\"], [0.8888888888888888, \"#fdca26\"], [1.0, \"#f0f921\"]], \"type\": \"contour\"}], \"contourcarpet\": [{\"colorbar\": {\"outlinewidth\": 0, \"ticks\": \"\"}, \"type\": \"contourcarpet\"}], \"heatmap\": [{\"colorbar\": {\"outlinewidth\": 0, \"ticks\": \"\"}, \"colorscale\": [[0.0, \"#0d0887\"], [0.1111111111111111, \"#46039f\"], [0.2222222222222222, \"#7201a8\"], [0.3333333333333333, \"#9c179e\"], [0.4444444444444444, \"#bd3786\"], [0.5555555555555556, \"#d8576b\"], [0.6666666666666666, \"#ed7953\"], [0.7777777777777778, \"#fb9f3a\"], [0.8888888888888888, \"#fdca26\"], [1.0, \"#f0f921\"]], \"type\": \"heatmap\"}], \"heatmapgl\": [{\"colorbar\": {\"outlinewidth\": 0, \"ticks\": \"\"}, \"colorscale\": [[0.0, \"#0d0887\"], [0.1111111111111111, \"#46039f\"], [0.2222222222222222, \"#7201a8\"], [0.3333333333333333, \"#9c179e\"], [0.4444444444444444, \"#bd3786\"], [0.5555555555555556, \"#d8576b\"], [0.6666666666666666, \"#ed7953\"], [0.7777777777777778, \"#fb9f3a\"], [0.8888888888888888, \"#fdca26\"], [1.0, \"#f0f921\"]], \"type\": \"heatmapgl\"}], \"histogram\": [{\"marker\": {\"colorbar\": {\"outlinewidth\": 0, \"ticks\": \"\"}}, \"type\": \"histogram\"}], \"histogram2d\": [{\"colorbar\": {\"outlinewidth\": 0, \"ticks\": \"\"}, \"colorscale\": [[0.0, \"#0d0887\"], [0.1111111111111111, \"#46039f\"], [0.2222222222222222, \"#7201a8\"], [0.3333333333333333, \"#9c179e\"], [0.4444444444444444, \"#bd3786\"], [0.5555555555555556, \"#d8576b\"], [0.6666666666666666, \"#ed7953\"], [0.7777777777777778, \"#fb9f3a\"], [0.8888888888888888, \"#fdca26\"], [1.0, \"#f0f921\"]], \"type\": \"histogram2d\"}], \"histogram2dcontour\": [{\"colorbar\": {\"outlinewidth\": 0, \"ticks\": \"\"}, \"colorscale\": [[0.0, \"#0d0887\"], [0.1111111111111111, \"#46039f\"], [0.2222222222222222, \"#7201a8\"], [0.3333333333333333, \"#9c179e\"], [0.4444444444444444, \"#bd3786\"], [0.5555555555555556, \"#d8576b\"], [0.6666666666666666, \"#ed7953\"], [0.7777777777777778, \"#fb9f3a\"], [0.8888888888888888, \"#fdca26\"], [1.0, \"#f0f921\"]], \"type\": \"histogram2dcontour\"}], \"mesh3d\": [{\"colorbar\": {\"outlinewidth\": 0, \"ticks\": \"\"}, \"type\": \"mesh3d\"}], \"parcoords\": [{\"line\": {\"colorbar\": {\"outlinewidth\": 0, \"ticks\": \"\"}}, \"type\": \"parcoords\"}], \"pie\": [{\"automargin\": true, \"type\": \"pie\"}], \"scatter\": [{\"marker\": {\"colorbar\": {\"outlinewidth\": 0, \"ticks\": \"\"}}, \"type\": \"scatter\"}], \"scatter3d\": [{\"line\": {\"colorbar\": {\"outlinewidth\": 0, \"ticks\": \"\"}}, \"marker\": {\"colorbar\": {\"outlinewidth\": 0, \"ticks\": \"\"}}, \"type\": \"scatter3d\"}], \"scattercarpet\": [{\"marker\": {\"colorbar\": {\"outlinewidth\": 0, \"ticks\": \"\"}}, \"type\": \"scattercarpet\"}], \"scattergeo\": [{\"marker\": {\"colorbar\": {\"outlinewidth\": 0, \"ticks\": \"\"}}, \"type\": \"scattergeo\"}], \"scattergl\": [{\"marker\": {\"colorbar\": {\"outlinewidth\": 0, \"ticks\": \"\"}}, \"type\": \"scattergl\"}], \"scattermapbox\": [{\"marker\": {\"colorbar\": {\"outlinewidth\": 0, \"ticks\": \"\"}}, \"type\": \"scattermapbox\"}], \"scatterpolar\": [{\"marker\": {\"colorbar\": {\"outlinewidth\": 0, \"ticks\": \"\"}}, \"type\": \"scatterpolar\"}], \"scatterpolargl\": [{\"marker\": {\"colorbar\": {\"outlinewidth\": 0, \"ticks\": \"\"}}, \"type\": \"scatterpolargl\"}], \"scatterternary\": [{\"marker\": {\"colorbar\": {\"outlinewidth\": 0, \"ticks\": \"\"}}, \"type\": \"scatterternary\"}], \"surface\": [{\"colorbar\": {\"outlinewidth\": 0, \"ticks\": \"\"}, \"colorscale\": [[0.0, \"#0d0887\"], [0.1111111111111111, \"#46039f\"], [0.2222222222222222, \"#7201a8\"], [0.3333333333333333, \"#9c179e\"], [0.4444444444444444, \"#bd3786\"], [0.5555555555555556, \"#d8576b\"], [0.6666666666666666, \"#ed7953\"], [0.7777777777777778, \"#fb9f3a\"], [0.8888888888888888, \"#fdca26\"], [1.0, \"#f0f921\"]], \"type\": \"surface\"}], \"table\": [{\"cells\": {\"fill\": {\"color\": \"#EBF0F8\"}, \"line\": {\"color\": \"white\"}}, \"header\": {\"fill\": {\"color\": \"#C8D4E3\"}, \"line\": {\"color\": \"white\"}}, \"type\": \"table\"}]}, \"layout\": {\"annotationdefaults\": {\"arrowcolor\": \"#2a3f5f\", \"arrowhead\": 0, \"arrowwidth\": 1}, \"autotypenumbers\": \"strict\", \"coloraxis\": {\"colorbar\": {\"outlinewidth\": 0, \"ticks\": \"\"}}, \"colorscale\": {\"diverging\": [[0, \"#8e0152\"], [0.1, \"#c51b7d\"], [0.2, \"#de77ae\"], [0.3, \"#f1b6da\"], [0.4, \"#fde0ef\"], [0.5, \"#f7f7f7\"], [0.6, \"#e6f5d0\"], [0.7, \"#b8e186\"], [0.8, \"#7fbc41\"], [0.9, \"#4d9221\"], [1, \"#276419\"]], \"sequential\": [[0.0, \"#0d0887\"], [0.1111111111111111, \"#46039f\"], [0.2222222222222222, \"#7201a8\"], [0.3333333333333333, \"#9c179e\"], [0.4444444444444444, \"#bd3786\"], [0.5555555555555556, \"#d8576b\"], [0.6666666666666666, \"#ed7953\"], [0.7777777777777778, \"#fb9f3a\"], [0.8888888888888888, \"#fdca26\"], [1.0, \"#f0f921\"]], \"sequentialminus\": [[0.0, \"#0d0887\"], [0.1111111111111111, \"#46039f\"], [0.2222222222222222, \"#7201a8\"], [0.3333333333333333, \"#9c179e\"], [0.4444444444444444, \"#bd3786\"], [0.5555555555555556, \"#d8576b\"], [0.6666666666666666, \"#ed7953\"], [0.7777777777777778, \"#fb9f3a\"], [0.8888888888888888, \"#fdca26\"], [1.0, \"#f0f921\"]]}, \"colorway\": [\"#636efa\", \"#EF553B\", \"#00cc96\", \"#ab63fa\", \"#FFA15A\", \"#19d3f3\", \"#FF6692\", \"#B6E880\", \"#FF97FF\", \"#FECB52\"], \"font\": {\"color\": \"#2a3f5f\"}, \"geo\": {\"bgcolor\": \"white\", \"lakecolor\": \"white\", \"landcolor\": \"#E5ECF6\", \"showlakes\": true, \"showland\": true, \"subunitcolor\": \"white\"}, \"hoverlabel\": {\"align\": \"left\"}, \"hovermode\": \"closest\", \"mapbox\": {\"style\": \"light\"}, \"paper_bgcolor\": \"white\", \"plot_bgcolor\": \"#E5ECF6\", \"polar\": {\"angularaxis\": {\"gridcolor\": \"white\", \"linecolor\": \"white\", \"ticks\": \"\"}, \"bgcolor\": \"#E5ECF6\", \"radialaxis\": {\"gridcolor\": \"white\", \"linecolor\": \"white\", \"ticks\": \"\"}}, \"scene\": {\"xaxis\": {\"backgroundcolor\": \"#E5ECF6\", \"gridcolor\": \"white\", \"gridwidth\": 2, \"linecolor\": \"white\", \"showbackground\": true, \"ticks\": \"\", \"zerolinecolor\": \"white\"}, \"yaxis\": {\"backgroundcolor\": \"#E5ECF6\", \"gridcolor\": \"white\", \"gridwidth\": 2, \"linecolor\": \"white\", \"showbackground\": true, \"ticks\": \"\", \"zerolinecolor\": \"white\"}, \"zaxis\": {\"backgroundcolor\": \"#E5ECF6\", \"gridcolor\": \"white\", \"gridwidth\": 2, \"linecolor\": \"white\", \"showbackground\": true, \"ticks\": \"\", \"zerolinecolor\": \"white\"}}, \"shapedefaults\": {\"line\": {\"color\": \"#2a3f5f\"}}, \"ternary\": {\"aaxis\": {\"gridcolor\": \"white\", \"linecolor\": \"white\", \"ticks\": \"\"}, \"baxis\": {\"gridcolor\": \"white\", \"linecolor\": \"white\", \"ticks\": \"\"}, \"bgcolor\": \"#E5ECF6\", \"caxis\": {\"gridcolor\": \"white\", \"linecolor\": \"white\", \"ticks\": \"\"}}, \"title\": {\"x\": 0.05}, \"xaxis\": {\"automargin\": true, \"gridcolor\": \"white\", \"linecolor\": \"white\", \"ticks\": \"\", \"title\": {\"standoff\": 15}, \"zerolinecolor\": \"white\", \"zerolinewidth\": 2}, \"yaxis\": {\"automargin\": true, \"gridcolor\": \"white\", \"linecolor\": \"white\", \"ticks\": \"\", \"title\": {\"standoff\": 15}, \"zerolinecolor\": \"white\", \"zerolinewidth\": 2}}}, \"title\": {\"font\": {\"color\": \"#4D5663\"}, \"text\": \"Top 20 words in text after removing stop words\"}, \"xaxis\": {\"gridcolor\": \"#E1E5ED\", \"linecolor\": \"black\", \"showgrid\": true, \"tickfont\": {\"color\": \"#4D5663\"}, \"title\": {\"font\": {\"color\": \"#4D5663\"}, \"text\": \"\"}, \"zerolinecolor\": \"#E1E5ED\"}, \"yaxis\": {\"gridcolor\": \"#E1E5ED\", \"linecolor\": \"black\", \"showgrid\": true, \"tickfont\": {\"color\": \"#4D5663\"}, \"title\": {\"font\": {\"color\": \"#4D5663\"}, \"text\": \"Count\"}, \"zerolinecolor\": \"#E1E5ED\"}},                        {\"showLink\": true, \"linkText\": \"Export to plot.ly\", \"plotlyServerURL\": \"https://plot.ly\", \"responsive\": true}                    ).then(function(){\n",
       "                            \n",
       "var gd = document.getElementById('e6f4aee0-388f-458b-93e2-6809798b8c75');\n",
       "var x = new MutationObserver(function (mutations, observer) {{\n",
       "        var display = window.getComputedStyle(gd).display;\n",
       "        if (!display || display === 'none') {{\n",
       "            console.log([gd, 'removed!']);\n",
       "            Plotly.purge(gd);\n",
       "            observer.disconnect();\n",
       "        }}\n",
       "}});\n",
       "\n",
       "// Listen for the removal of the full notebook cells\n",
       "var notebookContainer = gd.closest('#notebook-container');\n",
       "if (notebookContainer) {{\n",
       "    x.observe(notebookContainer, {childList: true});\n",
       "}}\n",
       "\n",
       "// Listen for the clearing of the current output cell\n",
       "var outputEl = gd.closest('.output');\n",
       "if (outputEl) {{\n",
       "    x.observe(outputEl, {childList: true});\n",
       "}}\n",
       "\n",
       "                        })                };                });            </script>        </div>"
      ]
     },
     "metadata": {},
     "output_type": "display_data"
    }
   ],
   "source": [
    "def get_top_n_words(corpus, n=None):\n",
    "    vec = CountVectorizer(stop_words = 'english').fit(corpus) # instead of nltk.corpus.stopwords(‘english’) list\n",
    "    bag_of_words = vec.transform(corpus) \n",
    "    sum_words = bag_of_words.sum(axis=0) \n",
    "    words_freq = [(word, sum_words[0, idx]) for word, idx in vec.vocabulary_.items()]\n",
    "    words_freq =sorted(words_freq, key = lambda x: x[1], reverse=True)\n",
    "    return words_freq[:n]\n",
    "common_words = get_top_n_words([text], 20)\n",
    "for word, freq in common_words:\n",
    "    print(word, freq)\n",
    "df2 = pd.DataFrame(common_words, columns = ['ReviewText' , 'count'])\n",
    "df2.groupby('ReviewText').sum()['count'].sort_values(ascending=False).iplot(\n",
    "    kind='bar', yTitle='Count', linecolor='black', title='Top 20 words in text after removing stop words')\n"
   ]
  },
  {
   "cell_type": "code",
   "execution_count": 21,
   "id": "4479e277",
   "metadata": {},
   "outputs": [
    {
     "name": "stdout",
     "output_type": "stream",
     "text": [
      "the 2019 ncov 14\n",
      "human to human 11\n",
      "and mers cov 8\n",
      "of 2019 ncov 7\n",
      "around the world 6\n",
      "sars and mers 6\n",
      "with 2019 ncov 5\n",
      "for 2019 ncov 5\n",
      "the sars cov 5\n",
      "sars cov and 4\n",
      "the novel cov 4\n",
      "2019 ncov was 4\n",
      "2019 ncov infection 4\n",
      "of the 2019 4\n",
      "been associated with 4\n",
      "for sars cov 4\n",
      "to 2019 ncov 4\n",
      "health care workers 4\n",
      "to human spread 4\n",
      "huanan south china 3\n"
     ]
    },
    {
     "data": {
      "application/vnd.plotly.v1+json": {
       "config": {
        "linkText": "Export to plot.ly",
        "plotlyServerURL": "https://plot.ly",
        "showLink": true
       },
       "data": [
        {
         "marker": {
          "color": "rgba(255, 153, 51, 0.6)",
          "line": {
           "color": "rgba(255, 153, 51, 1.0)",
           "width": 1
          }
         },
         "name": "count",
         "orientation": "v",
         "text": "",
         "type": "bar",
         "x": [
          "the 2019 ncov",
          "human to human",
          "and mers cov",
          "of 2019 ncov",
          "around the world",
          "sars and mers",
          "the sars cov",
          "with 2019 ncov",
          "for 2019 ncov",
          "health care workers",
          "2019 ncov was",
          "of the 2019",
          "for sars cov",
          "sars cov and",
          "the novel cov",
          "been associated with",
          "to 2019 ncov",
          "to human spread",
          "2019 ncov infection",
          "huanan south china"
         ],
         "y": [
          14,
          11,
          8,
          7,
          6,
          6,
          5,
          5,
          5,
          4,
          4,
          4,
          4,
          4,
          4,
          4,
          4,
          4,
          4,
          3
         ]
        }
       ],
       "layout": {
        "legend": {
         "bgcolor": "#F5F6F9",
         "font": {
          "color": "#4D5663"
         }
        },
        "paper_bgcolor": "#F5F6F9",
        "plot_bgcolor": "#F5F6F9",
        "template": {
         "data": {
          "bar": [
           {
            "error_x": {
             "color": "#2a3f5f"
            },
            "error_y": {
             "color": "#2a3f5f"
            },
            "marker": {
             "line": {
              "color": "#E5ECF6",
              "width": 0.5
             }
            },
            "type": "bar"
           }
          ],
          "barpolar": [
           {
            "marker": {
             "line": {
              "color": "#E5ECF6",
              "width": 0.5
             }
            },
            "type": "barpolar"
           }
          ],
          "carpet": [
           {
            "aaxis": {
             "endlinecolor": "#2a3f5f",
             "gridcolor": "white",
             "linecolor": "white",
             "minorgridcolor": "white",
             "startlinecolor": "#2a3f5f"
            },
            "baxis": {
             "endlinecolor": "#2a3f5f",
             "gridcolor": "white",
             "linecolor": "white",
             "minorgridcolor": "white",
             "startlinecolor": "#2a3f5f"
            },
            "type": "carpet"
           }
          ],
          "choropleth": [
           {
            "colorbar": {
             "outlinewidth": 0,
             "ticks": ""
            },
            "type": "choropleth"
           }
          ],
          "contour": [
           {
            "colorbar": {
             "outlinewidth": 0,
             "ticks": ""
            },
            "colorscale": [
             [
              0,
              "#0d0887"
             ],
             [
              0.1111111111111111,
              "#46039f"
             ],
             [
              0.2222222222222222,
              "#7201a8"
             ],
             [
              0.3333333333333333,
              "#9c179e"
             ],
             [
              0.4444444444444444,
              "#bd3786"
             ],
             [
              0.5555555555555556,
              "#d8576b"
             ],
             [
              0.6666666666666666,
              "#ed7953"
             ],
             [
              0.7777777777777778,
              "#fb9f3a"
             ],
             [
              0.8888888888888888,
              "#fdca26"
             ],
             [
              1,
              "#f0f921"
             ]
            ],
            "type": "contour"
           }
          ],
          "contourcarpet": [
           {
            "colorbar": {
             "outlinewidth": 0,
             "ticks": ""
            },
            "type": "contourcarpet"
           }
          ],
          "heatmap": [
           {
            "colorbar": {
             "outlinewidth": 0,
             "ticks": ""
            },
            "colorscale": [
             [
              0,
              "#0d0887"
             ],
             [
              0.1111111111111111,
              "#46039f"
             ],
             [
              0.2222222222222222,
              "#7201a8"
             ],
             [
              0.3333333333333333,
              "#9c179e"
             ],
             [
              0.4444444444444444,
              "#bd3786"
             ],
             [
              0.5555555555555556,
              "#d8576b"
             ],
             [
              0.6666666666666666,
              "#ed7953"
             ],
             [
              0.7777777777777778,
              "#fb9f3a"
             ],
             [
              0.8888888888888888,
              "#fdca26"
             ],
             [
              1,
              "#f0f921"
             ]
            ],
            "type": "heatmap"
           }
          ],
          "heatmapgl": [
           {
            "colorbar": {
             "outlinewidth": 0,
             "ticks": ""
            },
            "colorscale": [
             [
              0,
              "#0d0887"
             ],
             [
              0.1111111111111111,
              "#46039f"
             ],
             [
              0.2222222222222222,
              "#7201a8"
             ],
             [
              0.3333333333333333,
              "#9c179e"
             ],
             [
              0.4444444444444444,
              "#bd3786"
             ],
             [
              0.5555555555555556,
              "#d8576b"
             ],
             [
              0.6666666666666666,
              "#ed7953"
             ],
             [
              0.7777777777777778,
              "#fb9f3a"
             ],
             [
              0.8888888888888888,
              "#fdca26"
             ],
             [
              1,
              "#f0f921"
             ]
            ],
            "type": "heatmapgl"
           }
          ],
          "histogram": [
           {
            "marker": {
             "colorbar": {
              "outlinewidth": 0,
              "ticks": ""
             }
            },
            "type": "histogram"
           }
          ],
          "histogram2d": [
           {
            "colorbar": {
             "outlinewidth": 0,
             "ticks": ""
            },
            "colorscale": [
             [
              0,
              "#0d0887"
             ],
             [
              0.1111111111111111,
              "#46039f"
             ],
             [
              0.2222222222222222,
              "#7201a8"
             ],
             [
              0.3333333333333333,
              "#9c179e"
             ],
             [
              0.4444444444444444,
              "#bd3786"
             ],
             [
              0.5555555555555556,
              "#d8576b"
             ],
             [
              0.6666666666666666,
              "#ed7953"
             ],
             [
              0.7777777777777778,
              "#fb9f3a"
             ],
             [
              0.8888888888888888,
              "#fdca26"
             ],
             [
              1,
              "#f0f921"
             ]
            ],
            "type": "histogram2d"
           }
          ],
          "histogram2dcontour": [
           {
            "colorbar": {
             "outlinewidth": 0,
             "ticks": ""
            },
            "colorscale": [
             [
              0,
              "#0d0887"
             ],
             [
              0.1111111111111111,
              "#46039f"
             ],
             [
              0.2222222222222222,
              "#7201a8"
             ],
             [
              0.3333333333333333,
              "#9c179e"
             ],
             [
              0.4444444444444444,
              "#bd3786"
             ],
             [
              0.5555555555555556,
              "#d8576b"
             ],
             [
              0.6666666666666666,
              "#ed7953"
             ],
             [
              0.7777777777777778,
              "#fb9f3a"
             ],
             [
              0.8888888888888888,
              "#fdca26"
             ],
             [
              1,
              "#f0f921"
             ]
            ],
            "type": "histogram2dcontour"
           }
          ],
          "mesh3d": [
           {
            "colorbar": {
             "outlinewidth": 0,
             "ticks": ""
            },
            "type": "mesh3d"
           }
          ],
          "parcoords": [
           {
            "line": {
             "colorbar": {
              "outlinewidth": 0,
              "ticks": ""
             }
            },
            "type": "parcoords"
           }
          ],
          "pie": [
           {
            "automargin": true,
            "type": "pie"
           }
          ],
          "scatter": [
           {
            "marker": {
             "colorbar": {
              "outlinewidth": 0,
              "ticks": ""
             }
            },
            "type": "scatter"
           }
          ],
          "scatter3d": [
           {
            "line": {
             "colorbar": {
              "outlinewidth": 0,
              "ticks": ""
             }
            },
            "marker": {
             "colorbar": {
              "outlinewidth": 0,
              "ticks": ""
             }
            },
            "type": "scatter3d"
           }
          ],
          "scattercarpet": [
           {
            "marker": {
             "colorbar": {
              "outlinewidth": 0,
              "ticks": ""
             }
            },
            "type": "scattercarpet"
           }
          ],
          "scattergeo": [
           {
            "marker": {
             "colorbar": {
              "outlinewidth": 0,
              "ticks": ""
             }
            },
            "type": "scattergeo"
           }
          ],
          "scattergl": [
           {
            "marker": {
             "colorbar": {
              "outlinewidth": 0,
              "ticks": ""
             }
            },
            "type": "scattergl"
           }
          ],
          "scattermapbox": [
           {
            "marker": {
             "colorbar": {
              "outlinewidth": 0,
              "ticks": ""
             }
            },
            "type": "scattermapbox"
           }
          ],
          "scatterpolar": [
           {
            "marker": {
             "colorbar": {
              "outlinewidth": 0,
              "ticks": ""
             }
            },
            "type": "scatterpolar"
           }
          ],
          "scatterpolargl": [
           {
            "marker": {
             "colorbar": {
              "outlinewidth": 0,
              "ticks": ""
             }
            },
            "type": "scatterpolargl"
           }
          ],
          "scatterternary": [
           {
            "marker": {
             "colorbar": {
              "outlinewidth": 0,
              "ticks": ""
             }
            },
            "type": "scatterternary"
           }
          ],
          "surface": [
           {
            "colorbar": {
             "outlinewidth": 0,
             "ticks": ""
            },
            "colorscale": [
             [
              0,
              "#0d0887"
             ],
             [
              0.1111111111111111,
              "#46039f"
             ],
             [
              0.2222222222222222,
              "#7201a8"
             ],
             [
              0.3333333333333333,
              "#9c179e"
             ],
             [
              0.4444444444444444,
              "#bd3786"
             ],
             [
              0.5555555555555556,
              "#d8576b"
             ],
             [
              0.6666666666666666,
              "#ed7953"
             ],
             [
              0.7777777777777778,
              "#fb9f3a"
             ],
             [
              0.8888888888888888,
              "#fdca26"
             ],
             [
              1,
              "#f0f921"
             ]
            ],
            "type": "surface"
           }
          ],
          "table": [
           {
            "cells": {
             "fill": {
              "color": "#EBF0F8"
             },
             "line": {
              "color": "white"
             }
            },
            "header": {
             "fill": {
              "color": "#C8D4E3"
             },
             "line": {
              "color": "white"
             }
            },
            "type": "table"
           }
          ]
         },
         "layout": {
          "annotationdefaults": {
           "arrowcolor": "#2a3f5f",
           "arrowhead": 0,
           "arrowwidth": 1
          },
          "autotypenumbers": "strict",
          "coloraxis": {
           "colorbar": {
            "outlinewidth": 0,
            "ticks": ""
           }
          },
          "colorscale": {
           "diverging": [
            [
             0,
             "#8e0152"
            ],
            [
             0.1,
             "#c51b7d"
            ],
            [
             0.2,
             "#de77ae"
            ],
            [
             0.3,
             "#f1b6da"
            ],
            [
             0.4,
             "#fde0ef"
            ],
            [
             0.5,
             "#f7f7f7"
            ],
            [
             0.6,
             "#e6f5d0"
            ],
            [
             0.7,
             "#b8e186"
            ],
            [
             0.8,
             "#7fbc41"
            ],
            [
             0.9,
             "#4d9221"
            ],
            [
             1,
             "#276419"
            ]
           ],
           "sequential": [
            [
             0,
             "#0d0887"
            ],
            [
             0.1111111111111111,
             "#46039f"
            ],
            [
             0.2222222222222222,
             "#7201a8"
            ],
            [
             0.3333333333333333,
             "#9c179e"
            ],
            [
             0.4444444444444444,
             "#bd3786"
            ],
            [
             0.5555555555555556,
             "#d8576b"
            ],
            [
             0.6666666666666666,
             "#ed7953"
            ],
            [
             0.7777777777777778,
             "#fb9f3a"
            ],
            [
             0.8888888888888888,
             "#fdca26"
            ],
            [
             1,
             "#f0f921"
            ]
           ],
           "sequentialminus": [
            [
             0,
             "#0d0887"
            ],
            [
             0.1111111111111111,
             "#46039f"
            ],
            [
             0.2222222222222222,
             "#7201a8"
            ],
            [
             0.3333333333333333,
             "#9c179e"
            ],
            [
             0.4444444444444444,
             "#bd3786"
            ],
            [
             0.5555555555555556,
             "#d8576b"
            ],
            [
             0.6666666666666666,
             "#ed7953"
            ],
            [
             0.7777777777777778,
             "#fb9f3a"
            ],
            [
             0.8888888888888888,
             "#fdca26"
            ],
            [
             1,
             "#f0f921"
            ]
           ]
          },
          "colorway": [
           "#636efa",
           "#EF553B",
           "#00cc96",
           "#ab63fa",
           "#FFA15A",
           "#19d3f3",
           "#FF6692",
           "#B6E880",
           "#FF97FF",
           "#FECB52"
          ],
          "font": {
           "color": "#2a3f5f"
          },
          "geo": {
           "bgcolor": "white",
           "lakecolor": "white",
           "landcolor": "#E5ECF6",
           "showlakes": true,
           "showland": true,
           "subunitcolor": "white"
          },
          "hoverlabel": {
           "align": "left"
          },
          "hovermode": "closest",
          "mapbox": {
           "style": "light"
          },
          "paper_bgcolor": "white",
          "plot_bgcolor": "#E5ECF6",
          "polar": {
           "angularaxis": {
            "gridcolor": "white",
            "linecolor": "white",
            "ticks": ""
           },
           "bgcolor": "#E5ECF6",
           "radialaxis": {
            "gridcolor": "white",
            "linecolor": "white",
            "ticks": ""
           }
          },
          "scene": {
           "xaxis": {
            "backgroundcolor": "#E5ECF6",
            "gridcolor": "white",
            "gridwidth": 2,
            "linecolor": "white",
            "showbackground": true,
            "ticks": "",
            "zerolinecolor": "white"
           },
           "yaxis": {
            "backgroundcolor": "#E5ECF6",
            "gridcolor": "white",
            "gridwidth": 2,
            "linecolor": "white",
            "showbackground": true,
            "ticks": "",
            "zerolinecolor": "white"
           },
           "zaxis": {
            "backgroundcolor": "#E5ECF6",
            "gridcolor": "white",
            "gridwidth": 2,
            "linecolor": "white",
            "showbackground": true,
            "ticks": "",
            "zerolinecolor": "white"
           }
          },
          "shapedefaults": {
           "line": {
            "color": "#2a3f5f"
           }
          },
          "ternary": {
           "aaxis": {
            "gridcolor": "white",
            "linecolor": "white",
            "ticks": ""
           },
           "baxis": {
            "gridcolor": "white",
            "linecolor": "white",
            "ticks": ""
           },
           "bgcolor": "#E5ECF6",
           "caxis": {
            "gridcolor": "white",
            "linecolor": "white",
            "ticks": ""
           }
          },
          "title": {
           "x": 0.05
          },
          "xaxis": {
           "automargin": true,
           "gridcolor": "white",
           "linecolor": "white",
           "ticks": "",
           "title": {
            "standoff": 15
           },
           "zerolinecolor": "white",
           "zerolinewidth": 2
          },
          "yaxis": {
           "automargin": true,
           "gridcolor": "white",
           "linecolor": "white",
           "ticks": "",
           "title": {
            "standoff": 15
           },
           "zerolinecolor": "white",
           "zerolinewidth": 2
          }
         }
        },
        "title": {
         "font": {
          "color": "#4D5663"
         },
         "text": "Top 20 trigrams in text before removing stop words"
        },
        "xaxis": {
         "gridcolor": "#E1E5ED",
         "linecolor": "black",
         "showgrid": true,
         "tickfont": {
          "color": "#4D5663"
         },
         "title": {
          "font": {
           "color": "#4D5663"
          },
          "text": ""
         },
         "zerolinecolor": "#E1E5ED"
        },
        "yaxis": {
         "gridcolor": "#E1E5ED",
         "linecolor": "black",
         "showgrid": true,
         "tickfont": {
          "color": "#4D5663"
         },
         "title": {
          "font": {
           "color": "#4D5663"
          },
          "text": "Count"
         },
         "zerolinecolor": "#E1E5ED"
        }
       }
      },
      "text/html": [
       "<div>                            <div id=\"225a891a-5a87-4de7-bfc0-8e01a420de42\" class=\"plotly-graph-div\" style=\"height:525px; width:100%;\"></div>            <script type=\"text/javascript\">                require([\"plotly\"], function(Plotly) {                    window.PLOTLYENV=window.PLOTLYENV || {};\n",
       "                    window.PLOTLYENV.BASE_URL='https://plot.ly';                                    if (document.getElementById(\"225a891a-5a87-4de7-bfc0-8e01a420de42\")) {                    Plotly.newPlot(                        \"225a891a-5a87-4de7-bfc0-8e01a420de42\",                        [{\"marker\": {\"color\": \"rgba(255, 153, 51, 0.6)\", \"line\": {\"color\": \"rgba(255, 153, 51, 1.0)\", \"width\": 1}}, \"name\": \"count\", \"orientation\": \"v\", \"text\": \"\", \"type\": \"bar\", \"x\": [\"the 2019 ncov\", \"human to human\", \"and mers cov\", \"of 2019 ncov\", \"around the world\", \"sars and mers\", \"the sars cov\", \"with 2019 ncov\", \"for 2019 ncov\", \"health care workers\", \"2019 ncov was\", \"of the 2019\", \"for sars cov\", \"sars cov and\", \"the novel cov\", \"been associated with\", \"to 2019 ncov\", \"to human spread\", \"2019 ncov infection\", \"huanan south china\"], \"y\": [14, 11, 8, 7, 6, 6, 5, 5, 5, 4, 4, 4, 4, 4, 4, 4, 4, 4, 4, 3]}],                        {\"legend\": {\"bgcolor\": \"#F5F6F9\", \"font\": {\"color\": \"#4D5663\"}}, \"paper_bgcolor\": \"#F5F6F9\", \"plot_bgcolor\": \"#F5F6F9\", \"template\": {\"data\": {\"bar\": [{\"error_x\": {\"color\": \"#2a3f5f\"}, \"error_y\": {\"color\": \"#2a3f5f\"}, \"marker\": {\"line\": {\"color\": \"#E5ECF6\", \"width\": 0.5}}, \"type\": \"bar\"}], \"barpolar\": [{\"marker\": {\"line\": {\"color\": \"#E5ECF6\", \"width\": 0.5}}, \"type\": \"barpolar\"}], \"carpet\": [{\"aaxis\": {\"endlinecolor\": \"#2a3f5f\", \"gridcolor\": \"white\", \"linecolor\": \"white\", \"minorgridcolor\": \"white\", \"startlinecolor\": \"#2a3f5f\"}, \"baxis\": {\"endlinecolor\": \"#2a3f5f\", \"gridcolor\": \"white\", \"linecolor\": \"white\", \"minorgridcolor\": \"white\", \"startlinecolor\": \"#2a3f5f\"}, \"type\": \"carpet\"}], \"choropleth\": [{\"colorbar\": {\"outlinewidth\": 0, \"ticks\": \"\"}, \"type\": \"choropleth\"}], \"contour\": [{\"colorbar\": {\"outlinewidth\": 0, \"ticks\": \"\"}, \"colorscale\": [[0.0, \"#0d0887\"], [0.1111111111111111, \"#46039f\"], [0.2222222222222222, \"#7201a8\"], [0.3333333333333333, \"#9c179e\"], [0.4444444444444444, \"#bd3786\"], [0.5555555555555556, \"#d8576b\"], [0.6666666666666666, \"#ed7953\"], [0.7777777777777778, \"#fb9f3a\"], [0.8888888888888888, \"#fdca26\"], [1.0, \"#f0f921\"]], \"type\": \"contour\"}], \"contourcarpet\": [{\"colorbar\": {\"outlinewidth\": 0, \"ticks\": \"\"}, \"type\": \"contourcarpet\"}], \"heatmap\": [{\"colorbar\": {\"outlinewidth\": 0, \"ticks\": \"\"}, \"colorscale\": [[0.0, \"#0d0887\"], [0.1111111111111111, \"#46039f\"], [0.2222222222222222, \"#7201a8\"], [0.3333333333333333, \"#9c179e\"], [0.4444444444444444, \"#bd3786\"], [0.5555555555555556, \"#d8576b\"], [0.6666666666666666, \"#ed7953\"], [0.7777777777777778, \"#fb9f3a\"], [0.8888888888888888, \"#fdca26\"], [1.0, \"#f0f921\"]], \"type\": \"heatmap\"}], \"heatmapgl\": [{\"colorbar\": {\"outlinewidth\": 0, \"ticks\": \"\"}, \"colorscale\": [[0.0, \"#0d0887\"], [0.1111111111111111, \"#46039f\"], [0.2222222222222222, \"#7201a8\"], [0.3333333333333333, \"#9c179e\"], [0.4444444444444444, \"#bd3786\"], [0.5555555555555556, \"#d8576b\"], [0.6666666666666666, \"#ed7953\"], [0.7777777777777778, \"#fb9f3a\"], [0.8888888888888888, \"#fdca26\"], [1.0, \"#f0f921\"]], \"type\": \"heatmapgl\"}], \"histogram\": [{\"marker\": {\"colorbar\": {\"outlinewidth\": 0, \"ticks\": \"\"}}, \"type\": \"histogram\"}], \"histogram2d\": [{\"colorbar\": {\"outlinewidth\": 0, \"ticks\": \"\"}, \"colorscale\": [[0.0, \"#0d0887\"], [0.1111111111111111, \"#46039f\"], [0.2222222222222222, \"#7201a8\"], [0.3333333333333333, \"#9c179e\"], [0.4444444444444444, \"#bd3786\"], [0.5555555555555556, \"#d8576b\"], [0.6666666666666666, \"#ed7953\"], [0.7777777777777778, \"#fb9f3a\"], [0.8888888888888888, \"#fdca26\"], [1.0, \"#f0f921\"]], \"type\": \"histogram2d\"}], \"histogram2dcontour\": [{\"colorbar\": {\"outlinewidth\": 0, \"ticks\": \"\"}, \"colorscale\": [[0.0, \"#0d0887\"], [0.1111111111111111, \"#46039f\"], [0.2222222222222222, \"#7201a8\"], [0.3333333333333333, \"#9c179e\"], [0.4444444444444444, \"#bd3786\"], [0.5555555555555556, \"#d8576b\"], [0.6666666666666666, \"#ed7953\"], [0.7777777777777778, \"#fb9f3a\"], [0.8888888888888888, \"#fdca26\"], [1.0, \"#f0f921\"]], \"type\": \"histogram2dcontour\"}], \"mesh3d\": [{\"colorbar\": {\"outlinewidth\": 0, \"ticks\": \"\"}, \"type\": \"mesh3d\"}], \"parcoords\": [{\"line\": {\"colorbar\": {\"outlinewidth\": 0, \"ticks\": \"\"}}, \"type\": \"parcoords\"}], \"pie\": [{\"automargin\": true, \"type\": \"pie\"}], \"scatter\": [{\"marker\": {\"colorbar\": {\"outlinewidth\": 0, \"ticks\": \"\"}}, \"type\": \"scatter\"}], \"scatter3d\": [{\"line\": {\"colorbar\": {\"outlinewidth\": 0, \"ticks\": \"\"}}, \"marker\": {\"colorbar\": {\"outlinewidth\": 0, \"ticks\": \"\"}}, \"type\": \"scatter3d\"}], \"scattercarpet\": [{\"marker\": {\"colorbar\": {\"outlinewidth\": 0, \"ticks\": \"\"}}, \"type\": \"scattercarpet\"}], \"scattergeo\": [{\"marker\": {\"colorbar\": {\"outlinewidth\": 0, \"ticks\": \"\"}}, \"type\": \"scattergeo\"}], \"scattergl\": [{\"marker\": {\"colorbar\": {\"outlinewidth\": 0, \"ticks\": \"\"}}, \"type\": \"scattergl\"}], \"scattermapbox\": [{\"marker\": {\"colorbar\": {\"outlinewidth\": 0, \"ticks\": \"\"}}, \"type\": \"scattermapbox\"}], \"scatterpolar\": [{\"marker\": {\"colorbar\": {\"outlinewidth\": 0, \"ticks\": \"\"}}, \"type\": \"scatterpolar\"}], \"scatterpolargl\": [{\"marker\": {\"colorbar\": {\"outlinewidth\": 0, \"ticks\": \"\"}}, \"type\": \"scatterpolargl\"}], \"scatterternary\": [{\"marker\": {\"colorbar\": {\"outlinewidth\": 0, \"ticks\": \"\"}}, \"type\": \"scatterternary\"}], \"surface\": [{\"colorbar\": {\"outlinewidth\": 0, \"ticks\": \"\"}, \"colorscale\": [[0.0, \"#0d0887\"], [0.1111111111111111, \"#46039f\"], [0.2222222222222222, \"#7201a8\"], [0.3333333333333333, \"#9c179e\"], [0.4444444444444444, \"#bd3786\"], [0.5555555555555556, \"#d8576b\"], [0.6666666666666666, \"#ed7953\"], [0.7777777777777778, \"#fb9f3a\"], [0.8888888888888888, \"#fdca26\"], [1.0, \"#f0f921\"]], \"type\": \"surface\"}], \"table\": [{\"cells\": {\"fill\": {\"color\": \"#EBF0F8\"}, \"line\": {\"color\": \"white\"}}, \"header\": {\"fill\": {\"color\": \"#C8D4E3\"}, \"line\": {\"color\": \"white\"}}, \"type\": \"table\"}]}, \"layout\": {\"annotationdefaults\": {\"arrowcolor\": \"#2a3f5f\", \"arrowhead\": 0, \"arrowwidth\": 1}, \"autotypenumbers\": \"strict\", \"coloraxis\": {\"colorbar\": {\"outlinewidth\": 0, \"ticks\": \"\"}}, \"colorscale\": {\"diverging\": [[0, \"#8e0152\"], [0.1, \"#c51b7d\"], [0.2, \"#de77ae\"], [0.3, \"#f1b6da\"], [0.4, \"#fde0ef\"], [0.5, \"#f7f7f7\"], [0.6, \"#e6f5d0\"], [0.7, \"#b8e186\"], [0.8, \"#7fbc41\"], [0.9, \"#4d9221\"], [1, \"#276419\"]], \"sequential\": [[0.0, \"#0d0887\"], [0.1111111111111111, \"#46039f\"], [0.2222222222222222, \"#7201a8\"], [0.3333333333333333, \"#9c179e\"], [0.4444444444444444, \"#bd3786\"], [0.5555555555555556, \"#d8576b\"], [0.6666666666666666, \"#ed7953\"], [0.7777777777777778, \"#fb9f3a\"], [0.8888888888888888, \"#fdca26\"], [1.0, \"#f0f921\"]], \"sequentialminus\": [[0.0, \"#0d0887\"], [0.1111111111111111, \"#46039f\"], [0.2222222222222222, \"#7201a8\"], [0.3333333333333333, \"#9c179e\"], [0.4444444444444444, \"#bd3786\"], [0.5555555555555556, \"#d8576b\"], [0.6666666666666666, \"#ed7953\"], [0.7777777777777778, \"#fb9f3a\"], [0.8888888888888888, \"#fdca26\"], [1.0, \"#f0f921\"]]}, \"colorway\": [\"#636efa\", \"#EF553B\", \"#00cc96\", \"#ab63fa\", \"#FFA15A\", \"#19d3f3\", \"#FF6692\", \"#B6E880\", \"#FF97FF\", \"#FECB52\"], \"font\": {\"color\": \"#2a3f5f\"}, \"geo\": {\"bgcolor\": \"white\", \"lakecolor\": \"white\", \"landcolor\": \"#E5ECF6\", \"showlakes\": true, \"showland\": true, \"subunitcolor\": \"white\"}, \"hoverlabel\": {\"align\": \"left\"}, \"hovermode\": \"closest\", \"mapbox\": {\"style\": \"light\"}, \"paper_bgcolor\": \"white\", \"plot_bgcolor\": \"#E5ECF6\", \"polar\": {\"angularaxis\": {\"gridcolor\": \"white\", \"linecolor\": \"white\", \"ticks\": \"\"}, \"bgcolor\": \"#E5ECF6\", \"radialaxis\": {\"gridcolor\": \"white\", \"linecolor\": \"white\", \"ticks\": \"\"}}, \"scene\": {\"xaxis\": {\"backgroundcolor\": \"#E5ECF6\", \"gridcolor\": \"white\", \"gridwidth\": 2, \"linecolor\": \"white\", \"showbackground\": true, \"ticks\": \"\", \"zerolinecolor\": \"white\"}, \"yaxis\": {\"backgroundcolor\": \"#E5ECF6\", \"gridcolor\": \"white\", \"gridwidth\": 2, \"linecolor\": \"white\", \"showbackground\": true, \"ticks\": \"\", \"zerolinecolor\": \"white\"}, \"zaxis\": {\"backgroundcolor\": \"#E5ECF6\", \"gridcolor\": \"white\", \"gridwidth\": 2, \"linecolor\": \"white\", \"showbackground\": true, \"ticks\": \"\", \"zerolinecolor\": \"white\"}}, \"shapedefaults\": {\"line\": {\"color\": \"#2a3f5f\"}}, \"ternary\": {\"aaxis\": {\"gridcolor\": \"white\", \"linecolor\": \"white\", \"ticks\": \"\"}, \"baxis\": {\"gridcolor\": \"white\", \"linecolor\": \"white\", \"ticks\": \"\"}, \"bgcolor\": \"#E5ECF6\", \"caxis\": {\"gridcolor\": \"white\", \"linecolor\": \"white\", \"ticks\": \"\"}}, \"title\": {\"x\": 0.05}, \"xaxis\": {\"automargin\": true, \"gridcolor\": \"white\", \"linecolor\": \"white\", \"ticks\": \"\", \"title\": {\"standoff\": 15}, \"zerolinecolor\": \"white\", \"zerolinewidth\": 2}, \"yaxis\": {\"automargin\": true, \"gridcolor\": \"white\", \"linecolor\": \"white\", \"ticks\": \"\", \"title\": {\"standoff\": 15}, \"zerolinecolor\": \"white\", \"zerolinewidth\": 2}}}, \"title\": {\"font\": {\"color\": \"#4D5663\"}, \"text\": \"Top 20 trigrams in text before removing stop words\"}, \"xaxis\": {\"gridcolor\": \"#E1E5ED\", \"linecolor\": \"black\", \"showgrid\": true, \"tickfont\": {\"color\": \"#4D5663\"}, \"title\": {\"font\": {\"color\": \"#4D5663\"}, \"text\": \"\"}, \"zerolinecolor\": \"#E1E5ED\"}, \"yaxis\": {\"gridcolor\": \"#E1E5ED\", \"linecolor\": \"black\", \"showgrid\": true, \"tickfont\": {\"color\": \"#4D5663\"}, \"title\": {\"font\": {\"color\": \"#4D5663\"}, \"text\": \"Count\"}, \"zerolinecolor\": \"#E1E5ED\"}},                        {\"showLink\": true, \"linkText\": \"Export to plot.ly\", \"plotlyServerURL\": \"https://plot.ly\", \"responsive\": true}                    ).then(function(){\n",
       "                            \n",
       "var gd = document.getElementById('225a891a-5a87-4de7-bfc0-8e01a420de42');\n",
       "var x = new MutationObserver(function (mutations, observer) {{\n",
       "        var display = window.getComputedStyle(gd).display;\n",
       "        if (!display || display === 'none') {{\n",
       "            console.log([gd, 'removed!']);\n",
       "            Plotly.purge(gd);\n",
       "            observer.disconnect();\n",
       "        }}\n",
       "}});\n",
       "\n",
       "// Listen for the removal of the full notebook cells\n",
       "var notebookContainer = gd.closest('#notebook-container');\n",
       "if (notebookContainer) {{\n",
       "    x.observe(notebookContainer, {childList: true});\n",
       "}}\n",
       "\n",
       "// Listen for the clearing of the current output cell\n",
       "var outputEl = gd.closest('.output');\n",
       "if (outputEl) {{\n",
       "    x.observe(outputEl, {childList: true});\n",
       "}}\n",
       "\n",
       "                        })                };                });            </script>        </div>"
      ]
     },
     "metadata": {},
     "output_type": "display_data"
    }
   ],
   "source": [
    "def get_top_n_trigram(corpus, n=None):\n",
    "    vec = CountVectorizer(ngram_range=(3, 3)).fit(corpus)\n",
    "    bag_of_words = vec.transform(corpus)\n",
    "    sum_words = bag_of_words.sum(axis=0) \n",
    "    words_freq = [(word, sum_words[0, idx]) for word, idx in vec.vocabulary_.items()]\n",
    "    words_freq =sorted(words_freq, key = lambda x: x[1], reverse=True)\n",
    "    return words_freq[:n]\n",
    "common_words = get_top_n_trigram([text], 20)\n",
    "for word, freq in common_words:\n",
    "    print(word, freq)\n",
    "df5 = pd.DataFrame(common_words, columns = ['ReviewText' , 'count'])\n",
    "df5.groupby('ReviewText').sum()['count'].sort_values(ascending=False).iplot(\n",
    "    kind='bar', yTitle='Count', linecolor='black', title='Top 20 trigrams in text before removing stop words')\n"
   ]
  },
  {
   "cell_type": "code",
   "execution_count": 22,
   "id": "88215195",
   "metadata": {},
   "outputs": [
    {
     "name": "stdout",
     "output_type": "stream",
     "text": [
      "sars mers cov 5\n",
      "2019 ncov infection 4\n",
      "health care workers 4\n",
      "human human spread 4\n",
      "sars cov mers 3\n",
      "cov mers cov 3\n",
      "huanan south china 3\n",
      "south china seafood 3\n",
      "china seafood market 3\n",
      "human human transmission 3\n",
      "2019 ncov outbreak 3\n",
      "source 2019 ncov 3\n",
      "sars cov protein 3\n",
      "coronavirus 2019 ncov 2\n",
      "seafood market wuhan 2\n",
      "respiratory syndrome coronavirus 2\n",
      "wuhan municipal health 2\n",
      "municipal health commission 2\n",
      "cov 2019 ncov 2\n",
      "2019 ncov isolated 2\n"
     ]
    },
    {
     "data": {
      "application/vnd.plotly.v1+json": {
       "config": {
        "linkText": "Export to plot.ly",
        "plotlyServerURL": "https://plot.ly",
        "showLink": true
       },
       "data": [
        {
         "marker": {
          "color": "rgba(255, 153, 51, 0.6)",
          "line": {
           "color": "rgba(255, 153, 51, 1.0)",
           "width": 1
          }
         },
         "name": "count",
         "orientation": "v",
         "text": "",
         "type": "bar",
         "x": [
          "sars mers cov",
          "2019 ncov infection",
          "human human spread",
          "health care workers",
          "south china seafood",
          "source 2019 ncov",
          "sars cov protein",
          "sars cov mers",
          "human human transmission",
          "huanan south china",
          "cov mers cov",
          "china seafood market",
          "2019 ncov outbreak",
          "2019 ncov isolated",
          "municipal health commission",
          "respiratory syndrome coronavirus",
          "cov 2019 ncov",
          "coronavirus 2019 ncov",
          "seafood market wuhan",
          "wuhan municipal health"
         ],
         "y": [
          5,
          4,
          4,
          4,
          3,
          3,
          3,
          3,
          3,
          3,
          3,
          3,
          3,
          2,
          2,
          2,
          2,
          2,
          2,
          2
         ]
        }
       ],
       "layout": {
        "legend": {
         "bgcolor": "#F5F6F9",
         "font": {
          "color": "#4D5663"
         }
        },
        "paper_bgcolor": "#F5F6F9",
        "plot_bgcolor": "#F5F6F9",
        "template": {
         "data": {
          "bar": [
           {
            "error_x": {
             "color": "#2a3f5f"
            },
            "error_y": {
             "color": "#2a3f5f"
            },
            "marker": {
             "line": {
              "color": "#E5ECF6",
              "width": 0.5
             }
            },
            "type": "bar"
           }
          ],
          "barpolar": [
           {
            "marker": {
             "line": {
              "color": "#E5ECF6",
              "width": 0.5
             }
            },
            "type": "barpolar"
           }
          ],
          "carpet": [
           {
            "aaxis": {
             "endlinecolor": "#2a3f5f",
             "gridcolor": "white",
             "linecolor": "white",
             "minorgridcolor": "white",
             "startlinecolor": "#2a3f5f"
            },
            "baxis": {
             "endlinecolor": "#2a3f5f",
             "gridcolor": "white",
             "linecolor": "white",
             "minorgridcolor": "white",
             "startlinecolor": "#2a3f5f"
            },
            "type": "carpet"
           }
          ],
          "choropleth": [
           {
            "colorbar": {
             "outlinewidth": 0,
             "ticks": ""
            },
            "type": "choropleth"
           }
          ],
          "contour": [
           {
            "colorbar": {
             "outlinewidth": 0,
             "ticks": ""
            },
            "colorscale": [
             [
              0,
              "#0d0887"
             ],
             [
              0.1111111111111111,
              "#46039f"
             ],
             [
              0.2222222222222222,
              "#7201a8"
             ],
             [
              0.3333333333333333,
              "#9c179e"
             ],
             [
              0.4444444444444444,
              "#bd3786"
             ],
             [
              0.5555555555555556,
              "#d8576b"
             ],
             [
              0.6666666666666666,
              "#ed7953"
             ],
             [
              0.7777777777777778,
              "#fb9f3a"
             ],
             [
              0.8888888888888888,
              "#fdca26"
             ],
             [
              1,
              "#f0f921"
             ]
            ],
            "type": "contour"
           }
          ],
          "contourcarpet": [
           {
            "colorbar": {
             "outlinewidth": 0,
             "ticks": ""
            },
            "type": "contourcarpet"
           }
          ],
          "heatmap": [
           {
            "colorbar": {
             "outlinewidth": 0,
             "ticks": ""
            },
            "colorscale": [
             [
              0,
              "#0d0887"
             ],
             [
              0.1111111111111111,
              "#46039f"
             ],
             [
              0.2222222222222222,
              "#7201a8"
             ],
             [
              0.3333333333333333,
              "#9c179e"
             ],
             [
              0.4444444444444444,
              "#bd3786"
             ],
             [
              0.5555555555555556,
              "#d8576b"
             ],
             [
              0.6666666666666666,
              "#ed7953"
             ],
             [
              0.7777777777777778,
              "#fb9f3a"
             ],
             [
              0.8888888888888888,
              "#fdca26"
             ],
             [
              1,
              "#f0f921"
             ]
            ],
            "type": "heatmap"
           }
          ],
          "heatmapgl": [
           {
            "colorbar": {
             "outlinewidth": 0,
             "ticks": ""
            },
            "colorscale": [
             [
              0,
              "#0d0887"
             ],
             [
              0.1111111111111111,
              "#46039f"
             ],
             [
              0.2222222222222222,
              "#7201a8"
             ],
             [
              0.3333333333333333,
              "#9c179e"
             ],
             [
              0.4444444444444444,
              "#bd3786"
             ],
             [
              0.5555555555555556,
              "#d8576b"
             ],
             [
              0.6666666666666666,
              "#ed7953"
             ],
             [
              0.7777777777777778,
              "#fb9f3a"
             ],
             [
              0.8888888888888888,
              "#fdca26"
             ],
             [
              1,
              "#f0f921"
             ]
            ],
            "type": "heatmapgl"
           }
          ],
          "histogram": [
           {
            "marker": {
             "colorbar": {
              "outlinewidth": 0,
              "ticks": ""
             }
            },
            "type": "histogram"
           }
          ],
          "histogram2d": [
           {
            "colorbar": {
             "outlinewidth": 0,
             "ticks": ""
            },
            "colorscale": [
             [
              0,
              "#0d0887"
             ],
             [
              0.1111111111111111,
              "#46039f"
             ],
             [
              0.2222222222222222,
              "#7201a8"
             ],
             [
              0.3333333333333333,
              "#9c179e"
             ],
             [
              0.4444444444444444,
              "#bd3786"
             ],
             [
              0.5555555555555556,
              "#d8576b"
             ],
             [
              0.6666666666666666,
              "#ed7953"
             ],
             [
              0.7777777777777778,
              "#fb9f3a"
             ],
             [
              0.8888888888888888,
              "#fdca26"
             ],
             [
              1,
              "#f0f921"
             ]
            ],
            "type": "histogram2d"
           }
          ],
          "histogram2dcontour": [
           {
            "colorbar": {
             "outlinewidth": 0,
             "ticks": ""
            },
            "colorscale": [
             [
              0,
              "#0d0887"
             ],
             [
              0.1111111111111111,
              "#46039f"
             ],
             [
              0.2222222222222222,
              "#7201a8"
             ],
             [
              0.3333333333333333,
              "#9c179e"
             ],
             [
              0.4444444444444444,
              "#bd3786"
             ],
             [
              0.5555555555555556,
              "#d8576b"
             ],
             [
              0.6666666666666666,
              "#ed7953"
             ],
             [
              0.7777777777777778,
              "#fb9f3a"
             ],
             [
              0.8888888888888888,
              "#fdca26"
             ],
             [
              1,
              "#f0f921"
             ]
            ],
            "type": "histogram2dcontour"
           }
          ],
          "mesh3d": [
           {
            "colorbar": {
             "outlinewidth": 0,
             "ticks": ""
            },
            "type": "mesh3d"
           }
          ],
          "parcoords": [
           {
            "line": {
             "colorbar": {
              "outlinewidth": 0,
              "ticks": ""
             }
            },
            "type": "parcoords"
           }
          ],
          "pie": [
           {
            "automargin": true,
            "type": "pie"
           }
          ],
          "scatter": [
           {
            "marker": {
             "colorbar": {
              "outlinewidth": 0,
              "ticks": ""
             }
            },
            "type": "scatter"
           }
          ],
          "scatter3d": [
           {
            "line": {
             "colorbar": {
              "outlinewidth": 0,
              "ticks": ""
             }
            },
            "marker": {
             "colorbar": {
              "outlinewidth": 0,
              "ticks": ""
             }
            },
            "type": "scatter3d"
           }
          ],
          "scattercarpet": [
           {
            "marker": {
             "colorbar": {
              "outlinewidth": 0,
              "ticks": ""
             }
            },
            "type": "scattercarpet"
           }
          ],
          "scattergeo": [
           {
            "marker": {
             "colorbar": {
              "outlinewidth": 0,
              "ticks": ""
             }
            },
            "type": "scattergeo"
           }
          ],
          "scattergl": [
           {
            "marker": {
             "colorbar": {
              "outlinewidth": 0,
              "ticks": ""
             }
            },
            "type": "scattergl"
           }
          ],
          "scattermapbox": [
           {
            "marker": {
             "colorbar": {
              "outlinewidth": 0,
              "ticks": ""
             }
            },
            "type": "scattermapbox"
           }
          ],
          "scatterpolar": [
           {
            "marker": {
             "colorbar": {
              "outlinewidth": 0,
              "ticks": ""
             }
            },
            "type": "scatterpolar"
           }
          ],
          "scatterpolargl": [
           {
            "marker": {
             "colorbar": {
              "outlinewidth": 0,
              "ticks": ""
             }
            },
            "type": "scatterpolargl"
           }
          ],
          "scatterternary": [
           {
            "marker": {
             "colorbar": {
              "outlinewidth": 0,
              "ticks": ""
             }
            },
            "type": "scatterternary"
           }
          ],
          "surface": [
           {
            "colorbar": {
             "outlinewidth": 0,
             "ticks": ""
            },
            "colorscale": [
             [
              0,
              "#0d0887"
             ],
             [
              0.1111111111111111,
              "#46039f"
             ],
             [
              0.2222222222222222,
              "#7201a8"
             ],
             [
              0.3333333333333333,
              "#9c179e"
             ],
             [
              0.4444444444444444,
              "#bd3786"
             ],
             [
              0.5555555555555556,
              "#d8576b"
             ],
             [
              0.6666666666666666,
              "#ed7953"
             ],
             [
              0.7777777777777778,
              "#fb9f3a"
             ],
             [
              0.8888888888888888,
              "#fdca26"
             ],
             [
              1,
              "#f0f921"
             ]
            ],
            "type": "surface"
           }
          ],
          "table": [
           {
            "cells": {
             "fill": {
              "color": "#EBF0F8"
             },
             "line": {
              "color": "white"
             }
            },
            "header": {
             "fill": {
              "color": "#C8D4E3"
             },
             "line": {
              "color": "white"
             }
            },
            "type": "table"
           }
          ]
         },
         "layout": {
          "annotationdefaults": {
           "arrowcolor": "#2a3f5f",
           "arrowhead": 0,
           "arrowwidth": 1
          },
          "autotypenumbers": "strict",
          "coloraxis": {
           "colorbar": {
            "outlinewidth": 0,
            "ticks": ""
           }
          },
          "colorscale": {
           "diverging": [
            [
             0,
             "#8e0152"
            ],
            [
             0.1,
             "#c51b7d"
            ],
            [
             0.2,
             "#de77ae"
            ],
            [
             0.3,
             "#f1b6da"
            ],
            [
             0.4,
             "#fde0ef"
            ],
            [
             0.5,
             "#f7f7f7"
            ],
            [
             0.6,
             "#e6f5d0"
            ],
            [
             0.7,
             "#b8e186"
            ],
            [
             0.8,
             "#7fbc41"
            ],
            [
             0.9,
             "#4d9221"
            ],
            [
             1,
             "#276419"
            ]
           ],
           "sequential": [
            [
             0,
             "#0d0887"
            ],
            [
             0.1111111111111111,
             "#46039f"
            ],
            [
             0.2222222222222222,
             "#7201a8"
            ],
            [
             0.3333333333333333,
             "#9c179e"
            ],
            [
             0.4444444444444444,
             "#bd3786"
            ],
            [
             0.5555555555555556,
             "#d8576b"
            ],
            [
             0.6666666666666666,
             "#ed7953"
            ],
            [
             0.7777777777777778,
             "#fb9f3a"
            ],
            [
             0.8888888888888888,
             "#fdca26"
            ],
            [
             1,
             "#f0f921"
            ]
           ],
           "sequentialminus": [
            [
             0,
             "#0d0887"
            ],
            [
             0.1111111111111111,
             "#46039f"
            ],
            [
             0.2222222222222222,
             "#7201a8"
            ],
            [
             0.3333333333333333,
             "#9c179e"
            ],
            [
             0.4444444444444444,
             "#bd3786"
            ],
            [
             0.5555555555555556,
             "#d8576b"
            ],
            [
             0.6666666666666666,
             "#ed7953"
            ],
            [
             0.7777777777777778,
             "#fb9f3a"
            ],
            [
             0.8888888888888888,
             "#fdca26"
            ],
            [
             1,
             "#f0f921"
            ]
           ]
          },
          "colorway": [
           "#636efa",
           "#EF553B",
           "#00cc96",
           "#ab63fa",
           "#FFA15A",
           "#19d3f3",
           "#FF6692",
           "#B6E880",
           "#FF97FF",
           "#FECB52"
          ],
          "font": {
           "color": "#2a3f5f"
          },
          "geo": {
           "bgcolor": "white",
           "lakecolor": "white",
           "landcolor": "#E5ECF6",
           "showlakes": true,
           "showland": true,
           "subunitcolor": "white"
          },
          "hoverlabel": {
           "align": "left"
          },
          "hovermode": "closest",
          "mapbox": {
           "style": "light"
          },
          "paper_bgcolor": "white",
          "plot_bgcolor": "#E5ECF6",
          "polar": {
           "angularaxis": {
            "gridcolor": "white",
            "linecolor": "white",
            "ticks": ""
           },
           "bgcolor": "#E5ECF6",
           "radialaxis": {
            "gridcolor": "white",
            "linecolor": "white",
            "ticks": ""
           }
          },
          "scene": {
           "xaxis": {
            "backgroundcolor": "#E5ECF6",
            "gridcolor": "white",
            "gridwidth": 2,
            "linecolor": "white",
            "showbackground": true,
            "ticks": "",
            "zerolinecolor": "white"
           },
           "yaxis": {
            "backgroundcolor": "#E5ECF6",
            "gridcolor": "white",
            "gridwidth": 2,
            "linecolor": "white",
            "showbackground": true,
            "ticks": "",
            "zerolinecolor": "white"
           },
           "zaxis": {
            "backgroundcolor": "#E5ECF6",
            "gridcolor": "white",
            "gridwidth": 2,
            "linecolor": "white",
            "showbackground": true,
            "ticks": "",
            "zerolinecolor": "white"
           }
          },
          "shapedefaults": {
           "line": {
            "color": "#2a3f5f"
           }
          },
          "ternary": {
           "aaxis": {
            "gridcolor": "white",
            "linecolor": "white",
            "ticks": ""
           },
           "baxis": {
            "gridcolor": "white",
            "linecolor": "white",
            "ticks": ""
           },
           "bgcolor": "#E5ECF6",
           "caxis": {
            "gridcolor": "white",
            "linecolor": "white",
            "ticks": ""
           }
          },
          "title": {
           "x": 0.05
          },
          "xaxis": {
           "automargin": true,
           "gridcolor": "white",
           "linecolor": "white",
           "ticks": "",
           "title": {
            "standoff": 15
           },
           "zerolinecolor": "white",
           "zerolinewidth": 2
          },
          "yaxis": {
           "automargin": true,
           "gridcolor": "white",
           "linecolor": "white",
           "ticks": "",
           "title": {
            "standoff": 15
           },
           "zerolinecolor": "white",
           "zerolinewidth": 2
          }
         }
        },
        "title": {
         "font": {
          "color": "#4D5663"
         },
         "text": "Top 20 trigrams in text after removing stop words"
        },
        "xaxis": {
         "gridcolor": "#E1E5ED",
         "linecolor": "black",
         "showgrid": true,
         "tickfont": {
          "color": "#4D5663"
         },
         "title": {
          "font": {
           "color": "#4D5663"
          },
          "text": ""
         },
         "zerolinecolor": "#E1E5ED"
        },
        "yaxis": {
         "gridcolor": "#E1E5ED",
         "linecolor": "black",
         "showgrid": true,
         "tickfont": {
          "color": "#4D5663"
         },
         "title": {
          "font": {
           "color": "#4D5663"
          },
          "text": "Count"
         },
         "zerolinecolor": "#E1E5ED"
        }
       }
      },
      "text/html": [
       "<div>                            <div id=\"5ebfeada-1c41-4ac8-b128-25fc826c25a1\" class=\"plotly-graph-div\" style=\"height:525px; width:100%;\"></div>            <script type=\"text/javascript\">                require([\"plotly\"], function(Plotly) {                    window.PLOTLYENV=window.PLOTLYENV || {};\n",
       "                    window.PLOTLYENV.BASE_URL='https://plot.ly';                                    if (document.getElementById(\"5ebfeada-1c41-4ac8-b128-25fc826c25a1\")) {                    Plotly.newPlot(                        \"5ebfeada-1c41-4ac8-b128-25fc826c25a1\",                        [{\"marker\": {\"color\": \"rgba(255, 153, 51, 0.6)\", \"line\": {\"color\": \"rgba(255, 153, 51, 1.0)\", \"width\": 1}}, \"name\": \"count\", \"orientation\": \"v\", \"text\": \"\", \"type\": \"bar\", \"x\": [\"sars mers cov\", \"2019 ncov infection\", \"human human spread\", \"health care workers\", \"south china seafood\", \"source 2019 ncov\", \"sars cov protein\", \"sars cov mers\", \"human human transmission\", \"huanan south china\", \"cov mers cov\", \"china seafood market\", \"2019 ncov outbreak\", \"2019 ncov isolated\", \"municipal health commission\", \"respiratory syndrome coronavirus\", \"cov 2019 ncov\", \"coronavirus 2019 ncov\", \"seafood market wuhan\", \"wuhan municipal health\"], \"y\": [5, 4, 4, 4, 3, 3, 3, 3, 3, 3, 3, 3, 3, 2, 2, 2, 2, 2, 2, 2]}],                        {\"legend\": {\"bgcolor\": \"#F5F6F9\", \"font\": {\"color\": \"#4D5663\"}}, \"paper_bgcolor\": \"#F5F6F9\", \"plot_bgcolor\": \"#F5F6F9\", \"template\": {\"data\": {\"bar\": [{\"error_x\": {\"color\": \"#2a3f5f\"}, \"error_y\": {\"color\": \"#2a3f5f\"}, \"marker\": {\"line\": {\"color\": \"#E5ECF6\", \"width\": 0.5}}, \"type\": \"bar\"}], \"barpolar\": [{\"marker\": {\"line\": {\"color\": \"#E5ECF6\", \"width\": 0.5}}, \"type\": \"barpolar\"}], \"carpet\": [{\"aaxis\": {\"endlinecolor\": \"#2a3f5f\", \"gridcolor\": \"white\", \"linecolor\": \"white\", \"minorgridcolor\": \"white\", \"startlinecolor\": \"#2a3f5f\"}, \"baxis\": {\"endlinecolor\": \"#2a3f5f\", \"gridcolor\": \"white\", \"linecolor\": \"white\", \"minorgridcolor\": \"white\", \"startlinecolor\": \"#2a3f5f\"}, \"type\": \"carpet\"}], \"choropleth\": [{\"colorbar\": {\"outlinewidth\": 0, \"ticks\": \"\"}, \"type\": \"choropleth\"}], \"contour\": [{\"colorbar\": {\"outlinewidth\": 0, \"ticks\": \"\"}, \"colorscale\": [[0.0, \"#0d0887\"], [0.1111111111111111, \"#46039f\"], [0.2222222222222222, \"#7201a8\"], [0.3333333333333333, \"#9c179e\"], [0.4444444444444444, \"#bd3786\"], [0.5555555555555556, \"#d8576b\"], [0.6666666666666666, \"#ed7953\"], [0.7777777777777778, \"#fb9f3a\"], [0.8888888888888888, \"#fdca26\"], [1.0, \"#f0f921\"]], \"type\": \"contour\"}], \"contourcarpet\": [{\"colorbar\": {\"outlinewidth\": 0, \"ticks\": \"\"}, \"type\": \"contourcarpet\"}], \"heatmap\": [{\"colorbar\": {\"outlinewidth\": 0, \"ticks\": \"\"}, \"colorscale\": [[0.0, \"#0d0887\"], [0.1111111111111111, \"#46039f\"], [0.2222222222222222, \"#7201a8\"], [0.3333333333333333, \"#9c179e\"], [0.4444444444444444, \"#bd3786\"], [0.5555555555555556, \"#d8576b\"], [0.6666666666666666, \"#ed7953\"], [0.7777777777777778, \"#fb9f3a\"], [0.8888888888888888, \"#fdca26\"], [1.0, \"#f0f921\"]], \"type\": \"heatmap\"}], \"heatmapgl\": [{\"colorbar\": {\"outlinewidth\": 0, \"ticks\": \"\"}, \"colorscale\": [[0.0, \"#0d0887\"], [0.1111111111111111, \"#46039f\"], [0.2222222222222222, \"#7201a8\"], [0.3333333333333333, \"#9c179e\"], [0.4444444444444444, \"#bd3786\"], [0.5555555555555556, \"#d8576b\"], [0.6666666666666666, \"#ed7953\"], [0.7777777777777778, \"#fb9f3a\"], [0.8888888888888888, \"#fdca26\"], [1.0, \"#f0f921\"]], \"type\": \"heatmapgl\"}], \"histogram\": [{\"marker\": {\"colorbar\": {\"outlinewidth\": 0, \"ticks\": \"\"}}, \"type\": \"histogram\"}], \"histogram2d\": [{\"colorbar\": {\"outlinewidth\": 0, \"ticks\": \"\"}, \"colorscale\": [[0.0, \"#0d0887\"], [0.1111111111111111, \"#46039f\"], [0.2222222222222222, \"#7201a8\"], [0.3333333333333333, \"#9c179e\"], [0.4444444444444444, \"#bd3786\"], [0.5555555555555556, \"#d8576b\"], [0.6666666666666666, \"#ed7953\"], [0.7777777777777778, \"#fb9f3a\"], [0.8888888888888888, \"#fdca26\"], [1.0, \"#f0f921\"]], \"type\": \"histogram2d\"}], \"histogram2dcontour\": [{\"colorbar\": {\"outlinewidth\": 0, \"ticks\": \"\"}, \"colorscale\": [[0.0, \"#0d0887\"], [0.1111111111111111, \"#46039f\"], [0.2222222222222222, \"#7201a8\"], [0.3333333333333333, \"#9c179e\"], [0.4444444444444444, \"#bd3786\"], [0.5555555555555556, \"#d8576b\"], [0.6666666666666666, \"#ed7953\"], [0.7777777777777778, \"#fb9f3a\"], [0.8888888888888888, \"#fdca26\"], [1.0, \"#f0f921\"]], \"type\": \"histogram2dcontour\"}], \"mesh3d\": [{\"colorbar\": {\"outlinewidth\": 0, \"ticks\": \"\"}, \"type\": \"mesh3d\"}], \"parcoords\": [{\"line\": {\"colorbar\": {\"outlinewidth\": 0, \"ticks\": \"\"}}, \"type\": \"parcoords\"}], \"pie\": [{\"automargin\": true, \"type\": \"pie\"}], \"scatter\": [{\"marker\": {\"colorbar\": {\"outlinewidth\": 0, \"ticks\": \"\"}}, \"type\": \"scatter\"}], \"scatter3d\": [{\"line\": {\"colorbar\": {\"outlinewidth\": 0, \"ticks\": \"\"}}, \"marker\": {\"colorbar\": {\"outlinewidth\": 0, \"ticks\": \"\"}}, \"type\": \"scatter3d\"}], \"scattercarpet\": [{\"marker\": {\"colorbar\": {\"outlinewidth\": 0, \"ticks\": \"\"}}, \"type\": \"scattercarpet\"}], \"scattergeo\": [{\"marker\": {\"colorbar\": {\"outlinewidth\": 0, \"ticks\": \"\"}}, \"type\": \"scattergeo\"}], \"scattergl\": [{\"marker\": {\"colorbar\": {\"outlinewidth\": 0, \"ticks\": \"\"}}, \"type\": \"scattergl\"}], \"scattermapbox\": [{\"marker\": {\"colorbar\": {\"outlinewidth\": 0, \"ticks\": \"\"}}, \"type\": \"scattermapbox\"}], \"scatterpolar\": [{\"marker\": {\"colorbar\": {\"outlinewidth\": 0, \"ticks\": \"\"}}, \"type\": \"scatterpolar\"}], \"scatterpolargl\": [{\"marker\": {\"colorbar\": {\"outlinewidth\": 0, \"ticks\": \"\"}}, \"type\": \"scatterpolargl\"}], \"scatterternary\": [{\"marker\": {\"colorbar\": {\"outlinewidth\": 0, \"ticks\": \"\"}}, \"type\": \"scatterternary\"}], \"surface\": [{\"colorbar\": {\"outlinewidth\": 0, \"ticks\": \"\"}, \"colorscale\": [[0.0, \"#0d0887\"], [0.1111111111111111, \"#46039f\"], [0.2222222222222222, \"#7201a8\"], [0.3333333333333333, \"#9c179e\"], [0.4444444444444444, \"#bd3786\"], [0.5555555555555556, \"#d8576b\"], [0.6666666666666666, \"#ed7953\"], [0.7777777777777778, \"#fb9f3a\"], [0.8888888888888888, \"#fdca26\"], [1.0, \"#f0f921\"]], \"type\": \"surface\"}], \"table\": [{\"cells\": {\"fill\": {\"color\": \"#EBF0F8\"}, \"line\": {\"color\": \"white\"}}, \"header\": {\"fill\": {\"color\": \"#C8D4E3\"}, \"line\": {\"color\": \"white\"}}, \"type\": \"table\"}]}, \"layout\": {\"annotationdefaults\": {\"arrowcolor\": \"#2a3f5f\", \"arrowhead\": 0, \"arrowwidth\": 1}, \"autotypenumbers\": \"strict\", \"coloraxis\": {\"colorbar\": {\"outlinewidth\": 0, \"ticks\": \"\"}}, \"colorscale\": {\"diverging\": [[0, \"#8e0152\"], [0.1, \"#c51b7d\"], [0.2, \"#de77ae\"], [0.3, \"#f1b6da\"], [0.4, \"#fde0ef\"], [0.5, \"#f7f7f7\"], [0.6, \"#e6f5d0\"], [0.7, \"#b8e186\"], [0.8, \"#7fbc41\"], [0.9, \"#4d9221\"], [1, \"#276419\"]], \"sequential\": [[0.0, \"#0d0887\"], [0.1111111111111111, \"#46039f\"], [0.2222222222222222, \"#7201a8\"], [0.3333333333333333, \"#9c179e\"], [0.4444444444444444, \"#bd3786\"], [0.5555555555555556, \"#d8576b\"], [0.6666666666666666, \"#ed7953\"], [0.7777777777777778, \"#fb9f3a\"], [0.8888888888888888, \"#fdca26\"], [1.0, \"#f0f921\"]], \"sequentialminus\": [[0.0, \"#0d0887\"], [0.1111111111111111, \"#46039f\"], [0.2222222222222222, \"#7201a8\"], [0.3333333333333333, \"#9c179e\"], [0.4444444444444444, \"#bd3786\"], [0.5555555555555556, \"#d8576b\"], [0.6666666666666666, \"#ed7953\"], [0.7777777777777778, \"#fb9f3a\"], [0.8888888888888888, \"#fdca26\"], [1.0, \"#f0f921\"]]}, \"colorway\": [\"#636efa\", \"#EF553B\", \"#00cc96\", \"#ab63fa\", \"#FFA15A\", \"#19d3f3\", \"#FF6692\", \"#B6E880\", \"#FF97FF\", \"#FECB52\"], \"font\": {\"color\": \"#2a3f5f\"}, \"geo\": {\"bgcolor\": \"white\", \"lakecolor\": \"white\", \"landcolor\": \"#E5ECF6\", \"showlakes\": true, \"showland\": true, \"subunitcolor\": \"white\"}, \"hoverlabel\": {\"align\": \"left\"}, \"hovermode\": \"closest\", \"mapbox\": {\"style\": \"light\"}, \"paper_bgcolor\": \"white\", \"plot_bgcolor\": \"#E5ECF6\", \"polar\": {\"angularaxis\": {\"gridcolor\": \"white\", \"linecolor\": \"white\", \"ticks\": \"\"}, \"bgcolor\": \"#E5ECF6\", \"radialaxis\": {\"gridcolor\": \"white\", \"linecolor\": \"white\", \"ticks\": \"\"}}, \"scene\": {\"xaxis\": {\"backgroundcolor\": \"#E5ECF6\", \"gridcolor\": \"white\", \"gridwidth\": 2, \"linecolor\": \"white\", \"showbackground\": true, \"ticks\": \"\", \"zerolinecolor\": \"white\"}, \"yaxis\": {\"backgroundcolor\": \"#E5ECF6\", \"gridcolor\": \"white\", \"gridwidth\": 2, \"linecolor\": \"white\", \"showbackground\": true, \"ticks\": \"\", \"zerolinecolor\": \"white\"}, \"zaxis\": {\"backgroundcolor\": \"#E5ECF6\", \"gridcolor\": \"white\", \"gridwidth\": 2, \"linecolor\": \"white\", \"showbackground\": true, \"ticks\": \"\", \"zerolinecolor\": \"white\"}}, \"shapedefaults\": {\"line\": {\"color\": \"#2a3f5f\"}}, \"ternary\": {\"aaxis\": {\"gridcolor\": \"white\", \"linecolor\": \"white\", \"ticks\": \"\"}, \"baxis\": {\"gridcolor\": \"white\", \"linecolor\": \"white\", \"ticks\": \"\"}, \"bgcolor\": \"#E5ECF6\", \"caxis\": {\"gridcolor\": \"white\", \"linecolor\": \"white\", \"ticks\": \"\"}}, \"title\": {\"x\": 0.05}, \"xaxis\": {\"automargin\": true, \"gridcolor\": \"white\", \"linecolor\": \"white\", \"ticks\": \"\", \"title\": {\"standoff\": 15}, \"zerolinecolor\": \"white\", \"zerolinewidth\": 2}, \"yaxis\": {\"automargin\": true, \"gridcolor\": \"white\", \"linecolor\": \"white\", \"ticks\": \"\", \"title\": {\"standoff\": 15}, \"zerolinecolor\": \"white\", \"zerolinewidth\": 2}}}, \"title\": {\"font\": {\"color\": \"#4D5663\"}, \"text\": \"Top 20 trigrams in text after removing stop words\"}, \"xaxis\": {\"gridcolor\": \"#E1E5ED\", \"linecolor\": \"black\", \"showgrid\": true, \"tickfont\": {\"color\": \"#4D5663\"}, \"title\": {\"font\": {\"color\": \"#4D5663\"}, \"text\": \"\"}, \"zerolinecolor\": \"#E1E5ED\"}, \"yaxis\": {\"gridcolor\": \"#E1E5ED\", \"linecolor\": \"black\", \"showgrid\": true, \"tickfont\": {\"color\": \"#4D5663\"}, \"title\": {\"font\": {\"color\": \"#4D5663\"}, \"text\": \"Count\"}, \"zerolinecolor\": \"#E1E5ED\"}},                        {\"showLink\": true, \"linkText\": \"Export to plot.ly\", \"plotlyServerURL\": \"https://plot.ly\", \"responsive\": true}                    ).then(function(){\n",
       "                            \n",
       "var gd = document.getElementById('5ebfeada-1c41-4ac8-b128-25fc826c25a1');\n",
       "var x = new MutationObserver(function (mutations, observer) {{\n",
       "        var display = window.getComputedStyle(gd).display;\n",
       "        if (!display || display === 'none') {{\n",
       "            console.log([gd, 'removed!']);\n",
       "            Plotly.purge(gd);\n",
       "            observer.disconnect();\n",
       "        }}\n",
       "}});\n",
       "\n",
       "// Listen for the removal of the full notebook cells\n",
       "var notebookContainer = gd.closest('#notebook-container');\n",
       "if (notebookContainer) {{\n",
       "    x.observe(notebookContainer, {childList: true});\n",
       "}}\n",
       "\n",
       "// Listen for the clearing of the current output cell\n",
       "var outputEl = gd.closest('.output');\n",
       "if (outputEl) {{\n",
       "    x.observe(outputEl, {childList: true});\n",
       "}}\n",
       "\n",
       "                        })                };                });            </script>        </div>"
      ]
     },
     "metadata": {},
     "output_type": "display_data"
    }
   ],
   "source": [
    "def get_top_n_trigram(corpus, n=None):\n",
    "    vec = CountVectorizer(ngram_range=(3, 3), stop_words='english').fit(corpus) # instead of nltk.corpus.stopwords(‘english’) list\n",
    "    bag_of_words = vec.transform(corpus)\n",
    "    sum_words = bag_of_words.sum(axis=0) \n",
    "    words_freq = [(word, sum_words[0, idx]) for word, idx in vec.vocabulary_.items()]\n",
    "    words_freq =sorted(words_freq, key = lambda x: x[1], reverse=True)\n",
    "    return words_freq[:n]\n",
    "common_words = get_top_n_trigram([text], 20)\n",
    "for word, freq in common_words:\n",
    "    print(word, freq)\n",
    "df6 = pd.DataFrame(common_words, columns = ['ReviewText' , 'count'])\n",
    "df6.groupby('ReviewText').sum()['count'].sort_values(ascending=False).iplot(\n",
    "    kind='bar', yTitle='Count', linecolor='black', title='Top 20 trigrams in text after removing stop words')\n"
   ]
  },
  {
   "cell_type": "code",
   "execution_count": 23,
   "id": "c0f12946",
   "metadata": {
    "scrolled": true
   },
   "outputs": [
    {
     "data": {
      "application/vnd.plotly.v1+json": {
       "config": {
        "linkText": "Export to plot.ly",
        "plotlyServerURL": "https://plot.ly",
        "showLink": true
       },
       "data": [
        {
         "marker": {
          "color": "rgba(255, 153, 51, 0.6)",
          "line": {
           "color": "rgba(255, 153, 51, 1.0)",
           "width": 1
          }
         },
         "name": "pos",
         "orientation": "v",
         "text": "",
         "type": "bar",
         "x": [
          "NN",
          "IN",
          "JJ",
          "CD",
          "DT",
          "NNP",
          "NNS",
          "VBN",
          "RB",
          "CC",
          "VBD",
          "TO",
          "VB",
          "VBZ",
          "VBP",
          "VBG",
          "MD",
          "PRP",
          "WDT",
          "RBR"
         ],
         "y": [
          644,
          442,
          440,
          381,
          343,
          289,
          271,
          130,
          121,
          114,
          102,
          90,
          74,
          70,
          67,
          65,
          32,
          10,
          10,
          9
         ]
        }
       ],
       "layout": {
        "legend": {
         "bgcolor": "#F5F6F9",
         "font": {
          "color": "#4D5663"
         }
        },
        "paper_bgcolor": "#F5F6F9",
        "plot_bgcolor": "#F5F6F9",
        "template": {
         "data": {
          "bar": [
           {
            "error_x": {
             "color": "#2a3f5f"
            },
            "error_y": {
             "color": "#2a3f5f"
            },
            "marker": {
             "line": {
              "color": "#E5ECF6",
              "width": 0.5
             }
            },
            "type": "bar"
           }
          ],
          "barpolar": [
           {
            "marker": {
             "line": {
              "color": "#E5ECF6",
              "width": 0.5
             }
            },
            "type": "barpolar"
           }
          ],
          "carpet": [
           {
            "aaxis": {
             "endlinecolor": "#2a3f5f",
             "gridcolor": "white",
             "linecolor": "white",
             "minorgridcolor": "white",
             "startlinecolor": "#2a3f5f"
            },
            "baxis": {
             "endlinecolor": "#2a3f5f",
             "gridcolor": "white",
             "linecolor": "white",
             "minorgridcolor": "white",
             "startlinecolor": "#2a3f5f"
            },
            "type": "carpet"
           }
          ],
          "choropleth": [
           {
            "colorbar": {
             "outlinewidth": 0,
             "ticks": ""
            },
            "type": "choropleth"
           }
          ],
          "contour": [
           {
            "colorbar": {
             "outlinewidth": 0,
             "ticks": ""
            },
            "colorscale": [
             [
              0,
              "#0d0887"
             ],
             [
              0.1111111111111111,
              "#46039f"
             ],
             [
              0.2222222222222222,
              "#7201a8"
             ],
             [
              0.3333333333333333,
              "#9c179e"
             ],
             [
              0.4444444444444444,
              "#bd3786"
             ],
             [
              0.5555555555555556,
              "#d8576b"
             ],
             [
              0.6666666666666666,
              "#ed7953"
             ],
             [
              0.7777777777777778,
              "#fb9f3a"
             ],
             [
              0.8888888888888888,
              "#fdca26"
             ],
             [
              1,
              "#f0f921"
             ]
            ],
            "type": "contour"
           }
          ],
          "contourcarpet": [
           {
            "colorbar": {
             "outlinewidth": 0,
             "ticks": ""
            },
            "type": "contourcarpet"
           }
          ],
          "heatmap": [
           {
            "colorbar": {
             "outlinewidth": 0,
             "ticks": ""
            },
            "colorscale": [
             [
              0,
              "#0d0887"
             ],
             [
              0.1111111111111111,
              "#46039f"
             ],
             [
              0.2222222222222222,
              "#7201a8"
             ],
             [
              0.3333333333333333,
              "#9c179e"
             ],
             [
              0.4444444444444444,
              "#bd3786"
             ],
             [
              0.5555555555555556,
              "#d8576b"
             ],
             [
              0.6666666666666666,
              "#ed7953"
             ],
             [
              0.7777777777777778,
              "#fb9f3a"
             ],
             [
              0.8888888888888888,
              "#fdca26"
             ],
             [
              1,
              "#f0f921"
             ]
            ],
            "type": "heatmap"
           }
          ],
          "heatmapgl": [
           {
            "colorbar": {
             "outlinewidth": 0,
             "ticks": ""
            },
            "colorscale": [
             [
              0,
              "#0d0887"
             ],
             [
              0.1111111111111111,
              "#46039f"
             ],
             [
              0.2222222222222222,
              "#7201a8"
             ],
             [
              0.3333333333333333,
              "#9c179e"
             ],
             [
              0.4444444444444444,
              "#bd3786"
             ],
             [
              0.5555555555555556,
              "#d8576b"
             ],
             [
              0.6666666666666666,
              "#ed7953"
             ],
             [
              0.7777777777777778,
              "#fb9f3a"
             ],
             [
              0.8888888888888888,
              "#fdca26"
             ],
             [
              1,
              "#f0f921"
             ]
            ],
            "type": "heatmapgl"
           }
          ],
          "histogram": [
           {
            "marker": {
             "colorbar": {
              "outlinewidth": 0,
              "ticks": ""
             }
            },
            "type": "histogram"
           }
          ],
          "histogram2d": [
           {
            "colorbar": {
             "outlinewidth": 0,
             "ticks": ""
            },
            "colorscale": [
             [
              0,
              "#0d0887"
             ],
             [
              0.1111111111111111,
              "#46039f"
             ],
             [
              0.2222222222222222,
              "#7201a8"
             ],
             [
              0.3333333333333333,
              "#9c179e"
             ],
             [
              0.4444444444444444,
              "#bd3786"
             ],
             [
              0.5555555555555556,
              "#d8576b"
             ],
             [
              0.6666666666666666,
              "#ed7953"
             ],
             [
              0.7777777777777778,
              "#fb9f3a"
             ],
             [
              0.8888888888888888,
              "#fdca26"
             ],
             [
              1,
              "#f0f921"
             ]
            ],
            "type": "histogram2d"
           }
          ],
          "histogram2dcontour": [
           {
            "colorbar": {
             "outlinewidth": 0,
             "ticks": ""
            },
            "colorscale": [
             [
              0,
              "#0d0887"
             ],
             [
              0.1111111111111111,
              "#46039f"
             ],
             [
              0.2222222222222222,
              "#7201a8"
             ],
             [
              0.3333333333333333,
              "#9c179e"
             ],
             [
              0.4444444444444444,
              "#bd3786"
             ],
             [
              0.5555555555555556,
              "#d8576b"
             ],
             [
              0.6666666666666666,
              "#ed7953"
             ],
             [
              0.7777777777777778,
              "#fb9f3a"
             ],
             [
              0.8888888888888888,
              "#fdca26"
             ],
             [
              1,
              "#f0f921"
             ]
            ],
            "type": "histogram2dcontour"
           }
          ],
          "mesh3d": [
           {
            "colorbar": {
             "outlinewidth": 0,
             "ticks": ""
            },
            "type": "mesh3d"
           }
          ],
          "parcoords": [
           {
            "line": {
             "colorbar": {
              "outlinewidth": 0,
              "ticks": ""
             }
            },
            "type": "parcoords"
           }
          ],
          "pie": [
           {
            "automargin": true,
            "type": "pie"
           }
          ],
          "scatter": [
           {
            "marker": {
             "colorbar": {
              "outlinewidth": 0,
              "ticks": ""
             }
            },
            "type": "scatter"
           }
          ],
          "scatter3d": [
           {
            "line": {
             "colorbar": {
              "outlinewidth": 0,
              "ticks": ""
             }
            },
            "marker": {
             "colorbar": {
              "outlinewidth": 0,
              "ticks": ""
             }
            },
            "type": "scatter3d"
           }
          ],
          "scattercarpet": [
           {
            "marker": {
             "colorbar": {
              "outlinewidth": 0,
              "ticks": ""
             }
            },
            "type": "scattercarpet"
           }
          ],
          "scattergeo": [
           {
            "marker": {
             "colorbar": {
              "outlinewidth": 0,
              "ticks": ""
             }
            },
            "type": "scattergeo"
           }
          ],
          "scattergl": [
           {
            "marker": {
             "colorbar": {
              "outlinewidth": 0,
              "ticks": ""
             }
            },
            "type": "scattergl"
           }
          ],
          "scattermapbox": [
           {
            "marker": {
             "colorbar": {
              "outlinewidth": 0,
              "ticks": ""
             }
            },
            "type": "scattermapbox"
           }
          ],
          "scatterpolar": [
           {
            "marker": {
             "colorbar": {
              "outlinewidth": 0,
              "ticks": ""
             }
            },
            "type": "scatterpolar"
           }
          ],
          "scatterpolargl": [
           {
            "marker": {
             "colorbar": {
              "outlinewidth": 0,
              "ticks": ""
             }
            },
            "type": "scatterpolargl"
           }
          ],
          "scatterternary": [
           {
            "marker": {
             "colorbar": {
              "outlinewidth": 0,
              "ticks": ""
             }
            },
            "type": "scatterternary"
           }
          ],
          "surface": [
           {
            "colorbar": {
             "outlinewidth": 0,
             "ticks": ""
            },
            "colorscale": [
             [
              0,
              "#0d0887"
             ],
             [
              0.1111111111111111,
              "#46039f"
             ],
             [
              0.2222222222222222,
              "#7201a8"
             ],
             [
              0.3333333333333333,
              "#9c179e"
             ],
             [
              0.4444444444444444,
              "#bd3786"
             ],
             [
              0.5555555555555556,
              "#d8576b"
             ],
             [
              0.6666666666666666,
              "#ed7953"
             ],
             [
              0.7777777777777778,
              "#fb9f3a"
             ],
             [
              0.8888888888888888,
              "#fdca26"
             ],
             [
              1,
              "#f0f921"
             ]
            ],
            "type": "surface"
           }
          ],
          "table": [
           {
            "cells": {
             "fill": {
              "color": "#EBF0F8"
             },
             "line": {
              "color": "white"
             }
            },
            "header": {
             "fill": {
              "color": "#C8D4E3"
             },
             "line": {
              "color": "white"
             }
            },
            "type": "table"
           }
          ]
         },
         "layout": {
          "annotationdefaults": {
           "arrowcolor": "#2a3f5f",
           "arrowhead": 0,
           "arrowwidth": 1
          },
          "autotypenumbers": "strict",
          "coloraxis": {
           "colorbar": {
            "outlinewidth": 0,
            "ticks": ""
           }
          },
          "colorscale": {
           "diverging": [
            [
             0,
             "#8e0152"
            ],
            [
             0.1,
             "#c51b7d"
            ],
            [
             0.2,
             "#de77ae"
            ],
            [
             0.3,
             "#f1b6da"
            ],
            [
             0.4,
             "#fde0ef"
            ],
            [
             0.5,
             "#f7f7f7"
            ],
            [
             0.6,
             "#e6f5d0"
            ],
            [
             0.7,
             "#b8e186"
            ],
            [
             0.8,
             "#7fbc41"
            ],
            [
             0.9,
             "#4d9221"
            ],
            [
             1,
             "#276419"
            ]
           ],
           "sequential": [
            [
             0,
             "#0d0887"
            ],
            [
             0.1111111111111111,
             "#46039f"
            ],
            [
             0.2222222222222222,
             "#7201a8"
            ],
            [
             0.3333333333333333,
             "#9c179e"
            ],
            [
             0.4444444444444444,
             "#bd3786"
            ],
            [
             0.5555555555555556,
             "#d8576b"
            ],
            [
             0.6666666666666666,
             "#ed7953"
            ],
            [
             0.7777777777777778,
             "#fb9f3a"
            ],
            [
             0.8888888888888888,
             "#fdca26"
            ],
            [
             1,
             "#f0f921"
            ]
           ],
           "sequentialminus": [
            [
             0,
             "#0d0887"
            ],
            [
             0.1111111111111111,
             "#46039f"
            ],
            [
             0.2222222222222222,
             "#7201a8"
            ],
            [
             0.3333333333333333,
             "#9c179e"
            ],
            [
             0.4444444444444444,
             "#bd3786"
            ],
            [
             0.5555555555555556,
             "#d8576b"
            ],
            [
             0.6666666666666666,
             "#ed7953"
            ],
            [
             0.7777777777777778,
             "#fb9f3a"
            ],
            [
             0.8888888888888888,
             "#fdca26"
            ],
            [
             1,
             "#f0f921"
            ]
           ]
          },
          "colorway": [
           "#636efa",
           "#EF553B",
           "#00cc96",
           "#ab63fa",
           "#FFA15A",
           "#19d3f3",
           "#FF6692",
           "#B6E880",
           "#FF97FF",
           "#FECB52"
          ],
          "font": {
           "color": "#2a3f5f"
          },
          "geo": {
           "bgcolor": "white",
           "lakecolor": "white",
           "landcolor": "#E5ECF6",
           "showlakes": true,
           "showland": true,
           "subunitcolor": "white"
          },
          "hoverlabel": {
           "align": "left"
          },
          "hovermode": "closest",
          "mapbox": {
           "style": "light"
          },
          "paper_bgcolor": "white",
          "plot_bgcolor": "#E5ECF6",
          "polar": {
           "angularaxis": {
            "gridcolor": "white",
            "linecolor": "white",
            "ticks": ""
           },
           "bgcolor": "#E5ECF6",
           "radialaxis": {
            "gridcolor": "white",
            "linecolor": "white",
            "ticks": ""
           }
          },
          "scene": {
           "xaxis": {
            "backgroundcolor": "#E5ECF6",
            "gridcolor": "white",
            "gridwidth": 2,
            "linecolor": "white",
            "showbackground": true,
            "ticks": "",
            "zerolinecolor": "white"
           },
           "yaxis": {
            "backgroundcolor": "#E5ECF6",
            "gridcolor": "white",
            "gridwidth": 2,
            "linecolor": "white",
            "showbackground": true,
            "ticks": "",
            "zerolinecolor": "white"
           },
           "zaxis": {
            "backgroundcolor": "#E5ECF6",
            "gridcolor": "white",
            "gridwidth": 2,
            "linecolor": "white",
            "showbackground": true,
            "ticks": "",
            "zerolinecolor": "white"
           }
          },
          "shapedefaults": {
           "line": {
            "color": "#2a3f5f"
           }
          },
          "ternary": {
           "aaxis": {
            "gridcolor": "white",
            "linecolor": "white",
            "ticks": ""
           },
           "baxis": {
            "gridcolor": "white",
            "linecolor": "white",
            "ticks": ""
           },
           "bgcolor": "#E5ECF6",
           "caxis": {
            "gridcolor": "white",
            "linecolor": "white",
            "ticks": ""
           }
          },
          "title": {
           "x": 0.05
          },
          "xaxis": {
           "automargin": true,
           "gridcolor": "white",
           "linecolor": "white",
           "ticks": "",
           "title": {
            "standoff": 15
           },
           "zerolinecolor": "white",
           "zerolinewidth": 2
          },
          "yaxis": {
           "automargin": true,
           "gridcolor": "white",
           "linecolor": "white",
           "ticks": "",
           "title": {
            "standoff": 15
           },
           "zerolinecolor": "white",
           "zerolinewidth": 2
          }
         }
        },
        "title": {
         "font": {
          "color": "#4D5663"
         },
         "text": "Top 20 Part-of-speech tagging for text corpus"
        },
        "xaxis": {
         "gridcolor": "#E1E5ED",
         "showgrid": true,
         "tickfont": {
          "color": "#4D5663"
         },
         "title": {
          "font": {
           "color": "#4D5663"
          },
          "text": "POS"
         },
         "zerolinecolor": "#E1E5ED"
        },
        "yaxis": {
         "gridcolor": "#E1E5ED",
         "showgrid": true,
         "tickfont": {
          "color": "#4D5663"
         },
         "title": {
          "font": {
           "color": "#4D5663"
          },
          "text": "count"
         },
         "zerolinecolor": "#E1E5ED"
        }
       }
      },
      "text/html": [
       "<div>                            <div id=\"a44644b7-f4d9-4487-a873-bb3f66fa1224\" class=\"plotly-graph-div\" style=\"height:525px; width:100%;\"></div>            <script type=\"text/javascript\">                require([\"plotly\"], function(Plotly) {                    window.PLOTLYENV=window.PLOTLYENV || {};\n",
       "                    window.PLOTLYENV.BASE_URL='https://plot.ly';                                    if (document.getElementById(\"a44644b7-f4d9-4487-a873-bb3f66fa1224\")) {                    Plotly.newPlot(                        \"a44644b7-f4d9-4487-a873-bb3f66fa1224\",                        [{\"marker\": {\"color\": \"rgba(255, 153, 51, 0.6)\", \"line\": {\"color\": \"rgba(255, 153, 51, 1.0)\", \"width\": 1}}, \"name\": \"pos\", \"orientation\": \"v\", \"text\": \"\", \"type\": \"bar\", \"x\": [\"NN\", \"IN\", \"JJ\", \"CD\", \"DT\", \"NNP\", \"NNS\", \"VBN\", \"RB\", \"CC\", \"VBD\", \"TO\", \"VB\", \"VBZ\", \"VBP\", \"VBG\", \"MD\", \"PRP\", \"WDT\", \"RBR\"], \"y\": [644, 442, 440, 381, 343, 289, 271, 130, 121, 114, 102, 90, 74, 70, 67, 65, 32, 10, 10, 9]}],                        {\"legend\": {\"bgcolor\": \"#F5F6F9\", \"font\": {\"color\": \"#4D5663\"}}, \"paper_bgcolor\": \"#F5F6F9\", \"plot_bgcolor\": \"#F5F6F9\", \"template\": {\"data\": {\"bar\": [{\"error_x\": {\"color\": \"#2a3f5f\"}, \"error_y\": {\"color\": \"#2a3f5f\"}, \"marker\": {\"line\": {\"color\": \"#E5ECF6\", \"width\": 0.5}}, \"type\": \"bar\"}], \"barpolar\": [{\"marker\": {\"line\": {\"color\": \"#E5ECF6\", \"width\": 0.5}}, \"type\": \"barpolar\"}], \"carpet\": [{\"aaxis\": {\"endlinecolor\": \"#2a3f5f\", \"gridcolor\": \"white\", \"linecolor\": \"white\", \"minorgridcolor\": \"white\", \"startlinecolor\": \"#2a3f5f\"}, \"baxis\": {\"endlinecolor\": \"#2a3f5f\", \"gridcolor\": \"white\", \"linecolor\": \"white\", \"minorgridcolor\": \"white\", \"startlinecolor\": \"#2a3f5f\"}, \"type\": \"carpet\"}], \"choropleth\": [{\"colorbar\": {\"outlinewidth\": 0, \"ticks\": \"\"}, \"type\": \"choropleth\"}], \"contour\": [{\"colorbar\": {\"outlinewidth\": 0, \"ticks\": \"\"}, \"colorscale\": [[0.0, \"#0d0887\"], [0.1111111111111111, \"#46039f\"], [0.2222222222222222, \"#7201a8\"], [0.3333333333333333, \"#9c179e\"], [0.4444444444444444, \"#bd3786\"], [0.5555555555555556, \"#d8576b\"], [0.6666666666666666, \"#ed7953\"], [0.7777777777777778, \"#fb9f3a\"], [0.8888888888888888, \"#fdca26\"], [1.0, \"#f0f921\"]], \"type\": \"contour\"}], \"contourcarpet\": [{\"colorbar\": {\"outlinewidth\": 0, \"ticks\": \"\"}, \"type\": \"contourcarpet\"}], \"heatmap\": [{\"colorbar\": {\"outlinewidth\": 0, \"ticks\": \"\"}, \"colorscale\": [[0.0, \"#0d0887\"], [0.1111111111111111, \"#46039f\"], [0.2222222222222222, \"#7201a8\"], [0.3333333333333333, \"#9c179e\"], [0.4444444444444444, \"#bd3786\"], [0.5555555555555556, \"#d8576b\"], [0.6666666666666666, \"#ed7953\"], [0.7777777777777778, \"#fb9f3a\"], [0.8888888888888888, \"#fdca26\"], [1.0, \"#f0f921\"]], \"type\": \"heatmap\"}], \"heatmapgl\": [{\"colorbar\": {\"outlinewidth\": 0, \"ticks\": \"\"}, \"colorscale\": [[0.0, \"#0d0887\"], [0.1111111111111111, \"#46039f\"], [0.2222222222222222, \"#7201a8\"], [0.3333333333333333, \"#9c179e\"], [0.4444444444444444, \"#bd3786\"], [0.5555555555555556, \"#d8576b\"], [0.6666666666666666, \"#ed7953\"], [0.7777777777777778, \"#fb9f3a\"], [0.8888888888888888, \"#fdca26\"], [1.0, \"#f0f921\"]], \"type\": \"heatmapgl\"}], \"histogram\": [{\"marker\": {\"colorbar\": {\"outlinewidth\": 0, \"ticks\": \"\"}}, \"type\": \"histogram\"}], \"histogram2d\": [{\"colorbar\": {\"outlinewidth\": 0, \"ticks\": \"\"}, \"colorscale\": [[0.0, \"#0d0887\"], [0.1111111111111111, \"#46039f\"], [0.2222222222222222, \"#7201a8\"], [0.3333333333333333, \"#9c179e\"], [0.4444444444444444, \"#bd3786\"], [0.5555555555555556, \"#d8576b\"], [0.6666666666666666, \"#ed7953\"], [0.7777777777777778, \"#fb9f3a\"], [0.8888888888888888, \"#fdca26\"], [1.0, \"#f0f921\"]], \"type\": \"histogram2d\"}], \"histogram2dcontour\": [{\"colorbar\": {\"outlinewidth\": 0, \"ticks\": \"\"}, \"colorscale\": [[0.0, \"#0d0887\"], [0.1111111111111111, \"#46039f\"], [0.2222222222222222, \"#7201a8\"], [0.3333333333333333, \"#9c179e\"], [0.4444444444444444, \"#bd3786\"], [0.5555555555555556, \"#d8576b\"], [0.6666666666666666, \"#ed7953\"], [0.7777777777777778, \"#fb9f3a\"], [0.8888888888888888, \"#fdca26\"], [1.0, \"#f0f921\"]], \"type\": \"histogram2dcontour\"}], \"mesh3d\": [{\"colorbar\": {\"outlinewidth\": 0, \"ticks\": \"\"}, \"type\": \"mesh3d\"}], \"parcoords\": [{\"line\": {\"colorbar\": {\"outlinewidth\": 0, \"ticks\": \"\"}}, \"type\": \"parcoords\"}], \"pie\": [{\"automargin\": true, \"type\": \"pie\"}], \"scatter\": [{\"marker\": {\"colorbar\": {\"outlinewidth\": 0, \"ticks\": \"\"}}, \"type\": \"scatter\"}], \"scatter3d\": [{\"line\": {\"colorbar\": {\"outlinewidth\": 0, \"ticks\": \"\"}}, \"marker\": {\"colorbar\": {\"outlinewidth\": 0, \"ticks\": \"\"}}, \"type\": \"scatter3d\"}], \"scattercarpet\": [{\"marker\": {\"colorbar\": {\"outlinewidth\": 0, \"ticks\": \"\"}}, \"type\": \"scattercarpet\"}], \"scattergeo\": [{\"marker\": {\"colorbar\": {\"outlinewidth\": 0, \"ticks\": \"\"}}, \"type\": \"scattergeo\"}], \"scattergl\": [{\"marker\": {\"colorbar\": {\"outlinewidth\": 0, \"ticks\": \"\"}}, \"type\": \"scattergl\"}], \"scattermapbox\": [{\"marker\": {\"colorbar\": {\"outlinewidth\": 0, \"ticks\": \"\"}}, \"type\": \"scattermapbox\"}], \"scatterpolar\": [{\"marker\": {\"colorbar\": {\"outlinewidth\": 0, \"ticks\": \"\"}}, \"type\": \"scatterpolar\"}], \"scatterpolargl\": [{\"marker\": {\"colorbar\": {\"outlinewidth\": 0, \"ticks\": \"\"}}, \"type\": \"scatterpolargl\"}], \"scatterternary\": [{\"marker\": {\"colorbar\": {\"outlinewidth\": 0, \"ticks\": \"\"}}, \"type\": \"scatterternary\"}], \"surface\": [{\"colorbar\": {\"outlinewidth\": 0, \"ticks\": \"\"}, \"colorscale\": [[0.0, \"#0d0887\"], [0.1111111111111111, \"#46039f\"], [0.2222222222222222, \"#7201a8\"], [0.3333333333333333, \"#9c179e\"], [0.4444444444444444, \"#bd3786\"], [0.5555555555555556, \"#d8576b\"], [0.6666666666666666, \"#ed7953\"], [0.7777777777777778, \"#fb9f3a\"], [0.8888888888888888, \"#fdca26\"], [1.0, \"#f0f921\"]], \"type\": \"surface\"}], \"table\": [{\"cells\": {\"fill\": {\"color\": \"#EBF0F8\"}, \"line\": {\"color\": \"white\"}}, \"header\": {\"fill\": {\"color\": \"#C8D4E3\"}, \"line\": {\"color\": \"white\"}}, \"type\": \"table\"}]}, \"layout\": {\"annotationdefaults\": {\"arrowcolor\": \"#2a3f5f\", \"arrowhead\": 0, \"arrowwidth\": 1}, \"autotypenumbers\": \"strict\", \"coloraxis\": {\"colorbar\": {\"outlinewidth\": 0, \"ticks\": \"\"}}, \"colorscale\": {\"diverging\": [[0, \"#8e0152\"], [0.1, \"#c51b7d\"], [0.2, \"#de77ae\"], [0.3, \"#f1b6da\"], [0.4, \"#fde0ef\"], [0.5, \"#f7f7f7\"], [0.6, \"#e6f5d0\"], [0.7, \"#b8e186\"], [0.8, \"#7fbc41\"], [0.9, \"#4d9221\"], [1, \"#276419\"]], \"sequential\": [[0.0, \"#0d0887\"], [0.1111111111111111, \"#46039f\"], [0.2222222222222222, \"#7201a8\"], [0.3333333333333333, \"#9c179e\"], [0.4444444444444444, \"#bd3786\"], [0.5555555555555556, \"#d8576b\"], [0.6666666666666666, \"#ed7953\"], [0.7777777777777778, \"#fb9f3a\"], [0.8888888888888888, \"#fdca26\"], [1.0, \"#f0f921\"]], \"sequentialminus\": [[0.0, \"#0d0887\"], [0.1111111111111111, \"#46039f\"], [0.2222222222222222, \"#7201a8\"], [0.3333333333333333, \"#9c179e\"], [0.4444444444444444, \"#bd3786\"], [0.5555555555555556, \"#d8576b\"], [0.6666666666666666, \"#ed7953\"], [0.7777777777777778, \"#fb9f3a\"], [0.8888888888888888, \"#fdca26\"], [1.0, \"#f0f921\"]]}, \"colorway\": [\"#636efa\", \"#EF553B\", \"#00cc96\", \"#ab63fa\", \"#FFA15A\", \"#19d3f3\", \"#FF6692\", \"#B6E880\", \"#FF97FF\", \"#FECB52\"], \"font\": {\"color\": \"#2a3f5f\"}, \"geo\": {\"bgcolor\": \"white\", \"lakecolor\": \"white\", \"landcolor\": \"#E5ECF6\", \"showlakes\": true, \"showland\": true, \"subunitcolor\": \"white\"}, \"hoverlabel\": {\"align\": \"left\"}, \"hovermode\": \"closest\", \"mapbox\": {\"style\": \"light\"}, \"paper_bgcolor\": \"white\", \"plot_bgcolor\": \"#E5ECF6\", \"polar\": {\"angularaxis\": {\"gridcolor\": \"white\", \"linecolor\": \"white\", \"ticks\": \"\"}, \"bgcolor\": \"#E5ECF6\", \"radialaxis\": {\"gridcolor\": \"white\", \"linecolor\": \"white\", \"ticks\": \"\"}}, \"scene\": {\"xaxis\": {\"backgroundcolor\": \"#E5ECF6\", \"gridcolor\": \"white\", \"gridwidth\": 2, \"linecolor\": \"white\", \"showbackground\": true, \"ticks\": \"\", \"zerolinecolor\": \"white\"}, \"yaxis\": {\"backgroundcolor\": \"#E5ECF6\", \"gridcolor\": \"white\", \"gridwidth\": 2, \"linecolor\": \"white\", \"showbackground\": true, \"ticks\": \"\", \"zerolinecolor\": \"white\"}, \"zaxis\": {\"backgroundcolor\": \"#E5ECF6\", \"gridcolor\": \"white\", \"gridwidth\": 2, \"linecolor\": \"white\", \"showbackground\": true, \"ticks\": \"\", \"zerolinecolor\": \"white\"}}, \"shapedefaults\": {\"line\": {\"color\": \"#2a3f5f\"}}, \"ternary\": {\"aaxis\": {\"gridcolor\": \"white\", \"linecolor\": \"white\", \"ticks\": \"\"}, \"baxis\": {\"gridcolor\": \"white\", \"linecolor\": \"white\", \"ticks\": \"\"}, \"bgcolor\": \"#E5ECF6\", \"caxis\": {\"gridcolor\": \"white\", \"linecolor\": \"white\", \"ticks\": \"\"}}, \"title\": {\"x\": 0.05}, \"xaxis\": {\"automargin\": true, \"gridcolor\": \"white\", \"linecolor\": \"white\", \"ticks\": \"\", \"title\": {\"standoff\": 15}, \"zerolinecolor\": \"white\", \"zerolinewidth\": 2}, \"yaxis\": {\"automargin\": true, \"gridcolor\": \"white\", \"linecolor\": \"white\", \"ticks\": \"\", \"title\": {\"standoff\": 15}, \"zerolinecolor\": \"white\", \"zerolinewidth\": 2}}}, \"title\": {\"font\": {\"color\": \"#4D5663\"}, \"text\": \"Top 20 Part-of-speech tagging for text corpus\"}, \"xaxis\": {\"gridcolor\": \"#E1E5ED\", \"showgrid\": true, \"tickfont\": {\"color\": \"#4D5663\"}, \"title\": {\"font\": {\"color\": \"#4D5663\"}, \"text\": \"POS\"}, \"zerolinecolor\": \"#E1E5ED\"}, \"yaxis\": {\"gridcolor\": \"#E1E5ED\", \"showgrid\": true, \"tickfont\": {\"color\": \"#4D5663\"}, \"title\": {\"font\": {\"color\": \"#4D5663\"}, \"text\": \"count\"}, \"zerolinecolor\": \"#E1E5ED\"}},                        {\"showLink\": true, \"linkText\": \"Export to plot.ly\", \"plotlyServerURL\": \"https://plot.ly\", \"responsive\": true}                    ).then(function(){\n",
       "                            \n",
       "var gd = document.getElementById('a44644b7-f4d9-4487-a873-bb3f66fa1224');\n",
       "var x = new MutationObserver(function (mutations, observer) {{\n",
       "        var display = window.getComputedStyle(gd).display;\n",
       "        if (!display || display === 'none') {{\n",
       "            console.log([gd, 'removed!']);\n",
       "            Plotly.purge(gd);\n",
       "            observer.disconnect();\n",
       "        }}\n",
       "}});\n",
       "\n",
       "// Listen for the removal of the full notebook cells\n",
       "var notebookContainer = gd.closest('#notebook-container');\n",
       "if (notebookContainer) {{\n",
       "    x.observe(notebookContainer, {childList: true});\n",
       "}}\n",
       "\n",
       "// Listen for the clearing of the current output cell\n",
       "var outputEl = gd.closest('.output');\n",
       "if (outputEl) {{\n",
       "    x.observe(outputEl, {childList: true});\n",
       "}}\n",
       "\n",
       "                        })                };                });            </script>        </div>"
      ]
     },
     "metadata": {},
     "output_type": "display_data"
    }
   ],
   "source": [
    "import textblob\n",
    "blob = textblob.TextBlob(text)\n",
    "pos_df = pd.DataFrame(blob.tags, columns = ['word' , 'pos'])\n",
    "pos_df = pos_df.pos.value_counts()[:20]\n",
    "pos_df.iplot(\n",
    "    kind='bar',\n",
    "    xTitle='POS',\n",
    "    yTitle='count', \n",
    "    title='Top 20 Part-of-speech tagging for text corpus')"
   ]
  }
 ],
 "metadata": {
  "kernelspec": {
   "display_name": "Python 3",
   "language": "python",
   "name": "python3"
  },
  "language_info": {
   "codemirror_mode": {
    "name": "ipython",
    "version": 3
   },
   "file_extension": ".py",
   "mimetype": "text/x-python",
   "name": "python",
   "nbconvert_exporter": "python",
   "pygments_lexer": "ipython3",
   "version": "3.7.10"
  }
 },
 "nbformat": 4,
 "nbformat_minor": 5
}
