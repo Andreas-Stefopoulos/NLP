{
 "cells": [
  {
   "cell_type": "raw",
   "id": "407dd493",
   "metadata": {},
   "source": [
    "Importing necessary libraries"
   ]
  },
  {
   "cell_type": "code",
   "execution_count": 1,
   "id": "a16618d0",
   "metadata": {},
   "outputs": [],
   "source": [
    "import pandas as pd\n",
    "from textblob import TextBlob\n",
    "#from textblob.sentiments import NaiveBayesAnalyzer\n",
    "from sklearn.metrics import classification_report, recall_score, precision_score, f1_score,confusion_matrix,ConfusionMatrixDisplay\n",
    "import matplotlib.pyplot as plt\n",
    "import seaborn as sn\n",
    "pd.options.mode.chained_assignment = None "
   ]
  },
  {
   "cell_type": "raw",
   "id": "7a44ae0f",
   "metadata": {},
   "source": [
    "Load the dataset from the file provided"
   ]
  },
  {
   "cell_type": "code",
   "execution_count": 2,
   "id": "9ef99ae1",
   "metadata": {},
   "outputs": [],
   "source": [
    "data = pd.read_csv(r'C:\\Users\\Admin\\Downloads\\data_nlp.tsv', sep='\\t')"
   ]
  },
  {
   "cell_type": "raw",
   "id": "b698d4ea",
   "metadata": {},
   "source": [
    "Creating the TextBlob objects (dynamic creation of variables)"
   ]
  },
  {
   "cell_type": "code",
   "execution_count": 3,
   "id": "ee4915dd",
   "metadata": {},
   "outputs": [],
   "source": [
    "j=0\n",
    "for i in data.iloc[:,2]:\n",
    "    globals()[f\"obj{j}\"] = TextBlob(i)\n",
    "    j=j+1"
   ]
  },
  {
   "cell_type": "raw",
   "id": "d0bc7916",
   "metadata": {},
   "source": [
    "Create the new columns in our Dataframe with dummy values"
   ]
  },
  {
   "cell_type": "code",
   "execution_count": 4,
   "id": "6993802c",
   "metadata": {},
   "outputs": [],
   "source": [
    "data['polarity']=0.00\n",
    "data['polarity class']='test'\n",
    "data['correct/false']=0"
   ]
  },
  {
   "cell_type": "raw",
   "id": "1a48b96c",
   "metadata": {},
   "source": [
    "Add the true value of polarity in the column \"polarity\" of our Dataframe"
   ]
  },
  {
   "cell_type": "code",
   "execution_count": 5,
   "id": "2b51c0c5",
   "metadata": {},
   "outputs": [],
   "source": [
    "for i in range(len(data)):\n",
    "    data['polarity'][i] = globals()[f\"obj{i}\"].sentiment.polarity"
   ]
  },
  {
   "cell_type": "raw",
   "id": "2dfcd38e",
   "metadata": {},
   "source": [
    "Setting the thresholds for polarity: [-1,-0.1] = \"negative\", [-0.1,0.1] = \"neutral\", [0.1,1] = \"positive\"\n",
    "Afterwards, we create a column \"polarity class\" in order to assign the string values of the classification"
   ]
  },
  {
   "cell_type": "code",
   "execution_count": 13,
   "id": "4231a680",
   "metadata": {},
   "outputs": [],
   "source": [
    "for i in range(len(data)): \n",
    "    if data['polarity'][i] >= -0.1 and data['polarity'][i] <= 0.1 :\n",
    "        data['polarity class'][i] = 'neutral'\n",
    "    elif data['polarity'][i] < -0.1:\n",
    "        data['polarity class'][i] = 'negative'\n",
    "    else:\n",
    "        data['polarity class'][i] = 'positive'"
   ]
  },
  {
   "cell_type": "raw",
   "id": "21175785",
   "metadata": {},
   "source": [
    "A column to see with a quick glance if the predicted values are correct or not and a count of the missclasified"
   ]
  },
  {
   "cell_type": "code",
   "execution_count": 14,
   "id": "32b23459",
   "metadata": {},
   "outputs": [
    {
     "name": "stdout",
     "output_type": "stream",
     "text": [
      "misclassified:  8313\n"
     ]
    }
   ],
   "source": [
    "for i in range(len(data)):\n",
    "    if data['polarity class'][i] == data['sentiment'][i]:\n",
    "        data['correct/false'][i]=1\n",
    "    else:\n",
    "        data['correct/false'][i]=0\n",
    "j=0\n",
    "for i in range(len(data)):\n",
    "    if data['correct/false'][i]==1:\n",
    "        j+=1\n",
    "print('misclassified: ', j)"
   ]
  },
  {
   "cell_type": "raw",
   "id": "fa075d65",
   "metadata": {},
   "source": [
    "Lets see our final state of the Dataframe"
   ]
  },
  {
   "cell_type": "code",
   "execution_count": 15,
   "id": "c61a51ff",
   "metadata": {},
   "outputs": [
    {
     "data": {
      "text/html": [
       "<div>\n",
       "<style scoped>\n",
       "    .dataframe tbody tr th:only-of-type {\n",
       "        vertical-align: middle;\n",
       "    }\n",
       "\n",
       "    .dataframe tbody tr th {\n",
       "        vertical-align: top;\n",
       "    }\n",
       "\n",
       "    .dataframe thead th {\n",
       "        text-align: right;\n",
       "    }\n",
       "</style>\n",
       "<table border=\"1\" class=\"dataframe\">\n",
       "  <thead>\n",
       "    <tr style=\"text-align: right;\">\n",
       "      <th></th>\n",
       "      <th>tweet_id</th>\n",
       "      <th>sentiment</th>\n",
       "      <th>text</th>\n",
       "      <th>polarity</th>\n",
       "      <th>polarity class</th>\n",
       "      <th>correct/false</th>\n",
       "    </tr>\n",
       "  </thead>\n",
       "  <tbody>\n",
       "    <tr>\n",
       "      <th>0</th>\n",
       "      <td>619950566786113536</td>\n",
       "      <td>neutral</td>\n",
       "      <td>Picturehouse's, Pink Floyd's, 'Roger Waters: T...</td>\n",
       "      <td>-0.100000</td>\n",
       "      <td>neutral</td>\n",
       "      <td>1</td>\n",
       "    </tr>\n",
       "    <tr>\n",
       "      <th>1</th>\n",
       "      <td>619969366986235905</td>\n",
       "      <td>neutral</td>\n",
       "      <td>Order Go Set a Watchman in store or through ou...</td>\n",
       "      <td>-0.208333</td>\n",
       "      <td>negative</td>\n",
       "      <td>0</td>\n",
       "    </tr>\n",
       "    <tr>\n",
       "      <th>2</th>\n",
       "      <td>619974445185302528</td>\n",
       "      <td>neutral</td>\n",
       "      <td>If you could ask an onstage interview question...</td>\n",
       "      <td>0.000000</td>\n",
       "      <td>neutral</td>\n",
       "      <td>1</td>\n",
       "    </tr>\n",
       "    <tr>\n",
       "      <th>3</th>\n",
       "      <td>619987808317407232</td>\n",
       "      <td>positive</td>\n",
       "      <td>A portion of book sales from our Harper Lee/Go...</td>\n",
       "      <td>0.800000</td>\n",
       "      <td>positive</td>\n",
       "      <td>1</td>\n",
       "    </tr>\n",
       "    <tr>\n",
       "      <th>4</th>\n",
       "      <td>619994586182619136</td>\n",
       "      <td>positive</td>\n",
       "      <td>Excited to read \"Go Set a Watchman\" on Tuesday...</td>\n",
       "      <td>0.255682</td>\n",
       "      <td>positive</td>\n",
       "      <td>1</td>\n",
       "    </tr>\n",
       "    <tr>\n",
       "      <th>...</th>\n",
       "      <td>...</td>\n",
       "      <td>...</td>\n",
       "      <td>...</td>\n",
       "      <td>...</td>\n",
       "      <td>...</td>\n",
       "      <td>...</td>\n",
       "    </tr>\n",
       "    <tr>\n",
       "      <th>15646</th>\n",
       "      <td>681877834982232064</td>\n",
       "      <td>neutral</td>\n",
       "      <td>@ShaquilleHoNeal from what I think you're aski...</td>\n",
       "      <td>0.000000</td>\n",
       "      <td>neutral</td>\n",
       "      <td>1</td>\n",
       "    </tr>\n",
       "    <tr>\n",
       "      <th>15647</th>\n",
       "      <td>681879579129200640</td>\n",
       "      <td>positive</td>\n",
       "      <td>Iran ranks 1st in liver surgeries, Allah bless...</td>\n",
       "      <td>0.000000</td>\n",
       "      <td>neutral</td>\n",
       "      <td>0</td>\n",
       "    </tr>\n",
       "    <tr>\n",
       "      <th>15648</th>\n",
       "      <td>681883903259357184</td>\n",
       "      <td>neutral</td>\n",
       "      <td>Hours before he arrived in Saudi Arabia on Tue...</td>\n",
       "      <td>-0.700000</td>\n",
       "      <td>negative</td>\n",
       "      <td>0</td>\n",
       "    </tr>\n",
       "    <tr>\n",
       "      <th>15649</th>\n",
       "      <td>681904976860327936</td>\n",
       "      <td>negative</td>\n",
       "      <td>@VanityFair  Alex Kim Kardashian worth how to ...</td>\n",
       "      <td>0.033333</td>\n",
       "      <td>neutral</td>\n",
       "      <td>0</td>\n",
       "    </tr>\n",
       "    <tr>\n",
       "      <th>15650</th>\n",
       "      <td>681910549211287552</td>\n",
       "      <td>neutral</td>\n",
       "      <td>I guess even Pandora knows Justin Bieber is a ...</td>\n",
       "      <td>0.000000</td>\n",
       "      <td>neutral</td>\n",
       "      <td>1</td>\n",
       "    </tr>\n",
       "  </tbody>\n",
       "</table>\n",
       "<p>15651 rows × 6 columns</p>\n",
       "</div>"
      ],
      "text/plain": [
       "                 tweet_id sentiment  \\\n",
       "0      619950566786113536   neutral   \n",
       "1      619969366986235905   neutral   \n",
       "2      619974445185302528   neutral   \n",
       "3      619987808317407232  positive   \n",
       "4      619994586182619136  positive   \n",
       "...                   ...       ...   \n",
       "15646  681877834982232064   neutral   \n",
       "15647  681879579129200640  positive   \n",
       "15648  681883903259357184   neutral   \n",
       "15649  681904976860327936  negative   \n",
       "15650  681910549211287552   neutral   \n",
       "\n",
       "                                                    text  polarity  \\\n",
       "0      Picturehouse's, Pink Floyd's, 'Roger Waters: T... -0.100000   \n",
       "1      Order Go Set a Watchman in store or through ou... -0.208333   \n",
       "2      If you could ask an onstage interview question...  0.000000   \n",
       "3      A portion of book sales from our Harper Lee/Go...  0.800000   \n",
       "4      Excited to read \"Go Set a Watchman\" on Tuesday...  0.255682   \n",
       "...                                                  ...       ...   \n",
       "15646  @ShaquilleHoNeal from what I think you're aski...  0.000000   \n",
       "15647  Iran ranks 1st in liver surgeries, Allah bless...  0.000000   \n",
       "15648  Hours before he arrived in Saudi Arabia on Tue... -0.700000   \n",
       "15649  @VanityFair  Alex Kim Kardashian worth how to ...  0.033333   \n",
       "15650  I guess even Pandora knows Justin Bieber is a ...  0.000000   \n",
       "\n",
       "      polarity class  correct/false  \n",
       "0            neutral              1  \n",
       "1           negative              0  \n",
       "2            neutral              1  \n",
       "3           positive              1  \n",
       "4           positive              1  \n",
       "...              ...            ...  \n",
       "15646        neutral              1  \n",
       "15647        neutral              0  \n",
       "15648       negative              0  \n",
       "15649        neutral              0  \n",
       "15650        neutral              1  \n",
       "\n",
       "[15651 rows x 6 columns]"
      ]
     },
     "execution_count": 15,
     "metadata": {},
     "output_type": "execute_result"
    }
   ],
   "source": [
    "data"
   ]
  },
  {
   "cell_type": "raw",
   "id": "0be6ec4b",
   "metadata": {},
   "source": [
    "An analytical classification report"
   ]
  },
  {
   "cell_type": "code",
   "execution_count": 16,
   "id": "5aa264aa",
   "metadata": {},
   "outputs": [
    {
     "name": "stdout",
     "output_type": "stream",
     "text": [
      "              precision    recall  f1-score   support\n",
      "\n",
      "    negative       0.34      0.34      0.34      2310\n",
      "     neutral       0.60      0.54      0.57      7839\n",
      "    positive       0.52      0.60      0.56      5502\n",
      "\n",
      "    accuracy                           0.53     15651\n",
      "   macro avg       0.49      0.49      0.49     15651\n",
      "weighted avg       0.54      0.53      0.53     15651\n",
      "\n"
     ]
    }
   ],
   "source": [
    "report = classification_report(data['sentiment'], data['polarity class'])\n",
    "print(report)"
   ]
  },
  {
   "cell_type": "raw",
   "id": "c4346711",
   "metadata": {},
   "source": [
    "Calculating the precision,recall and f1 score"
   ]
  },
  {
   "cell_type": "code",
   "execution_count": 17,
   "id": "7fa46b4a",
   "metadata": {},
   "outputs": [
    {
     "name": "stdout",
     "output_type": "stream",
     "text": [
      "precision: 0.48769432010994995   recall: 0.4935376385416262   f1 score: 0.4891380912363843   accuracy: 0.5311481694460418\n"
     ]
    }
   ],
   "source": [
    "accuracy = j/len(data)\n",
    "precision = precision_score(data['sentiment'], data['polarity class'], average='macro')\n",
    "recall = recall_score(data['sentiment'], data['polarity class'], average='macro')\n",
    "f1 = f1_score(data['sentiment'], data['polarity class'], average='macro')\n",
    "print('precision:',precision,'  recall:',recall,'  f1 score:',f1,'  accuracy:',accuracy)"
   ]
  },
  {
   "cell_type": "raw",
   "id": "64bca868",
   "metadata": {},
   "source": [
    "Calculating confusion matrix"
   ]
  },
  {
   "cell_type": "code",
   "execution_count": 18,
   "id": "d7b8be6b",
   "metadata": {},
   "outputs": [
    {
     "name": "stdout",
     "output_type": "stream",
     "text": [
      "[[ 792  983  535]\n",
      " [1138 4230 2471]\n",
      " [ 429 1782 3291]]\n"
     ]
    }
   ],
   "source": [
    "cm = confusion_matrix(data['sentiment'], data['polarity class'])\n",
    "\n",
    "print(cm)"
   ]
  },
  {
   "cell_type": "raw",
   "id": "584c11e9",
   "metadata": {},
   "source": [
    "Calculating confusion matrix graphically (with seaborn library)"
   ]
  },
  {
   "cell_type": "code",
   "execution_count": 19,
   "id": "6110bed1",
   "metadata": {},
   "outputs": [
    {
     "data": {
      "text/plain": [
       "<AxesSubplot:>"
      ]
     },
     "execution_count": 19,
     "metadata": {},
     "output_type": "execute_result"
    },
    {
     "data": {
      "image/png": "[encoded data removed]",
      "text/plain": [
       "<Figure size 720x504 with 2 Axes>"
      ]
     },
     "metadata": {
      "needs_background": "light"
     },
     "output_type": "display_data"
    }
   ],
   "source": [
    "df_cm = pd.DataFrame(cm, index = [i for i in ['positive', 'neutral', 'negative']],\n",
    "                  columns = [i for i in  ['positive', 'neutral', 'negative']])\n",
    "plt.figure(figsize = (10,7))\n",
    "sn.heatmap(df_cm, annot=True,cmap='Blues', fmt='g')"
   ]
  }
 ],
 "metadata": {
  "kernelspec": {
   "display_name": "Python 3",
   "language": "python",
   "name": "python3"
  },
  "language_info": {
   "codemirror_mode": {
    "name": "ipython",
    "version": 3
   },
   "file_extension": ".py",
   "mimetype": "text/x-python",
   "name": "python",
   "nbconvert_exporter": "python",
   "pygments_lexer": "ipython3",
   "version": "3.7.10"
  }
 },
 "nbformat": 4,
 "nbformat_minor": 5
}
